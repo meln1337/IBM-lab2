{
 "cells": [
  {
   "cell_type": "markdown",
   "metadata": {},
   "source": [
    "<center>\n",
    "    <img src=\"https://cf-courses-data.s3.us.cloud-object-storage.appdomain.cloud/IBMDeveloperSkillsNetwork-DA0101EN-SkillsNetwork/labs/Module%202/images/IDSNlogo.png\" width=\"300\" alt=\"cognitiveclass.ai logo\"  />\n",
    "</center>\n",
    "\n",
    "# Data Wrangling\n",
    "\n",
    "Estimated time needed: **30** minutes\n",
    "\n",
    "## Objectives\n",
    "\n",
    "After completing this lab you will be able to:\n",
    "\n",
    "*   Handle missing values\n",
    "*   Correct data format\n",
    "*   Standardize and normalize data\n"
   ]
  },
  {
   "cell_type": "markdown",
   "metadata": {},
   "source": [
    "<h2>Table of Contents</h2>\n",
    "\n",
    "<div class=\"alert alert-block alert-info\" style=\"margin-top: 20px\">\n",
    "<ul>\n",
    "    <li><a href=\"https://#identify_handle_missing_values\">Identify and handle missing values</a>\n",
    "        <ul>\n",
    "            <li><a href=\"https://#identify_missing_values\">Identify missing values</a></li>\n",
    "            <li><a href=\"https://#deal_missing_values\">Deal with missing values</a></li>\n",
    "            <li><a href=\"https://#correct_data_format\">Correct data format</a></li>\n",
    "        </ul>\n",
    "    </li>\n",
    "    <li><a href=\"https://#data_standardization\">Data standardization</a></li>\n",
    "    <li><a href=\"https://#data_normalization\">Data normalization (centering/scaling)</a></li>\n",
    "    <li><a href=\"https://#binning\">Binning</a></li>\n",
    "    <li><a href=\"https://#indicator\">Indicator variable</a></li>\n",
    "</ul>\n",
    "\n",
    "</div>\n",
    "\n",
    "<hr>\n"
   ]
  },
  {
   "cell_type": "markdown",
   "metadata": {},
   "source": [
    "<h2>What is the purpose of data wrangling?</h2>\n"
   ]
  },
  {
   "cell_type": "markdown",
   "metadata": {},
   "source": [
    "Data wrangling is the process of converting data from the initial format to a format that may be better for analysis.\n"
   ]
  },
  {
   "cell_type": "markdown",
   "metadata": {
    "jp-MarkdownHeadingCollapsed": true,
    "tags": []
   },
   "source": [
    "<h3>What is the fuel consumption (L/100k) rate for the diesel car? CHANGE!!!!!</h3>\n"
   ]
  },
  {
   "cell_type": "markdown",
   "metadata": {},
   "source": [
    "<h3>Import data</h3>\n",
    "<p>\n",
    "You can find the \"APEBUSD Dataset\" from the following link: <a href=\"https://1824251045.rsc.cdn77.org/web/algohouse/data/APEBUSD_trades_1m.csv\">https://1824251045.rsc.cdn77.org/web/algohouse/data/APEBUSD_trades_1m.csv</a>. \n",
    "We will be using this dataset throughout this course.\n",
    "</p>\n"
   ]
  },
  {
   "cell_type": "markdown",
   "metadata": {},
   "source": [
    "<h4>Import pandas</h4> \n"
   ]
  },
  {
   "cell_type": "markdown",
   "metadata": {},
   "source": [
    "you are running the lab in your  browser, so we will install the libraries using `piplite`\n"
   ]
  },
  {
   "cell_type": "code",
   "execution_count": 2,
   "metadata": {},
   "outputs": [],
   "source": [
    "import piplite\n",
    "await piplite.install(['pandas'])\n",
    "await piplite.install(['matplotlib'])"
   ]
  },
  {
   "cell_type": "markdown",
   "metadata": {},
   "source": [
    "If you run the lab locally using Anaconda, you can load the correct library and versions by uncommenting the following:\n"
   ]
  },
  {
   "cell_type": "code",
   "execution_count": null,
   "metadata": {},
   "outputs": [],
   "source": [
    "#If you run the lab locally using Anaconda, you can load the correct library and versions by uncommenting the following:\n",
    "#install specific version of libraries used in lab\n",
    "#! mamba install pandas==1.3.3\n",
    "#! mamba install numpy=1.21.2\n"
   ]
  },
  {
   "cell_type": "code",
   "execution_count": 66,
   "metadata": {},
   "outputs": [],
   "source": [
    "import pandas as pd\n",
    "import numpy as np"
   ]
  },
  {
   "cell_type": "markdown",
   "metadata": {},
   "source": [
    "This function will download the dataset into your browser\n"
   ]
  },
  {
   "cell_type": "code",
   "execution_count": null,
   "metadata": {},
   "outputs": [],
   "source": [
    "#This function will download the dataset into your browser \n",
    "from pyodide.http import pyfetch\n",
    "\n",
    "async def download(url, filename):\n",
    "    response = await pyfetch(url)\n",
    "    if response.status == 200:\n",
    "        with open(filename, \"wb\") as f:\n",
    "            f.write(await response.bytes())\n",
    "\n"
   ]
  },
  {
   "cell_type": "markdown",
   "metadata": {},
   "source": [
    "<h2>Reading the dataset from the URL</h2>\n"
   ]
  },
  {
   "cell_type": "markdown",
   "metadata": {},
   "source": [
    "First, we assign the URL of the dataset to \"filename\".\n"
   ]
  },
  {
   "cell_type": "markdown",
   "metadata": {},
   "source": [
    "This dataset was hosted on IBM Cloud object. Click <a href=\"https://1824251045.rsc.cdn77.org/web/algohouse/data/APEBUSD_trades_1m.csv\">HERE</a> for free storage.\n"
   ]
  },
  {
   "cell_type": "code",
   "execution_count": 2,
   "metadata": {},
   "outputs": [],
   "source": [
    "filename = \"https://1824251045.rsc.cdn77.org/web/algohouse/data/APEBUSD_trades_1m.csv\""
   ]
  },
  {
   "cell_type": "markdown",
   "metadata": {},
   "source": [
    "you will need to download the dataset; if you are running locally, please comment out the following\n"
   ]
  },
  {
   "cell_type": "code",
   "execution_count": 3,
   "metadata": {},
   "outputs": [],
   "source": [
    "await download(filename, \"APEBUSD_trades_1m.csv\")\n",
    "filename = \"APEBUSD_trades_1m.csv\""
   ]
  },
  {
   "cell_type": "markdown",
   "metadata": {},
   "source": [
    "Use the Pandas method <b>read_csv()</b> to load the data from the web address. Set the parameter  \"names\" equal to the Python list \"headers\".\n"
   ]
  },
  {
   "cell_type": "code",
   "execution_count": 67,
   "metadata": {},
   "outputs": [],
   "source": [
    "def spoil_df(df, p=0.1):\n",
    "    x = np.random.randint(0, df.shape[0], int(df.shape[0]*df.shape[1]*p)).reshape(-1, 1)\n",
    "    y = np.random.randint(1, df.shape[1], int(df.shape[0]*df.shape[1]*p)).reshape(-1, 1)\n",
    "    idx_to_replace = np.concatenate((x, y), axis=1)\n",
    "    df_np = df.to_numpy()\n",
    "    for (x, y) in idx_to_replace:\n",
    "        df_np[x,y] = \"?\"\n",
    "    cols = [\"open\", \"high\", \"low\", \"close\", \"volume\", \"rec_count\", \"avg_price\"]\n",
    "    dict_df = {}\n",
    "    for i, col in enumerate(cols):\n",
    "        dict_df[col] = df_np[:,i]\n",
    "    spoiled_df = pd.DataFrame(dict_df)\n",
    "    return spoiled_df"
   ]
  },
  {
   "cell_type": "code",
   "execution_count": 68,
   "metadata": {},
   "outputs": [],
   "source": [
    "df = pd.read_csv(filename, index_col=0)\n",
    "df = spoil_df(df, 0.1)"
   ]
  },
  {
   "cell_type": "markdown",
   "metadata": {},
   "source": [
    "Use the method <b>head()</b> to display the first five rows of the dataframe.\n"
   ]
  },
  {
   "cell_type": "code",
   "execution_count": 69,
   "metadata": {},
   "outputs": [
    {
     "data": {
      "text/html": [
       "<div>\n",
       "<style scoped>\n",
       "    .dataframe tbody tr th:only-of-type {\n",
       "        vertical-align: middle;\n",
       "    }\n",
       "\n",
       "    .dataframe tbody tr th {\n",
       "        vertical-align: top;\n",
       "    }\n",
       "\n",
       "    .dataframe thead th {\n",
       "        text-align: right;\n",
       "    }\n",
       "</style>\n",
       "<table border=\"1\" class=\"dataframe\">\n",
       "  <thead>\n",
       "    <tr style=\"text-align: right;\">\n",
       "      <th></th>\n",
       "      <th>open</th>\n",
       "      <th>high</th>\n",
       "      <th>low</th>\n",
       "      <th>close</th>\n",
       "      <th>volume</th>\n",
       "      <th>rec_count</th>\n",
       "      <th>avg_price</th>\n",
       "    </tr>\n",
       "  </thead>\n",
       "  <tbody>\n",
       "    <tr>\n",
       "      <th>0</th>\n",
       "      <td>2022-11-11 14:38:00</td>\n",
       "      <td>3.096</td>\n",
       "      <td>3.096</td>\n",
       "      <td>3.076</td>\n",
       "      <td>3.077</td>\n",
       "      <td>2733.3</td>\n",
       "      <td>34</td>\n",
       "    </tr>\n",
       "    <tr>\n",
       "      <th>1</th>\n",
       "      <td>2022-11-11 14:39:00</td>\n",
       "      <td>3.073</td>\n",
       "      <td>3.077</td>\n",
       "      <td>3.064</td>\n",
       "      <td>3.065</td>\n",
       "      <td>5353.1</td>\n",
       "      <td>40</td>\n",
       "    </tr>\n",
       "    <tr>\n",
       "      <th>2</th>\n",
       "      <td>2022-11-11 14:40:00</td>\n",
       "      <td>3.068</td>\n",
       "      <td>3.075</td>\n",
       "      <td>?</td>\n",
       "      <td>3.075</td>\n",
       "      <td>5582.2</td>\n",
       "      <td>34</td>\n",
       "    </tr>\n",
       "    <tr>\n",
       "      <th>3</th>\n",
       "      <td>2022-11-11 14:41:00</td>\n",
       "      <td>3.075</td>\n",
       "      <td>3.091</td>\n",
       "      <td>3.069</td>\n",
       "      <td>3.085</td>\n",
       "      <td>10358.0</td>\n",
       "      <td>43</td>\n",
       "    </tr>\n",
       "    <tr>\n",
       "      <th>4</th>\n",
       "      <td>2022-11-11 14:42:00</td>\n",
       "      <td>3.085</td>\n",
       "      <td>3.093</td>\n",
       "      <td>3.074</td>\n",
       "      <td>3.074</td>\n",
       "      <td>?</td>\n",
       "      <td>38</td>\n",
       "    </tr>\n",
       "  </tbody>\n",
       "</table>\n",
       "</div>"
      ],
      "text/plain": [
       "                  open   high    low  close volume rec_count avg_price\n",
       "0  2022-11-11 14:38:00  3.096  3.096  3.076  3.077    2733.3        34\n",
       "1  2022-11-11 14:39:00  3.073  3.077  3.064  3.065    5353.1        40\n",
       "2  2022-11-11 14:40:00  3.068  3.075      ?  3.075    5582.2        34\n",
       "3  2022-11-11 14:41:00  3.075  3.091  3.069  3.085   10358.0        43\n",
       "4  2022-11-11 14:42:00  3.085  3.093  3.074  3.074         ?        38"
      ]
     },
     "execution_count": 69,
     "metadata": {},
     "output_type": "execute_result"
    }
   ],
   "source": [
    "# To see what the data set looks like, we'll use the head() method.\n",
    "df.head()"
   ]
  },
  {
   "cell_type": "markdown",
   "metadata": {},
   "source": [
    "As we can see, several question marks appeared in the dataframe; those are missing values which may hinder our further analysis.\n",
    "\n",
    "<div>So, how do we identify all those missing values and deal with them?</div> \n",
    "\n",
    "<b>How to work with missing data?</b>\n",
    "\n",
    "Steps for working with missing data:\n",
    "\n",
    "<ol>\n",
    "    <li>Identify missing data</li>\n",
    "    <li>Deal with missing data</li>\n",
    "    <li>Correct data format</li>\n",
    "</ol>\n"
   ]
  },
  {
   "cell_type": "markdown",
   "metadata": {},
   "source": [
    "<h2 id=\"identify_handle_missing_values\">Identify and handle missing values</h2>\n",
    "\n",
    "<h3 id=\"identify_missing_values\">Identify missing values</h3>\n",
    "<h4>Convert \"?\" to NaN</h4>\n",
    "In the APEBUSD dataset, missing data comes with the question mark \"?\".\n",
    "We replace \"?\" with NaN (Not a Number), Python's default missing value marker for reasons of computational speed and convenience. Here we use the function: \n",
    " <pre>.replace(A, B, inplace = True) </pre>\n",
    "to replace A by B.\n"
   ]
  },
  {
   "cell_type": "code",
   "execution_count": 70,
   "metadata": {},
   "outputs": [
    {
     "data": {
      "text/html": [
       "<div>\n",
       "<style scoped>\n",
       "    .dataframe tbody tr th:only-of-type {\n",
       "        vertical-align: middle;\n",
       "    }\n",
       "\n",
       "    .dataframe tbody tr th {\n",
       "        vertical-align: top;\n",
       "    }\n",
       "\n",
       "    .dataframe thead th {\n",
       "        text-align: right;\n",
       "    }\n",
       "</style>\n",
       "<table border=\"1\" class=\"dataframe\">\n",
       "  <thead>\n",
       "    <tr style=\"text-align: right;\">\n",
       "      <th></th>\n",
       "      <th>open</th>\n",
       "      <th>high</th>\n",
       "      <th>low</th>\n",
       "      <th>close</th>\n",
       "      <th>volume</th>\n",
       "      <th>rec_count</th>\n",
       "      <th>avg_price</th>\n",
       "    </tr>\n",
       "  </thead>\n",
       "  <tbody>\n",
       "    <tr>\n",
       "      <th>0</th>\n",
       "      <td>2022-11-11 14:38:00</td>\n",
       "      <td>3.096</td>\n",
       "      <td>3.096</td>\n",
       "      <td>3.076</td>\n",
       "      <td>3.077</td>\n",
       "      <td>2733.3</td>\n",
       "      <td>34.0</td>\n",
       "    </tr>\n",
       "    <tr>\n",
       "      <th>1</th>\n",
       "      <td>2022-11-11 14:39:00</td>\n",
       "      <td>3.073</td>\n",
       "      <td>3.077</td>\n",
       "      <td>3.064</td>\n",
       "      <td>3.065</td>\n",
       "      <td>5353.1</td>\n",
       "      <td>40.0</td>\n",
       "    </tr>\n",
       "    <tr>\n",
       "      <th>2</th>\n",
       "      <td>2022-11-11 14:40:00</td>\n",
       "      <td>3.068</td>\n",
       "      <td>3.075</td>\n",
       "      <td>NaN</td>\n",
       "      <td>3.075</td>\n",
       "      <td>5582.2</td>\n",
       "      <td>34.0</td>\n",
       "    </tr>\n",
       "    <tr>\n",
       "      <th>3</th>\n",
       "      <td>2022-11-11 14:41:00</td>\n",
       "      <td>3.075</td>\n",
       "      <td>3.091</td>\n",
       "      <td>3.069</td>\n",
       "      <td>3.085</td>\n",
       "      <td>10358.0</td>\n",
       "      <td>43.0</td>\n",
       "    </tr>\n",
       "    <tr>\n",
       "      <th>4</th>\n",
       "      <td>2022-11-11 14:42:00</td>\n",
       "      <td>3.085</td>\n",
       "      <td>3.093</td>\n",
       "      <td>3.074</td>\n",
       "      <td>3.074</td>\n",
       "      <td>NaN</td>\n",
       "      <td>38.0</td>\n",
       "    </tr>\n",
       "  </tbody>\n",
       "</table>\n",
       "</div>"
      ],
      "text/plain": [
       "                  open   high    low  close  volume  rec_count  avg_price\n",
       "0  2022-11-11 14:38:00  3.096  3.096  3.076   3.077     2733.3       34.0\n",
       "1  2022-11-11 14:39:00  3.073  3.077  3.064   3.065     5353.1       40.0\n",
       "2  2022-11-11 14:40:00  3.068  3.075    NaN   3.075     5582.2       34.0\n",
       "3  2022-11-11 14:41:00  3.075  3.091  3.069   3.085    10358.0       43.0\n",
       "4  2022-11-11 14:42:00  3.085  3.093  3.074   3.074        NaN       38.0"
      ]
     },
     "execution_count": 70,
     "metadata": {},
     "output_type": "execute_result"
    }
   ],
   "source": [
    "# replace \"?\" to NaN\n",
    "df.replace(\"?\", np.nan, inplace = True)\n",
    "df.head(5)"
   ]
  },
  {
   "cell_type": "markdown",
   "metadata": {},
   "source": [
    "<h4>Evaluating for Missing Data</h4>\n",
    "\n",
    "The missing values are converted by default. We use the following functions to identify these missing values. There are two methods to detect missing data:\n",
    "\n",
    "<ol>\n",
    "    <li><b>.isnull()</b></li>\n",
    "    <li><b>.notnull()</b></li>\n",
    "</ol>\n",
    "The output is a boolean value indicating whether the value that is passed into the argument is in fact missing data.\n"
   ]
  },
  {
   "cell_type": "code",
   "execution_count": 71,
   "metadata": {},
   "outputs": [
    {
     "data": {
      "text/html": [
       "<div>\n",
       "<style scoped>\n",
       "    .dataframe tbody tr th:only-of-type {\n",
       "        vertical-align: middle;\n",
       "    }\n",
       "\n",
       "    .dataframe tbody tr th {\n",
       "        vertical-align: top;\n",
       "    }\n",
       "\n",
       "    .dataframe thead th {\n",
       "        text-align: right;\n",
       "    }\n",
       "</style>\n",
       "<table border=\"1\" class=\"dataframe\">\n",
       "  <thead>\n",
       "    <tr style=\"text-align: right;\">\n",
       "      <th></th>\n",
       "      <th>open</th>\n",
       "      <th>high</th>\n",
       "      <th>low</th>\n",
       "      <th>close</th>\n",
       "      <th>volume</th>\n",
       "      <th>rec_count</th>\n",
       "      <th>avg_price</th>\n",
       "    </tr>\n",
       "  </thead>\n",
       "  <tbody>\n",
       "    <tr>\n",
       "      <th>0</th>\n",
       "      <td>False</td>\n",
       "      <td>False</td>\n",
       "      <td>False</td>\n",
       "      <td>False</td>\n",
       "      <td>False</td>\n",
       "      <td>False</td>\n",
       "      <td>False</td>\n",
       "    </tr>\n",
       "    <tr>\n",
       "      <th>1</th>\n",
       "      <td>False</td>\n",
       "      <td>False</td>\n",
       "      <td>False</td>\n",
       "      <td>False</td>\n",
       "      <td>False</td>\n",
       "      <td>False</td>\n",
       "      <td>False</td>\n",
       "    </tr>\n",
       "    <tr>\n",
       "      <th>2</th>\n",
       "      <td>False</td>\n",
       "      <td>False</td>\n",
       "      <td>False</td>\n",
       "      <td>True</td>\n",
       "      <td>False</td>\n",
       "      <td>False</td>\n",
       "      <td>False</td>\n",
       "    </tr>\n",
       "    <tr>\n",
       "      <th>3</th>\n",
       "      <td>False</td>\n",
       "      <td>False</td>\n",
       "      <td>False</td>\n",
       "      <td>False</td>\n",
       "      <td>False</td>\n",
       "      <td>False</td>\n",
       "      <td>False</td>\n",
       "    </tr>\n",
       "    <tr>\n",
       "      <th>4</th>\n",
       "      <td>False</td>\n",
       "      <td>False</td>\n",
       "      <td>False</td>\n",
       "      <td>False</td>\n",
       "      <td>False</td>\n",
       "      <td>True</td>\n",
       "      <td>False</td>\n",
       "    </tr>\n",
       "  </tbody>\n",
       "</table>\n",
       "</div>"
      ],
      "text/plain": [
       "    open   high    low  close  volume  rec_count  avg_price\n",
       "0  False  False  False  False   False      False      False\n",
       "1  False  False  False  False   False      False      False\n",
       "2  False  False  False   True   False      False      False\n",
       "3  False  False  False  False   False      False      False\n",
       "4  False  False  False  False   False       True      False"
      ]
     },
     "execution_count": 71,
     "metadata": {},
     "output_type": "execute_result"
    }
   ],
   "source": [
    "missing_data = df.isnull()\n",
    "missing_data.head(5)"
   ]
  },
  {
   "cell_type": "markdown",
   "metadata": {},
   "source": [
    "\"True\" means the value is a missing value while \"False\" means the value is not a missing value.\n"
   ]
  },
  {
   "cell_type": "markdown",
   "metadata": {},
   "source": [
    "<h4>Count missing values in each column</h4>\n",
    "<p>\n",
    "Using a for loop in Python, we can quickly figure out the number of missing values in each column. As mentioned above, \"True\" represents a missing value and \"False\" means the value is present in the dataset.  In the body of the for loop the method \".value_counts()\" counts the number of \"True\" values. \n",
    "</p>\n"
   ]
  },
  {
   "cell_type": "code",
   "execution_count": 72,
   "metadata": {},
   "outputs": [
    {
     "name": "stdout",
     "output_type": "stream",
     "text": [
      "open\n",
      "False    66528\n",
      "Name: open, dtype: int64\n",
      "\n",
      "high\n",
      "False    59409\n",
      "True      7119\n",
      "Name: high, dtype: int64\n",
      "\n",
      "low\n",
      "False    59426\n",
      "True      7102\n",
      "Name: low, dtype: int64\n",
      "\n",
      "close\n",
      "False    59382\n",
      "True      7146\n",
      "Name: close, dtype: int64\n",
      "\n",
      "volume\n",
      "False    59175\n",
      "True      7353\n",
      "Name: volume, dtype: int64\n",
      "\n",
      "rec_count\n",
      "False    59392\n",
      "True      7136\n",
      "Name: rec_count, dtype: int64\n",
      "\n",
      "avg_price\n",
      "False    59372\n",
      "True      7156\n",
      "Name: avg_price, dtype: int64\n",
      "\n"
     ]
    }
   ],
   "source": [
    "for column in missing_data.columns.values.tolist():\n",
    "    print(column)\n",
    "    print (missing_data[column].value_counts())\n",
    "    print(\"\")    "
   ]
  },
  {
   "cell_type": "markdown",
   "metadata": {},
   "source": [
    "Based on the summary above, each column has 66528 rows of data and seven of the columns containing missing data:\n",
    "\n",
    "<ol>\n",
    "    <li>\"open\": ? missing data</li>\n",
    "    <li>\"high\": ? missing data</li>\n",
    "    <li>\"low\" : ? missing data</li>\n",
    "    <li>\"close\": ? missing data</li>\n",
    "    <li>\"volume\": ? missing data</li>\n",
    "    <li>\"rec_count\": ? missing data</li>\n",
    "    <li>\"avg_price\": ? missing data</li>\n",
    "</ol>\n"
   ]
  },
  {
   "cell_type": "markdown",
   "metadata": {},
   "source": [
    "<h3 id=\"deal_missing_values\">Deal with missing data</h3>\n",
    "<b>How to deal with missing data?</b>\n",
    "\n",
    "<ol>\n",
    "    <li>Drop data<br>\n",
    "        a. Drop the whole row<br>\n",
    "        b. Drop the whole column\n",
    "    </li>\n",
    "    <li>Replace data<br>\n",
    "        a. Replace it by mean<br>\n",
    "        b. Replace it by frequency<br>\n",
    "        c. Replace it based on other functions\n",
    "    </li>\n",
    "</ol>\n"
   ]
  },
  {
   "cell_type": "markdown",
   "metadata": {},
   "source": [
    "Whole columns should be dropped only if most entries in the column are empty. In our dataset, none of the columns are empty enough to drop entirely.\n",
    "We have some freedom in choosing which method to replace data; however, some methods may seem more reasonable than others. We will apply each method to many different columns:\n",
    "\n",
    "<b>Replace by mean:</b>\n",
    "\n",
    "<ul>\n",
    "    <li>\"open\": ? missing data, replace them with mean</li>\n",
    "    <li>\"high\": ? missing data, replace them with mean</li>\n",
    "    <li>\"low\": ? missing data, replace them with mean</li>\n",
    "    <li>\"close\": ? missing data, replace them with mean</li>\n",
    "    <li>\"volume\": ? missing data, replace them with mean</li>\n",
    "</ul>\n",
    "\n",
    "<b>Replace by frequency:</b>\n",
    "\n",
    "<ul>\n",
    "    <li>\"rec_count\": ? missing data, replace them with ?. \n",
    "        <ul>\n",
    "            <li>Reason: ?</li>\n",
    "        </ul>\n",
    "    </li>\n",
    "</ul>\n",
    "\n",
    "<b>Replace based on neighboring values:</b>\n",
    "\n",
    "<ul>\n",
    "    <li>\"avg_price\": ? missing data, replace based on neighboring values\n",
    "        <ul>\n",
    "            <li>Reason: ?</li>\n",
    "        </ul>\n",
    "    </li>\n",
    "</ul>\n"
   ]
  },
  {
   "cell_type": "markdown",
   "metadata": {},
   "source": [
    "<h4>Calculate the mean value for the \"open\" column </h4>\n"
   ]
  },
  {
   "cell_type": "code",
   "execution_count": 10,
   "metadata": {},
   "outputs": [
    {
     "name": "stdout",
     "output_type": "stream",
     "text": [
      "Average of open: 3.6028441147245154\n"
     ]
    }
   ],
   "source": [
    "avg_open = df[\"open\"].astype(\"float\").mean(axis=0)\n",
    "print(\"Average of open:\", avg_open)"
   ]
  },
  {
   "cell_type": "markdown",
   "metadata": {},
   "source": [
    "<h4>Replace \"NaN\" with mean value in \"open\" column</h4>\n"
   ]
  },
  {
   "cell_type": "code",
   "execution_count": 11,
   "metadata": {},
   "outputs": [],
   "source": [
    "df[\"open\"].replace(np.nan, avg_open, inplace=True)"
   ]
  },
  {
   "cell_type": "markdown",
   "metadata": {},
   "source": [
    "<h4>Calculate the mean value for the \"high\" column</h4>\n"
   ]
  },
  {
   "cell_type": "code",
   "execution_count": 12,
   "metadata": {},
   "outputs": [
    {
     "name": "stdout",
     "output_type": "stream",
     "text": [
      "Average of high: 3.6053455082243357\n"
     ]
    }
   ],
   "source": [
    "avg_high = df[\"high\"].astype(\"float\").mean(axis=0)\n",
    "print(\"Average of high:\", avg_high)"
   ]
  },
  {
   "cell_type": "markdown",
   "metadata": {},
   "source": [
    "<h4>Replace \"NaN\" with the mean value in the \"high\" column</h4>\n"
   ]
  },
  {
   "cell_type": "code",
   "execution_count": 13,
   "metadata": {},
   "outputs": [],
   "source": [
    "df[\"high\"].replace(np.nan, avg_high, inplace=True)"
   ]
  },
  {
   "cell_type": "markdown",
   "metadata": {},
   "source": [
    "<div class=\"alert alert-danger alertdanger\" style=\"margin-top: 20px\">\n",
    "<h1> Question  #1: </h1>\n",
    "\n",
    "<b>Based on the example above, replace NaN in \"low\" column with the mean value.</b>\n",
    "\n",
    "</div>\n"
   ]
  },
  {
   "cell_type": "code",
   "execution_count": 42,
   "metadata": {},
   "outputs": [],
   "source": [
    "# Write your code below and press Shift+Enter to execute \n"
   ]
  },
  {
   "cell_type": "markdown",
   "metadata": {},
   "source": [
    "<details><summary>Click here for the solution</summary>\n",
    "\n",
    "```python\n",
    "#Calculate the mean vaule for \"low\" column\n",
    "avg_low = df[\"low\"].astype(\"float\").mean(axis=0)\n",
    "print(\"Average of low:\", avg_low)\n",
    "\n",
    "# replace NaN by mean value in \"low\" column\n",
    "df[\"low\"].replace(np.nan, avg_low, inplace = True)\n",
    "```\n",
    "\n",
    "</details>\n"
   ]
  },
  {
   "cell_type": "markdown",
   "metadata": {},
   "source": [
    "<h4>Calculate the mean value for the \"close\" column</h4>\n"
   ]
  },
  {
   "cell_type": "code",
   "execution_count": 14,
   "metadata": {},
   "outputs": [
    {
     "name": "stdout",
     "output_type": "stream",
     "text": [
      "Average close: 3.6025502123070567\n"
     ]
    }
   ],
   "source": [
    "avg_close = df[\"close\"].astype(\"float\").mean(axis=0)\n",
    "print(\"Average close:\", avg_close)"
   ]
  },
  {
   "cell_type": "markdown",
   "metadata": {},
   "source": [
    "<h4>Replace \"NaN\" with the mean value in the \"close\" column</h4>\n"
   ]
  },
  {
   "cell_type": "code",
   "execution_count": 15,
   "metadata": {},
   "outputs": [],
   "source": [
    "df[\"close\"].replace(np.nan, avg_close, inplace=True)"
   ]
  },
  {
   "cell_type": "markdown",
   "metadata": {},
   "source": [
    "<h4>Calculate the mean value for \"volume\" column</h4>\n"
   ]
  },
  {
   "cell_type": "code",
   "execution_count": 17,
   "metadata": {},
   "outputs": [
    {
     "name": "stdout",
     "output_type": "stream",
     "text": [
      "Average volume: 5139.703475039951\n"
     ]
    }
   ],
   "source": [
    "avg_volume = df[\"volume\"].astype(\"float\").mean(axis=0)\n",
    "print(\"Average volume:\", avg_volume)"
   ]
  },
  {
   "cell_type": "markdown",
   "metadata": {},
   "source": [
    "<h4>Replace \"NaN\" with the mean value in the \"volume\" column</h4>\n"
   ]
  },
  {
   "cell_type": "code",
   "execution_count": 18,
   "metadata": {},
   "outputs": [],
   "source": [
    "df[\"volume\"].replace(np.nan, avg_volume, inplace=True)"
   ]
  },
  {
   "cell_type": "markdown",
   "metadata": {},
   "source": [
    "To see which values are present in a particular column, we can use the \".value_counts()\" method:\n"
   ]
  },
  {
   "cell_type": "code",
   "execution_count": 19,
   "metadata": {},
   "outputs": [
    {
     "data": {
      "text/plain": [
       "5.0      3654\n",
       "6.0      3636\n",
       "4.0      3451\n",
       "7.0      3400\n",
       "8.0      3391\n",
       "         ... \n",
       "113.0       2\n",
       "116.0       1\n",
       "114.0       1\n",
       "115.0       1\n",
       "103.0       1\n",
       "Name: rec_count, Length: 102, dtype: int64"
      ]
     },
     "execution_count": 19,
     "metadata": {},
     "output_type": "execute_result"
    }
   ],
   "source": [
    "df[\"rec_count\"].value_counts()"
   ]
  },
  {
   "cell_type": "markdown",
   "metadata": {},
   "source": [
    "We can see the most common type. We can also use the \".idxmax()\" method to calculate the most common type automatically:\n"
   ]
  },
  {
   "cell_type": "code",
   "execution_count": 20,
   "metadata": {},
   "outputs": [],
   "source": [
    "freq_rec = df[\"rec_count\"].value_counts().idxmax()"
   ]
  },
  {
   "cell_type": "markdown",
   "metadata": {},
   "source": [
    "The replacement procedure is very similar to what we have seen previously:\n"
   ]
  },
  {
   "cell_type": "code",
   "execution_count": 21,
   "metadata": {},
   "outputs": [],
   "source": [
    "#replace the missing 'num-of-doors' values by the most frequent \n",
    "df[\"rec_count\"].replace(np.nan, freq_rec, inplace=True)"
   ]
  },
  {
   "cell_type": "markdown",
   "metadata": {},
   "source": [
    "Finally, let's define function for replacing based on neighboring values:\n"
   ]
  },
  {
   "cell_type": "code",
   "execution_count": 22,
   "metadata": {},
   "outputs": [],
   "source": [
    "def replace_avg_price(seriess):\n",
    "    prev_value = None\n",
    "    series = seriess.copy()\n",
    "    i = 0\n",
    "    j = 0\n",
    "    while i != len(series):\n",
    "        # print(\"in outter if, i=\", i, \"prev_value=\", prev_value)\n",
    "        if str(series[i]) == \"nan\":\n",
    "            # print(\"in nan\")\n",
    "            if i == 0:\n",
    "                while str(series[j+1]) != \"nan\":\n",
    "                    j += 1\n",
    "                    # print(\"j++, j=\", j, sep=\"\")\n",
    "                series[i] = series[j+1]\n",
    "                prev_value = series[i]\n",
    "                j = i\n",
    "                # print(f\"set to {series[i]}\")\n",
    "            \n",
    "            elif i == len(series)-1:\n",
    "                series[i] = prev_value\n",
    "                # print(f\"set to {series[i]}\")\n",
    "            else:\n",
    "                # print(\"Searching next\")\n",
    "                while str(series[j+1]) == \"nan\":\n",
    "                    j += 1\n",
    "                    # print(\"j++, j=\", j, sep=\"\")\n",
    "                series[i] = (prev_value + series[j+1]) / 2\n",
    "                # print(f\"(prev_value + series[{j+1}]) / 2 = ({prev_value} + {series[j+1]} / 2 = {series[i]}\")\n",
    "                prev_value = series[i]\n",
    "                j = i\n",
    "                # print(f\"set to {series[i]}\")\n",
    "        else:\n",
    "            prev_value = series[i]\n",
    "        i += 1\n",
    "        j += 1\n",
    "    return series"
   ]
  },
  {
   "cell_type": "code",
   "execution_count": 23,
   "metadata": {
    "scrolled": true,
    "tags": []
   },
   "outputs": [],
   "source": [
    "df[\"avg_price\"] =  replace_avg_price(df[\"avg_price\"])"
   ]
  },
  {
   "cell_type": "code",
   "execution_count": 24,
   "metadata": {},
   "outputs": [
    {
     "data": {
      "text/html": [
       "<div>\n",
       "<style scoped>\n",
       "    .dataframe tbody tr th:only-of-type {\n",
       "        vertical-align: middle;\n",
       "    }\n",
       "\n",
       "    .dataframe tbody tr th {\n",
       "        vertical-align: top;\n",
       "    }\n",
       "\n",
       "    .dataframe thead th {\n",
       "        text-align: right;\n",
       "    }\n",
       "</style>\n",
       "<table border=\"1\" class=\"dataframe\">\n",
       "  <thead>\n",
       "    <tr style=\"text-align: right;\">\n",
       "      <th></th>\n",
       "      <th>ts</th>\n",
       "      <th>open</th>\n",
       "      <th>high</th>\n",
       "      <th>low</th>\n",
       "      <th>close</th>\n",
       "      <th>volume</th>\n",
       "      <th>rec_count</th>\n",
       "      <th>avg_price</th>\n",
       "    </tr>\n",
       "  </thead>\n",
       "  <tbody>\n",
       "    <tr>\n",
       "      <th>0</th>\n",
       "      <td>2022-11-11 14:38:00</td>\n",
       "      <td>3.602844</td>\n",
       "      <td>3.605346</td>\n",
       "      <td>3.076</td>\n",
       "      <td>3.07700</td>\n",
       "      <td>5139.703475</td>\n",
       "      <td>34.0</td>\n",
       "      <td>3.084732</td>\n",
       "    </tr>\n",
       "    <tr>\n",
       "      <th>1</th>\n",
       "      <td>2022-11-11 14:39:00</td>\n",
       "      <td>3.073000</td>\n",
       "      <td>3.077000</td>\n",
       "      <td>NaN</td>\n",
       "      <td>3.06500</td>\n",
       "      <td>5353.100000</td>\n",
       "      <td>40.0</td>\n",
       "      <td>3.069644</td>\n",
       "    </tr>\n",
       "    <tr>\n",
       "      <th>2</th>\n",
       "      <td>2022-11-11 14:40:00</td>\n",
       "      <td>3.068000</td>\n",
       "      <td>3.605346</td>\n",
       "      <td>3.062</td>\n",
       "      <td>3.07500</td>\n",
       "      <td>5139.703475</td>\n",
       "      <td>34.0</td>\n",
       "      <td>3.077019</td>\n",
       "    </tr>\n",
       "    <tr>\n",
       "      <th>3</th>\n",
       "      <td>2022-11-11 14:41:00</td>\n",
       "      <td>3.075000</td>\n",
       "      <td>3.091000</td>\n",
       "      <td>3.069</td>\n",
       "      <td>3.60255</td>\n",
       "      <td>10358.000000</td>\n",
       "      <td>43.0</td>\n",
       "      <td>3.084393</td>\n",
       "    </tr>\n",
       "    <tr>\n",
       "      <th>4</th>\n",
       "      <td>2022-11-11 14:42:00</td>\n",
       "      <td>3.085000</td>\n",
       "      <td>3.093000</td>\n",
       "      <td>3.074</td>\n",
       "      <td>3.07400</td>\n",
       "      <td>5139.703475</td>\n",
       "      <td>38.0</td>\n",
       "      <td>3.088095</td>\n",
       "    </tr>\n",
       "  </tbody>\n",
       "</table>\n",
       "</div>"
      ],
      "text/plain": [
       "                    ts      open      high    low    close        volume  \\\n",
       "0  2022-11-11 14:38:00  3.602844  3.605346  3.076  3.07700   5139.703475   \n",
       "1  2022-11-11 14:39:00  3.073000  3.077000    NaN  3.06500   5353.100000   \n",
       "2  2022-11-11 14:40:00  3.068000  3.605346  3.062  3.07500   5139.703475   \n",
       "3  2022-11-11 14:41:00  3.075000  3.091000  3.069  3.60255  10358.000000   \n",
       "4  2022-11-11 14:42:00  3.085000  3.093000  3.074  3.07400   5139.703475   \n",
       "\n",
       "   rec_count  avg_price  \n",
       "0       34.0   3.084732  \n",
       "1       40.0   3.069644  \n",
       "2       34.0   3.077019  \n",
       "3       43.0   3.084393  \n",
       "4       38.0   3.088095  "
      ]
     },
     "execution_count": 24,
     "metadata": {},
     "output_type": "execute_result"
    }
   ],
   "source": [
    "df.head()"
   ]
  },
  {
   "cell_type": "code",
   "execution_count": 25,
   "metadata": {},
   "outputs": [
    {
     "data": {
      "text/plain": [
       "7242"
      ]
     },
     "execution_count": 25,
     "metadata": {},
     "output_type": "execute_result"
    }
   ],
   "source": [
    "df.isna().sum().sum()"
   ]
  },
  {
   "cell_type": "markdown",
   "metadata": {},
   "source": [
    "<b>Good!</b> Now, we have a dataset with no missing values.\n"
   ]
  },
  {
   "cell_type": "markdown",
   "metadata": {},
   "source": [
    "<h3 id=\"correct_data_format\">Correct data format</h3>\n",
    "<b>We are almost there!</b>\n",
    "<p>The last step in data cleaning is checking and making sure that all data is in the correct format (int, float, text or other).</p>\n",
    "\n",
    "In Pandas, we use:\n",
    "\n",
    "<p><b>.dtype()</b> to check the data type</p>\n",
    "<p><b>.astype()</b> to change the data type</p>\n"
   ]
  },
  {
   "cell_type": "markdown",
   "metadata": {},
   "source": [
    "<h4>Let's list the data types for each column</h4>\n"
   ]
  },
  {
   "cell_type": "code",
   "execution_count": 26,
   "metadata": {},
   "outputs": [
    {
     "data": {
      "text/plain": [
       "ts            object\n",
       "open         float64\n",
       "high         float64\n",
       "low          float64\n",
       "close        float64\n",
       "volume       float64\n",
       "rec_count    float64\n",
       "avg_price    float64\n",
       "dtype: object"
      ]
     },
     "execution_count": 26,
     "metadata": {},
     "output_type": "execute_result"
    }
   ],
   "source": [
    "df.dtypes"
   ]
  },
  {
   "cell_type": "markdown",
   "metadata": {},
   "source": [
    "<p>As we can see above, some columns are not of the correct data type. Numerical variables should have type 'float' or 'int', and variables with timestamps have type 'datetime'. For example, 'open', 'high', 'low', 'close', 'avg_price' variables are numerical values that describe the price, so we should expect them to be of the type 'float'. 'rec_count' should have type 'int' because it describes quantity. 'ts' column should have type 'datetime'; however, that column is shown as type 'object'. We have to convert data types into a proper format for each column using the \"astype()\" method.</p> \n"
   ]
  },
  {
   "cell_type": "markdown",
   "metadata": {},
   "source": [
    "<h4>Convert data types to proper format</h4>\n"
   ]
  },
  {
   "cell_type": "code",
   "execution_count": 27,
   "metadata": {},
   "outputs": [],
   "source": [
    "df[\"ts\"] = df[\"ts\"].astype(\"datetime64[ns]\")\n",
    "df[\"rec_count\"] = df[\"rec_count\"].astype(\"int\")"
   ]
  },
  {
   "cell_type": "markdown",
   "metadata": {},
   "source": [
    "<h4>Let us list the columns after the conversion</h4>\n"
   ]
  },
  {
   "cell_type": "code",
   "execution_count": 28,
   "metadata": {},
   "outputs": [
    {
     "data": {
      "text/plain": [
       "ts           datetime64[ns]\n",
       "open                float64\n",
       "high                float64\n",
       "low                 float64\n",
       "close               float64\n",
       "volume              float64\n",
       "rec_count             int32\n",
       "avg_price           float64\n",
       "dtype: object"
      ]
     },
     "execution_count": 28,
     "metadata": {},
     "output_type": "execute_result"
    }
   ],
   "source": [
    "df.dtypes"
   ]
  },
  {
   "cell_type": "markdown",
   "metadata": {},
   "source": [
    "<b>Wonderful!</b>\n",
    "\n",
    "Now we have finally obtained the cleaned dataset with no missing values with all data in its proper format.\n"
   ]
  },
  {
   "cell_type": "markdown",
   "metadata": {},
   "source": [
    "<h2 id=\"data_standardization\">Data Standardization</h2>\n",
    "<p>\n",
    "Data is usually collected from different agencies in different formats.\n",
    "(Data standardization is also a term for a particular type of data normalization where we subtract the mean and divide by the standard deviation.)\n",
    "</p>\n",
    "\n",
    "<b>What is standardization?</b>\n",
    "\n",
    "<p>Standardization is the process of transforming data into a common format, allowing the researcher to make the meaningful comparison.\n",
    "</p>\n",
    "\n",
    "<b>Example</b>\n",
    "\n",
    "<p>Transform BUSD TO USDT:</p>\n",
    "<p>In our dataset, \"open\", \"high\", \"low\", \"close\", \"volume\", \"avg_price\" are represented by BUSD (Binance USD) unit. However in most cases it is customary to use USDT.</p>\n",
    "<p>We will need to apply <b>data transformation</b> to transform BUSD into USDT.</p>\n"
   ]
  },
  {
   "cell_type": "markdown",
   "metadata": {},
   "source": [
    "<p>The price for the time of creating the notebook is:<p>\n",
    "1 BUSD = 0.999707 USDT\n",
    "<p>We can do many mathematical operations directly in Pandas.</p>\n"
   ]
  },
  {
   "cell_type": "code",
   "execution_count": 29,
   "metadata": {},
   "outputs": [
    {
     "data": {
      "text/html": [
       "<div>\n",
       "<style scoped>\n",
       "    .dataframe tbody tr th:only-of-type {\n",
       "        vertical-align: middle;\n",
       "    }\n",
       "\n",
       "    .dataframe tbody tr th {\n",
       "        vertical-align: top;\n",
       "    }\n",
       "\n",
       "    .dataframe thead th {\n",
       "        text-align: right;\n",
       "    }\n",
       "</style>\n",
       "<table border=\"1\" class=\"dataframe\">\n",
       "  <thead>\n",
       "    <tr style=\"text-align: right;\">\n",
       "      <th></th>\n",
       "      <th>ts</th>\n",
       "      <th>open</th>\n",
       "      <th>high</th>\n",
       "      <th>low</th>\n",
       "      <th>close</th>\n",
       "      <th>volume</th>\n",
       "      <th>rec_count</th>\n",
       "      <th>avg_price</th>\n",
       "    </tr>\n",
       "  </thead>\n",
       "  <tbody>\n",
       "    <tr>\n",
       "      <th>0</th>\n",
       "      <td>2022-11-11 14:38:00</td>\n",
       "      <td>3.602844</td>\n",
       "      <td>3.605346</td>\n",
       "      <td>3.076</td>\n",
       "      <td>3.07700</td>\n",
       "      <td>5139.703475</td>\n",
       "      <td>34</td>\n",
       "      <td>3.084732</td>\n",
       "    </tr>\n",
       "    <tr>\n",
       "      <th>1</th>\n",
       "      <td>2022-11-11 14:39:00</td>\n",
       "      <td>3.073000</td>\n",
       "      <td>3.077000</td>\n",
       "      <td>NaN</td>\n",
       "      <td>3.06500</td>\n",
       "      <td>5353.100000</td>\n",
       "      <td>40</td>\n",
       "      <td>3.069644</td>\n",
       "    </tr>\n",
       "    <tr>\n",
       "      <th>2</th>\n",
       "      <td>2022-11-11 14:40:00</td>\n",
       "      <td>3.068000</td>\n",
       "      <td>3.605346</td>\n",
       "      <td>3.062</td>\n",
       "      <td>3.07500</td>\n",
       "      <td>5139.703475</td>\n",
       "      <td>34</td>\n",
       "      <td>3.077019</td>\n",
       "    </tr>\n",
       "    <tr>\n",
       "      <th>3</th>\n",
       "      <td>2022-11-11 14:41:00</td>\n",
       "      <td>3.075000</td>\n",
       "      <td>3.091000</td>\n",
       "      <td>3.069</td>\n",
       "      <td>3.60255</td>\n",
       "      <td>10358.000000</td>\n",
       "      <td>43</td>\n",
       "      <td>3.084393</td>\n",
       "    </tr>\n",
       "    <tr>\n",
       "      <th>4</th>\n",
       "      <td>2022-11-11 14:42:00</td>\n",
       "      <td>3.085000</td>\n",
       "      <td>3.093000</td>\n",
       "      <td>3.074</td>\n",
       "      <td>3.07400</td>\n",
       "      <td>5139.703475</td>\n",
       "      <td>38</td>\n",
       "      <td>3.088095</td>\n",
       "    </tr>\n",
       "  </tbody>\n",
       "</table>\n",
       "</div>"
      ],
      "text/plain": [
       "                   ts      open      high    low    close        volume  \\\n",
       "0 2022-11-11 14:38:00  3.602844  3.605346  3.076  3.07700   5139.703475   \n",
       "1 2022-11-11 14:39:00  3.073000  3.077000    NaN  3.06500   5353.100000   \n",
       "2 2022-11-11 14:40:00  3.068000  3.605346  3.062  3.07500   5139.703475   \n",
       "3 2022-11-11 14:41:00  3.075000  3.091000  3.069  3.60255  10358.000000   \n",
       "4 2022-11-11 14:42:00  3.085000  3.093000  3.074  3.07400   5139.703475   \n",
       "\n",
       "   rec_count  avg_price  \n",
       "0         34   3.084732  \n",
       "1         40   3.069644  \n",
       "2         34   3.077019  \n",
       "3         43   3.084393  \n",
       "4         38   3.088095  "
      ]
     },
     "execution_count": 29,
     "metadata": {},
     "output_type": "execute_result"
    }
   ],
   "source": [
    "df.head()"
   ]
  },
  {
   "cell_type": "code",
   "execution_count": 30,
   "metadata": {},
   "outputs": [
    {
     "data": {
      "text/html": [
       "<div>\n",
       "<style scoped>\n",
       "    .dataframe tbody tr th:only-of-type {\n",
       "        vertical-align: middle;\n",
       "    }\n",
       "\n",
       "    .dataframe tbody tr th {\n",
       "        vertical-align: top;\n",
       "    }\n",
       "\n",
       "    .dataframe thead th {\n",
       "        text-align: right;\n",
       "    }\n",
       "</style>\n",
       "<table border=\"1\" class=\"dataframe\">\n",
       "  <thead>\n",
       "    <tr style=\"text-align: right;\">\n",
       "      <th></th>\n",
       "      <th>ts</th>\n",
       "      <th>open</th>\n",
       "      <th>high</th>\n",
       "      <th>low</th>\n",
       "      <th>close</th>\n",
       "      <th>volume</th>\n",
       "      <th>rec_count</th>\n",
       "      <th>avg_price</th>\n",
       "      <th>open_USDT</th>\n",
       "      <th>high_USDT</th>\n",
       "      <th>low_USDT</th>\n",
       "      <th>close_USDT</th>\n",
       "      <th>volume_USDT</th>\n",
       "      <th>avg_price_USDT</th>\n",
       "    </tr>\n",
       "  </thead>\n",
       "  <tbody>\n",
       "    <tr>\n",
       "      <th>0</th>\n",
       "      <td>2022-11-11 14:38:00</td>\n",
       "      <td>3.602844</td>\n",
       "      <td>3.605346</td>\n",
       "      <td>3.076</td>\n",
       "      <td>3.07700</td>\n",
       "      <td>5139.703475</td>\n",
       "      <td>34</td>\n",
       "      <td>3.084732</td>\n",
       "      <td>3.601788</td>\n",
       "      <td>3.604289</td>\n",
       "      <td>3.075099</td>\n",
       "      <td>3.076098</td>\n",
       "      <td>5138.197542</td>\n",
       "      <td>3.083829</td>\n",
       "    </tr>\n",
       "    <tr>\n",
       "      <th>1</th>\n",
       "      <td>2022-11-11 14:39:00</td>\n",
       "      <td>3.073000</td>\n",
       "      <td>3.077000</td>\n",
       "      <td>NaN</td>\n",
       "      <td>3.06500</td>\n",
       "      <td>5353.100000</td>\n",
       "      <td>40</td>\n",
       "      <td>3.069644</td>\n",
       "      <td>3.072100</td>\n",
       "      <td>3.076098</td>\n",
       "      <td>NaN</td>\n",
       "      <td>3.064102</td>\n",
       "      <td>5351.531542</td>\n",
       "      <td>3.068745</td>\n",
       "    </tr>\n",
       "    <tr>\n",
       "      <th>2</th>\n",
       "      <td>2022-11-11 14:40:00</td>\n",
       "      <td>3.068000</td>\n",
       "      <td>3.605346</td>\n",
       "      <td>3.062</td>\n",
       "      <td>3.07500</td>\n",
       "      <td>5139.703475</td>\n",
       "      <td>34</td>\n",
       "      <td>3.077019</td>\n",
       "      <td>3.067101</td>\n",
       "      <td>3.604289</td>\n",
       "      <td>3.061103</td>\n",
       "      <td>3.074099</td>\n",
       "      <td>5138.197542</td>\n",
       "      <td>3.076117</td>\n",
       "    </tr>\n",
       "    <tr>\n",
       "      <th>3</th>\n",
       "      <td>2022-11-11 14:41:00</td>\n",
       "      <td>3.075000</td>\n",
       "      <td>3.091000</td>\n",
       "      <td>3.069</td>\n",
       "      <td>3.60255</td>\n",
       "      <td>10358.000000</td>\n",
       "      <td>43</td>\n",
       "      <td>3.084393</td>\n",
       "      <td>3.074099</td>\n",
       "      <td>3.090094</td>\n",
       "      <td>3.068101</td>\n",
       "      <td>3.601495</td>\n",
       "      <td>10354.965106</td>\n",
       "      <td>3.083489</td>\n",
       "    </tr>\n",
       "    <tr>\n",
       "      <th>4</th>\n",
       "      <td>2022-11-11 14:42:00</td>\n",
       "      <td>3.085000</td>\n",
       "      <td>3.093000</td>\n",
       "      <td>3.074</td>\n",
       "      <td>3.07400</td>\n",
       "      <td>5139.703475</td>\n",
       "      <td>38</td>\n",
       "      <td>3.088095</td>\n",
       "      <td>3.084096</td>\n",
       "      <td>3.092094</td>\n",
       "      <td>3.073099</td>\n",
       "      <td>3.073099</td>\n",
       "      <td>5138.197542</td>\n",
       "      <td>3.087190</td>\n",
       "    </tr>\n",
       "  </tbody>\n",
       "</table>\n",
       "</div>"
      ],
      "text/plain": [
       "                   ts      open      high    low    close        volume  \\\n",
       "0 2022-11-11 14:38:00  3.602844  3.605346  3.076  3.07700   5139.703475   \n",
       "1 2022-11-11 14:39:00  3.073000  3.077000    NaN  3.06500   5353.100000   \n",
       "2 2022-11-11 14:40:00  3.068000  3.605346  3.062  3.07500   5139.703475   \n",
       "3 2022-11-11 14:41:00  3.075000  3.091000  3.069  3.60255  10358.000000   \n",
       "4 2022-11-11 14:42:00  3.085000  3.093000  3.074  3.07400   5139.703475   \n",
       "\n",
       "   rec_count  avg_price  open_USDT  high_USDT  low_USDT  close_USDT  \\\n",
       "0         34   3.084732   3.601788   3.604289  3.075099    3.076098   \n",
       "1         40   3.069644   3.072100   3.076098       NaN    3.064102   \n",
       "2         34   3.077019   3.067101   3.604289  3.061103    3.074099   \n",
       "3         43   3.084393   3.074099   3.090094  3.068101    3.601495   \n",
       "4         38   3.088095   3.084096   3.092094  3.073099    3.073099   \n",
       "\n",
       "    volume_USDT  avg_price_USDT  \n",
       "0   5138.197542        3.083829  \n",
       "1   5351.531542        3.068745  \n",
       "2   5138.197542        3.076117  \n",
       "3  10354.965106        3.083489  \n",
       "4   5138.197542        3.087190  "
      ]
     },
     "execution_count": 30,
     "metadata": {},
     "output_type": "execute_result"
    }
   ],
   "source": [
    "# Convert mpg to L/100km by mathematical operation (235 divided by mpg)\n",
    "cols_to_convert = [\"open\", \"high\", \"low\", \"close\", \"volume\", \"avg_price\"]\n",
    "for col in cols_to_convert:\n",
    "    df[f\"{col}_USDT\"] = df[col] * 0.999707\n",
    "\n",
    "# check your transformed data \n",
    "df.head()"
   ]
  },
  {
   "cell_type": "markdown",
   "metadata": {},
   "source": [
    "<div class=\"alert alert-danger alertdanger\" style=\"margin-top: 20px\">\n",
    "<h1> Question  #2: </h1>\n",
    "\n",
    "<b>According to the example above, transform \"open\" (price in BUSD) to EURO (1 BUSD = 0.92 EURO) and name the column \"open_EURO\".</b>\n",
    "\n",
    "</div>\n"
   ]
  },
  {
   "cell_type": "code",
   "execution_count": 52,
   "metadata": {},
   "outputs": [],
   "source": [
    "# Write your code below and press Shift+Enter to execute \n"
   ]
  },
  {
   "cell_type": "markdown",
   "metadata": {},
   "source": [
    "<details><summary>Click here for the solution</summary>\n",
    "\n",
    "```python\n",
    "# transform BUSD to EURO by mathematical operation (\"open\" multiplied by 0.92)\n",
    "df[\"open_EURO\"] = df[\"open\"] * 0.92\n",
    "\n",
    "df.head()\n",
    "\n",
    "```\n",
    "\n",
    "</details>\n"
   ]
  },
  {
   "cell_type": "markdown",
   "metadata": {},
   "source": [
    "<h2 id=\"data_normalization\">Data Normalization</h2>\n",
    "\n",
    "<b>Why normalization?</b>\n",
    "\n",
    "<p>Normalization is the process of transforming values of several variables into a similar range. Typical normalizations include scaling the variable so the variable average is 0, scaling the variable so the variance is 1, or scaling the variable so the variable values range from 0 to 1.\n",
    "</p>\n",
    "\n",
    "<b>Example</b>\n",
    "\n",
    "<p>To demonstrate normalization, let's say we want to scale the columns \"open\", \"close\" and \"avg_price\".</p>\n",
    "<p><b>Target:</b> would like to normalize those variables so their value ranges from 0 to 1</p>\n",
    "<p><b>Approach:</b> replace original value by (original value)/(maximum value)</p>\n"
   ]
  },
  {
   "cell_type": "code",
   "execution_count": 31,
   "metadata": {},
   "outputs": [],
   "source": [
    "# replace (original value) by (original value)/(maximum value)\n",
    "df[\"open_norm\"] = df[\"open\"] / df[\"open\"].max()\n",
    "df[\"close_norm\"] = df[\"close\"] / df[\"close\"].max()"
   ]
  },
  {
   "cell_type": "markdown",
   "metadata": {},
   "source": [
    "<div class=\"alert alert-danger alertdanger\" style=\"margin-top: 20px\">\n",
    "<h1> Question #3: </h1>\n",
    "\n",
    "<b>According to the example above, normalize the column \"avg_price\".</b>\n",
    "\n",
    "</div>\n"
   ]
  },
  {
   "cell_type": "code",
   "execution_count": 55,
   "metadata": {},
   "outputs": [],
   "source": [
    "# Write your code below and press Shift+Enter to execute \n"
   ]
  },
  {
   "cell_type": "markdown",
   "metadata": {},
   "source": [
    "<details><summary>Click here for the solution</summary>\n",
    "\n",
    "```python\n",
    "df[\"avg_price_norm\"] = df[\"avg_price\"] / df[\"avg_price\"].max() \n",
    "\n",
    "# show the scaled columns\n",
    "df[[\"open_norm\", \"close_norm\", \"avg_price_norm\"]].head()\n",
    "\n",
    "\n",
    "```\n",
    "\n",
    "</details>\n"
   ]
  },
  {
   "cell_type": "markdown",
   "metadata": {},
   "source": [
    "Here we can see we've normalized \"open\", \"close\" and \"avg_price\" in the range of \\[0,1].\n"
   ]
  },
  {
   "cell_type": "markdown",
   "metadata": {},
   "source": [
    "<h2 id=\"binning\">Binning</h2>\n",
    "<b>Why binning?</b>\n",
    "<p>\n",
    "    Binning is a process of transforming continuous numerical variables into discrete categorical 'bins' for grouped analysis.\n",
    "</p>\n",
    "\n",
    "<b>Example: </b>\n",
    "\n",
    "<p>In our dataset, \"rec_count\" is a real valued variable ranging from 1 to 119 and it has 101 unique values. What if we want to break it down into 3 bins and see which bin sold the most? Can we rearrange them into ten ‘bins' to simplify analysis? </p>\n",
    "\n",
    "<p>We will use the pandas method 'cut' to segment the 'rec_count' column into 3 bins.</p>\n"
   ]
  },
  {
   "cell_type": "markdown",
   "metadata": {},
   "source": [
    "<h3>Example of Binning Data In Pandas</h3>\n"
   ]
  },
  {
   "cell_type": "markdown",
   "metadata": {},
   "source": [
    "Let's plot the histogram of rec_count to see what the distribution of rec_count looks like.\n"
   ]
  },
  {
   "cell_type": "code",
   "execution_count": 32,
   "metadata": {},
   "outputs": [
    {
     "data": {
      "text/plain": [
       "Text(0.5, 1.0, 'rec_count bins')"
      ]
     },
     "execution_count": 32,
     "metadata": {},
     "output_type": "execute_result"
    },
    {
     "data": {
      "image/png": "[encoded data removed]",
      "text/plain": [
       "<Figure size 640x480 with 1 Axes>"
      ]
     },
     "metadata": {},
     "output_type": "display_data"
    }
   ],
   "source": [
    "%matplotlib inline\n",
    "import matplotlib.pyplot as plt\n",
    "plt.hist(df[\"rec_count\"])\n",
    "\n",
    "# set x/y labels and plot title\n",
    "plt.xlabel(\"rec_count\")\n",
    "plt.ylabel(\"count\")\n",
    "plt.title(\"rec_count bins\")"
   ]
  },
  {
   "cell_type": "markdown",
   "metadata": {},
   "source": [
    "<p>We would like 10 bins of equal size bandwidth so we use numpy's <code>linspace(start_value, end_value, numbers_generated</code> function.</p>"
   ]
  },
  {
   "cell_type": "markdown",
   "metadata": {},
   "source": [
    "We build a bin array with a minimum value to a maximum value by using the bandwidth calculated above. The values will determine when one bin ends and another begins.\n"
   ]
  },
  {
   "cell_type": "code",
   "execution_count": 33,
   "metadata": {},
   "outputs": [
    {
     "data": {
      "text/plain": [
       "array([  1.        ,  40.33333333,  79.66666667, 119.        ])"
      ]
     },
     "execution_count": 33,
     "metadata": {},
     "output_type": "execute_result"
    }
   ],
   "source": [
    "bins = np.linspace(min(df[\"rec_count\"]), max(df[\"rec_count\"]), 4)\n",
    "bins"
   ]
  },
  {
   "cell_type": "markdown",
   "metadata": {},
   "source": [
    "We set group  names:\n"
   ]
  },
  {
   "cell_type": "code",
   "execution_count": 34,
   "metadata": {},
   "outputs": [],
   "source": [
    "group_names = [\"Low\", \"Medium\", \"High\"]"
   ]
  },
  {
   "cell_type": "markdown",
   "metadata": {},
   "source": [
    "We apply the function \"cut\" to determine what each value of `df[\"rec_count\"]` belongs to.\n"
   ]
  },
  {
   "cell_type": "code",
   "execution_count": 35,
   "metadata": {},
   "outputs": [
    {
     "data": {
      "text/html": [
       "<div>\n",
       "<style scoped>\n",
       "    .dataframe tbody tr th:only-of-type {\n",
       "        vertical-align: middle;\n",
       "    }\n",
       "\n",
       "    .dataframe tbody tr th {\n",
       "        vertical-align: top;\n",
       "    }\n",
       "\n",
       "    .dataframe thead th {\n",
       "        text-align: right;\n",
       "    }\n",
       "</style>\n",
       "<table border=\"1\" class=\"dataframe\">\n",
       "  <thead>\n",
       "    <tr style=\"text-align: right;\">\n",
       "      <th></th>\n",
       "      <th>rec_count</th>\n",
       "      <th>rec_count-binned</th>\n",
       "    </tr>\n",
       "  </thead>\n",
       "  <tbody>\n",
       "    <tr>\n",
       "      <th>0</th>\n",
       "      <td>34</td>\n",
       "      <td>Low</td>\n",
       "    </tr>\n",
       "    <tr>\n",
       "      <th>1</th>\n",
       "      <td>40</td>\n",
       "      <td>Low</td>\n",
       "    </tr>\n",
       "    <tr>\n",
       "      <th>2</th>\n",
       "      <td>34</td>\n",
       "      <td>Low</td>\n",
       "    </tr>\n",
       "    <tr>\n",
       "      <th>3</th>\n",
       "      <td>43</td>\n",
       "      <td>Medium</td>\n",
       "    </tr>\n",
       "    <tr>\n",
       "      <th>4</th>\n",
       "      <td>38</td>\n",
       "      <td>Low</td>\n",
       "    </tr>\n",
       "    <tr>\n",
       "      <th>5</th>\n",
       "      <td>27</td>\n",
       "      <td>Low</td>\n",
       "    </tr>\n",
       "    <tr>\n",
       "      <th>6</th>\n",
       "      <td>5</td>\n",
       "      <td>Low</td>\n",
       "    </tr>\n",
       "    <tr>\n",
       "      <th>7</th>\n",
       "      <td>67</td>\n",
       "      <td>Medium</td>\n",
       "    </tr>\n",
       "    <tr>\n",
       "      <th>8</th>\n",
       "      <td>57</td>\n",
       "      <td>Medium</td>\n",
       "    </tr>\n",
       "    <tr>\n",
       "      <th>9</th>\n",
       "      <td>75</td>\n",
       "      <td>Medium</td>\n",
       "    </tr>\n",
       "    <tr>\n",
       "      <th>10</th>\n",
       "      <td>71</td>\n",
       "      <td>Medium</td>\n",
       "    </tr>\n",
       "    <tr>\n",
       "      <th>11</th>\n",
       "      <td>57</td>\n",
       "      <td>Medium</td>\n",
       "    </tr>\n",
       "    <tr>\n",
       "      <th>12</th>\n",
       "      <td>48</td>\n",
       "      <td>Medium</td>\n",
       "    </tr>\n",
       "    <tr>\n",
       "      <th>13</th>\n",
       "      <td>45</td>\n",
       "      <td>Medium</td>\n",
       "    </tr>\n",
       "    <tr>\n",
       "      <th>14</th>\n",
       "      <td>58</td>\n",
       "      <td>Medium</td>\n",
       "    </tr>\n",
       "    <tr>\n",
       "      <th>15</th>\n",
       "      <td>49</td>\n",
       "      <td>Medium</td>\n",
       "    </tr>\n",
       "    <tr>\n",
       "      <th>16</th>\n",
       "      <td>42</td>\n",
       "      <td>Medium</td>\n",
       "    </tr>\n",
       "    <tr>\n",
       "      <th>17</th>\n",
       "      <td>35</td>\n",
       "      <td>Low</td>\n",
       "    </tr>\n",
       "    <tr>\n",
       "      <th>18</th>\n",
       "      <td>32</td>\n",
       "      <td>Low</td>\n",
       "    </tr>\n",
       "    <tr>\n",
       "      <th>19</th>\n",
       "      <td>5</td>\n",
       "      <td>Low</td>\n",
       "    </tr>\n",
       "  </tbody>\n",
       "</table>\n",
       "</div>"
      ],
      "text/plain": [
       "    rec_count rec_count-binned\n",
       "0          34              Low\n",
       "1          40              Low\n",
       "2          34              Low\n",
       "3          43           Medium\n",
       "4          38              Low\n",
       "5          27              Low\n",
       "6           5              Low\n",
       "7          67           Medium\n",
       "8          57           Medium\n",
       "9          75           Medium\n",
       "10         71           Medium\n",
       "11         57           Medium\n",
       "12         48           Medium\n",
       "13         45           Medium\n",
       "14         58           Medium\n",
       "15         49           Medium\n",
       "16         42           Medium\n",
       "17         35              Low\n",
       "18         32              Low\n",
       "19          5              Low"
      ]
     },
     "execution_count": 35,
     "metadata": {},
     "output_type": "execute_result"
    }
   ],
   "source": [
    "df[\"rec_count-binned\"] = pd.cut(df[\"rec_count\"], bins, labels=group_names, include_lowest=True)\n",
    "df[[\"rec_count\", \"rec_count-binned\"]].head(20)"
   ]
  },
  {
   "cell_type": "markdown",
   "metadata": {},
   "source": [
    "Let's see the \"rec_count\" in each bin:\n"
   ]
  },
  {
   "cell_type": "code",
   "execution_count": 36,
   "metadata": {},
   "outputs": [
    {
     "data": {
      "text/plain": [
       "Low       64416\n",
       "Medium     2040\n",
       "High         72\n",
       "Name: rec_count-binned, dtype: int64"
      ]
     },
     "execution_count": 36,
     "metadata": {},
     "output_type": "execute_result"
    }
   ],
   "source": [
    "df[\"rec_count-binned\"].value_counts()"
   ]
  },
  {
   "cell_type": "markdown",
   "metadata": {},
   "source": [
    "Let's plot the distribution of each bin:\n"
   ]
  },
  {
   "cell_type": "code",
   "execution_count": 37,
   "metadata": {},
   "outputs": [
    {
     "data": {
      "text/plain": [
       "Text(0.5, 1.0, 'rec_count bins')"
      ]
     },
     "execution_count": 37,
     "metadata": {},
     "output_type": "execute_result"
    },
    {
     "data": {
      "image/png": "[encoded data removed]",
      "text/plain": [
       "<Figure size 640x480 with 1 Axes>"
      ]
     },
     "metadata": {},
     "output_type": "display_data"
    }
   ],
   "source": [
    "plt.bar(group_names, df[\"rec_count-binned\"].value_counts())\n",
    "\n",
    "# set x/y labels and plot title\n",
    "plt.xlabel(\"rec_count\")\n",
    "plt.ylabel(\"count\")\n",
    "plt.title(\"rec_count bins\")"
   ]
  },
  {
   "cell_type": "markdown",
   "metadata": {},
   "source": [
    "<p>\n",
    "    Look at the dataframe above carefully. You will find that the last column provides the bins for \"horsepower\" based on 3 categories (\"Low\", \"Medium\" and \"High\") ????????????. \n",
    "</p>\n",
    "<p>\n",
    "    We successfully narrowed down the intervals from 59 to 3! ???????????//\n",
    "</p>\n"
   ]
  },
  {
   "cell_type": "markdown",
   "metadata": {},
   "source": [
    "<h3>Bins Visualization</h3>\n",
    "Normally, a histogram is used to visualize the distribution of bins we created above. \n"
   ]
  },
  {
   "cell_type": "code",
   "execution_count": 38,
   "metadata": {},
   "outputs": [
    {
     "data": {
      "text/plain": [
       "Text(0.5, 1.0, 'rec_count bins')"
      ]
     },
     "execution_count": 38,
     "metadata": {},
     "output_type": "execute_result"
    },
    {
     "data": {
      "image/png": "[encoded data removed]",
      "text/plain": [
       "<Figure size 640x480 with 1 Axes>"
      ]
     },
     "metadata": {},
     "output_type": "display_data"
    }
   ],
   "source": [
    "# draw historgram of attribute \"rec_count\" with bins = 3\n",
    "plt.hist(df[\"rec_count\"], bins = 3)\n",
    "\n",
    "# set x/y labels and plot title\n",
    "plt.xlabel(\"rec_count\")\n",
    "plt.ylabel(\"count\")\n",
    "plt.title(\"rec_count bins\")"
   ]
  },
  {
   "cell_type": "markdown",
   "metadata": {},
   "source": [
    "The plot above shows the binning result for the attribute \"rec_count\".\n"
   ]
  },
  {
   "cell_type": "markdown",
   "metadata": {},
   "source": [
    "<h2 id=\"indicator\">Indicator Variable (or Dummy Variable)</h2>\n",
    "<b>What is an indicator variable?</b>\n",
    "<p>\n",
    "    An indicator variable (or dummy variable) is a numerical variable used to label categories. They are called 'dummies' because the numbers themselves don't have inherent meaning. \n",
    "</p>\n",
    "\n",
    "<b>Why we use indicator variables?</b>\n",
    "\n",
    "<p>\n",
    "    We use indicator variables so we can use categorical variables for regression analysis in the later modules.\n",
    "</p>\n",
    "<b>Example</b>\n",
    "<p>\n",
    "    We see the column \"rec_count-binned\" has three unique values: \"Low\", \"Medium\" or \"High\". Regression doesn't understand words, only numbers. To use this attribute in regression analysis, we convert \"rec_count-binned\" to indicator variables.\n",
    "</p>\n",
    "\n",
    "<p>\n",
    "    We will use pandas' method 'get_dummies' to assign numerical values to different categories of rec_count. \n",
    "</p>\n"
   ]
  },
  {
   "cell_type": "code",
   "execution_count": 39,
   "metadata": {},
   "outputs": [
    {
     "data": {
      "text/plain": [
       "Index(['ts', 'open', 'high', 'low', 'close', 'volume', 'rec_count',\n",
       "       'avg_price', 'open_USDT', 'high_USDT', 'low_USDT', 'close_USDT',\n",
       "       'volume_USDT', 'avg_price_USDT', 'open_norm', 'close_norm',\n",
       "       'rec_count-binned'],\n",
       "      dtype='object')"
      ]
     },
     "execution_count": 39,
     "metadata": {},
     "output_type": "execute_result"
    }
   ],
   "source": [
    "df.columns"
   ]
  },
  {
   "cell_type": "markdown",
   "metadata": {},
   "source": [
    "Get the indicator variables and assign it to data frame \"dummy_variable\\_1\":\n"
   ]
  },
  {
   "cell_type": "code",
   "execution_count": 40,
   "metadata": {},
   "outputs": [
    {
     "data": {
      "text/html": [
       "<div>\n",
       "<style scoped>\n",
       "    .dataframe tbody tr th:only-of-type {\n",
       "        vertical-align: middle;\n",
       "    }\n",
       "\n",
       "    .dataframe tbody tr th {\n",
       "        vertical-align: top;\n",
       "    }\n",
       "\n",
       "    .dataframe thead th {\n",
       "        text-align: right;\n",
       "    }\n",
       "</style>\n",
       "<table border=\"1\" class=\"dataframe\">\n",
       "  <thead>\n",
       "    <tr style=\"text-align: right;\">\n",
       "      <th></th>\n",
       "      <th>rec_count_Low</th>\n",
       "      <th>rec_count_Medium</th>\n",
       "      <th>rec_count_High</th>\n",
       "    </tr>\n",
       "  </thead>\n",
       "  <tbody>\n",
       "    <tr>\n",
       "      <th>0</th>\n",
       "      <td>1</td>\n",
       "      <td>0</td>\n",
       "      <td>0</td>\n",
       "    </tr>\n",
       "    <tr>\n",
       "      <th>1</th>\n",
       "      <td>1</td>\n",
       "      <td>0</td>\n",
       "      <td>0</td>\n",
       "    </tr>\n",
       "    <tr>\n",
       "      <th>2</th>\n",
       "      <td>1</td>\n",
       "      <td>0</td>\n",
       "      <td>0</td>\n",
       "    </tr>\n",
       "    <tr>\n",
       "      <th>3</th>\n",
       "      <td>0</td>\n",
       "      <td>1</td>\n",
       "      <td>0</td>\n",
       "    </tr>\n",
       "    <tr>\n",
       "      <th>4</th>\n",
       "      <td>1</td>\n",
       "      <td>0</td>\n",
       "      <td>0</td>\n",
       "    </tr>\n",
       "  </tbody>\n",
       "</table>\n",
       "</div>"
      ],
      "text/plain": [
       "   rec_count_Low  rec_count_Medium  rec_count_High\n",
       "0              1                 0               0\n",
       "1              1                 0               0\n",
       "2              1                 0               0\n",
       "3              0                 1               0\n",
       "4              1                 0               0"
      ]
     },
     "execution_count": 40,
     "metadata": {},
     "output_type": "execute_result"
    }
   ],
   "source": [
    "dummy_variable_1 = pd.get_dummies(df[\"rec_count-binned\"], prefix=\"rec_count\")\n",
    "dummy_variable_1.head()"
   ]
  },
  {
   "cell_type": "code",
   "execution_count": 41,
   "metadata": {},
   "outputs": [],
   "source": [
    "# merge data frame \"df\" and \"dummy_variable_1\" \n",
    "df = pd.concat([df, dummy_variable_1], axis=1)\n",
    "\n",
    "# drop original column \"rec_count-binned\" from \"df\"\n",
    "df.drop(\"rec_count-binned\", axis = 1, inplace=True)"
   ]
  },
  {
   "cell_type": "code",
   "execution_count": 42,
   "metadata": {},
   "outputs": [
    {
     "data": {
      "text/html": [
       "<div>\n",
       "<style scoped>\n",
       "    .dataframe tbody tr th:only-of-type {\n",
       "        vertical-align: middle;\n",
       "    }\n",
       "\n",
       "    .dataframe tbody tr th {\n",
       "        vertical-align: top;\n",
       "    }\n",
       "\n",
       "    .dataframe thead th {\n",
       "        text-align: right;\n",
       "    }\n",
       "</style>\n",
       "<table border=\"1\" class=\"dataframe\">\n",
       "  <thead>\n",
       "    <tr style=\"text-align: right;\">\n",
       "      <th></th>\n",
       "      <th>ts</th>\n",
       "      <th>open</th>\n",
       "      <th>high</th>\n",
       "      <th>low</th>\n",
       "      <th>close</th>\n",
       "      <th>volume</th>\n",
       "      <th>rec_count</th>\n",
       "      <th>avg_price</th>\n",
       "      <th>open_USDT</th>\n",
       "      <th>high_USDT</th>\n",
       "      <th>low_USDT</th>\n",
       "      <th>close_USDT</th>\n",
       "      <th>volume_USDT</th>\n",
       "      <th>avg_price_USDT</th>\n",
       "      <th>open_norm</th>\n",
       "      <th>close_norm</th>\n",
       "      <th>rec_count_Low</th>\n",
       "      <th>rec_count_Medium</th>\n",
       "      <th>rec_count_High</th>\n",
       "    </tr>\n",
       "  </thead>\n",
       "  <tbody>\n",
       "    <tr>\n",
       "      <th>0</th>\n",
       "      <td>2022-11-11 14:38:00</td>\n",
       "      <td>3.602844</td>\n",
       "      <td>3.605346</td>\n",
       "      <td>3.076</td>\n",
       "      <td>3.07700</td>\n",
       "      <td>5139.703475</td>\n",
       "      <td>34</td>\n",
       "      <td>3.084732</td>\n",
       "      <td>3.601788</td>\n",
       "      <td>3.604289</td>\n",
       "      <td>3.075099</td>\n",
       "      <td>3.076098</td>\n",
       "      <td>5138.197542</td>\n",
       "      <td>3.083829</td>\n",
       "      <td>0.802952</td>\n",
       "      <td>0.686677</td>\n",
       "      <td>1</td>\n",
       "      <td>0</td>\n",
       "      <td>0</td>\n",
       "    </tr>\n",
       "    <tr>\n",
       "      <th>1</th>\n",
       "      <td>2022-11-11 14:39:00</td>\n",
       "      <td>3.073000</td>\n",
       "      <td>3.077000</td>\n",
       "      <td>NaN</td>\n",
       "      <td>3.06500</td>\n",
       "      <td>5353.100000</td>\n",
       "      <td>40</td>\n",
       "      <td>3.069644</td>\n",
       "      <td>3.072100</td>\n",
       "      <td>3.076098</td>\n",
       "      <td>NaN</td>\n",
       "      <td>3.064102</td>\n",
       "      <td>5351.531542</td>\n",
       "      <td>3.068745</td>\n",
       "      <td>0.684867</td>\n",
       "      <td>0.683999</td>\n",
       "      <td>1</td>\n",
       "      <td>0</td>\n",
       "      <td>0</td>\n",
       "    </tr>\n",
       "    <tr>\n",
       "      <th>2</th>\n",
       "      <td>2022-11-11 14:40:00</td>\n",
       "      <td>3.068000</td>\n",
       "      <td>3.605346</td>\n",
       "      <td>3.062</td>\n",
       "      <td>3.07500</td>\n",
       "      <td>5139.703475</td>\n",
       "      <td>34</td>\n",
       "      <td>3.077019</td>\n",
       "      <td>3.067101</td>\n",
       "      <td>3.604289</td>\n",
       "      <td>3.061103</td>\n",
       "      <td>3.074099</td>\n",
       "      <td>5138.197542</td>\n",
       "      <td>3.076117</td>\n",
       "      <td>0.683753</td>\n",
       "      <td>0.686231</td>\n",
       "      <td>1</td>\n",
       "      <td>0</td>\n",
       "      <td>0</td>\n",
       "    </tr>\n",
       "    <tr>\n",
       "      <th>3</th>\n",
       "      <td>2022-11-11 14:41:00</td>\n",
       "      <td>3.075000</td>\n",
       "      <td>3.091000</td>\n",
       "      <td>3.069</td>\n",
       "      <td>3.60255</td>\n",
       "      <td>10358.000000</td>\n",
       "      <td>43</td>\n",
       "      <td>3.084393</td>\n",
       "      <td>3.074099</td>\n",
       "      <td>3.090094</td>\n",
       "      <td>3.068101</td>\n",
       "      <td>3.601495</td>\n",
       "      <td>10354.965106</td>\n",
       "      <td>3.083489</td>\n",
       "      <td>0.685313</td>\n",
       "      <td>0.803961</td>\n",
       "      <td>0</td>\n",
       "      <td>1</td>\n",
       "      <td>0</td>\n",
       "    </tr>\n",
       "    <tr>\n",
       "      <th>4</th>\n",
       "      <td>2022-11-11 14:42:00</td>\n",
       "      <td>3.085000</td>\n",
       "      <td>3.093000</td>\n",
       "      <td>3.074</td>\n",
       "      <td>3.07400</td>\n",
       "      <td>5139.703475</td>\n",
       "      <td>38</td>\n",
       "      <td>3.088095</td>\n",
       "      <td>3.084096</td>\n",
       "      <td>3.092094</td>\n",
       "      <td>3.073099</td>\n",
       "      <td>3.073099</td>\n",
       "      <td>5138.197542</td>\n",
       "      <td>3.087190</td>\n",
       "      <td>0.687542</td>\n",
       "      <td>0.686008</td>\n",
       "      <td>1</td>\n",
       "      <td>0</td>\n",
       "      <td>0</td>\n",
       "    </tr>\n",
       "  </tbody>\n",
       "</table>\n",
       "</div>"
      ],
      "text/plain": [
       "                   ts      open      high    low    close        volume  \\\n",
       "0 2022-11-11 14:38:00  3.602844  3.605346  3.076  3.07700   5139.703475   \n",
       "1 2022-11-11 14:39:00  3.073000  3.077000    NaN  3.06500   5353.100000   \n",
       "2 2022-11-11 14:40:00  3.068000  3.605346  3.062  3.07500   5139.703475   \n",
       "3 2022-11-11 14:41:00  3.075000  3.091000  3.069  3.60255  10358.000000   \n",
       "4 2022-11-11 14:42:00  3.085000  3.093000  3.074  3.07400   5139.703475   \n",
       "\n",
       "   rec_count  avg_price  open_USDT  high_USDT  low_USDT  close_USDT  \\\n",
       "0         34   3.084732   3.601788   3.604289  3.075099    3.076098   \n",
       "1         40   3.069644   3.072100   3.076098       NaN    3.064102   \n",
       "2         34   3.077019   3.067101   3.604289  3.061103    3.074099   \n",
       "3         43   3.084393   3.074099   3.090094  3.068101    3.601495   \n",
       "4         38   3.088095   3.084096   3.092094  3.073099    3.073099   \n",
       "\n",
       "    volume_USDT  avg_price_USDT  open_norm  close_norm  rec_count_Low  \\\n",
       "0   5138.197542        3.083829   0.802952    0.686677              1   \n",
       "1   5351.531542        3.068745   0.684867    0.683999              1   \n",
       "2   5138.197542        3.076117   0.683753    0.686231              1   \n",
       "3  10354.965106        3.083489   0.685313    0.803961              0   \n",
       "4   5138.197542        3.087190   0.687542    0.686008              1   \n",
       "\n",
       "   rec_count_Medium  rec_count_High  \n",
       "0                 0               0  \n",
       "1                 0               0  \n",
       "2                 0               0  \n",
       "3                 1               0  \n",
       "4                 0               0  "
      ]
     },
     "execution_count": 42,
     "metadata": {},
     "output_type": "execute_result"
    }
   ],
   "source": [
    "df.head()"
   ]
  },
  {
   "cell_type": "markdown",
   "metadata": {},
   "source": [
    "The last three columns are now the indicator variable representation of the rec_count variable. They're all 0s and 1s now.\n"
   ]
  },
  {
   "cell_type": "markdown",
   "metadata": {},
   "source": [
    "<div class=\"alert alert-danger alertdanger\" style=\"margin-top: 20px\">\n",
    "<h1> Question  #4: </h1>\n",
    "\n",
    "<b>Similar to before, create an indicator variable for the column \"ts\" (create df[\"ts_month\"] = df[\"ts\"].dt.month as category and then get_dummies from that column and then concatenate the df's)</b>\n",
    "\n",
    "</div>\n"
   ]
  },
  {
   "cell_type": "code",
   "execution_count": 53,
   "metadata": {},
   "outputs": [],
   "source": [
    "# Write your code below and press Shift+Enter to execute \n"
   ]
  },
  {
   "cell_type": "markdown",
   "metadata": {},
   "source": [
    "<details><summary>Click here for the solution</summary>\n",
    "\n",
    "```python\n",
    "# Create a new columnb\n",
    "df[\"ts_month\"] = df[\"ts\"].dt.month\n",
    "# get indicator variables of aspiration and assign it to data frame \"dummy_variable_2\"\n",
    "dummy_variable_2 = pd.get_dummies(df[\"ts_month\"], prefix=\"ts\")\n",
    "# show first 5 instances of data frame \"dummy_variable_2\"\n",
    "dummy_variable_2.head()\n",
    "\n",
    "\n",
    "```\n",
    "\n",
    "</details>\n"
   ]
  },
  {
   "cell_type": "markdown",
   "metadata": {},
   "source": [
    " <div class=\"alert alert-danger alertdanger\" style=\"margin-top: 20px\">\n",
    "<h1> Question  #5: </h1>\n",
    "\n",
    "<b>Merge the new dataframe to the original dataframe, then drop the column \"ts_month\".</b>\n",
    "\n",
    "</div>\n"
   ]
  },
  {
   "cell_type": "code",
   "execution_count": 56,
   "metadata": {},
   "outputs": [],
   "source": [
    "# Write your code below and press Shift+Enter to execute \n"
   ]
  },
  {
   "cell_type": "markdown",
   "metadata": {},
   "source": [
    "<details><summary>Click here for the solution</summary>\n",
    "\n",
    "```python\n",
    "# Concatenate df's\n",
    "df = pd.concat([df, dummy_variable_2], axis=1)\n",
    "# Drop original column \"ts_month\" from \"df\"\n",
    "df.drop(\"ts_month\", axis=1, inplace=True)\n",
    "\n",
    "\n",
    "```\n",
    "\n",
    "</details>\n"
   ]
  },
  {
   "cell_type": "code",
   "execution_count": 58,
   "metadata": {},
   "outputs": [],
   "source": [
    "df.to_csv('clean_df.csv', index=False)"
   ]
  },
  {
   "cell_type": "markdown",
   "metadata": {},
   "source": [
    "Save the new csv:\n",
    "\n",
    "> Note : The  csv file cannot be viewed in the jupyterlite based SN labs environment.However you can Click <a href=\"https://cf-courses-data.s3.us.cloud-object-storage.appdomain.cloud/IBMDeveloperSkillsNetwork-DA0101EN-SkillsNetwork/labs/Module%202/DA0101EN-2-Review-Data-Wrangling.ipynb?utm_medium=Exinfluencer&utm_source=Exinfluencer&utm_content=000026UJ&utm_term=10006555&utm_id=NA-SkillsNetwork-Channel-SkillsNetworkCoursesIBMDeveloperSkillsNetworkDA0101ENSkillsNetwork20235326-2022-01-01\">HERE ???</a> to download the lab notebook (.ipynb) to your local machine and view the csv file once the notebook is executed.\n"
   ]
  },
  {
   "cell_type": "markdown",
   "metadata": {},
   "source": [
    "### Thank you for completing this lab!\n",
    "\n",
    "## Author\n",
    "\n",
    "<a href=\"https://www.linkedin.com/in/joseph-s-50398b136/?utm_medium=Exinfluencer&utm_source=Exinfluencer&utm_content=000026UJ&utm_term=10006555&utm_id=NA-SkillsNetwork-Channel-SkillsNetworkCoursesIBMDeveloperSkillsNetworkDA0101ENSkillsNetwork20235326-2021-01-01\" target=\"_blank\">Joseph Santarcangelo</a>\n",
    "\n",
    "### Other Contributors\n",
    "\n",
    "<a href=\"https://www.linkedin.com/in/mahdi-noorian-58219234/?utm_medium=Exinfluencer&utm_source=Exinfluencer&utm_content=000026UJ&utm_term=10006555&utm_id=NA-SkillsNetwork-Channel-SkillsNetworkCoursesIBMDeveloperSkillsNetworkDA0101ENSkillsNetwork20235326-2021-01-01\" target=\"_blank\">Mahdi Noorian PhD</a>\n",
    "\n",
    "Bahare Talayian\n",
    "\n",
    "Eric Xiao\n",
    "\n",
    "Steven Dong\n",
    "\n",
    "Parizad\n",
    "\n",
    "Hima Vasudevan\n",
    "\n",
    "<a href=\"https://www.linkedin.com/in/fiorellawever/?utm_medium=Exinfluencer&utm_source=Exinfluencer&utm_content=000026UJ&utm_term=10006555&utm_id=NA-SkillsNetwork-Channel-SkillsNetworkCoursesIBMDeveloperSkillsNetworkDA0101ENSkillsNetwork20235326-2021-01-01\" target=\"_blank\">Fiorella Wenver</a>\n",
    "\n",
    "<a href=\"https:// https://www.linkedin.com/in/yi-leng-yao-84451275/ \" target=\"_blank\" >Yi Yao</a>.\n",
    "\n",
    "## Change Log\n",
    "\n",
    "| Date (YYYY-MM-DD) | Version | Changed By | Change Description                  |\n",
    "| ----------------- | ------- | ---------- | ----------------------------------- |\n",
    "| 2022-04-22        | 2.3     | Lakshmi    | Made changes in markdown file       |\n",
    "| 2020-10-30        | 2.2     | Lakshmi    | Changed URL of csv                  |\n",
    "| 2020-09-09        | 2.1     | Lakshmi    | Updated Indicator Variables section |\n",
    "| 2020-08-27        | 2.0     | Lavanya    | Moved lab to course repo in GitLab  |\n",
    "\n",
    "<hr>\n",
    "\n",
    "## <h3 align=\"center\"> © IBM Corporation 2020. All rights reserved. <h3/>\n"
   ]
  }
 ],
 "metadata": {
  "anaconda-cloud": {},
  "kernelspec": {
   "display_name": "Python 3 (ipykernel)",
   "language": "python",
   "name": "python3"
  },
  "language_info": {
   "codemirror_mode": {
    "name": "ipython",
    "version": 3
   },
   "file_extension": ".py",
   "mimetype": "text/x-python",
   "name": "python",
   "nbconvert_exporter": "python",
   "pygments_lexer": "ipython3",
   "version": "3.9.7"
  }
 },
 "nbformat": 4,
 "nbformat_minor": 4
}
