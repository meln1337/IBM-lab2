{
 "cells": [
  {
   "cell_type": "markdown",
   "metadata": {},
   "source": [
    "<center>\n",
    "    <img src=\"https://cf-courses-data.s3.us.cloud-object-storage.appdomain.cloud/IBMDeveloperSkillsNetwork-DA0101EN-SkillsNetwork/labs/Module%202/images/IDSNlogo.png\" width=\"300\" alt=\"cognitiveclass.ai logo\"  />\n",
    "</center>\n",
    "\n",
    "# Data Wrangling\n",
    "\n",
    "Estimated time needed: **30** minutes\n",
    "\n",
    "## Objectives\n",
    "\n",
    "After completing this lab you will be able to:\n",
    "\n",
    "*   Handle missing values\n",
    "*   Correct data format\n",
    "*   Standardize and normalize data\n"
   ]
  },
  {
   "cell_type": "markdown",
   "metadata": {},
   "source": [
    "<h2>Table of Contents</h2>\n",
    "\n",
    "<div class=\"alert alert-block alert-info\" style=\"margin-top: 20px\">\n",
    "<ul>\n",
    "    <li><a href=\"https://#identify_handle_missing_values\">Identify and handle missing values</a>\n",
    "        <ul>\n",
    "            <li><a href=\"https://#identify_missing_values\">Identify missing values</a></li>\n",
    "            <li><a href=\"https://#deal_missing_values\">Deal with missing values</a></li>\n",
    "            <li><a href=\"https://#correct_data_format\">Correct data format</a></li>\n",
    "        </ul>\n",
    "    </li>\n",
    "    <li><a href=\"https://#data_standardization\">Data standardization</a></li>\n",
    "    <li><a href=\"https://#data_normalization\">Data normalization (centering/scaling)</a></li>\n",
    "    <li><a href=\"https://#binning\">Binning</a></li>\n",
    "    <li><a href=\"https://#indicator\">Indicator variable</a></li>\n",
    "</ul>\n",
    "\n",
    "</div>\n",
    "\n",
    "<hr>\n"
   ]
  },
  {
   "cell_type": "markdown",
   "metadata": {},
   "source": [
    "<h2>What is the purpose of data wrangling?</h2>\n"
   ]
  },
  {
   "cell_type": "markdown",
   "metadata": {},
   "source": [
    "Data wrangling is the process of converting data from the initial format to a format that may be better for analysis.\n"
   ]
  },
  {
   "cell_type": "markdown",
   "metadata": {
    "jp-MarkdownHeadingCollapsed": true,
    "tags": []
   },
   "source": [
    "<h3>How to convert BUSD to USDT?</h3>\n"
   ]
  },
  {
   "cell_type": "markdown",
   "metadata": {},
   "source": [
    "<h3>Import data</h3>\n",
    "<p>\n",
    "You can find the \"APEBUSD Dataset\" from the following link: <a href=\"https://1824251045.rsc.cdn77.org/web/algohouse/data/APEBUSD_trades_1m.csv\">https://1824251045.rsc.cdn77.org/web/algohouse/data/APEBUSD_trades_1m.csv</a>. \n",
    "We will be using this dataset throughout this course.\n",
    "</p>\n"
   ]
  },
  {
   "cell_type": "markdown",
   "metadata": {},
   "source": [
    "<h4>Import pandas</h4> \n"
   ]
  },
  {
   "cell_type": "markdown",
   "metadata": {},
   "source": [
    "you are running the lab in your  browser, so we will install the libraries using `piplite`\n"
   ]
  },
  {
   "cell_type": "code",
   "execution_count": 2,
   "metadata": {},
   "outputs": [],
   "source": [
    "import piplite\n",
    "await piplite.install(['pandas'])\n",
    "await piplite.install(['matplotlib'])"
   ]
  },
  {
   "cell_type": "markdown",
   "metadata": {},
   "source": [
    "If you run the lab locally using Anaconda, you can load the correct library and versions by uncommenting the following:\n"
   ]
  },
  {
   "cell_type": "code",
   "execution_count": null,
   "metadata": {},
   "outputs": [],
   "source": [
    "#If you run the lab locally using Anaconda, you can load the correct library and versions by uncommenting the following:\n",
    "#install specific version of libraries used in lab\n",
    "#! mamba install pandas==1.3.3\n",
    "#! mamba install numpy=1.21.2\n"
   ]
  },
  {
   "cell_type": "code",
   "execution_count": 1,
   "metadata": {},
   "outputs": [],
   "source": [
    "import pandas as pd\n",
    "import numpy as np"
   ]
  },
  {
   "cell_type": "markdown",
   "metadata": {},
   "source": [
    "This function will download the dataset into your browser\n"
   ]
  },
  {
   "cell_type": "code",
   "execution_count": null,
   "metadata": {},
   "outputs": [],
   "source": [
    "#This function will download the dataset into your browser \n",
    "from pyodide.http import pyfetch\n",
    "\n",
    "async def download(url, filename):\n",
    "    response = await pyfetch(url)\n",
    "    if response.status == 200:\n",
    "        with open(filename, \"wb\") as f:\n",
    "            f.write(await response.bytes())\n",
    "\n"
   ]
  },
  {
   "cell_type": "markdown",
   "metadata": {},
   "source": [
    "<h2>Reading the dataset from the URL</h2>\n"
   ]
  },
  {
   "cell_type": "markdown",
   "metadata": {},
   "source": [
    "First, we assign the URL of the dataset to \"filename\".\n"
   ]
  },
  {
   "cell_type": "markdown",
   "metadata": {},
   "source": [
    "This dataset was hosted on IBM Cloud object. Click <a href=\"https://1824251045.rsc.cdn77.org/web/algohouse/data/APEBUSD_trades_1m.csv\">HERE</a> for free storage.\n"
   ]
  },
  {
   "cell_type": "code",
   "execution_count": 24,
   "metadata": {},
   "outputs": [],
   "source": [
    "filename = \"https://1824251045.rsc.cdn77.org/web/algohouse/data/APEBUSD_trades_1m.csv\""
   ]
  },
  {
   "cell_type": "markdown",
   "metadata": {},
   "source": [
    "you will need to download the dataset; if you are running locally, please comment out the following\n"
   ]
  },
  {
   "cell_type": "code",
   "execution_count": 2,
   "metadata": {},
   "outputs": [],
   "source": [
    "await download(filename, \"APEBUSD_trades_1m.csv\")\n",
    "filename = \"APEBUSD_trades_1m.csv\""
   ]
  },
  {
   "cell_type": "markdown",
   "metadata": {},
   "source": [
    "Use the Pandas method <b>read_csv()</b> to load the data from the web address. Set the parameter  \"names\" equal to the Python list \"headers\".\n"
   ]
  },
  {
   "cell_type": "code",
   "execution_count": 3,
   "metadata": {},
   "outputs": [],
   "source": [
    "df = pd.read_csv(filename, index_col=0)"
   ]
  },
  {
   "cell_type": "markdown",
   "metadata": {},
   "source": [
    "Use the method <b>head()</b> to display the first five rows of the dataframe.\n"
   ]
  },
  {
   "cell_type": "code",
   "execution_count": 4,
   "metadata": {},
   "outputs": [
    {
     "data": {
      "text/html": [
       "<div>\n",
       "<style scoped>\n",
       "    .dataframe tbody tr th:only-of-type {\n",
       "        vertical-align: middle;\n",
       "    }\n",
       "\n",
       "    .dataframe tbody tr th {\n",
       "        vertical-align: top;\n",
       "    }\n",
       "\n",
       "    .dataframe thead th {\n",
       "        text-align: right;\n",
       "    }\n",
       "</style>\n",
       "<table border=\"1\" class=\"dataframe\">\n",
       "  <thead>\n",
       "    <tr style=\"text-align: right;\">\n",
       "      <th></th>\n",
       "      <th>ts</th>\n",
       "      <th>open</th>\n",
       "      <th>high</th>\n",
       "      <th>low</th>\n",
       "      <th>close</th>\n",
       "      <th>volume</th>\n",
       "      <th>rec_count</th>\n",
       "      <th>avg_price</th>\n",
       "    </tr>\n",
       "  </thead>\n",
       "  <tbody>\n",
       "    <tr>\n",
       "      <th>0</th>\n",
       "      <td>2022-11-11 14:38:00</td>\n",
       "      <td>3.096</td>\n",
       "      <td>3.096</td>\n",
       "      <td>3.076</td>\n",
       "      <td>3.077</td>\n",
       "      <td>2733.3</td>\n",
       "      <td>34</td>\n",
       "      <td>3.084732</td>\n",
       "    </tr>\n",
       "    <tr>\n",
       "      <th>1</th>\n",
       "      <td>2022-11-11 14:39:00</td>\n",
       "      <td>3.073</td>\n",
       "      <td>3.077</td>\n",
       "      <td>3.064</td>\n",
       "      <td>3.065</td>\n",
       "      <td>5353.1</td>\n",
       "      <td>40</td>\n",
       "      <td>3.069644</td>\n",
       "    </tr>\n",
       "    <tr>\n",
       "      <th>2</th>\n",
       "      <td>2022-11-11 14:40:00</td>\n",
       "      <td>3.068</td>\n",
       "      <td>3.075</td>\n",
       "      <td>3.062</td>\n",
       "      <td>3.075</td>\n",
       "      <td>5582.2</td>\n",
       "      <td>34</td>\n",
       "      <td>3.071029</td>\n",
       "    </tr>\n",
       "    <tr>\n",
       "      <th>3</th>\n",
       "      <td>2022-11-11 14:41:00</td>\n",
       "      <td>3.075</td>\n",
       "      <td>3.091</td>\n",
       "      <td>3.069</td>\n",
       "      <td>3.085</td>\n",
       "      <td>10358.0</td>\n",
       "      <td>43</td>\n",
       "      <td>3.084393</td>\n",
       "    </tr>\n",
       "    <tr>\n",
       "      <th>4</th>\n",
       "      <td>2022-11-11 14:42:00</td>\n",
       "      <td>3.085</td>\n",
       "      <td>3.093</td>\n",
       "      <td>3.074</td>\n",
       "      <td>3.074</td>\n",
       "      <td>9567.6</td>\n",
       "      <td>38</td>\n",
       "      <td>3.088095</td>\n",
       "    </tr>\n",
       "  </tbody>\n",
       "</table>\n",
       "</div>"
      ],
      "text/plain": [
       "                    ts   open   high    low  close   volume  rec_count  \\\n",
       "0  2022-11-11 14:38:00  3.096  3.096  3.076  3.077   2733.3         34   \n",
       "1  2022-11-11 14:39:00  3.073  3.077  3.064  3.065   5353.1         40   \n",
       "2  2022-11-11 14:40:00  3.068  3.075  3.062  3.075   5582.2         34   \n",
       "3  2022-11-11 14:41:00  3.075  3.091  3.069  3.085  10358.0         43   \n",
       "4  2022-11-11 14:42:00  3.085  3.093  3.074  3.074   9567.6         38   \n",
       "\n",
       "   avg_price  \n",
       "0   3.084732  \n",
       "1   3.069644  \n",
       "2   3.071029  \n",
       "3   3.084393  \n",
       "4   3.088095  "
      ]
     },
     "execution_count": 4,
     "metadata": {},
     "output_type": "execute_result"
    }
   ],
   "source": [
    "# To see what the data set looks like, we'll use the head() method.\n",
    "df.head()"
   ]
  },
  {
   "cell_type": "markdown",
   "metadata": {},
   "source": [
    "Our data now is clean but let's spoil them to show how we can deal with missing values and incorrect data\n",
    "\n",
    "<div>Let's define <b>\"spoil_df\"</b> function which produces incorrect data of 3 types:</div>\n",
    "\n",
    "<ol>\n",
    "    <li>Text data (we work with numbers)</li>\n",
    "    <li>Negative values (we work only with positive values)</li>\n",
    "    <li>Missing values (NaN)</li>\n",
    "</ol>"
   ]
  },
  {
   "cell_type": "code",
   "execution_count": 5,
   "metadata": {},
   "outputs": [],
   "source": [
    "def spoil_df(df: pd.DataFrame, p:float=0.1):\n",
    "    rng = np.random.default_rng(seed=42)\n",
    "    x1 = rng.integers(0, df.shape[0], int((df.shape[0]*df.shape[1]*p) / 3)).reshape(-1, 1)\n",
    "    y1 = rng.integers(1, df.shape[1], int((df.shape[0]*df.shape[1]*p) / 3)).reshape(-1, 1)\n",
    "    \n",
    "    x2 = rng.integers(0, df.shape[0], int((df.shape[0]*df.shape[1]*p) / 3)).reshape(-1, 1)\n",
    "    y2 = rng.integers(1, df.shape[1], int((df.shape[0]*df.shape[1]*p) / 3)).reshape(-1, 1)\n",
    "    \n",
    "    x3 = rng.integers(0, df.shape[0], int((df.shape[0]*df.shape[1]*p) / 3)).reshape(-1, 1)\n",
    "    y3 = rng.integers(1, df.shape[1], int((df.shape[0]*df.shape[1]*p) / 3)).reshape(-1, 1)\n",
    "    \n",
    "    idx_to_replace1 = np.concatenate((x1, y1), axis=1)\n",
    "    idx_to_replace2 = np.concatenate((x2, y2), axis=1)\n",
    "    idx_to_replace3 = np.concatenate((x3, y3), axis=1)\n",
    "    \n",
    "    df_np = df.to_numpy()\n",
    "    \n",
    "    for (x, y) in idx_to_replace1:\n",
    "        df_np[x,y] = \"?\"\n",
    "        \n",
    "    for (x, y) in idx_to_replace2:\n",
    "        df_np[x,y] = np.nan\n",
    "        \n",
    "    for (x, y) in idx_to_replace3:\n",
    "        df_np[x,y] = (rng.random() - 1) * 10 # Convert from [0;1) to [-10;0)\n",
    "        \n",
    "    cols = [\"open\", \"high\", \"low\", \"close\", \"volume\", \"rec_count\", \"avg_price\"]\n",
    "    dict_df = {\"ts\": df_np[:,0]}\n",
    "    \n",
    "    for i, col in enumerate(cols):\n",
    "        dict_df[col] = df_np[:,i+1]\n",
    "        \n",
    "    spoiled_df = pd.DataFrame(dict_df)\n",
    "    return spoiled_df"
   ]
  },
  {
   "cell_type": "code",
   "execution_count": 6,
   "metadata": {},
   "outputs": [],
   "source": [
    "spoiled_df = spoil_df(df, 0.1)"
   ]
  },
  {
   "cell_type": "code",
   "execution_count": 7,
   "metadata": {},
   "outputs": [
    {
     "data": {
      "text/html": [
       "<div>\n",
       "<style scoped>\n",
       "    .dataframe tbody tr th:only-of-type {\n",
       "        vertical-align: middle;\n",
       "    }\n",
       "\n",
       "    .dataframe tbody tr th {\n",
       "        vertical-align: top;\n",
       "    }\n",
       "\n",
       "    .dataframe thead th {\n",
       "        text-align: right;\n",
       "    }\n",
       "</style>\n",
       "<table border=\"1\" class=\"dataframe\">\n",
       "  <thead>\n",
       "    <tr style=\"text-align: right;\">\n",
       "      <th></th>\n",
       "      <th>ts</th>\n",
       "      <th>open</th>\n",
       "      <th>high</th>\n",
       "      <th>low</th>\n",
       "      <th>close</th>\n",
       "      <th>volume</th>\n",
       "      <th>rec_count</th>\n",
       "      <th>avg_price</th>\n",
       "    </tr>\n",
       "  </thead>\n",
       "  <tbody>\n",
       "    <tr>\n",
       "      <th>0</th>\n",
       "      <td>2022-11-11 14:38:00</td>\n",
       "      <td>3.096</td>\n",
       "      <td>?</td>\n",
       "      <td>3.076</td>\n",
       "      <td>3.077</td>\n",
       "      <td>2733.3</td>\n",
       "      <td>34</td>\n",
       "      <td>NaN</td>\n",
       "    </tr>\n",
       "    <tr>\n",
       "      <th>1</th>\n",
       "      <td>2022-11-11 14:39:00</td>\n",
       "      <td>NaN</td>\n",
       "      <td>3.077</td>\n",
       "      <td>3.064</td>\n",
       "      <td>3.065</td>\n",
       "      <td>5353.1</td>\n",
       "      <td>40</td>\n",
       "      <td>3.069644</td>\n",
       "    </tr>\n",
       "    <tr>\n",
       "      <th>2</th>\n",
       "      <td>2022-11-11 14:40:00</td>\n",
       "      <td>3.068</td>\n",
       "      <td>3.075</td>\n",
       "      <td>3.062</td>\n",
       "      <td>3.075</td>\n",
       "      <td>5582.2</td>\n",
       "      <td>34</td>\n",
       "      <td>3.071029</td>\n",
       "    </tr>\n",
       "    <tr>\n",
       "      <th>3</th>\n",
       "      <td>2022-11-11 14:41:00</td>\n",
       "      <td>3.075</td>\n",
       "      <td>3.091</td>\n",
       "      <td>3.069</td>\n",
       "      <td>3.085</td>\n",
       "      <td>10358.0</td>\n",
       "      <td>43</td>\n",
       "      <td>3.084393</td>\n",
       "    </tr>\n",
       "    <tr>\n",
       "      <th>4</th>\n",
       "      <td>2022-11-11 14:42:00</td>\n",
       "      <td>3.085</td>\n",
       "      <td>3.093</td>\n",
       "      <td>3.074</td>\n",
       "      <td>3.074</td>\n",
       "      <td>9567.6</td>\n",
       "      <td>38</td>\n",
       "      <td>3.088095</td>\n",
       "    </tr>\n",
       "    <tr>\n",
       "      <th>5</th>\n",
       "      <td>2022-11-11 14:43:00</td>\n",
       "      <td>3.076</td>\n",
       "      <td>3.085</td>\n",
       "      <td>3.073</td>\n",
       "      <td>3.079</td>\n",
       "      <td>2212.5</td>\n",
       "      <td>27</td>\n",
       "      <td>3.079011</td>\n",
       "    </tr>\n",
       "    <tr>\n",
       "      <th>6</th>\n",
       "      <td>2022-11-11 14:44:00</td>\n",
       "      <td>3.082</td>\n",
       "      <td>3.094</td>\n",
       "      <td>3.082</td>\n",
       "      <td>3.092</td>\n",
       "      <td>8106.4</td>\n",
       "      <td>28</td>\n",
       "      <td>3.089105</td>\n",
       "    </tr>\n",
       "    <tr>\n",
       "      <th>7</th>\n",
       "      <td>2022-11-11 14:45:00</td>\n",
       "      <td>3.095</td>\n",
       "      <td>3.138</td>\n",
       "      <td>3.095</td>\n",
       "      <td>NaN</td>\n",
       "      <td>35545.1</td>\n",
       "      <td>67</td>\n",
       "      <td>3.118701</td>\n",
       "    </tr>\n",
       "    <tr>\n",
       "      <th>8</th>\n",
       "      <td>2022-11-11 14:46:00</td>\n",
       "      <td>3.137</td>\n",
       "      <td>-1.163488</td>\n",
       "      <td>3.12</td>\n",
       "      <td>3.153</td>\n",
       "      <td>17379.1</td>\n",
       "      <td>57</td>\n",
       "      <td>3.138483</td>\n",
       "    </tr>\n",
       "    <tr>\n",
       "      <th>9</th>\n",
       "      <td>2022-11-11 14:47:00</td>\n",
       "      <td>3.158</td>\n",
       "      <td>3.236</td>\n",
       "      <td>3.158</td>\n",
       "      <td>NaN</td>\n",
       "      <td>66603.7</td>\n",
       "      <td>75</td>\n",
       "      <td>3.194934</td>\n",
       "    </tr>\n",
       "  </tbody>\n",
       "</table>\n",
       "</div>"
      ],
      "text/plain": [
       "                    ts   open      high    low  close   volume rec_count  \\\n",
       "0  2022-11-11 14:38:00  3.096         ?  3.076  3.077   2733.3        34   \n",
       "1  2022-11-11 14:39:00    NaN     3.077  3.064  3.065   5353.1        40   \n",
       "2  2022-11-11 14:40:00  3.068     3.075  3.062  3.075   5582.2        34   \n",
       "3  2022-11-11 14:41:00  3.075     3.091  3.069  3.085  10358.0        43   \n",
       "4  2022-11-11 14:42:00  3.085     3.093  3.074  3.074   9567.6        38   \n",
       "5  2022-11-11 14:43:00  3.076     3.085  3.073  3.079   2212.5        27   \n",
       "6  2022-11-11 14:44:00  3.082     3.094  3.082  3.092   8106.4        28   \n",
       "7  2022-11-11 14:45:00  3.095     3.138  3.095    NaN  35545.1        67   \n",
       "8  2022-11-11 14:46:00  3.137 -1.163488   3.12  3.153  17379.1        57   \n",
       "9  2022-11-11 14:47:00  3.158     3.236  3.158    NaN  66603.7        75   \n",
       "\n",
       "  avg_price  \n",
       "0       NaN  \n",
       "1  3.069644  \n",
       "2  3.071029  \n",
       "3  3.084393  \n",
       "4  3.088095  \n",
       "5  3.079011  \n",
       "6  3.089105  \n",
       "7  3.118701  \n",
       "8  3.138483  \n",
       "9  3.194934  "
      ]
     },
     "execution_count": 7,
     "metadata": {},
     "output_type": "execute_result"
    }
   ],
   "source": [
    "spoiled_df.head(10)"
   ]
  },
  {
   "cell_type": "markdown",
   "metadata": {},
   "source": [
    "As we can see, several question marks, negative values and NaN appeared in the dataframe; those are incorrect data which may hinders our further analysis.\n",
    "\n",
    "<div>So, how do we identify all that incorrect data and deal with it?</div> \n",
    "\n",
    "<b>How to work with incorrect data?</b>\n",
    "\n",
    "Steps for working with incorrect data:\n",
    "\n",
    "<ol>\n",
    "    <li>Identify incorrect data</li>\n",
    "    <li>Deal with incorrect data</li>\n",
    "    <li>Correct data format</li>\n",
    "</ol>\n"
   ]
  },
  {
   "cell_type": "markdown",
   "metadata": {},
   "source": [
    "<h2 id=\"identify_handle_missing_values\">Identify and handle incorrect values</h2>\n",
    "\n",
    "<h3 id=\"identify_missing_values\">Identify incorrect values</h3>\n",
    "<h4>Convert \"?\" to NaN</h4>\n",
    "In the APEBUSD dataset, missing data comes with the question mark \"?\".\n",
    "We replace \"?\" with NaN (Not a Number), Python's default missing value marker for reasons of computational speed and convenience. Here we use the function: \n",
    " <pre>.replace(A, B, inplace = True) </pre>\n",
    "to replace A by B.\n"
   ]
  },
  {
   "cell_type": "code",
   "execution_count": 8,
   "metadata": {},
   "outputs": [
    {
     "data": {
      "text/html": [
       "<div>\n",
       "<style scoped>\n",
       "    .dataframe tbody tr th:only-of-type {\n",
       "        vertical-align: middle;\n",
       "    }\n",
       "\n",
       "    .dataframe tbody tr th {\n",
       "        vertical-align: top;\n",
       "    }\n",
       "\n",
       "    .dataframe thead th {\n",
       "        text-align: right;\n",
       "    }\n",
       "</style>\n",
       "<table border=\"1\" class=\"dataframe\">\n",
       "  <thead>\n",
       "    <tr style=\"text-align: right;\">\n",
       "      <th></th>\n",
       "      <th>ts</th>\n",
       "      <th>open</th>\n",
       "      <th>high</th>\n",
       "      <th>low</th>\n",
       "      <th>close</th>\n",
       "      <th>volume</th>\n",
       "      <th>rec_count</th>\n",
       "      <th>avg_price</th>\n",
       "    </tr>\n",
       "  </thead>\n",
       "  <tbody>\n",
       "    <tr>\n",
       "      <th>0</th>\n",
       "      <td>2022-11-11 14:38:00</td>\n",
       "      <td>3.096</td>\n",
       "      <td>NaN</td>\n",
       "      <td>3.076</td>\n",
       "      <td>3.077</td>\n",
       "      <td>2733.3</td>\n",
       "      <td>34.0</td>\n",
       "      <td>NaN</td>\n",
       "    </tr>\n",
       "    <tr>\n",
       "      <th>1</th>\n",
       "      <td>2022-11-11 14:39:00</td>\n",
       "      <td>NaN</td>\n",
       "      <td>3.077000</td>\n",
       "      <td>3.064</td>\n",
       "      <td>3.065</td>\n",
       "      <td>5353.1</td>\n",
       "      <td>40.0</td>\n",
       "      <td>3.069644</td>\n",
       "    </tr>\n",
       "    <tr>\n",
       "      <th>2</th>\n",
       "      <td>2022-11-11 14:40:00</td>\n",
       "      <td>3.068</td>\n",
       "      <td>3.075000</td>\n",
       "      <td>3.062</td>\n",
       "      <td>3.075</td>\n",
       "      <td>5582.2</td>\n",
       "      <td>34.0</td>\n",
       "      <td>3.071029</td>\n",
       "    </tr>\n",
       "    <tr>\n",
       "      <th>3</th>\n",
       "      <td>2022-11-11 14:41:00</td>\n",
       "      <td>3.075</td>\n",
       "      <td>3.091000</td>\n",
       "      <td>3.069</td>\n",
       "      <td>3.085</td>\n",
       "      <td>10358.0</td>\n",
       "      <td>43.0</td>\n",
       "      <td>3.084393</td>\n",
       "    </tr>\n",
       "    <tr>\n",
       "      <th>4</th>\n",
       "      <td>2022-11-11 14:42:00</td>\n",
       "      <td>3.085</td>\n",
       "      <td>3.093000</td>\n",
       "      <td>3.074</td>\n",
       "      <td>3.074</td>\n",
       "      <td>9567.6</td>\n",
       "      <td>38.0</td>\n",
       "      <td>3.088095</td>\n",
       "    </tr>\n",
       "    <tr>\n",
       "      <th>5</th>\n",
       "      <td>2022-11-11 14:43:00</td>\n",
       "      <td>3.076</td>\n",
       "      <td>3.085000</td>\n",
       "      <td>3.073</td>\n",
       "      <td>3.079</td>\n",
       "      <td>2212.5</td>\n",
       "      <td>27.0</td>\n",
       "      <td>3.079011</td>\n",
       "    </tr>\n",
       "    <tr>\n",
       "      <th>6</th>\n",
       "      <td>2022-11-11 14:44:00</td>\n",
       "      <td>3.082</td>\n",
       "      <td>3.094000</td>\n",
       "      <td>3.082</td>\n",
       "      <td>3.092</td>\n",
       "      <td>8106.4</td>\n",
       "      <td>28.0</td>\n",
       "      <td>3.089105</td>\n",
       "    </tr>\n",
       "    <tr>\n",
       "      <th>7</th>\n",
       "      <td>2022-11-11 14:45:00</td>\n",
       "      <td>3.095</td>\n",
       "      <td>3.138000</td>\n",
       "      <td>3.095</td>\n",
       "      <td>NaN</td>\n",
       "      <td>35545.1</td>\n",
       "      <td>67.0</td>\n",
       "      <td>3.118701</td>\n",
       "    </tr>\n",
       "    <tr>\n",
       "      <th>8</th>\n",
       "      <td>2022-11-11 14:46:00</td>\n",
       "      <td>3.137</td>\n",
       "      <td>-1.163488</td>\n",
       "      <td>3.120</td>\n",
       "      <td>3.153</td>\n",
       "      <td>17379.1</td>\n",
       "      <td>57.0</td>\n",
       "      <td>3.138483</td>\n",
       "    </tr>\n",
       "    <tr>\n",
       "      <th>9</th>\n",
       "      <td>2022-11-11 14:47:00</td>\n",
       "      <td>3.158</td>\n",
       "      <td>3.236000</td>\n",
       "      <td>3.158</td>\n",
       "      <td>NaN</td>\n",
       "      <td>66603.7</td>\n",
       "      <td>75.0</td>\n",
       "      <td>3.194934</td>\n",
       "    </tr>\n",
       "  </tbody>\n",
       "</table>\n",
       "</div>"
      ],
      "text/plain": [
       "                    ts   open      high    low  close   volume  rec_count  \\\n",
       "0  2022-11-11 14:38:00  3.096       NaN  3.076  3.077   2733.3       34.0   \n",
       "1  2022-11-11 14:39:00    NaN  3.077000  3.064  3.065   5353.1       40.0   \n",
       "2  2022-11-11 14:40:00  3.068  3.075000  3.062  3.075   5582.2       34.0   \n",
       "3  2022-11-11 14:41:00  3.075  3.091000  3.069  3.085  10358.0       43.0   \n",
       "4  2022-11-11 14:42:00  3.085  3.093000  3.074  3.074   9567.6       38.0   \n",
       "5  2022-11-11 14:43:00  3.076  3.085000  3.073  3.079   2212.5       27.0   \n",
       "6  2022-11-11 14:44:00  3.082  3.094000  3.082  3.092   8106.4       28.0   \n",
       "7  2022-11-11 14:45:00  3.095  3.138000  3.095    NaN  35545.1       67.0   \n",
       "8  2022-11-11 14:46:00  3.137 -1.163488  3.120  3.153  17379.1       57.0   \n",
       "9  2022-11-11 14:47:00  3.158  3.236000  3.158    NaN  66603.7       75.0   \n",
       "\n",
       "   avg_price  \n",
       "0        NaN  \n",
       "1   3.069644  \n",
       "2   3.071029  \n",
       "3   3.084393  \n",
       "4   3.088095  \n",
       "5   3.079011  \n",
       "6   3.089105  \n",
       "7   3.118701  \n",
       "8   3.138483  \n",
       "9   3.194934  "
      ]
     },
     "execution_count": 8,
     "metadata": {},
     "output_type": "execute_result"
    }
   ],
   "source": [
    "# replace \"?\" to NaN\n",
    "spoiled_df.replace(\"?\", np.nan, inplace = True)\n",
    "spoiled_df.head(10)"
   ]
  },
  {
   "cell_type": "markdown",
   "metadata": {},
   "source": [
    "<h4>Convert negative values to NaN</h4>"
   ]
  },
  {
   "cell_type": "code",
   "execution_count": 9,
   "metadata": {},
   "outputs": [],
   "source": [
    "# replace negative values to NaN\n",
    "num_cols = [\"open\", \"high\", \"low\", \"close\", \"volume\", \"rec_count\", \"avg_price\"]\n",
    "ts = spoiled_df[\"ts\"]\n",
    "spoiled_df = pd.concat([ts, spoiled_df[num_cols].mask(spoiled_df[num_cols] < 0)], axis=1)"
   ]
  },
  {
   "cell_type": "code",
   "execution_count": 10,
   "metadata": {},
   "outputs": [
    {
     "data": {
      "text/html": [
       "<div>\n",
       "<style scoped>\n",
       "    .dataframe tbody tr th:only-of-type {\n",
       "        vertical-align: middle;\n",
       "    }\n",
       "\n",
       "    .dataframe tbody tr th {\n",
       "        vertical-align: top;\n",
       "    }\n",
       "\n",
       "    .dataframe thead th {\n",
       "        text-align: right;\n",
       "    }\n",
       "</style>\n",
       "<table border=\"1\" class=\"dataframe\">\n",
       "  <thead>\n",
       "    <tr style=\"text-align: right;\">\n",
       "      <th></th>\n",
       "      <th>ts</th>\n",
       "      <th>open</th>\n",
       "      <th>high</th>\n",
       "      <th>low</th>\n",
       "      <th>close</th>\n",
       "      <th>volume</th>\n",
       "      <th>rec_count</th>\n",
       "      <th>avg_price</th>\n",
       "    </tr>\n",
       "  </thead>\n",
       "  <tbody>\n",
       "    <tr>\n",
       "      <th>0</th>\n",
       "      <td>2022-11-11 14:38:00</td>\n",
       "      <td>3.096</td>\n",
       "      <td>NaN</td>\n",
       "      <td>3.076</td>\n",
       "      <td>3.077</td>\n",
       "      <td>2733.3</td>\n",
       "      <td>34.0</td>\n",
       "      <td>NaN</td>\n",
       "    </tr>\n",
       "    <tr>\n",
       "      <th>1</th>\n",
       "      <td>2022-11-11 14:39:00</td>\n",
       "      <td>NaN</td>\n",
       "      <td>3.077</td>\n",
       "      <td>3.064</td>\n",
       "      <td>3.065</td>\n",
       "      <td>5353.1</td>\n",
       "      <td>40.0</td>\n",
       "      <td>3.069644</td>\n",
       "    </tr>\n",
       "    <tr>\n",
       "      <th>2</th>\n",
       "      <td>2022-11-11 14:40:00</td>\n",
       "      <td>3.068</td>\n",
       "      <td>3.075</td>\n",
       "      <td>3.062</td>\n",
       "      <td>3.075</td>\n",
       "      <td>5582.2</td>\n",
       "      <td>34.0</td>\n",
       "      <td>3.071029</td>\n",
       "    </tr>\n",
       "    <tr>\n",
       "      <th>3</th>\n",
       "      <td>2022-11-11 14:41:00</td>\n",
       "      <td>3.075</td>\n",
       "      <td>3.091</td>\n",
       "      <td>3.069</td>\n",
       "      <td>3.085</td>\n",
       "      <td>10358.0</td>\n",
       "      <td>43.0</td>\n",
       "      <td>3.084393</td>\n",
       "    </tr>\n",
       "    <tr>\n",
       "      <th>4</th>\n",
       "      <td>2022-11-11 14:42:00</td>\n",
       "      <td>3.085</td>\n",
       "      <td>3.093</td>\n",
       "      <td>3.074</td>\n",
       "      <td>3.074</td>\n",
       "      <td>9567.6</td>\n",
       "      <td>38.0</td>\n",
       "      <td>3.088095</td>\n",
       "    </tr>\n",
       "    <tr>\n",
       "      <th>5</th>\n",
       "      <td>2022-11-11 14:43:00</td>\n",
       "      <td>3.076</td>\n",
       "      <td>3.085</td>\n",
       "      <td>3.073</td>\n",
       "      <td>3.079</td>\n",
       "      <td>2212.5</td>\n",
       "      <td>27.0</td>\n",
       "      <td>3.079011</td>\n",
       "    </tr>\n",
       "    <tr>\n",
       "      <th>6</th>\n",
       "      <td>2022-11-11 14:44:00</td>\n",
       "      <td>3.082</td>\n",
       "      <td>3.094</td>\n",
       "      <td>3.082</td>\n",
       "      <td>3.092</td>\n",
       "      <td>8106.4</td>\n",
       "      <td>28.0</td>\n",
       "      <td>3.089105</td>\n",
       "    </tr>\n",
       "    <tr>\n",
       "      <th>7</th>\n",
       "      <td>2022-11-11 14:45:00</td>\n",
       "      <td>3.095</td>\n",
       "      <td>3.138</td>\n",
       "      <td>3.095</td>\n",
       "      <td>NaN</td>\n",
       "      <td>35545.1</td>\n",
       "      <td>67.0</td>\n",
       "      <td>3.118701</td>\n",
       "    </tr>\n",
       "    <tr>\n",
       "      <th>8</th>\n",
       "      <td>2022-11-11 14:46:00</td>\n",
       "      <td>3.137</td>\n",
       "      <td>NaN</td>\n",
       "      <td>3.120</td>\n",
       "      <td>3.153</td>\n",
       "      <td>17379.1</td>\n",
       "      <td>57.0</td>\n",
       "      <td>3.138483</td>\n",
       "    </tr>\n",
       "    <tr>\n",
       "      <th>9</th>\n",
       "      <td>2022-11-11 14:47:00</td>\n",
       "      <td>3.158</td>\n",
       "      <td>3.236</td>\n",
       "      <td>3.158</td>\n",
       "      <td>NaN</td>\n",
       "      <td>66603.7</td>\n",
       "      <td>75.0</td>\n",
       "      <td>3.194934</td>\n",
       "    </tr>\n",
       "  </tbody>\n",
       "</table>\n",
       "</div>"
      ],
      "text/plain": [
       "                    ts   open   high    low  close   volume  rec_count  \\\n",
       "0  2022-11-11 14:38:00  3.096    NaN  3.076  3.077   2733.3       34.0   \n",
       "1  2022-11-11 14:39:00    NaN  3.077  3.064  3.065   5353.1       40.0   \n",
       "2  2022-11-11 14:40:00  3.068  3.075  3.062  3.075   5582.2       34.0   \n",
       "3  2022-11-11 14:41:00  3.075  3.091  3.069  3.085  10358.0       43.0   \n",
       "4  2022-11-11 14:42:00  3.085  3.093  3.074  3.074   9567.6       38.0   \n",
       "5  2022-11-11 14:43:00  3.076  3.085  3.073  3.079   2212.5       27.0   \n",
       "6  2022-11-11 14:44:00  3.082  3.094  3.082  3.092   8106.4       28.0   \n",
       "7  2022-11-11 14:45:00  3.095  3.138  3.095    NaN  35545.1       67.0   \n",
       "8  2022-11-11 14:46:00  3.137    NaN  3.120  3.153  17379.1       57.0   \n",
       "9  2022-11-11 14:47:00  3.158  3.236  3.158    NaN  66603.7       75.0   \n",
       "\n",
       "   avg_price  \n",
       "0        NaN  \n",
       "1   3.069644  \n",
       "2   3.071029  \n",
       "3   3.084393  \n",
       "4   3.088095  \n",
       "5   3.079011  \n",
       "6   3.089105  \n",
       "7   3.118701  \n",
       "8   3.138483  \n",
       "9   3.194934  "
      ]
     },
     "execution_count": 10,
     "metadata": {},
     "output_type": "execute_result"
    }
   ],
   "source": [
    "spoiled_df.head(10)"
   ]
  },
  {
   "cell_type": "markdown",
   "metadata": {},
   "source": [
    "<h4>Evaluating for Missing Data</h4>\n",
    "\n",
    "The missing values are converted by default. We use the following functions to identify these missing values. There are two methods to detect missing data:\n",
    "\n",
    "<ol>\n",
    "    <li><b>.isnull()</b></li>\n",
    "    <li><b>.notnull()</b></li>\n",
    "</ol>\n",
    "The output is a boolean value indicating whether the value that is passed into the argument is in fact missing data.\n"
   ]
  },
  {
   "cell_type": "code",
   "execution_count": 11,
   "metadata": {},
   "outputs": [
    {
     "data": {
      "text/html": [
       "<div>\n",
       "<style scoped>\n",
       "    .dataframe tbody tr th:only-of-type {\n",
       "        vertical-align: middle;\n",
       "    }\n",
       "\n",
       "    .dataframe tbody tr th {\n",
       "        vertical-align: top;\n",
       "    }\n",
       "\n",
       "    .dataframe thead th {\n",
       "        text-align: right;\n",
       "    }\n",
       "</style>\n",
       "<table border=\"1\" class=\"dataframe\">\n",
       "  <thead>\n",
       "    <tr style=\"text-align: right;\">\n",
       "      <th></th>\n",
       "      <th>ts</th>\n",
       "      <th>open</th>\n",
       "      <th>high</th>\n",
       "      <th>low</th>\n",
       "      <th>close</th>\n",
       "      <th>volume</th>\n",
       "      <th>rec_count</th>\n",
       "      <th>avg_price</th>\n",
       "    </tr>\n",
       "  </thead>\n",
       "  <tbody>\n",
       "    <tr>\n",
       "      <th>0</th>\n",
       "      <td>False</td>\n",
       "      <td>False</td>\n",
       "      <td>True</td>\n",
       "      <td>False</td>\n",
       "      <td>False</td>\n",
       "      <td>False</td>\n",
       "      <td>False</td>\n",
       "      <td>True</td>\n",
       "    </tr>\n",
       "    <tr>\n",
       "      <th>1</th>\n",
       "      <td>False</td>\n",
       "      <td>True</td>\n",
       "      <td>False</td>\n",
       "      <td>False</td>\n",
       "      <td>False</td>\n",
       "      <td>False</td>\n",
       "      <td>False</td>\n",
       "      <td>False</td>\n",
       "    </tr>\n",
       "    <tr>\n",
       "      <th>2</th>\n",
       "      <td>False</td>\n",
       "      <td>False</td>\n",
       "      <td>False</td>\n",
       "      <td>False</td>\n",
       "      <td>False</td>\n",
       "      <td>False</td>\n",
       "      <td>False</td>\n",
       "      <td>False</td>\n",
       "    </tr>\n",
       "    <tr>\n",
       "      <th>3</th>\n",
       "      <td>False</td>\n",
       "      <td>False</td>\n",
       "      <td>False</td>\n",
       "      <td>False</td>\n",
       "      <td>False</td>\n",
       "      <td>False</td>\n",
       "      <td>False</td>\n",
       "      <td>False</td>\n",
       "    </tr>\n",
       "    <tr>\n",
       "      <th>4</th>\n",
       "      <td>False</td>\n",
       "      <td>False</td>\n",
       "      <td>False</td>\n",
       "      <td>False</td>\n",
       "      <td>False</td>\n",
       "      <td>False</td>\n",
       "      <td>False</td>\n",
       "      <td>False</td>\n",
       "    </tr>\n",
       "    <tr>\n",
       "      <th>5</th>\n",
       "      <td>False</td>\n",
       "      <td>False</td>\n",
       "      <td>False</td>\n",
       "      <td>False</td>\n",
       "      <td>False</td>\n",
       "      <td>False</td>\n",
       "      <td>False</td>\n",
       "      <td>False</td>\n",
       "    </tr>\n",
       "    <tr>\n",
       "      <th>6</th>\n",
       "      <td>False</td>\n",
       "      <td>False</td>\n",
       "      <td>False</td>\n",
       "      <td>False</td>\n",
       "      <td>False</td>\n",
       "      <td>False</td>\n",
       "      <td>False</td>\n",
       "      <td>False</td>\n",
       "    </tr>\n",
       "    <tr>\n",
       "      <th>7</th>\n",
       "      <td>False</td>\n",
       "      <td>False</td>\n",
       "      <td>False</td>\n",
       "      <td>False</td>\n",
       "      <td>True</td>\n",
       "      <td>False</td>\n",
       "      <td>False</td>\n",
       "      <td>False</td>\n",
       "    </tr>\n",
       "    <tr>\n",
       "      <th>8</th>\n",
       "      <td>False</td>\n",
       "      <td>False</td>\n",
       "      <td>True</td>\n",
       "      <td>False</td>\n",
       "      <td>False</td>\n",
       "      <td>False</td>\n",
       "      <td>False</td>\n",
       "      <td>False</td>\n",
       "    </tr>\n",
       "    <tr>\n",
       "      <th>9</th>\n",
       "      <td>False</td>\n",
       "      <td>False</td>\n",
       "      <td>False</td>\n",
       "      <td>False</td>\n",
       "      <td>True</td>\n",
       "      <td>False</td>\n",
       "      <td>False</td>\n",
       "      <td>False</td>\n",
       "    </tr>\n",
       "  </tbody>\n",
       "</table>\n",
       "</div>"
      ],
      "text/plain": [
       "      ts   open   high    low  close  volume  rec_count  avg_price\n",
       "0  False  False   True  False  False   False      False       True\n",
       "1  False   True  False  False  False   False      False      False\n",
       "2  False  False  False  False  False   False      False      False\n",
       "3  False  False  False  False  False   False      False      False\n",
       "4  False  False  False  False  False   False      False      False\n",
       "5  False  False  False  False  False   False      False      False\n",
       "6  False  False  False  False  False   False      False      False\n",
       "7  False  False  False  False   True   False      False      False\n",
       "8  False  False   True  False  False   False      False      False\n",
       "9  False  False  False  False   True   False      False      False"
      ]
     },
     "execution_count": 11,
     "metadata": {},
     "output_type": "execute_result"
    }
   ],
   "source": [
    "missing_data = spoiled_df.isnull()\n",
    "missing_data.head(10)"
   ]
  },
  {
   "cell_type": "markdown",
   "metadata": {},
   "source": [
    "\"True\" means the value is a missing value while \"False\" means the value is not a missing value.\n"
   ]
  },
  {
   "cell_type": "markdown",
   "metadata": {},
   "source": [
    "<h4>Count missing values in each column</h4>\n",
    "<p>\n",
    "Using a for loop in Python, we can quickly figure out the number of missing values in each column. As mentioned above, \"True\" represents a missing value and \"False\" means the value is present in the dataset.  In the body of the for loop the method \".value_counts()\" counts the number of \"True\" values. \n",
    "</p>\n"
   ]
  },
  {
   "cell_type": "code",
   "execution_count": 12,
   "metadata": {},
   "outputs": [
    {
     "name": "stdout",
     "output_type": "stream",
     "text": [
      "ts\n",
      "False    66528\n",
      "Name: ts, dtype: int64\n",
      "\n",
      "open\n",
      "False    59420\n",
      "True      7108\n",
      "Name: open, dtype: int64\n",
      "\n",
      "high\n",
      "False    59228\n",
      "True      7300\n",
      "Name: high, dtype: int64\n",
      "\n",
      "low\n",
      "False    59309\n",
      "True      7219\n",
      "Name: low, dtype: int64\n",
      "\n",
      "close\n",
      "False    59428\n",
      "True      7100\n",
      "Name: close, dtype: int64\n",
      "\n",
      "volume\n",
      "False    59285\n",
      "True      7243\n",
      "Name: volume, dtype: int64\n",
      "\n",
      "rec_count\n",
      "False    59397\n",
      "True      7131\n",
      "Name: rec_count, dtype: int64\n",
      "\n",
      "avg_price\n",
      "False    59376\n",
      "True      7152\n",
      "Name: avg_price, dtype: int64\n",
      "\n"
     ]
    }
   ],
   "source": [
    "for column in missing_data.columns.values.tolist():\n",
    "    print(column)\n",
    "    print (missing_data[column].value_counts())\n",
    "    print(\"\")"
   ]
  },
  {
   "cell_type": "markdown",
   "metadata": {},
   "source": [
    "Based on the summary above, each column has 66528 rows of data and seven of the columns containing missing data:\n",
    "\n",
    "<ol>\n",
    "    <li>\"open\": 7108 missing data</li>\n",
    "    <li>\"high\": 7300 missing data</li>\n",
    "    <li>\"low\" : 7219 missing data</li>\n",
    "    <li>\"close\": 7100 missing data</li>\n",
    "    <li>\"volume\": 7243 missing data</li>\n",
    "    <li>\"rec_count\": 7131 missing data</li>\n",
    "    <li>\"avg_price\": 7152 missing data</li>\n",
    "</ol>\n"
   ]
  },
  {
   "cell_type": "markdown",
   "metadata": {},
   "source": [
    "<h3 id=\"deal_missing_values\">Deal with missing data</h3>\n",
    "<b>How to deal with missing data?</b>\n",
    "\n",
    "<ol>\n",
    "    <li>Drop data<br>\n",
    "        a. Drop the whole row<br>\n",
    "        b. Drop the whole column\n",
    "    </li>\n",
    "    <li>Replace data<br>\n",
    "        a. Replace it by mean<br>\n",
    "        b. Replace it by frequency<br>\n",
    "        c. Replace it based on other functions\n",
    "    </li>\n",
    "</ol>\n"
   ]
  },
  {
   "cell_type": "markdown",
   "metadata": {},
   "source": [
    "Whole columns should be dropped only if most entries in the column are empty. In our dataset, none of the columns are empty enough to drop entirely.\n",
    "We have some freedom in choosing which method to replace data; however, some methods may seem more reasonable than others. We will apply each method to many different columns:\n",
    "\n",
    "<b>Replace by mean:</b>\n",
    "\n",
    "<ul>\n",
    "    <li>\"open\": 7108 missing data, replace them with mean</li>\n",
    "    <li>\"high\": 7300 missing data, replace them with mean</li>\n",
    "    <li>\"low\": 7219 missing data, replace them with mean</li>\n",
    "    <li>\"volume\": 7243 missing data, replace them with mean</li>\n",
    "</ul>\n",
    "\n",
    "<b>Replace by frequency:</b>\n",
    "\n",
    "<ul>\n",
    "    <li>\"rec_count\": 7131 missing data, replace them with frequency\n",
    "        <ul>\n",
    "            <li>Reason: ?</li>\n",
    "        </ul>\n",
    "    </li>\n",
    "</ul>\n",
    "\n",
    "<b>Replace by pandas interpolation:</b>\n",
    "\n",
    "<ul>\n",
    "    <li>\"close\": 7100 missing data, replace them with model output\n",
    "        <ul>\n",
    "            <li>Reason: ?</li>\n",
    "        </ul>\n",
    "    </li>\n",
    "</ul>\n",
    "\n",
    "<b>Replace based on neighboring values:</b>\n",
    "\n",
    "<ul>\n",
    "    <li>\"avg_price\": 7152 missing data, replace based on neighboring values\n",
    "        <ul>\n",
    "            <li>Reason: ?</li>\n",
    "        </ul>\n",
    "    </li>\n",
    "</ul>\n"
   ]
  },
  {
   "cell_type": "markdown",
   "metadata": {},
   "source": [
    "<h4>Calculate the mean value for the \"open\" column </h4>\n"
   ]
  },
  {
   "cell_type": "code",
   "execution_count": 13,
   "metadata": {},
   "outputs": [
    {
     "name": "stdout",
     "output_type": "stream",
     "text": [
      "Average of open: 3.6026211040053466\n"
     ]
    }
   ],
   "source": [
    "avg_open = spoiled_df[\"open\"].astype(\"float\").mean(axis=0)\n",
    "print(\"Average of open:\", avg_open)"
   ]
  },
  {
   "cell_type": "markdown",
   "metadata": {},
   "source": [
    "<h4>Replace \"NaN\" with mean value in \"open\" column</h4>\n"
   ]
  },
  {
   "cell_type": "code",
   "execution_count": 14,
   "metadata": {},
   "outputs": [],
   "source": [
    "spoiled_df[\"open\"].replace(np.nan, avg_open, inplace=True)"
   ]
  },
  {
   "cell_type": "markdown",
   "metadata": {},
   "source": [
    "<h4>Calculate the mean value for the \"high\" column</h4>\n"
   ]
  },
  {
   "cell_type": "code",
   "execution_count": 15,
   "metadata": {},
   "outputs": [
    {
     "name": "stdout",
     "output_type": "stream",
     "text": [
      "Average of high: 3.6062694164921605\n"
     ]
    }
   ],
   "source": [
    "avg_high = spoiled_df[\"high\"].astype(\"float\").mean(axis=0)\n",
    "print(\"Average of high:\", avg_high)"
   ]
  },
  {
   "cell_type": "markdown",
   "metadata": {},
   "source": [
    "<h4>Replace \"NaN\" with the mean value in the \"high\" column</h4>\n"
   ]
  },
  {
   "cell_type": "code",
   "execution_count": 16,
   "metadata": {},
   "outputs": [],
   "source": [
    "spoiled_df[\"high\"].replace(np.nan, avg_high, inplace=True)"
   ]
  },
  {
   "cell_type": "markdown",
   "metadata": {},
   "source": [
    "<div class=\"alert alert-danger alertdanger\" style=\"margin-top: 20px\">\n",
    "<h1> Question  #1: </h1>\n",
    "\n",
    "<b>Based on the example above, replace NaN in \"low\" column with the mean value.</b>\n",
    "\n",
    "</div>\n"
   ]
  },
  {
   "cell_type": "code",
   "execution_count": 121,
   "metadata": {},
   "outputs": [],
   "source": [
    "# Write your code below and press Shift+Enter to execute \n"
   ]
  },
  {
   "cell_type": "markdown",
   "metadata": {},
   "source": [
    "<details><summary>Click here for the solution</summary>\n",
    "\n",
    "```python\n",
    "#Calculate the mean vaule for \"low\" column\n",
    "avg_low = spoiled_df[\"low\"].astype(\"float\").mean(axis=0)\n",
    "print(\"Average of low:\", avg_low)\n",
    "\n",
    "# replace NaN by mean value in \"low\" column\n",
    "spoiled_df[\"low\"].replace(np.nan, avg_low, inplace = True)\n",
    "```\n",
    "\n",
    "</details>\n"
   ]
  },
  {
   "cell_type": "markdown",
   "metadata": {},
   "source": [
    "<h4>Calculate the mean value for \"volume\" column</h4>\n"
   ]
  },
  {
   "cell_type": "code",
   "execution_count": 17,
   "metadata": {},
   "outputs": [
    {
     "name": "stdout",
     "output_type": "stream",
     "text": [
      "Average volume: 5146.704402462642\n"
     ]
    }
   ],
   "source": [
    "avg_volume = spoiled_df[\"volume\"].astype(\"float\").mean(axis=0)\n",
    "print(\"Average volume:\", avg_volume)"
   ]
  },
  {
   "cell_type": "markdown",
   "metadata": {},
   "source": [
    "<h4>Replace \"NaN\" with the mean value in the \"volume\" column</h4>\n"
   ]
  },
  {
   "cell_type": "code",
   "execution_count": 18,
   "metadata": {},
   "outputs": [],
   "source": [
    "spoiled_df[\"volume\"].replace(np.nan, avg_volume, inplace=True)"
   ]
  },
  {
   "cell_type": "markdown",
   "metadata": {},
   "source": [
    "To see which values are present in a particular column, we can use the \".value_counts()\" method:\n"
   ]
  },
  {
   "cell_type": "code",
   "execution_count": 19,
   "metadata": {},
   "outputs": [
    {
     "data": {
      "text/plain": [
       "5.0      3665\n",
       "6.0      3627\n",
       "4.0      3418\n",
       "7.0      3362\n",
       "8.0      3344\n",
       "         ... \n",
       "89.0        2\n",
       "116.0       1\n",
       "114.0       1\n",
       "115.0       1\n",
       "94.0        1\n",
       "Name: rec_count, Length: 103, dtype: int64"
      ]
     },
     "execution_count": 19,
     "metadata": {},
     "output_type": "execute_result"
    }
   ],
   "source": [
    "spoiled_df[\"rec_count\"].value_counts()"
   ]
  },
  {
   "cell_type": "markdown",
   "metadata": {},
   "source": [
    "We can see the most common type. We can also use the \".idxmax()\" method to calculate the most common type automatically:\n"
   ]
  },
  {
   "cell_type": "code",
   "execution_count": 20,
   "metadata": {},
   "outputs": [],
   "source": [
    "freq_rec = spoiled_df[\"rec_count\"].value_counts().idxmax()"
   ]
  },
  {
   "cell_type": "markdown",
   "metadata": {},
   "source": [
    "The replacement procedure is very similar to what we have seen previously:\n"
   ]
  },
  {
   "cell_type": "code",
   "execution_count": 21,
   "metadata": {},
   "outputs": [],
   "source": [
    "#replace the missing 'num-of-doors' values by the most frequent \n",
    "spoiled_df[\"rec_count\"].replace(np.nan, freq_rec, inplace=True)"
   ]
  },
  {
   "cell_type": "markdown",
   "metadata": {},
   "source": [
    "<h4>Replacing with pandas interpolation</h4>\n"
   ]
  },
  {
   "cell_type": "markdown",
   "metadata": {},
   "source": [
    "Let's try different models for interpolation and take the best one"
   ]
  },
  {
   "cell_type": "code",
   "execution_count": 22,
   "metadata": {},
   "outputs": [
    {
     "data": {
      "text/html": [
       "<div>\n",
       "<style scoped>\n",
       "    .dataframe tbody tr th:only-of-type {\n",
       "        vertical-align: middle;\n",
       "    }\n",
       "\n",
       "    .dataframe tbody tr th {\n",
       "        vertical-align: top;\n",
       "    }\n",
       "\n",
       "    .dataframe thead th {\n",
       "        text-align: right;\n",
       "    }\n",
       "</style>\n",
       "<table border=\"1\" class=\"dataframe\">\n",
       "  <thead>\n",
       "    <tr style=\"text-align: right;\">\n",
       "      <th></th>\n",
       "      <th>name</th>\n",
       "      <th>MSE</th>\n",
       "    </tr>\n",
       "  </thead>\n",
       "  <tbody>\n",
       "    <tr>\n",
       "      <th>0</th>\n",
       "      <td>linear</td>\n",
       "      <td>0.0000017681</td>\n",
       "    </tr>\n",
       "    <tr>\n",
       "      <th>2</th>\n",
       "      <td>slinear</td>\n",
       "      <td>0.0000017681</td>\n",
       "    </tr>\n",
       "    <tr>\n",
       "      <th>5</th>\n",
       "      <td>piecewise_polynomial</td>\n",
       "      <td>0.0000017681</td>\n",
       "    </tr>\n",
       "    <tr>\n",
       "      <th>6</th>\n",
       "      <td>pchip</td>\n",
       "      <td>0.0000018048</td>\n",
       "    </tr>\n",
       "    <tr>\n",
       "      <th>7</th>\n",
       "      <td>akima</td>\n",
       "      <td>0.0000018306</td>\n",
       "    </tr>\n",
       "    <tr>\n",
       "      <th>3</th>\n",
       "      <td>quadratic</td>\n",
       "      <td>0.0000021822</td>\n",
       "    </tr>\n",
       "    <tr>\n",
       "      <th>4</th>\n",
       "      <td>cubic</td>\n",
       "      <td>0.0000022852</td>\n",
       "    </tr>\n",
       "    <tr>\n",
       "      <th>11</th>\n",
       "      <td>polynomial_3</td>\n",
       "      <td>0.0000022852</td>\n",
       "    </tr>\n",
       "    <tr>\n",
       "      <th>8</th>\n",
       "      <td>cubicspline</td>\n",
       "      <td>0.0000022852</td>\n",
       "    </tr>\n",
       "    <tr>\n",
       "      <th>1</th>\n",
       "      <td>nearest</td>\n",
       "      <td>0.0000029394</td>\n",
       "    </tr>\n",
       "    <tr>\n",
       "      <th>12</th>\n",
       "      <td>polynomial_5</td>\n",
       "      <td>0.0000031680</td>\n",
       "    </tr>\n",
       "    <tr>\n",
       "      <th>10</th>\n",
       "      <td>spline_5</td>\n",
       "      <td>0.0025086687</td>\n",
       "    </tr>\n",
       "    <tr>\n",
       "      <th>9</th>\n",
       "      <td>spline_3</td>\n",
       "      <td>0.0048496829</td>\n",
       "    </tr>\n",
       "  </tbody>\n",
       "</table>\n",
       "</div>"
      ],
      "text/plain": [
       "                    name           MSE\n",
       "0                 linear  0.0000017681\n",
       "2                slinear  0.0000017681\n",
       "5   piecewise_polynomial  0.0000017681\n",
       "6                  pchip  0.0000018048\n",
       "7                  akima  0.0000018306\n",
       "3              quadratic  0.0000021822\n",
       "4                  cubic  0.0000022852\n",
       "11          polynomial_3  0.0000022852\n",
       "8            cubicspline  0.0000022852\n",
       "1                nearest  0.0000029394\n",
       "12          polynomial_5  0.0000031680\n",
       "10              spline_5  0.0025086687\n",
       "9               spline_3  0.0048496829"
      ]
     },
     "execution_count": 22,
     "metadata": {},
     "output_type": "execute_result"
    }
   ],
   "source": [
    "from sklearn.metrics import mean_squared_error\n",
    "\n",
    "pd.set_option(\"display.precision\", 10)\n",
    "methods = [\"linear\", \"nearest\", \"slinear\", \"quadratic\", \"cubic\", \"piecewise_polynomial\", \"pchip\", \"akima\", \"cubicspline\"]\n",
    "order_methods = [\"spline\", \"polynomial\"]\n",
    "performance = pd.DataFrame({\"name\": [], \"MSE\": []})\n",
    "for method in methods:\n",
    "    # print(method)\n",
    "    interpolated_close = spoiled_df[\"close\"].interpolate(method=method)\n",
    "    mse = mean_squared_error(df[\"close\"], interpolated_close)\n",
    "    performance.loc[len(performance.index)] = [method, mse]\n",
    "for method in order_methods:\n",
    "    for order in [3, 5]:\n",
    "        # print(f\"method: {method}, order: {order}\")\n",
    "        interpolated_close = spoiled_df[\"close\"].interpolate(method=method, order=order)\n",
    "        mse = mean_squared_error(df[\"close\"], interpolated_close)\n",
    "        performance.loc[len(performance.index)] = [f\"{method}_{order}\", mse]\n",
    "        \n",
    "performance.sort_values(by=\"MSE\", ascending=True).head(25)"
   ]
  },
  {
   "cell_type": "markdown",
   "metadata": {},
   "source": [
    "How we can see the best model for interpolation is linear so we'll use it to replace NaN values"
   ]
  },
  {
   "cell_type": "code",
   "execution_count": 23,
   "metadata": {},
   "outputs": [],
   "source": [
    "spoiled_df[\"close\"] = spoiled_df[\"close\"].interpolate(method=\"linear\")"
   ]
  },
  {
   "cell_type": "markdown",
   "metadata": {},
   "source": [
    "Finally, let's define function for replacing based on neighboring values:\n"
   ]
  },
  {
   "cell_type": "code",
   "execution_count": 24,
   "metadata": {},
   "outputs": [],
   "source": [
    "def replace_avg_price(seriess):\n",
    "    prev_value = None\n",
    "    series = seriess.copy()\n",
    "    i = 0\n",
    "    j = 0\n",
    "    while i != len(series):\n",
    "        # print(\"in outter if, i=\", i, \"prev_value=\", prev_value)\n",
    "        if str(series[i]) == \"nan\":\n",
    "            # print(\"in nan\")\n",
    "            if i == 0:\n",
    "                while str(series[j+1]) == \"nan\":\n",
    "                    j += 1\n",
    "                    # print(\"j++, j=\", j, sep=\"\")\n",
    "                series[i] = series[j+1]\n",
    "                prev_value = series[i]\n",
    "                j = i\n",
    "                # print(f\"set to {series[i]}\")\n",
    "            \n",
    "            elif i == len(series)-1:\n",
    "                series[i] = prev_value\n",
    "                # print(f\"set to {series[i]}\")\n",
    "            else:\n",
    "                # print(\"Searching next\")\n",
    "                while str(series[j+1]) == \"nan\":\n",
    "                    j += 1\n",
    "                    # print(\"j++, j=\", j, sep=\"\")\n",
    "                series[i] = (prev_value + series[j+1]) / 2\n",
    "                # print(f\"(prev_value + series[{j+1}]) / 2 = ({prev_value} + {series[j+1]} / 2 = {series[i]}\")\n",
    "                prev_value = series[i]\n",
    "                j = i\n",
    "                # print(f\"set to {series[i]}\")\n",
    "        else:\n",
    "            prev_value = series[i]\n",
    "        i += 1\n",
    "        j += 1\n",
    "    return series"
   ]
  },
  {
   "cell_type": "code",
   "execution_count": 25,
   "metadata": {
    "scrolled": true,
    "tags": []
   },
   "outputs": [
    {
     "data": {
      "text/html": [
       "<div>\n",
       "<style scoped>\n",
       "    .dataframe tbody tr th:only-of-type {\n",
       "        vertical-align: middle;\n",
       "    }\n",
       "\n",
       "    .dataframe tbody tr th {\n",
       "        vertical-align: top;\n",
       "    }\n",
       "\n",
       "    .dataframe thead th {\n",
       "        text-align: right;\n",
       "    }\n",
       "</style>\n",
       "<table border=\"1\" class=\"dataframe\">\n",
       "  <thead>\n",
       "    <tr style=\"text-align: right;\">\n",
       "      <th></th>\n",
       "      <th>ts</th>\n",
       "      <th>open</th>\n",
       "      <th>high</th>\n",
       "      <th>low</th>\n",
       "      <th>close</th>\n",
       "      <th>volume</th>\n",
       "      <th>rec_count</th>\n",
       "      <th>avg_price</th>\n",
       "    </tr>\n",
       "  </thead>\n",
       "  <tbody>\n",
       "    <tr>\n",
       "      <th>0</th>\n",
       "      <td>2022-11-11 14:38:00</td>\n",
       "      <td>3.096000000</td>\n",
       "      <td>3.6062694165</td>\n",
       "      <td>3.076</td>\n",
       "      <td>3.0770</td>\n",
       "      <td>2733.3</td>\n",
       "      <td>34.0</td>\n",
       "      <td>3.0696442622</td>\n",
       "    </tr>\n",
       "    <tr>\n",
       "      <th>1</th>\n",
       "      <td>2022-11-11 14:39:00</td>\n",
       "      <td>3.602621104</td>\n",
       "      <td>3.0770000000</td>\n",
       "      <td>3.064</td>\n",
       "      <td>3.0650</td>\n",
       "      <td>5353.1</td>\n",
       "      <td>40.0</td>\n",
       "      <td>3.0696442622</td>\n",
       "    </tr>\n",
       "    <tr>\n",
       "      <th>2</th>\n",
       "      <td>2022-11-11 14:40:00</td>\n",
       "      <td>3.068000000</td>\n",
       "      <td>3.0750000000</td>\n",
       "      <td>3.062</td>\n",
       "      <td>3.0750</td>\n",
       "      <td>5582.2</td>\n",
       "      <td>34.0</td>\n",
       "      <td>3.0710290746</td>\n",
       "    </tr>\n",
       "    <tr>\n",
       "      <th>3</th>\n",
       "      <td>2022-11-11 14:41:00</td>\n",
       "      <td>3.075000000</td>\n",
       "      <td>3.0910000000</td>\n",
       "      <td>3.069</td>\n",
       "      <td>3.0850</td>\n",
       "      <td>10358.0</td>\n",
       "      <td>43.0</td>\n",
       "      <td>3.0843931647</td>\n",
       "    </tr>\n",
       "    <tr>\n",
       "      <th>4</th>\n",
       "      <td>2022-11-11 14:42:00</td>\n",
       "      <td>3.085000000</td>\n",
       "      <td>3.0930000000</td>\n",
       "      <td>3.074</td>\n",
       "      <td>3.0740</td>\n",
       "      <td>9567.6</td>\n",
       "      <td>38.0</td>\n",
       "      <td>3.0880945796</td>\n",
       "    </tr>\n",
       "    <tr>\n",
       "      <th>5</th>\n",
       "      <td>2022-11-11 14:43:00</td>\n",
       "      <td>3.076000000</td>\n",
       "      <td>3.0850000000</td>\n",
       "      <td>3.073</td>\n",
       "      <td>3.0790</td>\n",
       "      <td>2212.5</td>\n",
       "      <td>27.0</td>\n",
       "      <td>3.0790112542</td>\n",
       "    </tr>\n",
       "    <tr>\n",
       "      <th>6</th>\n",
       "      <td>2022-11-11 14:44:00</td>\n",
       "      <td>3.082000000</td>\n",
       "      <td>3.0940000000</td>\n",
       "      <td>3.082</td>\n",
       "      <td>3.0920</td>\n",
       "      <td>8106.4</td>\n",
       "      <td>28.0</td>\n",
       "      <td>3.0891052872</td>\n",
       "    </tr>\n",
       "    <tr>\n",
       "      <th>7</th>\n",
       "      <td>2022-11-11 14:45:00</td>\n",
       "      <td>3.095000000</td>\n",
       "      <td>3.1380000000</td>\n",
       "      <td>3.095</td>\n",
       "      <td>3.1225</td>\n",
       "      <td>35545.1</td>\n",
       "      <td>67.0</td>\n",
       "      <td>3.1187005607</td>\n",
       "    </tr>\n",
       "    <tr>\n",
       "      <th>8</th>\n",
       "      <td>2022-11-11 14:46:00</td>\n",
       "      <td>3.137000000</td>\n",
       "      <td>3.6062694165</td>\n",
       "      <td>3.120</td>\n",
       "      <td>3.1530</td>\n",
       "      <td>17379.1</td>\n",
       "      <td>57.0</td>\n",
       "      <td>3.1384827925</td>\n",
       "    </tr>\n",
       "    <tr>\n",
       "      <th>9</th>\n",
       "      <td>2022-11-11 14:47:00</td>\n",
       "      <td>3.158000000</td>\n",
       "      <td>3.2360000000</td>\n",
       "      <td>3.158</td>\n",
       "      <td>3.1715</td>\n",
       "      <td>66603.7</td>\n",
       "      <td>75.0</td>\n",
       "      <td>3.1949342889</td>\n",
       "    </tr>\n",
       "  </tbody>\n",
       "</table>\n",
       "</div>"
      ],
      "text/plain": [
       "                    ts         open          high    low   close   volume  \\\n",
       "0  2022-11-11 14:38:00  3.096000000  3.6062694165  3.076  3.0770   2733.3   \n",
       "1  2022-11-11 14:39:00  3.602621104  3.0770000000  3.064  3.0650   5353.1   \n",
       "2  2022-11-11 14:40:00  3.068000000  3.0750000000  3.062  3.0750   5582.2   \n",
       "3  2022-11-11 14:41:00  3.075000000  3.0910000000  3.069  3.0850  10358.0   \n",
       "4  2022-11-11 14:42:00  3.085000000  3.0930000000  3.074  3.0740   9567.6   \n",
       "5  2022-11-11 14:43:00  3.076000000  3.0850000000  3.073  3.0790   2212.5   \n",
       "6  2022-11-11 14:44:00  3.082000000  3.0940000000  3.082  3.0920   8106.4   \n",
       "7  2022-11-11 14:45:00  3.095000000  3.1380000000  3.095  3.1225  35545.1   \n",
       "8  2022-11-11 14:46:00  3.137000000  3.6062694165  3.120  3.1530  17379.1   \n",
       "9  2022-11-11 14:47:00  3.158000000  3.2360000000  3.158  3.1715  66603.7   \n",
       "\n",
       "   rec_count     avg_price  \n",
       "0       34.0  3.0696442622  \n",
       "1       40.0  3.0696442622  \n",
       "2       34.0  3.0710290746  \n",
       "3       43.0  3.0843931647  \n",
       "4       38.0  3.0880945796  \n",
       "5       27.0  3.0790112542  \n",
       "6       28.0  3.0891052872  \n",
       "7       67.0  3.1187005607  \n",
       "8       57.0  3.1384827925  \n",
       "9       75.0  3.1949342889  "
      ]
     },
     "execution_count": 25,
     "metadata": {},
     "output_type": "execute_result"
    }
   ],
   "source": [
    "spoiled_df[\"avg_price\"] =  replace_avg_price(spoiled_df[\"avg_price\"])\n",
    "spoiled_df.head(10)"
   ]
  },
  {
   "cell_type": "code",
   "execution_count": 26,
   "metadata": {},
   "outputs": [
    {
     "data": {
      "text/plain": [
       "ts              0\n",
       "open            0\n",
       "high            0\n",
       "low          7219\n",
       "close           0\n",
       "volume          0\n",
       "rec_count       0\n",
       "avg_price       0\n",
       "dtype: int64"
      ]
     },
     "execution_count": 26,
     "metadata": {},
     "output_type": "execute_result"
    }
   ],
   "source": [
    "spoiled_df.isna().sum()"
   ]
  },
  {
   "cell_type": "markdown",
   "metadata": {},
   "source": [
    "<b>Good!</b> Now, we have a dataset with no missing values.\n"
   ]
  },
  {
   "cell_type": "markdown",
   "metadata": {},
   "source": [
    "<h3 id=\"correct_data_format\">Correct data format</h3>\n",
    "<b>We are almost there!</b>\n",
    "<p>The last step in data cleaning is checking and making sure that all data is in the correct format (int, float, text or other).</p>\n",
    "\n",
    "In Pandas, we use:\n",
    "\n",
    "<p><b>.dtype()</b> to check the data type</p>\n",
    "<p><b>.astype()</b> to change the data type</p>\n"
   ]
  },
  {
   "cell_type": "markdown",
   "metadata": {},
   "source": [
    "<h4>Let's list the data types for each column</h4>\n"
   ]
  },
  {
   "cell_type": "code",
   "execution_count": 27,
   "metadata": {},
   "outputs": [
    {
     "data": {
      "text/plain": [
       "ts            object\n",
       "open         float64\n",
       "high         float64\n",
       "low          float64\n",
       "close        float64\n",
       "volume       float64\n",
       "rec_count    float64\n",
       "avg_price    float64\n",
       "dtype: object"
      ]
     },
     "execution_count": 27,
     "metadata": {},
     "output_type": "execute_result"
    }
   ],
   "source": [
    "spoiled_df.dtypes"
   ]
  },
  {
   "cell_type": "markdown",
   "metadata": {},
   "source": [
    "<p>As we can see above, some columns are not of the correct data type. Numerical variables should have type 'float' or 'int', and variables with timestamps have type 'datetime'. For example, 'open', 'high', 'low', 'close', 'avg_price' variables are numerical values that describe the price, so we should expect them to be of the type 'float'. 'rec_count' should have type 'int' because it describes quantity. 'ts' column should have type 'datetime'; however, that column is shown as type 'object'. We have to convert data types into a proper format for each column using the \"astype()\" method.</p> \n"
   ]
  },
  {
   "cell_type": "markdown",
   "metadata": {},
   "source": [
    "<h4>Convert data types to proper format</h4>\n"
   ]
  },
  {
   "cell_type": "code",
   "execution_count": 28,
   "metadata": {},
   "outputs": [],
   "source": [
    "spoiled_df[\"ts\"] = spoiled_df[\"ts\"].astype(\"datetime64[ns]\")\n",
    "spoiled_df[\"rec_count\"] = spoiled_df[\"rec_count\"].astype(\"int\")"
   ]
  },
  {
   "cell_type": "markdown",
   "metadata": {},
   "source": [
    "<h4>Let us list the columns after the conversion</h4>\n"
   ]
  },
  {
   "cell_type": "code",
   "execution_count": 29,
   "metadata": {},
   "outputs": [
    {
     "data": {
      "text/plain": [
       "ts           datetime64[ns]\n",
       "open                float64\n",
       "high                float64\n",
       "low                 float64\n",
       "close               float64\n",
       "volume              float64\n",
       "rec_count             int32\n",
       "avg_price           float64\n",
       "dtype: object"
      ]
     },
     "execution_count": 29,
     "metadata": {},
     "output_type": "execute_result"
    }
   ],
   "source": [
    "spoiled_df.dtypes"
   ]
  },
  {
   "cell_type": "markdown",
   "metadata": {},
   "source": [
    "<b>Wonderful!</b>\n",
    "\n",
    "Now we have finally obtained the cleaned dataset with no missing values with all data in its proper format.\n"
   ]
  },
  {
   "cell_type": "markdown",
   "metadata": {},
   "source": [
    "<h2 id=\"data_standardization\">Data Standardization</h2>\n",
    "<p>\n",
    "Data is usually collected from different agencies in different formats.\n",
    "(Data standardization is also a term for a particular type of data normalization where we subtract the mean and divide by the standard deviation.)\n",
    "</p>\n",
    "\n",
    "<b>What is standardization?</b>\n",
    "\n",
    "<p>Standardization is the process of transforming data into a common format, allowing the researcher to make the meaningful comparison.\n",
    "</p>\n",
    "\n",
    "<b>Example</b>\n",
    "\n",
    "<p>Transform BUSD TO USDT:</p>\n",
    "<p>In our dataset, \"open\", \"high\", \"low\", \"close\", \"volume\", \"avg_price\" are represented by BUSD (Binance USD) unit. However in most cases it is customary to use USDT.</p>\n",
    "<p>We will need to apply <b>data transformation</b> to transform BUSD into USDT.</p>\n"
   ]
  },
  {
   "cell_type": "markdown",
   "metadata": {},
   "source": [
    "<p>We can do many mathematical operations directly in Pandas.</p>\n"
   ]
  },
  {
   "cell_type": "code",
   "execution_count": 30,
   "metadata": {},
   "outputs": [
    {
     "data": {
      "text/html": [
       "<div>\n",
       "<style scoped>\n",
       "    .dataframe tbody tr th:only-of-type {\n",
       "        vertical-align: middle;\n",
       "    }\n",
       "\n",
       "    .dataframe tbody tr th {\n",
       "        vertical-align: top;\n",
       "    }\n",
       "\n",
       "    .dataframe thead th {\n",
       "        text-align: right;\n",
       "    }\n",
       "</style>\n",
       "<table border=\"1\" class=\"dataframe\">\n",
       "  <thead>\n",
       "    <tr style=\"text-align: right;\">\n",
       "      <th></th>\n",
       "      <th>ts</th>\n",
       "      <th>open</th>\n",
       "      <th>high</th>\n",
       "      <th>low</th>\n",
       "      <th>close</th>\n",
       "      <th>volume</th>\n",
       "      <th>rec_count</th>\n",
       "      <th>avg_price</th>\n",
       "    </tr>\n",
       "  </thead>\n",
       "  <tbody>\n",
       "    <tr>\n",
       "      <th>0</th>\n",
       "      <td>2022-11-11 14:38:00</td>\n",
       "      <td>3.096000000</td>\n",
       "      <td>3.6062694165</td>\n",
       "      <td>3.076</td>\n",
       "      <td>3.077</td>\n",
       "      <td>2733.3</td>\n",
       "      <td>34</td>\n",
       "      <td>3.0696442622</td>\n",
       "    </tr>\n",
       "    <tr>\n",
       "      <th>1</th>\n",
       "      <td>2022-11-11 14:39:00</td>\n",
       "      <td>3.602621104</td>\n",
       "      <td>3.0770000000</td>\n",
       "      <td>3.064</td>\n",
       "      <td>3.065</td>\n",
       "      <td>5353.1</td>\n",
       "      <td>40</td>\n",
       "      <td>3.0696442622</td>\n",
       "    </tr>\n",
       "    <tr>\n",
       "      <th>2</th>\n",
       "      <td>2022-11-11 14:40:00</td>\n",
       "      <td>3.068000000</td>\n",
       "      <td>3.0750000000</td>\n",
       "      <td>3.062</td>\n",
       "      <td>3.075</td>\n",
       "      <td>5582.2</td>\n",
       "      <td>34</td>\n",
       "      <td>3.0710290746</td>\n",
       "    </tr>\n",
       "    <tr>\n",
       "      <th>3</th>\n",
       "      <td>2022-11-11 14:41:00</td>\n",
       "      <td>3.075000000</td>\n",
       "      <td>3.0910000000</td>\n",
       "      <td>3.069</td>\n",
       "      <td>3.085</td>\n",
       "      <td>10358.0</td>\n",
       "      <td>43</td>\n",
       "      <td>3.0843931647</td>\n",
       "    </tr>\n",
       "    <tr>\n",
       "      <th>4</th>\n",
       "      <td>2022-11-11 14:42:00</td>\n",
       "      <td>3.085000000</td>\n",
       "      <td>3.0930000000</td>\n",
       "      <td>3.074</td>\n",
       "      <td>3.074</td>\n",
       "      <td>9567.6</td>\n",
       "      <td>38</td>\n",
       "      <td>3.0880945796</td>\n",
       "    </tr>\n",
       "  </tbody>\n",
       "</table>\n",
       "</div>"
      ],
      "text/plain": [
       "                   ts         open          high    low  close   volume  \\\n",
       "0 2022-11-11 14:38:00  3.096000000  3.6062694165  3.076  3.077   2733.3   \n",
       "1 2022-11-11 14:39:00  3.602621104  3.0770000000  3.064  3.065   5353.1   \n",
       "2 2022-11-11 14:40:00  3.068000000  3.0750000000  3.062  3.075   5582.2   \n",
       "3 2022-11-11 14:41:00  3.075000000  3.0910000000  3.069  3.085  10358.0   \n",
       "4 2022-11-11 14:42:00  3.085000000  3.0930000000  3.074  3.074   9567.6   \n",
       "\n",
       "   rec_count     avg_price  \n",
       "0         34  3.0696442622  \n",
       "1         40  3.0696442622  \n",
       "2         34  3.0710290746  \n",
       "3         43  3.0843931647  \n",
       "4         38  3.0880945796  "
      ]
     },
     "execution_count": 30,
     "metadata": {},
     "output_type": "execute_result"
    }
   ],
   "source": [
    "spoiled_df.head()"
   ]
  },
  {
   "cell_type": "markdown",
   "metadata": {},
   "source": [
    "Let's get the exchange rate and convert BUSD TO USDT"
   ]
  },
  {
   "cell_type": "code",
   "execution_count": 31,
   "metadata": {},
   "outputs": [
    {
     "ename": "ConnectionError",
     "evalue": "HTTPSConnectionPool(host='api.binance.com', port=443): Max retries exceeded with url: /sapi/v1/convert/exchangeInfo?fromAsset=BUSD&toAsset=USDT (Caused by NewConnectionError('<urllib3.connection.HTTPSConnection object at 0x00000156CA98F220>: Failed to establish a new connection: [Errno 11001] getaddrinfo failed'))",
     "output_type": "error",
     "traceback": [
      "\u001b[1;31m---------------------------------------------------------------------------\u001b[0m",
      "\u001b[1;31mgaierror\u001b[0m                                  Traceback (most recent call last)",
      "File \u001b[1;32mC:\\ProgramData\\Anaconda3\\lib\\site-packages\\urllib3\\connection.py:174\u001b[0m, in \u001b[0;36mHTTPConnection._new_conn\u001b[1;34m(self)\u001b[0m\n\u001b[0;32m    173\u001b[0m \u001b[38;5;28;01mtry\u001b[39;00m:\n\u001b[1;32m--> 174\u001b[0m     conn \u001b[38;5;241m=\u001b[39m connection\u001b[38;5;241m.\u001b[39mcreate_connection(\n\u001b[0;32m    175\u001b[0m         (\u001b[38;5;28mself\u001b[39m\u001b[38;5;241m.\u001b[39m_dns_host, \u001b[38;5;28mself\u001b[39m\u001b[38;5;241m.\u001b[39mport), \u001b[38;5;28mself\u001b[39m\u001b[38;5;241m.\u001b[39mtimeout, \u001b[38;5;241m*\u001b[39m\u001b[38;5;241m*\u001b[39mextra_kw\n\u001b[0;32m    176\u001b[0m     )\n\u001b[0;32m    178\u001b[0m \u001b[38;5;28;01mexcept\u001b[39;00m SocketTimeout:\n",
      "File \u001b[1;32mC:\\ProgramData\\Anaconda3\\lib\\site-packages\\urllib3\\util\\connection.py:72\u001b[0m, in \u001b[0;36mcreate_connection\u001b[1;34m(address, timeout, source_address, socket_options)\u001b[0m\n\u001b[0;32m     68\u001b[0m     \u001b[38;5;28;01mreturn\u001b[39;00m six\u001b[38;5;241m.\u001b[39mraise_from(\n\u001b[0;32m     69\u001b[0m         LocationParseError(\u001b[38;5;124mu\u001b[39m\u001b[38;5;124m\"\u001b[39m\u001b[38;5;124m'\u001b[39m\u001b[38;5;132;01m%s\u001b[39;00m\u001b[38;5;124m'\u001b[39m\u001b[38;5;124m, label empty or too long\u001b[39m\u001b[38;5;124m\"\u001b[39m \u001b[38;5;241m%\u001b[39m host), \u001b[38;5;28;01mNone\u001b[39;00m\n\u001b[0;32m     70\u001b[0m     )\n\u001b[1;32m---> 72\u001b[0m \u001b[38;5;28;01mfor\u001b[39;00m res \u001b[38;5;129;01min\u001b[39;00m \u001b[43msocket\u001b[49m\u001b[38;5;241;43m.\u001b[39;49m\u001b[43mgetaddrinfo\u001b[49m\u001b[43m(\u001b[49m\u001b[43mhost\u001b[49m\u001b[43m,\u001b[49m\u001b[43m \u001b[49m\u001b[43mport\u001b[49m\u001b[43m,\u001b[49m\u001b[43m \u001b[49m\u001b[43mfamily\u001b[49m\u001b[43m,\u001b[49m\u001b[43m \u001b[49m\u001b[43msocket\u001b[49m\u001b[38;5;241;43m.\u001b[39;49m\u001b[43mSOCK_STREAM\u001b[49m\u001b[43m)\u001b[49m:\n\u001b[0;32m     73\u001b[0m     af, socktype, proto, canonname, sa \u001b[38;5;241m=\u001b[39m res\n",
      "File \u001b[1;32mC:\\ProgramData\\Anaconda3\\lib\\socket.py:954\u001b[0m, in \u001b[0;36mgetaddrinfo\u001b[1;34m(host, port, family, type, proto, flags)\u001b[0m\n\u001b[0;32m    953\u001b[0m addrlist \u001b[38;5;241m=\u001b[39m []\n\u001b[1;32m--> 954\u001b[0m \u001b[38;5;28;01mfor\u001b[39;00m res \u001b[38;5;129;01min\u001b[39;00m \u001b[43m_socket\u001b[49m\u001b[38;5;241;43m.\u001b[39;49m\u001b[43mgetaddrinfo\u001b[49m\u001b[43m(\u001b[49m\u001b[43mhost\u001b[49m\u001b[43m,\u001b[49m\u001b[43m \u001b[49m\u001b[43mport\u001b[49m\u001b[43m,\u001b[49m\u001b[43m \u001b[49m\u001b[43mfamily\u001b[49m\u001b[43m,\u001b[49m\u001b[43m \u001b[49m\u001b[38;5;28;43mtype\u001b[39;49m\u001b[43m,\u001b[49m\u001b[43m \u001b[49m\u001b[43mproto\u001b[49m\u001b[43m,\u001b[49m\u001b[43m \u001b[49m\u001b[43mflags\u001b[49m\u001b[43m)\u001b[49m:\n\u001b[0;32m    955\u001b[0m     af, socktype, proto, canonname, sa \u001b[38;5;241m=\u001b[39m res\n",
      "\u001b[1;31mgaierror\u001b[0m: [Errno 11001] getaddrinfo failed",
      "\nDuring handling of the above exception, another exception occurred:\n",
      "\u001b[1;31mNewConnectionError\u001b[0m                        Traceback (most recent call last)",
      "File \u001b[1;32mC:\\ProgramData\\Anaconda3\\lib\\site-packages\\urllib3\\connectionpool.py:703\u001b[0m, in \u001b[0;36mHTTPConnectionPool.urlopen\u001b[1;34m(self, method, url, body, headers, retries, redirect, assert_same_host, timeout, pool_timeout, release_conn, chunked, body_pos, **response_kw)\u001b[0m\n\u001b[0;32m    702\u001b[0m \u001b[38;5;66;03m# Make the request on the httplib connection object.\u001b[39;00m\n\u001b[1;32m--> 703\u001b[0m httplib_response \u001b[38;5;241m=\u001b[39m \u001b[38;5;28;43mself\u001b[39;49m\u001b[38;5;241;43m.\u001b[39;49m\u001b[43m_make_request\u001b[49m\u001b[43m(\u001b[49m\n\u001b[0;32m    704\u001b[0m \u001b[43m    \u001b[49m\u001b[43mconn\u001b[49m\u001b[43m,\u001b[49m\n\u001b[0;32m    705\u001b[0m \u001b[43m    \u001b[49m\u001b[43mmethod\u001b[49m\u001b[43m,\u001b[49m\n\u001b[0;32m    706\u001b[0m \u001b[43m    \u001b[49m\u001b[43murl\u001b[49m\u001b[43m,\u001b[49m\n\u001b[0;32m    707\u001b[0m \u001b[43m    \u001b[49m\u001b[43mtimeout\u001b[49m\u001b[38;5;241;43m=\u001b[39;49m\u001b[43mtimeout_obj\u001b[49m\u001b[43m,\u001b[49m\n\u001b[0;32m    708\u001b[0m \u001b[43m    \u001b[49m\u001b[43mbody\u001b[49m\u001b[38;5;241;43m=\u001b[39;49m\u001b[43mbody\u001b[49m\u001b[43m,\u001b[49m\n\u001b[0;32m    709\u001b[0m \u001b[43m    \u001b[49m\u001b[43mheaders\u001b[49m\u001b[38;5;241;43m=\u001b[39;49m\u001b[43mheaders\u001b[49m\u001b[43m,\u001b[49m\n\u001b[0;32m    710\u001b[0m \u001b[43m    \u001b[49m\u001b[43mchunked\u001b[49m\u001b[38;5;241;43m=\u001b[39;49m\u001b[43mchunked\u001b[49m\u001b[43m,\u001b[49m\n\u001b[0;32m    711\u001b[0m \u001b[43m\u001b[49m\u001b[43m)\u001b[49m\n\u001b[0;32m    713\u001b[0m \u001b[38;5;66;03m# If we're going to release the connection in ``finally:``, then\u001b[39;00m\n\u001b[0;32m    714\u001b[0m \u001b[38;5;66;03m# the response doesn't need to know about the connection. Otherwise\u001b[39;00m\n\u001b[0;32m    715\u001b[0m \u001b[38;5;66;03m# it will also try to release it and we'll have a double-release\u001b[39;00m\n\u001b[0;32m    716\u001b[0m \u001b[38;5;66;03m# mess.\u001b[39;00m\n",
      "File \u001b[1;32mC:\\ProgramData\\Anaconda3\\lib\\site-packages\\urllib3\\connectionpool.py:386\u001b[0m, in \u001b[0;36mHTTPConnectionPool._make_request\u001b[1;34m(self, conn, method, url, timeout, chunked, **httplib_request_kw)\u001b[0m\n\u001b[0;32m    385\u001b[0m \u001b[38;5;28;01mtry\u001b[39;00m:\n\u001b[1;32m--> 386\u001b[0m     \u001b[38;5;28;43mself\u001b[39;49m\u001b[38;5;241;43m.\u001b[39;49m\u001b[43m_validate_conn\u001b[49m\u001b[43m(\u001b[49m\u001b[43mconn\u001b[49m\u001b[43m)\u001b[49m\n\u001b[0;32m    387\u001b[0m \u001b[38;5;28;01mexcept\u001b[39;00m (SocketTimeout, BaseSSLError) \u001b[38;5;28;01mas\u001b[39;00m e:\n\u001b[0;32m    388\u001b[0m     \u001b[38;5;66;03m# Py2 raises this as a BaseSSLError, Py3 raises it as socket timeout.\u001b[39;00m\n",
      "File \u001b[1;32mC:\\ProgramData\\Anaconda3\\lib\\site-packages\\urllib3\\connectionpool.py:1042\u001b[0m, in \u001b[0;36mHTTPSConnectionPool._validate_conn\u001b[1;34m(self, conn)\u001b[0m\n\u001b[0;32m   1041\u001b[0m \u001b[38;5;28;01mif\u001b[39;00m \u001b[38;5;129;01mnot\u001b[39;00m \u001b[38;5;28mgetattr\u001b[39m(conn, \u001b[38;5;124m\"\u001b[39m\u001b[38;5;124msock\u001b[39m\u001b[38;5;124m\"\u001b[39m, \u001b[38;5;28;01mNone\u001b[39;00m):  \u001b[38;5;66;03m# AppEngine might not have  `.sock`\u001b[39;00m\n\u001b[1;32m-> 1042\u001b[0m     \u001b[43mconn\u001b[49m\u001b[38;5;241;43m.\u001b[39;49m\u001b[43mconnect\u001b[49m\u001b[43m(\u001b[49m\u001b[43m)\u001b[49m\n\u001b[0;32m   1044\u001b[0m \u001b[38;5;28;01mif\u001b[39;00m \u001b[38;5;129;01mnot\u001b[39;00m conn\u001b[38;5;241m.\u001b[39mis_verified:\n",
      "File \u001b[1;32mC:\\ProgramData\\Anaconda3\\lib\\site-packages\\urllib3\\connection.py:358\u001b[0m, in \u001b[0;36mHTTPSConnection.connect\u001b[1;34m(self)\u001b[0m\n\u001b[0;32m    356\u001b[0m \u001b[38;5;28;01mdef\u001b[39;00m \u001b[38;5;21mconnect\u001b[39m(\u001b[38;5;28mself\u001b[39m):\n\u001b[0;32m    357\u001b[0m     \u001b[38;5;66;03m# Add certificate verification\u001b[39;00m\n\u001b[1;32m--> 358\u001b[0m     \u001b[38;5;28mself\u001b[39m\u001b[38;5;241m.\u001b[39msock \u001b[38;5;241m=\u001b[39m conn \u001b[38;5;241m=\u001b[39m \u001b[38;5;28;43mself\u001b[39;49m\u001b[38;5;241;43m.\u001b[39;49m\u001b[43m_new_conn\u001b[49m\u001b[43m(\u001b[49m\u001b[43m)\u001b[49m\n\u001b[0;32m    359\u001b[0m     hostname \u001b[38;5;241m=\u001b[39m \u001b[38;5;28mself\u001b[39m\u001b[38;5;241m.\u001b[39mhost\n",
      "File \u001b[1;32mC:\\ProgramData\\Anaconda3\\lib\\site-packages\\urllib3\\connection.py:186\u001b[0m, in \u001b[0;36mHTTPConnection._new_conn\u001b[1;34m(self)\u001b[0m\n\u001b[0;32m    185\u001b[0m \u001b[38;5;28;01mexcept\u001b[39;00m SocketError \u001b[38;5;28;01mas\u001b[39;00m e:\n\u001b[1;32m--> 186\u001b[0m     \u001b[38;5;28;01mraise\u001b[39;00m NewConnectionError(\n\u001b[0;32m    187\u001b[0m         \u001b[38;5;28mself\u001b[39m, \u001b[38;5;124m\"\u001b[39m\u001b[38;5;124mFailed to establish a new connection: \u001b[39m\u001b[38;5;132;01m%s\u001b[39;00m\u001b[38;5;124m\"\u001b[39m \u001b[38;5;241m%\u001b[39m e\n\u001b[0;32m    188\u001b[0m     )\n\u001b[0;32m    190\u001b[0m \u001b[38;5;28;01mreturn\u001b[39;00m conn\n",
      "\u001b[1;31mNewConnectionError\u001b[0m: <urllib3.connection.HTTPSConnection object at 0x00000156CA98F220>: Failed to establish a new connection: [Errno 11001] getaddrinfo failed",
      "\nDuring handling of the above exception, another exception occurred:\n",
      "\u001b[1;31mMaxRetryError\u001b[0m                             Traceback (most recent call last)",
      "File \u001b[1;32mC:\\ProgramData\\Anaconda3\\lib\\site-packages\\requests\\adapters.py:489\u001b[0m, in \u001b[0;36mHTTPAdapter.send\u001b[1;34m(self, request, stream, timeout, verify, cert, proxies)\u001b[0m\n\u001b[0;32m    488\u001b[0m \u001b[38;5;28;01mif\u001b[39;00m \u001b[38;5;129;01mnot\u001b[39;00m chunked:\n\u001b[1;32m--> 489\u001b[0m     resp \u001b[38;5;241m=\u001b[39m \u001b[43mconn\u001b[49m\u001b[38;5;241;43m.\u001b[39;49m\u001b[43murlopen\u001b[49m\u001b[43m(\u001b[49m\n\u001b[0;32m    490\u001b[0m \u001b[43m        \u001b[49m\u001b[43mmethod\u001b[49m\u001b[38;5;241;43m=\u001b[39;49m\u001b[43mrequest\u001b[49m\u001b[38;5;241;43m.\u001b[39;49m\u001b[43mmethod\u001b[49m\u001b[43m,\u001b[49m\n\u001b[0;32m    491\u001b[0m \u001b[43m        \u001b[49m\u001b[43murl\u001b[49m\u001b[38;5;241;43m=\u001b[39;49m\u001b[43murl\u001b[49m\u001b[43m,\u001b[49m\n\u001b[0;32m    492\u001b[0m \u001b[43m        \u001b[49m\u001b[43mbody\u001b[49m\u001b[38;5;241;43m=\u001b[39;49m\u001b[43mrequest\u001b[49m\u001b[38;5;241;43m.\u001b[39;49m\u001b[43mbody\u001b[49m\u001b[43m,\u001b[49m\n\u001b[0;32m    493\u001b[0m \u001b[43m        \u001b[49m\u001b[43mheaders\u001b[49m\u001b[38;5;241;43m=\u001b[39;49m\u001b[43mrequest\u001b[49m\u001b[38;5;241;43m.\u001b[39;49m\u001b[43mheaders\u001b[49m\u001b[43m,\u001b[49m\n\u001b[0;32m    494\u001b[0m \u001b[43m        \u001b[49m\u001b[43mredirect\u001b[49m\u001b[38;5;241;43m=\u001b[39;49m\u001b[38;5;28;43;01mFalse\u001b[39;49;00m\u001b[43m,\u001b[49m\n\u001b[0;32m    495\u001b[0m \u001b[43m        \u001b[49m\u001b[43massert_same_host\u001b[49m\u001b[38;5;241;43m=\u001b[39;49m\u001b[38;5;28;43;01mFalse\u001b[39;49;00m\u001b[43m,\u001b[49m\n\u001b[0;32m    496\u001b[0m \u001b[43m        \u001b[49m\u001b[43mpreload_content\u001b[49m\u001b[38;5;241;43m=\u001b[39;49m\u001b[38;5;28;43;01mFalse\u001b[39;49;00m\u001b[43m,\u001b[49m\n\u001b[0;32m    497\u001b[0m \u001b[43m        \u001b[49m\u001b[43mdecode_content\u001b[49m\u001b[38;5;241;43m=\u001b[39;49m\u001b[38;5;28;43;01mFalse\u001b[39;49;00m\u001b[43m,\u001b[49m\n\u001b[0;32m    498\u001b[0m \u001b[43m        \u001b[49m\u001b[43mretries\u001b[49m\u001b[38;5;241;43m=\u001b[39;49m\u001b[38;5;28;43mself\u001b[39;49m\u001b[38;5;241;43m.\u001b[39;49m\u001b[43mmax_retries\u001b[49m\u001b[43m,\u001b[49m\n\u001b[0;32m    499\u001b[0m \u001b[43m        \u001b[49m\u001b[43mtimeout\u001b[49m\u001b[38;5;241;43m=\u001b[39;49m\u001b[43mtimeout\u001b[49m\u001b[43m,\u001b[49m\n\u001b[0;32m    500\u001b[0m \u001b[43m    \u001b[49m\u001b[43m)\u001b[49m\n\u001b[0;32m    502\u001b[0m \u001b[38;5;66;03m# Send the request.\u001b[39;00m\n\u001b[0;32m    503\u001b[0m \u001b[38;5;28;01melse\u001b[39;00m:\n",
      "File \u001b[1;32mC:\\ProgramData\\Anaconda3\\lib\\site-packages\\urllib3\\connectionpool.py:787\u001b[0m, in \u001b[0;36mHTTPConnectionPool.urlopen\u001b[1;34m(self, method, url, body, headers, retries, redirect, assert_same_host, timeout, pool_timeout, release_conn, chunked, body_pos, **response_kw)\u001b[0m\n\u001b[0;32m    785\u001b[0m     e \u001b[38;5;241m=\u001b[39m ProtocolError(\u001b[38;5;124m\"\u001b[39m\u001b[38;5;124mConnection aborted.\u001b[39m\u001b[38;5;124m\"\u001b[39m, e)\n\u001b[1;32m--> 787\u001b[0m retries \u001b[38;5;241m=\u001b[39m \u001b[43mretries\u001b[49m\u001b[38;5;241;43m.\u001b[39;49m\u001b[43mincrement\u001b[49m\u001b[43m(\u001b[49m\n\u001b[0;32m    788\u001b[0m \u001b[43m    \u001b[49m\u001b[43mmethod\u001b[49m\u001b[43m,\u001b[49m\u001b[43m \u001b[49m\u001b[43murl\u001b[49m\u001b[43m,\u001b[49m\u001b[43m \u001b[49m\u001b[43merror\u001b[49m\u001b[38;5;241;43m=\u001b[39;49m\u001b[43me\u001b[49m\u001b[43m,\u001b[49m\u001b[43m \u001b[49m\u001b[43m_pool\u001b[49m\u001b[38;5;241;43m=\u001b[39;49m\u001b[38;5;28;43mself\u001b[39;49m\u001b[43m,\u001b[49m\u001b[43m \u001b[49m\u001b[43m_stacktrace\u001b[49m\u001b[38;5;241;43m=\u001b[39;49m\u001b[43msys\u001b[49m\u001b[38;5;241;43m.\u001b[39;49m\u001b[43mexc_info\u001b[49m\u001b[43m(\u001b[49m\u001b[43m)\u001b[49m\u001b[43m[\u001b[49m\u001b[38;5;241;43m2\u001b[39;49m\u001b[43m]\u001b[49m\n\u001b[0;32m    789\u001b[0m \u001b[43m\u001b[49m\u001b[43m)\u001b[49m\n\u001b[0;32m    790\u001b[0m retries\u001b[38;5;241m.\u001b[39msleep()\n",
      "File \u001b[1;32mC:\\ProgramData\\Anaconda3\\lib\\site-packages\\urllib3\\util\\retry.py:592\u001b[0m, in \u001b[0;36mRetry.increment\u001b[1;34m(self, method, url, response, error, _pool, _stacktrace)\u001b[0m\n\u001b[0;32m    591\u001b[0m \u001b[38;5;28;01mif\u001b[39;00m new_retry\u001b[38;5;241m.\u001b[39mis_exhausted():\n\u001b[1;32m--> 592\u001b[0m     \u001b[38;5;28;01mraise\u001b[39;00m MaxRetryError(_pool, url, error \u001b[38;5;129;01mor\u001b[39;00m ResponseError(cause))\n\u001b[0;32m    594\u001b[0m log\u001b[38;5;241m.\u001b[39mdebug(\u001b[38;5;124m\"\u001b[39m\u001b[38;5;124mIncremented Retry for (url=\u001b[39m\u001b[38;5;124m'\u001b[39m\u001b[38;5;132;01m%s\u001b[39;00m\u001b[38;5;124m'\u001b[39m\u001b[38;5;124m): \u001b[39m\u001b[38;5;132;01m%r\u001b[39;00m\u001b[38;5;124m\"\u001b[39m, url, new_retry)\n",
      "\u001b[1;31mMaxRetryError\u001b[0m: HTTPSConnectionPool(host='api.binance.com', port=443): Max retries exceeded with url: /sapi/v1/convert/exchangeInfo?fromAsset=BUSD&toAsset=USDT (Caused by NewConnectionError('<urllib3.connection.HTTPSConnection object at 0x00000156CA98F220>: Failed to establish a new connection: [Errno 11001] getaddrinfo failed'))",
      "\nDuring handling of the above exception, another exception occurred:\n",
      "\u001b[1;31mConnectionError\u001b[0m                           Traceback (most recent call last)",
      "Cell \u001b[1;32mIn[31], line 3\u001b[0m\n\u001b[0;32m      1\u001b[0m \u001b[38;5;28;01mimport\u001b[39;00m \u001b[38;5;21;01mrequests\u001b[39;00m\n\u001b[0;32m      2\u001b[0m \u001b[38;5;66;03m# Convert mpg to USDT by mathematical operation\u001b[39;00m\n\u001b[1;32m----> 3\u001b[0m res \u001b[38;5;241m=\u001b[39m \u001b[43mrequests\u001b[49m\u001b[38;5;241;43m.\u001b[39;49m\u001b[43mget\u001b[49m\u001b[43m(\u001b[49m\u001b[38;5;124;43m\"\u001b[39;49m\u001b[38;5;124;43mhttps://api.binance.com/sapi/v1/convert/exchangeInfo?fromAsset=BUSD&toAsset=USDT\u001b[39;49m\u001b[38;5;124;43m\"\u001b[39;49m\u001b[43m)\u001b[49m\n\u001b[0;32m      4\u001b[0m \u001b[38;5;28;01mif\u001b[39;00m res\u001b[38;5;241m.\u001b[39mstatus_code \u001b[38;5;241m!=\u001b[39m \u001b[38;5;241m200\u001b[39m:\n\u001b[0;32m      5\u001b[0m     rate \u001b[38;5;241m=\u001b[39m \u001b[38;5;241m0.999707\u001b[39m\n",
      "File \u001b[1;32mC:\\ProgramData\\Anaconda3\\lib\\site-packages\\requests\\api.py:73\u001b[0m, in \u001b[0;36mget\u001b[1;34m(url, params, **kwargs)\u001b[0m\n\u001b[0;32m     62\u001b[0m \u001b[38;5;28;01mdef\u001b[39;00m \u001b[38;5;21mget\u001b[39m(url, params\u001b[38;5;241m=\u001b[39m\u001b[38;5;28;01mNone\u001b[39;00m, \u001b[38;5;241m*\u001b[39m\u001b[38;5;241m*\u001b[39mkwargs):\n\u001b[0;32m     63\u001b[0m     \u001b[38;5;124mr\u001b[39m\u001b[38;5;124;03m\"\"\"Sends a GET request.\u001b[39;00m\n\u001b[0;32m     64\u001b[0m \n\u001b[0;32m     65\u001b[0m \u001b[38;5;124;03m    :param url: URL for the new :class:`Request` object.\u001b[39;00m\n\u001b[1;32m   (...)\u001b[0m\n\u001b[0;32m     70\u001b[0m \u001b[38;5;124;03m    :rtype: requests.Response\u001b[39;00m\n\u001b[0;32m     71\u001b[0m \u001b[38;5;124;03m    \"\"\"\u001b[39;00m\n\u001b[1;32m---> 73\u001b[0m     \u001b[38;5;28;01mreturn\u001b[39;00m request(\u001b[38;5;124m\"\u001b[39m\u001b[38;5;124mget\u001b[39m\u001b[38;5;124m\"\u001b[39m, url, params\u001b[38;5;241m=\u001b[39mparams, \u001b[38;5;241m*\u001b[39m\u001b[38;5;241m*\u001b[39mkwargs)\n",
      "File \u001b[1;32mC:\\ProgramData\\Anaconda3\\lib\\site-packages\\requests\\api.py:59\u001b[0m, in \u001b[0;36mrequest\u001b[1;34m(method, url, **kwargs)\u001b[0m\n\u001b[0;32m     55\u001b[0m \u001b[38;5;66;03m# By using the 'with' statement we are sure the session is closed, thus we\u001b[39;00m\n\u001b[0;32m     56\u001b[0m \u001b[38;5;66;03m# avoid leaving sockets open which can trigger a ResourceWarning in some\u001b[39;00m\n\u001b[0;32m     57\u001b[0m \u001b[38;5;66;03m# cases, and look like a memory leak in others.\u001b[39;00m\n\u001b[0;32m     58\u001b[0m \u001b[38;5;28;01mwith\u001b[39;00m sessions\u001b[38;5;241m.\u001b[39mSession() \u001b[38;5;28;01mas\u001b[39;00m session:\n\u001b[1;32m---> 59\u001b[0m     \u001b[38;5;28;01mreturn\u001b[39;00m session\u001b[38;5;241m.\u001b[39mrequest(method\u001b[38;5;241m=\u001b[39mmethod, url\u001b[38;5;241m=\u001b[39murl, \u001b[38;5;241m*\u001b[39m\u001b[38;5;241m*\u001b[39mkwargs)\n",
      "File \u001b[1;32mC:\\ProgramData\\Anaconda3\\lib\\site-packages\\requests\\sessions.py:587\u001b[0m, in \u001b[0;36mSession.request\u001b[1;34m(self, method, url, params, data, headers, cookies, files, auth, timeout, allow_redirects, proxies, hooks, stream, verify, cert, json)\u001b[0m\n\u001b[0;32m    582\u001b[0m send_kwargs \u001b[38;5;241m=\u001b[39m {\n\u001b[0;32m    583\u001b[0m     \u001b[38;5;124m\"\u001b[39m\u001b[38;5;124mtimeout\u001b[39m\u001b[38;5;124m\"\u001b[39m: timeout,\n\u001b[0;32m    584\u001b[0m     \u001b[38;5;124m\"\u001b[39m\u001b[38;5;124mallow_redirects\u001b[39m\u001b[38;5;124m\"\u001b[39m: allow_redirects,\n\u001b[0;32m    585\u001b[0m }\n\u001b[0;32m    586\u001b[0m send_kwargs\u001b[38;5;241m.\u001b[39mupdate(settings)\n\u001b[1;32m--> 587\u001b[0m resp \u001b[38;5;241m=\u001b[39m \u001b[38;5;28mself\u001b[39m\u001b[38;5;241m.\u001b[39msend(prep, \u001b[38;5;241m*\u001b[39m\u001b[38;5;241m*\u001b[39msend_kwargs)\n\u001b[0;32m    589\u001b[0m \u001b[38;5;28;01mreturn\u001b[39;00m resp\n",
      "File \u001b[1;32mC:\\ProgramData\\Anaconda3\\lib\\site-packages\\requests\\sessions.py:701\u001b[0m, in \u001b[0;36mSession.send\u001b[1;34m(self, request, **kwargs)\u001b[0m\n\u001b[0;32m    698\u001b[0m start \u001b[38;5;241m=\u001b[39m preferred_clock()\n\u001b[0;32m    700\u001b[0m \u001b[38;5;66;03m# Send the request\u001b[39;00m\n\u001b[1;32m--> 701\u001b[0m r \u001b[38;5;241m=\u001b[39m adapter\u001b[38;5;241m.\u001b[39msend(request, \u001b[38;5;241m*\u001b[39m\u001b[38;5;241m*\u001b[39mkwargs)\n\u001b[0;32m    703\u001b[0m \u001b[38;5;66;03m# Total elapsed time of the request (approximately)\u001b[39;00m\n\u001b[0;32m    704\u001b[0m elapsed \u001b[38;5;241m=\u001b[39m preferred_clock() \u001b[38;5;241m-\u001b[39m start\n",
      "File \u001b[1;32mC:\\ProgramData\\Anaconda3\\lib\\site-packages\\requests\\adapters.py:565\u001b[0m, in \u001b[0;36mHTTPAdapter.send\u001b[1;34m(self, request, stream, timeout, verify, cert, proxies)\u001b[0m\n\u001b[0;32m    561\u001b[0m     \u001b[38;5;28;01mif\u001b[39;00m \u001b[38;5;28misinstance\u001b[39m(e\u001b[38;5;241m.\u001b[39mreason, _SSLError):\n\u001b[0;32m    562\u001b[0m         \u001b[38;5;66;03m# This branch is for urllib3 v1.22 and later.\u001b[39;00m\n\u001b[0;32m    563\u001b[0m         \u001b[38;5;28;01mraise\u001b[39;00m SSLError(e, request\u001b[38;5;241m=\u001b[39mrequest)\n\u001b[1;32m--> 565\u001b[0m     \u001b[38;5;28;01mraise\u001b[39;00m \u001b[38;5;167;01mConnectionError\u001b[39;00m(e, request\u001b[38;5;241m=\u001b[39mrequest)\n\u001b[0;32m    567\u001b[0m \u001b[38;5;28;01mexcept\u001b[39;00m ClosedPoolError \u001b[38;5;28;01mas\u001b[39;00m e:\n\u001b[0;32m    568\u001b[0m     \u001b[38;5;28;01mraise\u001b[39;00m \u001b[38;5;167;01mConnectionError\u001b[39;00m(e, request\u001b[38;5;241m=\u001b[39mrequest)\n",
      "\u001b[1;31mConnectionError\u001b[0m: HTTPSConnectionPool(host='api.binance.com', port=443): Max retries exceeded with url: /sapi/v1/convert/exchangeInfo?fromAsset=BUSD&toAsset=USDT (Caused by NewConnectionError('<urllib3.connection.HTTPSConnection object at 0x00000156CA98F220>: Failed to establish a new connection: [Errno 11001] getaddrinfo failed'))"
     ]
    }
   ],
   "source": [
    "import requests\n",
    "# Convert mpg to USDT by mathematical operation\n",
    "res = requests.get(\"https://api.binance.com/sapi/v1/convert/exchangeInfo?fromAsset=BUSD&toAsset=USDT\")\n",
    "if res.status_code != 200:\n",
    "    rate = 0.999707\n",
    "else:\n",
    "    res = res.json()\n",
    "    rate = float(res[0][\"toAssetMinAmount\"])\n",
    "    \n",
    "print(f\"The exchange rate is 1 BUSD = {rate} USDT\")\n",
    "\n",
    "cols_to_convert = [\"open\", \"high\", \"low\", \"close\", \"volume\", \"avg_price\"]\n",
    "for col in cols_to_convert:\n",
    "    spoiled_df[f\"{col}_USDT\"] = spoiled_df[col] * rate\n",
    "\n",
    "# check your transformed data \n",
    "spoiled_df[[\"open_USDT\", \"high_USDT\", \"low_USDT\", \"close_USDT\", \"volume_USDT\", \"avg_price_USDT\"]].head()"
   ]
  },
  {
   "cell_type": "markdown",
   "metadata": {},
   "source": [
    "<div class=\"alert alert-danger alertdanger\" style=\"margin-top: 20px\">\n",
    "<h1> Question  #2: </h1>\n",
    "\n",
    "<b>According to the example above, transform \"open\" (price in BUSD) to EURO (1 BUSD = 0.92 EURO) and name the column \"open_EURO\" (use URL mentioned above but change USDT TO EUR).</b>\n",
    "\n",
    "</div>\n"
   ]
  },
  {
   "cell_type": "code",
   "execution_count": 130,
   "metadata": {},
   "outputs": [],
   "source": [
    "# Write your code below and press Shift+Enter to execute \n"
   ]
  },
  {
   "cell_type": "markdown",
   "metadata": {},
   "source": [
    "<details><summary>Click here for the solution</summary>\n",
    "\n",
    "```python\n",
    "# transform BUSD to EURO by mathematical operation\n",
    "res = requests.get(\"https://api.binance.com/sapi/v1/convert/exchangeInfo?fromAsset=BUSD&toAsset=EUR\")\n",
    "res = res.json()\n",
    "rate = float(res[0][\"toAssetMinAmount\"])\n",
    "spoiled_df[\"open_EUR\"] = spoiled_df[\"open\"] * rate\n",
    "\n",
    "spoiled_df.head()\n",
    "```\n",
    "\n",
    "</details>\n"
   ]
  },
  {
   "cell_type": "markdown",
   "metadata": {},
   "source": [
    "<h2 id=\"data_normalization\">Data Normalization</h2>\n",
    "\n",
    "<b>Why normalization?</b>\n",
    "\n",
    "<p>Normalization is the process of transforming values of several variables into a similar range. Typical normalizations include scaling the variable so the variable average is 0, scaling the variable so the variance is 1, or scaling the variable so the variable values range from 0 to 1.\n",
    "</p>\n",
    "\n",
    "<b>Example</b>\n",
    "\n",
    "<p>To demonstrate normalization, let's say we want to scale the columns \"open\", \"close\" and \"avg_price\".</p>\n",
    "<p><b>Target:</b> would like to normalize those variables so their value ranges from 0 to 1</p>\n",
    "<p><b>Approach:</b> replace original value by (original value)/(maximum value), sklearn MinMaxScaler</p>\n"
   ]
  },
  {
   "cell_type": "code",
   "execution_count": 32,
   "metadata": {},
   "outputs": [],
   "source": [
    "from sklearn.preprocessing import MinMaxScaler\n",
    "# replace (original value) by (original value)/(maximum value)\n",
    "spoiled_df[\"open_norm\"] = spoiled_df[\"open\"] / spoiled_df[\"open\"].max()\n",
    "scaler = MinMaxScaler()\n",
    "spoiled_df[\"close_norm\"] = scaler.fit_transform(spoiled_df[\"close\"].to_numpy().reshape(-1, 1))"
   ]
  },
  {
   "cell_type": "code",
   "execution_count": 33,
   "metadata": {},
   "outputs": [
    {
     "data": {
      "text/html": [
       "<div>\n",
       "<style scoped>\n",
       "    .dataframe tbody tr th:only-of-type {\n",
       "        vertical-align: middle;\n",
       "    }\n",
       "\n",
       "    .dataframe tbody tr th {\n",
       "        vertical-align: top;\n",
       "    }\n",
       "\n",
       "    .dataframe thead th {\n",
       "        text-align: right;\n",
       "    }\n",
       "</style>\n",
       "<table border=\"1\" class=\"dataframe\">\n",
       "  <thead>\n",
       "    <tr style=\"text-align: right;\">\n",
       "      <th></th>\n",
       "      <th>open_norm</th>\n",
       "      <th>close_norm</th>\n",
       "    </tr>\n",
       "  </thead>\n",
       "  <tbody>\n",
       "    <tr>\n",
       "      <th>0</th>\n",
       "      <td>0.6899933140</td>\n",
       "      <td>0.2513661202</td>\n",
       "    </tr>\n",
       "    <tr>\n",
       "      <th>1</th>\n",
       "      <td>0.8029019621</td>\n",
       "      <td>0.2448087432</td>\n",
       "    </tr>\n",
       "    <tr>\n",
       "      <th>2</th>\n",
       "      <td>0.6837530644</td>\n",
       "      <td>0.2502732240</td>\n",
       "    </tr>\n",
       "    <tr>\n",
       "      <th>3</th>\n",
       "      <td>0.6853131268</td>\n",
       "      <td>0.2557377049</td>\n",
       "    </tr>\n",
       "    <tr>\n",
       "      <th>4</th>\n",
       "      <td>0.6875417874</td>\n",
       "      <td>0.2497267760</td>\n",
       "    </tr>\n",
       "  </tbody>\n",
       "</table>\n",
       "</div>"
      ],
      "text/plain": [
       "      open_norm    close_norm\n",
       "0  0.6899933140  0.2513661202\n",
       "1  0.8029019621  0.2448087432\n",
       "2  0.6837530644  0.2502732240\n",
       "3  0.6853131268  0.2557377049\n",
       "4  0.6875417874  0.2497267760"
      ]
     },
     "execution_count": 33,
     "metadata": {},
     "output_type": "execute_result"
    }
   ],
   "source": [
    "spoiled_df[[\"open_norm\", \"close_norm\"]].head()"
   ]
  },
  {
   "cell_type": "markdown",
   "metadata": {},
   "source": [
    "<div class=\"alert alert-danger alertdanger\" style=\"margin-top: 20px\">\n",
    "<h1> Question #3: </h1>\n",
    "\n",
    "<b>According to the example above, normalize the column \"avg_price\" using sklearn MinMaxScaler.</b>\n",
    "\n",
    "</div>\n"
   ]
  },
  {
   "cell_type": "code",
   "execution_count": 142,
   "metadata": {},
   "outputs": [],
   "source": [
    "# Write your code below and press Shift+Enter to execute \n"
   ]
  },
  {
   "cell_type": "markdown",
   "metadata": {},
   "source": [
    "<details><summary>Click here for the solution</summary>\n",
    "\n",
    "```python\n",
    "scaler = MinMaxScaler()\n",
    "spoiled_df[\"avg_price_norm\"] = scaler.fit_transform(spoiled_df[\"avg_price\"].to_numpy().reshape(-1, 1))\n",
    "\n",
    "\n",
    "# show the scaled column\n",
    "spoiled_df[[\"avg_price_norm\"]].head()\n",
    "\n",
    "\n",
    "```\n",
    "\n",
    "</details>\n"
   ]
  },
  {
   "cell_type": "markdown",
   "metadata": {},
   "source": [
    "Here we can see we've normalized \"open\", \"close\" and \"avg_price\" in the range of \\[0,1].\n"
   ]
  },
  {
   "cell_type": "markdown",
   "metadata": {},
   "source": [
    "<h2 id=\"binning\">Binning and indicator variable</h2>\n",
    "<b>Why binning?</b>\n",
    "<p>\n",
    "    Binning is a process of transforming continuous numerical variables into discrete categorical 'bins' for grouped analysis.\n",
    "</p>\n",
    "\n",
    "<b>Example: </b>\n",
    "\n",
    "<p>In our dataset, \"volume\" is a real valued variable. What if we want to break it down into 3 bins and see which bin sold the most? Can we rearrange them into three ‘bins' to simplify analysis? </p>\n",
    "\n",
    "<p>We will use the pandas method 'cut' to segment the 'volume' column into 3 bins.</p>\n"
   ]
  },
  {
   "cell_type": "markdown",
   "metadata": {},
   "source": [
    "<h3>Example of Binning Data In Pandas</h3>\n"
   ]
  },
  {
   "cell_type": "markdown",
   "metadata": {},
   "source": [
    "Let's plot the histogram of rec_count to see what the distribution of rec_count looks like.\n"
   ]
  },
  {
   "cell_type": "code",
   "execution_count": 39,
   "metadata": {},
   "outputs": [
    {
     "data": {
      "text/plain": [
       "Text(0.5, 1.0, 'volume bins')"
      ]
     },
     "execution_count": 39,
     "metadata": {},
     "output_type": "execute_result"
    },
    {
     "data": {
      "image/png": "[encoded data removed]",
      "text/plain": [
       "<Figure size 640x480 with 1 Axes>"
      ]
     },
     "metadata": {},
     "output_type": "display_data"
    }
   ],
   "source": [
    "%matplotlib inline\n",
    "import matplotlib.pyplot as plt\n",
    "plt.hist(spoiled_df[\"volume\"])\n",
    "\n",
    "# set x/y labels and plot title\n",
    "plt.xlabel(\"volume\")\n",
    "plt.ylabel(\"count\")\n",
    "plt.title(\"volume bins\")"
   ]
  },
  {
   "cell_type": "markdown",
   "metadata": {},
   "source": [
    "<p>We would like 3 bins of equal size bandwidth so we use numpy's <code>linspace(start_value, end_value, numbers_generated</code> function.</p>"
   ]
  },
  {
   "cell_type": "markdown",
   "metadata": {},
   "source": [
    "We build a bin array with a minimum value to a maximum value by using the bandwidth calculated above. The values will determine when one bin ends and another begins.\n"
   ]
  },
  {
   "cell_type": "code",
   "execution_count": 48,
   "metadata": {},
   "outputs": [
    {
     "data": {
      "text/plain": [
       "[0.1, 1000, 5000, 407682.7]"
      ]
     },
     "execution_count": 48,
     "metadata": {},
     "output_type": "execute_result"
    }
   ],
   "source": [
    "# bins = np.linspace(min(spoiled_df[\"volume\"]), max(spoiled_df[\"volume\"]), 4)\n",
    "bins = [min(spoiled_df[\"volume\"]), 1000, 5000, max(spoiled_df[\"volume\"])]\n",
    "bins"
   ]
  },
  {
   "cell_type": "code",
   "execution_count": 47,
   "metadata": {},
   "outputs": [
    {
     "data": {
      "text/plain": [
       "count     66528.0000000000\n",
       "mean       5146.7044024625\n",
       "std        9122.5207751978\n",
       "min           0.1000000000\n",
       "25%        1120.9000000000\n",
       "50%        2885.8000000000\n",
       "75%        5146.7044024626\n",
       "max      407682.7000000000\n",
       "Name: volume, dtype: float64"
      ]
     },
     "execution_count": 47,
     "metadata": {},
     "output_type": "execute_result"
    }
   ],
   "source": [
    "spoiled_df[\"volume\"].describe()"
   ]
  },
  {
   "cell_type": "markdown",
   "metadata": {},
   "source": [
    "We set group  names:\n"
   ]
  },
  {
   "cell_type": "code",
   "execution_count": 42,
   "metadata": {},
   "outputs": [],
   "source": [
    "group_names = [\"Low\", \"Medium\", \"High\"]"
   ]
  },
  {
   "cell_type": "markdown",
   "metadata": {},
   "source": [
    "We apply the function \"cut\" to determine what each value of `spoiled_df[\"volume\"]` belongs to.\n"
   ]
  },
  {
   "cell_type": "code",
   "execution_count": 49,
   "metadata": {},
   "outputs": [
    {
     "data": {
      "text/html": [
       "<div>\n",
       "<style scoped>\n",
       "    .dataframe tbody tr th:only-of-type {\n",
       "        vertical-align: middle;\n",
       "    }\n",
       "\n",
       "    .dataframe tbody tr th {\n",
       "        vertical-align: top;\n",
       "    }\n",
       "\n",
       "    .dataframe thead th {\n",
       "        text-align: right;\n",
       "    }\n",
       "</style>\n",
       "<table border=\"1\" class=\"dataframe\">\n",
       "  <thead>\n",
       "    <tr style=\"text-align: right;\">\n",
       "      <th></th>\n",
       "      <th>volume</th>\n",
       "      <th>volume-binned</th>\n",
       "    </tr>\n",
       "  </thead>\n",
       "  <tbody>\n",
       "    <tr>\n",
       "      <th>0</th>\n",
       "      <td>2733.3000000000</td>\n",
       "      <td>Medium</td>\n",
       "    </tr>\n",
       "    <tr>\n",
       "      <th>1</th>\n",
       "      <td>5353.1000000000</td>\n",
       "      <td>High</td>\n",
       "    </tr>\n",
       "    <tr>\n",
       "      <th>2</th>\n",
       "      <td>5582.2000000000</td>\n",
       "      <td>High</td>\n",
       "    </tr>\n",
       "    <tr>\n",
       "      <th>3</th>\n",
       "      <td>10358.0000000000</td>\n",
       "      <td>High</td>\n",
       "    </tr>\n",
       "    <tr>\n",
       "      <th>4</th>\n",
       "      <td>9567.6000000000</td>\n",
       "      <td>High</td>\n",
       "    </tr>\n",
       "    <tr>\n",
       "      <th>5</th>\n",
       "      <td>2212.5000000000</td>\n",
       "      <td>Medium</td>\n",
       "    </tr>\n",
       "    <tr>\n",
       "      <th>6</th>\n",
       "      <td>8106.4000000000</td>\n",
       "      <td>High</td>\n",
       "    </tr>\n",
       "    <tr>\n",
       "      <th>7</th>\n",
       "      <td>35545.1000000000</td>\n",
       "      <td>High</td>\n",
       "    </tr>\n",
       "    <tr>\n",
       "      <th>8</th>\n",
       "      <td>17379.1000000000</td>\n",
       "      <td>High</td>\n",
       "    </tr>\n",
       "    <tr>\n",
       "      <th>9</th>\n",
       "      <td>66603.7000000000</td>\n",
       "      <td>High</td>\n",
       "    </tr>\n",
       "    <tr>\n",
       "      <th>10</th>\n",
       "      <td>37730.2000000000</td>\n",
       "      <td>High</td>\n",
       "    </tr>\n",
       "    <tr>\n",
       "      <th>11</th>\n",
       "      <td>5146.7044024626</td>\n",
       "      <td>High</td>\n",
       "    </tr>\n",
       "    <tr>\n",
       "      <th>12</th>\n",
       "      <td>5146.7044024626</td>\n",
       "      <td>High</td>\n",
       "    </tr>\n",
       "    <tr>\n",
       "      <th>13</th>\n",
       "      <td>7385.9000000000</td>\n",
       "      <td>High</td>\n",
       "    </tr>\n",
       "    <tr>\n",
       "      <th>14</th>\n",
       "      <td>25573.8000000000</td>\n",
       "      <td>High</td>\n",
       "    </tr>\n",
       "    <tr>\n",
       "      <th>15</th>\n",
       "      <td>14185.5000000000</td>\n",
       "      <td>High</td>\n",
       "    </tr>\n",
       "    <tr>\n",
       "      <th>16</th>\n",
       "      <td>6757.3000000000</td>\n",
       "      <td>High</td>\n",
       "    </tr>\n",
       "    <tr>\n",
       "      <th>17</th>\n",
       "      <td>6880.2000000000</td>\n",
       "      <td>High</td>\n",
       "    </tr>\n",
       "    <tr>\n",
       "      <th>18</th>\n",
       "      <td>2790.5000000000</td>\n",
       "      <td>Medium</td>\n",
       "    </tr>\n",
       "    <tr>\n",
       "      <th>19</th>\n",
       "      <td>3502.5000000000</td>\n",
       "      <td>Medium</td>\n",
       "    </tr>\n",
       "  </tbody>\n",
       "</table>\n",
       "</div>"
      ],
      "text/plain": [
       "              volume volume-binned\n",
       "0    2733.3000000000        Medium\n",
       "1    5353.1000000000          High\n",
       "2    5582.2000000000          High\n",
       "3   10358.0000000000          High\n",
       "4    9567.6000000000          High\n",
       "5    2212.5000000000        Medium\n",
       "6    8106.4000000000          High\n",
       "7   35545.1000000000          High\n",
       "8   17379.1000000000          High\n",
       "9   66603.7000000000          High\n",
       "10  37730.2000000000          High\n",
       "11   5146.7044024626          High\n",
       "12   5146.7044024626          High\n",
       "13   7385.9000000000          High\n",
       "14  25573.8000000000          High\n",
       "15  14185.5000000000          High\n",
       "16   6757.3000000000          High\n",
       "17   6880.2000000000          High\n",
       "18   2790.5000000000        Medium\n",
       "19   3502.5000000000        Medium"
      ]
     },
     "execution_count": 49,
     "metadata": {},
     "output_type": "execute_result"
    }
   ],
   "source": [
    "spoiled_df[\"volume-binned\"] = pd.cut(spoiled_df[\"volume\"], bins, labels=group_names, include_lowest=True)\n",
    "spoiled_df[[\"volume\", \"volume-binned\"]].head(20)"
   ]
  },
  {
   "cell_type": "markdown",
   "metadata": {},
   "source": [
    "Let's see the \"rec_count\" in each bin:\n"
   ]
  },
  {
   "cell_type": "code",
   "execution_count": 50,
   "metadata": {},
   "outputs": [
    {
     "data": {
      "text/plain": [
       "Medium    27737\n",
       "High      23728\n",
       "Low       15063\n",
       "Name: volume-binned, dtype: int64"
      ]
     },
     "execution_count": 50,
     "metadata": {},
     "output_type": "execute_result"
    }
   ],
   "source": [
    "spoiled_df[\"volume-binned\"].value_counts()"
   ]
  },
  {
   "cell_type": "markdown",
   "metadata": {},
   "source": [
    "Let's plot the distribution of each bin:\n"
   ]
  },
  {
   "cell_type": "code",
   "execution_count": 51,
   "metadata": {},
   "outputs": [
    {
     "data": {
      "text/plain": [
       "Text(0.5, 1.0, 'volume bins')"
      ]
     },
     "execution_count": 51,
     "metadata": {},
     "output_type": "execute_result"
    },
    {
     "data": {
      "image/png": "[encoded data removed]",
      "text/plain": [
       "<Figure size 640x480 with 1 Axes>"
      ]
     },
     "metadata": {},
     "output_type": "display_data"
    }
   ],
   "source": [
    "plt.bar(group_names, spoiled_df[\"volume-binned\"].value_counts())\n",
    "\n",
    "# set x/y labels and plot title\n",
    "plt.xlabel(\"volume\")\n",
    "plt.ylabel(\"count\")\n",
    "plt.title(\"volume bins\")"
   ]
  },
  {
   "cell_type": "markdown",
   "metadata": {},
   "source": [
    "<p>\n",
    "    As we can see we managed to create 3 classes based on volume\n",
    "</p>"
   ]
  },
  {
   "cell_type": "markdown",
   "metadata": {},
   "source": [
    "<h3>Bins Visualization</h3>\n",
    "Normally, a histogram is used to visualize the distribution of bins we created above. \n"
   ]
  },
  {
   "cell_type": "code",
   "execution_count": 52,
   "metadata": {},
   "outputs": [
    {
     "data": {
      "text/plain": [
       "Text(0.5, 1.0, 'volume bins')"
      ]
     },
     "execution_count": 52,
     "metadata": {},
     "output_type": "execute_result"
    },
    {
     "data": {
      "image/png": "[encoded data removed]",
      "text/plain": [
       "<Figure size 640x480 with 1 Axes>"
      ]
     },
     "metadata": {},
     "output_type": "display_data"
    }
   ],
   "source": [
    "# draw historgram of attribute \"rec_count\" with bins = 3\n",
    "plt.hist(spoiled_df[\"volume\"], bins = 3)\n",
    "\n",
    "# set x/y labels and plot title\n",
    "plt.xlabel(\"volume\")\n",
    "plt.ylabel(\"count\")\n",
    "plt.title(\"volume bins\")"
   ]
  },
  {
   "cell_type": "markdown",
   "metadata": {},
   "source": [
    "The plot above shows the binning result for the attribute \"volume\".\n"
   ]
  },
  {
   "cell_type": "markdown",
   "metadata": {},
   "source": [
    "<h4 id=\"indicator\">Indicator Variable (or Dummy Variable)</h4>\n",
    "<b>What is an indicator variable?</b>\n",
    "<p>\n",
    "    An indicator variable (or dummy variable) is a numerical variable used to label categories. They are called 'dummies' because the numbers themselves don't have inherent meaning. \n",
    "</p>\n",
    "\n",
    "<b>Why we use indicator variables?</b>\n",
    "\n",
    "<p>\n",
    "    We use indicator variables so we can use categorical variables for regression analysis in the later modules.\n",
    "</p>\n",
    "<b>Example</b>\n",
    "<p>\n",
    "    We see the column \"volume-binned\" has three unique values: \"Low\", \"Medium\" or \"High\". Regression doesn't understand words, only numbers. To use this attribute in regression analysis, we convert \"rec_count-binned\" to indicator variables.\n",
    "</p>\n",
    "\n",
    "<p>\n",
    "    We will use pandas' method 'get_dummies' to assign numerical values to different categories of volume. \n",
    "</p>\n"
   ]
  },
  {
   "cell_type": "code",
   "execution_count": 53,
   "metadata": {},
   "outputs": [
    {
     "data": {
      "text/plain": [
       "Index(['ts', 'open', 'high', 'low', 'close', 'volume', 'rec_count',\n",
       "       'avg_price', 'open_norm', 'close_norm', 'volume-binned'],\n",
       "      dtype='object')"
      ]
     },
     "execution_count": 53,
     "metadata": {},
     "output_type": "execute_result"
    }
   ],
   "source": [
    "spoiled_df.columns"
   ]
  },
  {
   "cell_type": "markdown",
   "metadata": {},
   "source": [
    "Get the indicator variables and assign it to data frame \"dummy_variable\\_1\":\n"
   ]
  },
  {
   "cell_type": "code",
   "execution_count": 55,
   "metadata": {},
   "outputs": [
    {
     "data": {
      "text/html": [
       "<div>\n",
       "<style scoped>\n",
       "    .dataframe tbody tr th:only-of-type {\n",
       "        vertical-align: middle;\n",
       "    }\n",
       "\n",
       "    .dataframe tbody tr th {\n",
       "        vertical-align: top;\n",
       "    }\n",
       "\n",
       "    .dataframe thead th {\n",
       "        text-align: right;\n",
       "    }\n",
       "</style>\n",
       "<table border=\"1\" class=\"dataframe\">\n",
       "  <thead>\n",
       "    <tr style=\"text-align: right;\">\n",
       "      <th></th>\n",
       "      <th>volume_Low</th>\n",
       "      <th>volume_Medium</th>\n",
       "      <th>volume_High</th>\n",
       "    </tr>\n",
       "  </thead>\n",
       "  <tbody>\n",
       "    <tr>\n",
       "      <th>0</th>\n",
       "      <td>0</td>\n",
       "      <td>1</td>\n",
       "      <td>0</td>\n",
       "    </tr>\n",
       "    <tr>\n",
       "      <th>1</th>\n",
       "      <td>0</td>\n",
       "      <td>0</td>\n",
       "      <td>1</td>\n",
       "    </tr>\n",
       "    <tr>\n",
       "      <th>2</th>\n",
       "      <td>0</td>\n",
       "      <td>0</td>\n",
       "      <td>1</td>\n",
       "    </tr>\n",
       "    <tr>\n",
       "      <th>3</th>\n",
       "      <td>0</td>\n",
       "      <td>0</td>\n",
       "      <td>1</td>\n",
       "    </tr>\n",
       "    <tr>\n",
       "      <th>4</th>\n",
       "      <td>0</td>\n",
       "      <td>0</td>\n",
       "      <td>1</td>\n",
       "    </tr>\n",
       "  </tbody>\n",
       "</table>\n",
       "</div>"
      ],
      "text/plain": [
       "   volume_Low  volume_Medium  volume_High\n",
       "0           0              1            0\n",
       "1           0              0            1\n",
       "2           0              0            1\n",
       "3           0              0            1\n",
       "4           0              0            1"
      ]
     },
     "execution_count": 55,
     "metadata": {},
     "output_type": "execute_result"
    }
   ],
   "source": [
    "dummy_variable_1 = pd.get_dummies(spoiled_df[\"volume-binned\"], prefix=\"volume\")\n",
    "dummy_variable_1.head()"
   ]
  },
  {
   "cell_type": "code",
   "execution_count": 56,
   "metadata": {},
   "outputs": [],
   "source": [
    "# merge data frame \"spoiled_df\" and \"dummy_variable_1\" \n",
    "spoiled_df = pd.concat([spoiled_df, dummy_variable_1], axis=1)\n",
    "\n",
    "# drop original column \"rec_count-binned\" from \"spoiled_df\"\n",
    "spoiled_df.drop(\"volume-binned\", axis = 1, inplace=True)"
   ]
  },
  {
   "cell_type": "code",
   "execution_count": 58,
   "metadata": {},
   "outputs": [
    {
     "data": {
      "text/html": [
       "<div>\n",
       "<style scoped>\n",
       "    .dataframe tbody tr th:only-of-type {\n",
       "        vertical-align: middle;\n",
       "    }\n",
       "\n",
       "    .dataframe tbody tr th {\n",
       "        vertical-align: top;\n",
       "    }\n",
       "\n",
       "    .dataframe thead th {\n",
       "        text-align: right;\n",
       "    }\n",
       "</style>\n",
       "<table border=\"1\" class=\"dataframe\">\n",
       "  <thead>\n",
       "    <tr style=\"text-align: right;\">\n",
       "      <th></th>\n",
       "      <th>ts</th>\n",
       "      <th>open</th>\n",
       "      <th>high</th>\n",
       "      <th>low</th>\n",
       "      <th>close</th>\n",
       "      <th>volume</th>\n",
       "      <th>rec_count</th>\n",
       "      <th>avg_price</th>\n",
       "      <th>open_norm</th>\n",
       "      <th>close_norm</th>\n",
       "      <th>volume_Low</th>\n",
       "      <th>volume_Medium</th>\n",
       "      <th>volume_High</th>\n",
       "    </tr>\n",
       "  </thead>\n",
       "  <tbody>\n",
       "    <tr>\n",
       "      <th>0</th>\n",
       "      <td>2022-11-11 14:38:00</td>\n",
       "      <td>3.096000000</td>\n",
       "      <td>3.6062694165</td>\n",
       "      <td>3.076</td>\n",
       "      <td>3.077</td>\n",
       "      <td>2733.3</td>\n",
       "      <td>34</td>\n",
       "      <td>3.0696442622</td>\n",
       "      <td>0.6899933140</td>\n",
       "      <td>0.2513661202</td>\n",
       "      <td>0</td>\n",
       "      <td>1</td>\n",
       "      <td>0</td>\n",
       "    </tr>\n",
       "    <tr>\n",
       "      <th>1</th>\n",
       "      <td>2022-11-11 14:39:00</td>\n",
       "      <td>3.602621104</td>\n",
       "      <td>3.0770000000</td>\n",
       "      <td>3.064</td>\n",
       "      <td>3.065</td>\n",
       "      <td>5353.1</td>\n",
       "      <td>40</td>\n",
       "      <td>3.0696442622</td>\n",
       "      <td>0.8029019621</td>\n",
       "      <td>0.2448087432</td>\n",
       "      <td>0</td>\n",
       "      <td>0</td>\n",
       "      <td>1</td>\n",
       "    </tr>\n",
       "    <tr>\n",
       "      <th>2</th>\n",
       "      <td>2022-11-11 14:40:00</td>\n",
       "      <td>3.068000000</td>\n",
       "      <td>3.0750000000</td>\n",
       "      <td>3.062</td>\n",
       "      <td>3.075</td>\n",
       "      <td>5582.2</td>\n",
       "      <td>34</td>\n",
       "      <td>3.0710290746</td>\n",
       "      <td>0.6837530644</td>\n",
       "      <td>0.2502732240</td>\n",
       "      <td>0</td>\n",
       "      <td>0</td>\n",
       "      <td>1</td>\n",
       "    </tr>\n",
       "    <tr>\n",
       "      <th>3</th>\n",
       "      <td>2022-11-11 14:41:00</td>\n",
       "      <td>3.075000000</td>\n",
       "      <td>3.0910000000</td>\n",
       "      <td>3.069</td>\n",
       "      <td>3.085</td>\n",
       "      <td>10358.0</td>\n",
       "      <td>43</td>\n",
       "      <td>3.0843931647</td>\n",
       "      <td>0.6853131268</td>\n",
       "      <td>0.2557377049</td>\n",
       "      <td>0</td>\n",
       "      <td>0</td>\n",
       "      <td>1</td>\n",
       "    </tr>\n",
       "    <tr>\n",
       "      <th>4</th>\n",
       "      <td>2022-11-11 14:42:00</td>\n",
       "      <td>3.085000000</td>\n",
       "      <td>3.0930000000</td>\n",
       "      <td>3.074</td>\n",
       "      <td>3.074</td>\n",
       "      <td>9567.6</td>\n",
       "      <td>38</td>\n",
       "      <td>3.0880945796</td>\n",
       "      <td>0.6875417874</td>\n",
       "      <td>0.2497267760</td>\n",
       "      <td>0</td>\n",
       "      <td>0</td>\n",
       "      <td>1</td>\n",
       "    </tr>\n",
       "  </tbody>\n",
       "</table>\n",
       "</div>"
      ],
      "text/plain": [
       "                   ts         open          high    low  close   volume  \\\n",
       "0 2022-11-11 14:38:00  3.096000000  3.6062694165  3.076  3.077   2733.3   \n",
       "1 2022-11-11 14:39:00  3.602621104  3.0770000000  3.064  3.065   5353.1   \n",
       "2 2022-11-11 14:40:00  3.068000000  3.0750000000  3.062  3.075   5582.2   \n",
       "3 2022-11-11 14:41:00  3.075000000  3.0910000000  3.069  3.085  10358.0   \n",
       "4 2022-11-11 14:42:00  3.085000000  3.0930000000  3.074  3.074   9567.6   \n",
       "\n",
       "   rec_count     avg_price     open_norm    close_norm  volume_Low  \\\n",
       "0         34  3.0696442622  0.6899933140  0.2513661202           0   \n",
       "1         40  3.0696442622  0.8029019621  0.2448087432           0   \n",
       "2         34  3.0710290746  0.6837530644  0.2502732240           0   \n",
       "3         43  3.0843931647  0.6853131268  0.2557377049           0   \n",
       "4         38  3.0880945796  0.6875417874  0.2497267760           0   \n",
       "\n",
       "   volume_Medium  volume_High  \n",
       "0              1            0  \n",
       "1              0            1  \n",
       "2              0            1  \n",
       "3              0            1  \n",
       "4              0            1  "
      ]
     },
     "execution_count": 58,
     "metadata": {},
     "output_type": "execute_result"
    }
   ],
   "source": [
    "spoiled_df.head()"
   ]
  },
  {
   "cell_type": "markdown",
   "metadata": {},
   "source": [
    "The last three columns are now the indicator variable representation of the volume variable. They're all 0s and 1s now.\n"
   ]
  },
  {
   "cell_type": "markdown",
   "metadata": {},
   "source": [
    "<div class=\"alert alert-danger alertdanger\" style=\"margin-top: 20px\">\n",
    "<h1> Question  #4: </h1>\n",
    "\n",
    "<b>Similar to before, create an indicator variable for the column \"ts\" (create spoiled_df[\"ts_month\"] = spoiled_df[\"ts\"].dt.month as category and then get_dummies from that column and then concatenate the spoiled_df)</b>\n",
    "\n",
    "</div>\n"
   ]
  },
  {
   "cell_type": "code",
   "execution_count": 53,
   "metadata": {},
   "outputs": [],
   "source": [
    "# Write your code below and press Shift+Enter to execute \n"
   ]
  },
  {
   "cell_type": "markdown",
   "metadata": {},
   "source": [
    "<details><summary>Click here for the solution</summary>\n",
    "\n",
    "```python\n",
    "# Create a new columnb\n",
    "spoiled_df[\"ts_month\"] = spoiled_df[\"ts\"].dt.month\n",
    "# get indicator variables of aspiration and assign it to data frame \"dummy_variable_2\"\n",
    "dummy_variable_2 = pd.get_dummies(spoiled_df[\"ts_month\"], prefix=\"ts\")\n",
    "# show first 5 instances of data frame \"dummy_variable_2\"\n",
    "dummy_variable_2.head()\n",
    "\n",
    "\n",
    "```\n",
    "\n",
    "</details>\n"
   ]
  },
  {
   "cell_type": "markdown",
   "metadata": {},
   "source": [
    " <div class=\"alert alert-danger alertdanger\" style=\"margin-top: 20px\">\n",
    "<h1> Question  #5: </h1>\n",
    "\n",
    "<b>Merge the new dataframe to the original dataframe, then drop the column \"ts_month\".</b>\n",
    "\n",
    "</div>\n"
   ]
  },
  {
   "cell_type": "code",
   "execution_count": 56,
   "metadata": {},
   "outputs": [],
   "source": [
    "# Write your code below and press Shift+Enter to execute \n"
   ]
  },
  {
   "cell_type": "markdown",
   "metadata": {},
   "source": [
    "<details><summary>Click here for the solution</summary>\n",
    "\n",
    "```python\n",
    "# Concatenate df's\n",
    "spoiled_df = pd.concat([spoiled_df, dummy_variable_2], axis=1)\n",
    "# Drop original column \"ts_month\" from \"df\"\n",
    "spoiled_df.drop(\"ts_month\", axis=1, inplace=True)\n",
    "\n",
    "\n",
    "```\n",
    "\n",
    "</details>\n"
   ]
  },
  {
   "cell_type": "markdown",
   "metadata": {},
   "source": [
    "<h2>Resampling</h2>"
   ]
  },
  {
   "cell_type": "code",
   "execution_count": 79,
   "metadata": {},
   "outputs": [
    {
     "data": {
      "text/plain": [
       "ts\n",
       "2022-11-11 10:00:00      160.5\n",
       "2022-11-11 20:00:00      621.5\n",
       "2022-11-12 06:00:00     1221.5\n",
       "2022-11-12 16:00:00     1821.5\n",
       "2022-11-13 02:00:00     2421.5\n",
       "                        ...   \n",
       "2022-12-28 02:00:00    64166.0\n",
       "2022-12-28 12:00:00    64747.5\n",
       "2022-12-28 22:00:00    65326.0\n",
       "2022-12-29 08:00:00    65895.5\n",
       "2022-12-29 18:00:00    66353.0\n",
       "Freq: 10H, Length: 117, dtype: float64"
      ]
     },
     "execution_count": 79,
     "metadata": {},
     "output_type": "execute_result"
    }
   ],
   "source": [
    "pd.Series(range(66528), index=spoiled_df[\"ts\"]).resample('10h').mean()"
   ]
  },
  {
   "cell_type": "code",
   "execution_count": 59,
   "metadata": {},
   "outputs": [
    {
     "name": "stdout",
     "output_type": "stream",
     "text": [
      "Help on function resample in module pandas.core.frame:\n",
      "\n",
      "resample(self, rule, axis=0, closed: 'str | None' = None, label: 'str | None' = None, convention: 'str' = 'start', kind: 'str | None' = None, loffset=None, base: 'int | None' = None, on=None, level=None, origin: 'str | TimestampConvertibleTypes' = 'start_day', offset: 'TimedeltaConvertibleTypes | None' = None) -> 'Resampler'\n",
      "    Resample time-series data.\n",
      "    \n",
      "    Convenience method for frequency conversion and resampling of time series.\n",
      "    The object must have a datetime-like index (`DatetimeIndex`, `PeriodIndex`,\n",
      "    or `TimedeltaIndex`), or the caller must pass the label of a datetime-like\n",
      "    series/index to the ``on``/``level`` keyword parameter.\n",
      "    \n",
      "    Parameters\n",
      "    ----------\n",
      "    rule : DateOffset, Timedelta or str\n",
      "        The offset string or object representing target conversion.\n",
      "    axis : {0 or 'index', 1 or 'columns'}, default 0\n",
      "        Which axis to use for up- or down-sampling. For `Series` this\n",
      "        will default to 0, i.e. along the rows. Must be\n",
      "        `DatetimeIndex`, `TimedeltaIndex` or `PeriodIndex`.\n",
      "    closed : {'right', 'left'}, default None\n",
      "        Which side of bin interval is closed. The default is 'left'\n",
      "        for all frequency offsets except for 'M', 'A', 'Q', 'BM',\n",
      "        'BA', 'BQ', and 'W' which all have a default of 'right'.\n",
      "    label : {'right', 'left'}, default None\n",
      "        Which bin edge label to label bucket with. The default is 'left'\n",
      "        for all frequency offsets except for 'M', 'A', 'Q', 'BM',\n",
      "        'BA', 'BQ', and 'W' which all have a default of 'right'.\n",
      "    convention : {'start', 'end', 's', 'e'}, default 'start'\n",
      "        For `PeriodIndex` only, controls whether to use the start or\n",
      "        end of `rule`.\n",
      "    kind : {'timestamp', 'period'}, optional, default None\n",
      "        Pass 'timestamp' to convert the resulting index to a\n",
      "        `DateTimeIndex` or 'period' to convert it to a `PeriodIndex`.\n",
      "        By default the input representation is retained.\n",
      "    loffset : timedelta, default None\n",
      "        Adjust the resampled time labels.\n",
      "    \n",
      "        .. deprecated:: 1.1.0\n",
      "            You should add the loffset to the `df.index` after the resample.\n",
      "            See below.\n",
      "    \n",
      "    base : int, default 0\n",
      "        For frequencies that evenly subdivide 1 day, the \"origin\" of the\n",
      "        aggregated intervals. For example, for '5min' frequency, base could\n",
      "        range from 0 through 4. Defaults to 0.\n",
      "    \n",
      "        .. deprecated:: 1.1.0\n",
      "            The new arguments that you should use are 'offset' or 'origin'.\n",
      "    \n",
      "    on : str, optional\n",
      "        For a DataFrame, column to use instead of index for resampling.\n",
      "        Column must be datetime-like.\n",
      "    level : str or int, optional\n",
      "        For a MultiIndex, level (name or number) to use for\n",
      "        resampling. `level` must be datetime-like.\n",
      "    origin : Timestamp or str, default 'start_day'\n",
      "        The timestamp on which to adjust the grouping. The timezone of origin\n",
      "        must match the timezone of the index.\n",
      "        If string, must be one of the following:\n",
      "    \n",
      "        - 'epoch': `origin` is 1970-01-01\n",
      "        - 'start': `origin` is the first value of the timeseries\n",
      "        - 'start_day': `origin` is the first day at midnight of the timeseries\n",
      "    \n",
      "        .. versionadded:: 1.1.0\n",
      "    \n",
      "        - 'end': `origin` is the last value of the timeseries\n",
      "        - 'end_day': `origin` is the ceiling midnight of the last day\n",
      "    \n",
      "        .. versionadded:: 1.3.0\n",
      "    \n",
      "    offset : Timedelta or str, default is None\n",
      "        An offset timedelta added to the origin.\n",
      "    \n",
      "        .. versionadded:: 1.1.0\n",
      "    \n",
      "    Returns\n",
      "    -------\n",
      "    pandas.core.Resampler\n",
      "        :class:`~pandas.core.Resampler` object.\n",
      "    \n",
      "    See Also\n",
      "    --------\n",
      "    Series.resample : Resample a Series.\n",
      "    DataFrame.resample : Resample a DataFrame.\n",
      "    groupby : Group DataFrame by mapping, function, label, or list of labels.\n",
      "    asfreq : Reindex a DataFrame with the given frequency without grouping.\n",
      "    \n",
      "    Notes\n",
      "    -----\n",
      "    See the `user guide\n",
      "    <https://pandas.pydata.org/pandas-docs/stable/user_guide/timeseries.html#resampling>`__\n",
      "    for more.\n",
      "    \n",
      "    To learn more about the offset strings, please see `this link\n",
      "    <https://pandas.pydata.org/pandas-docs/stable/user_guide/timeseries.html#dateoffset-objects>`__.\n",
      "    \n",
      "    Examples\n",
      "    --------\n",
      "    Start by creating a series with 9 one minute timestamps.\n",
      "    \n",
      "    >>> index = pd.date_range('1/1/2000', periods=9, freq='T')\n",
      "    >>> series = pd.Series(range(9), index=index)\n",
      "    >>> series\n",
      "    2000-01-01 00:00:00    0\n",
      "    2000-01-01 00:01:00    1\n",
      "    2000-01-01 00:02:00    2\n",
      "    2000-01-01 00:03:00    3\n",
      "    2000-01-01 00:04:00    4\n",
      "    2000-01-01 00:05:00    5\n",
      "    2000-01-01 00:06:00    6\n",
      "    2000-01-01 00:07:00    7\n",
      "    2000-01-01 00:08:00    8\n",
      "    Freq: T, dtype: int64\n",
      "    \n",
      "    Downsample the series into 3 minute bins and sum the values\n",
      "    of the timestamps falling into a bin.\n",
      "    \n",
      "    >>> series.resample('3T').sum()\n",
      "    2000-01-01 00:00:00     3\n",
      "    2000-01-01 00:03:00    12\n",
      "    2000-01-01 00:06:00    21\n",
      "    Freq: 3T, dtype: int64\n",
      "    \n",
      "    Downsample the series into 3 minute bins as above, but label each\n",
      "    bin using the right edge instead of the left. Please note that the\n",
      "    value in the bucket used as the label is not included in the bucket,\n",
      "    which it labels. For example, in the original series the\n",
      "    bucket ``2000-01-01 00:03:00`` contains the value 3, but the summed\n",
      "    value in the resampled bucket with the label ``2000-01-01 00:03:00``\n",
      "    does not include 3 (if it did, the summed value would be 6, not 3).\n",
      "    To include this value close the right side of the bin interval as\n",
      "    illustrated in the example below this one.\n",
      "    \n",
      "    >>> series.resample('3T', label='right').sum()\n",
      "    2000-01-01 00:03:00     3\n",
      "    2000-01-01 00:06:00    12\n",
      "    2000-01-01 00:09:00    21\n",
      "    Freq: 3T, dtype: int64\n",
      "    \n",
      "    Downsample the series into 3 minute bins as above, but close the right\n",
      "    side of the bin interval.\n",
      "    \n",
      "    >>> series.resample('3T', label='right', closed='right').sum()\n",
      "    2000-01-01 00:00:00     0\n",
      "    2000-01-01 00:03:00     6\n",
      "    2000-01-01 00:06:00    15\n",
      "    2000-01-01 00:09:00    15\n",
      "    Freq: 3T, dtype: int64\n",
      "    \n",
      "    Upsample the series into 30 second bins.\n",
      "    \n",
      "    >>> series.resample('30S').asfreq()[0:5]   # Select first 5 rows\n",
      "    2000-01-01 00:00:00   0.0\n",
      "    2000-01-01 00:00:30   NaN\n",
      "    2000-01-01 00:01:00   1.0\n",
      "    2000-01-01 00:01:30   NaN\n",
      "    2000-01-01 00:02:00   2.0\n",
      "    Freq: 30S, dtype: float64\n",
      "    \n",
      "    Upsample the series into 30 second bins and fill the ``NaN``\n",
      "    values using the ``pad`` method.\n",
      "    \n",
      "    >>> series.resample('30S').pad()[0:5]\n",
      "    2000-01-01 00:00:00    0\n",
      "    2000-01-01 00:00:30    0\n",
      "    2000-01-01 00:01:00    1\n",
      "    2000-01-01 00:01:30    1\n",
      "    2000-01-01 00:02:00    2\n",
      "    Freq: 30S, dtype: int64\n",
      "    \n",
      "    Upsample the series into 30 second bins and fill the\n",
      "    ``NaN`` values using the ``bfill`` method.\n",
      "    \n",
      "    >>> series.resample('30S').bfill()[0:5]\n",
      "    2000-01-01 00:00:00    0\n",
      "    2000-01-01 00:00:30    1\n",
      "    2000-01-01 00:01:00    1\n",
      "    2000-01-01 00:01:30    2\n",
      "    2000-01-01 00:02:00    2\n",
      "    Freq: 30S, dtype: int64\n",
      "    \n",
      "    Pass a custom function via ``apply``\n",
      "    \n",
      "    >>> def custom_resampler(arraylike):\n",
      "    ...     return np.sum(arraylike) + 5\n",
      "    ...\n",
      "    >>> series.resample('3T').apply(custom_resampler)\n",
      "    2000-01-01 00:00:00     8\n",
      "    2000-01-01 00:03:00    17\n",
      "    2000-01-01 00:06:00    26\n",
      "    Freq: 3T, dtype: int64\n",
      "    \n",
      "    For a Series with a PeriodIndex, the keyword `convention` can be\n",
      "    used to control whether to use the start or end of `rule`.\n",
      "    \n",
      "    Resample a year by quarter using 'start' `convention`. Values are\n",
      "    assigned to the first quarter of the period.\n",
      "    \n",
      "    >>> s = pd.Series([1, 2], index=pd.period_range('2012-01-01',\n",
      "    ...                                             freq='A',\n",
      "    ...                                             periods=2))\n",
      "    >>> s\n",
      "    2012    1\n",
      "    2013    2\n",
      "    Freq: A-DEC, dtype: int64\n",
      "    >>> s.resample('Q', convention='start').asfreq()\n",
      "    2012Q1    1.0\n",
      "    2012Q2    NaN\n",
      "    2012Q3    NaN\n",
      "    2012Q4    NaN\n",
      "    2013Q1    2.0\n",
      "    2013Q2    NaN\n",
      "    2013Q3    NaN\n",
      "    2013Q4    NaN\n",
      "    Freq: Q-DEC, dtype: float64\n",
      "    \n",
      "    Resample quarters by month using 'end' `convention`. Values are\n",
      "    assigned to the last month of the period.\n",
      "    \n",
      "    >>> q = pd.Series([1, 2, 3, 4], index=pd.period_range('2018-01-01',\n",
      "    ...                                                   freq='Q',\n",
      "    ...                                                   periods=4))\n",
      "    >>> q\n",
      "    2018Q1    1\n",
      "    2018Q2    2\n",
      "    2018Q3    3\n",
      "    2018Q4    4\n",
      "    Freq: Q-DEC, dtype: int64\n",
      "    >>> q.resample('M', convention='end').asfreq()\n",
      "    2018-03    1.0\n",
      "    2018-04    NaN\n",
      "    2018-05    NaN\n",
      "    2018-06    2.0\n",
      "    2018-07    NaN\n",
      "    2018-08    NaN\n",
      "    2018-09    3.0\n",
      "    2018-10    NaN\n",
      "    2018-11    NaN\n",
      "    2018-12    4.0\n",
      "    Freq: M, dtype: float64\n",
      "    \n",
      "    For DataFrame objects, the keyword `on` can be used to specify the\n",
      "    column instead of the index for resampling.\n",
      "    \n",
      "    >>> d = {'price': [10, 11, 9, 13, 14, 18, 17, 19],\n",
      "    ...      'volume': [50, 60, 40, 100, 50, 100, 40, 50]}\n",
      "    >>> df = pd.DataFrame(d)\n",
      "    >>> df['week_starting'] = pd.date_range('01/01/2018',\n",
      "    ...                                     periods=8,\n",
      "    ...                                     freq='W')\n",
      "    >>> df\n",
      "       price  volume week_starting\n",
      "    0     10      50    2018-01-07\n",
      "    1     11      60    2018-01-14\n",
      "    2      9      40    2018-01-21\n",
      "    3     13     100    2018-01-28\n",
      "    4     14      50    2018-02-04\n",
      "    5     18     100    2018-02-11\n",
      "    6     17      40    2018-02-18\n",
      "    7     19      50    2018-02-25\n",
      "    >>> df.resample('M', on='week_starting').mean()\n",
      "                   price  volume\n",
      "    week_starting\n",
      "    2018-01-31     10.75    62.5\n",
      "    2018-02-28     17.00    60.0\n",
      "    \n",
      "    For a DataFrame with MultiIndex, the keyword `level` can be used to\n",
      "    specify on which level the resampling needs to take place.\n",
      "    \n",
      "    >>> days = pd.date_range('1/1/2000', periods=4, freq='D')\n",
      "    >>> d2 = {'price': [10, 11, 9, 13, 14, 18, 17, 19],\n",
      "    ...       'volume': [50, 60, 40, 100, 50, 100, 40, 50]}\n",
      "    >>> df2 = pd.DataFrame(\n",
      "    ...     d2,\n",
      "    ...     index=pd.MultiIndex.from_product(\n",
      "    ...         [days, ['morning', 'afternoon']]\n",
      "    ...     )\n",
      "    ... )\n",
      "    >>> df2\n",
      "                          price  volume\n",
      "    2000-01-01 morning       10      50\n",
      "               afternoon     11      60\n",
      "    2000-01-02 morning        9      40\n",
      "               afternoon     13     100\n",
      "    2000-01-03 morning       14      50\n",
      "               afternoon     18     100\n",
      "    2000-01-04 morning       17      40\n",
      "               afternoon     19      50\n",
      "    >>> df2.resample('D', level=0).sum()\n",
      "                price  volume\n",
      "    2000-01-01     21     110\n",
      "    2000-01-02     22     140\n",
      "    2000-01-03     32     150\n",
      "    2000-01-04     36      90\n",
      "    \n",
      "    If you want to adjust the start of the bins based on a fixed timestamp:\n",
      "    \n",
      "    >>> start, end = '2000-10-01 23:30:00', '2000-10-02 00:30:00'\n",
      "    >>> rng = pd.date_range(start, end, freq='7min')\n",
      "    >>> ts = pd.Series(np.arange(len(rng)) * 3, index=rng)\n",
      "    >>> ts\n",
      "    2000-10-01 23:30:00     0\n",
      "    2000-10-01 23:37:00     3\n",
      "    2000-10-01 23:44:00     6\n",
      "    2000-10-01 23:51:00     9\n",
      "    2000-10-01 23:58:00    12\n",
      "    2000-10-02 00:05:00    15\n",
      "    2000-10-02 00:12:00    18\n",
      "    2000-10-02 00:19:00    21\n",
      "    2000-10-02 00:26:00    24\n",
      "    Freq: 7T, dtype: int64\n",
      "    \n",
      "    >>> ts.resample('17min').sum()\n",
      "    2000-10-01 23:14:00     0\n",
      "    2000-10-01 23:31:00     9\n",
      "    2000-10-01 23:48:00    21\n",
      "    2000-10-02 00:05:00    54\n",
      "    2000-10-02 00:22:00    24\n",
      "    Freq: 17T, dtype: int64\n",
      "    \n",
      "    >>> ts.resample('17min', origin='epoch').sum()\n",
      "    2000-10-01 23:18:00     0\n",
      "    2000-10-01 23:35:00    18\n",
      "    2000-10-01 23:52:00    27\n",
      "    2000-10-02 00:09:00    39\n",
      "    2000-10-02 00:26:00    24\n",
      "    Freq: 17T, dtype: int64\n",
      "    \n",
      "    >>> ts.resample('17min', origin='2000-01-01').sum()\n",
      "    2000-10-01 23:24:00     3\n",
      "    2000-10-01 23:41:00    15\n",
      "    2000-10-01 23:58:00    45\n",
      "    2000-10-02 00:15:00    45\n",
      "    Freq: 17T, dtype: int64\n",
      "    \n",
      "    If you want to adjust the start of the bins with an `offset` Timedelta, the two\n",
      "    following lines are equivalent:\n",
      "    \n",
      "    >>> ts.resample('17min', origin='start').sum()\n",
      "    2000-10-01 23:30:00     9\n",
      "    2000-10-01 23:47:00    21\n",
      "    2000-10-02 00:04:00    54\n",
      "    2000-10-02 00:21:00    24\n",
      "    Freq: 17T, dtype: int64\n",
      "    \n",
      "    >>> ts.resample('17min', offset='23h30min').sum()\n",
      "    2000-10-01 23:30:00     9\n",
      "    2000-10-01 23:47:00    21\n",
      "    2000-10-02 00:04:00    54\n",
      "    2000-10-02 00:21:00    24\n",
      "    Freq: 17T, dtype: int64\n",
      "    \n",
      "    If you want to take the largest Timestamp as the end of the bins:\n",
      "    \n",
      "    >>> ts.resample('17min', origin='end').sum()\n",
      "    2000-10-01 23:35:00     0\n",
      "    2000-10-01 23:52:00    18\n",
      "    2000-10-02 00:09:00    27\n",
      "    2000-10-02 00:26:00    63\n",
      "    Freq: 17T, dtype: int64\n",
      "    \n",
      "    In contrast with the `start_day`, you can use `end_day` to take the ceiling\n",
      "    midnight of the largest Timestamp as the end of the bins and drop the bins\n",
      "    not containing data:\n",
      "    \n",
      "    >>> ts.resample('17min', origin='end_day').sum()\n",
      "    2000-10-01 23:38:00     3\n",
      "    2000-10-01 23:55:00    15\n",
      "    2000-10-02 00:12:00    45\n",
      "    2000-10-02 00:29:00    45\n",
      "    Freq: 17T, dtype: int64\n",
      "    \n",
      "    To replace the use of the deprecated `base` argument, you can now use `offset`,\n",
      "    in this example it is equivalent to have `base=2`:\n",
      "    \n",
      "    >>> ts.resample('17min', offset='2min').sum()\n",
      "    2000-10-01 23:16:00     0\n",
      "    2000-10-01 23:33:00     9\n",
      "    2000-10-01 23:50:00    36\n",
      "    2000-10-02 00:07:00    39\n",
      "    2000-10-02 00:24:00    24\n",
      "    Freq: 17T, dtype: int64\n",
      "    \n",
      "    To replace the use of the deprecated `loffset` argument:\n",
      "    \n",
      "    >>> from pandas.tseries.frequencies import to_offset\n",
      "    >>> loffset = '19min'\n",
      "    >>> ts_out = ts.resample('17min').sum()\n",
      "    >>> ts_out.index = ts_out.index + to_offset(loffset)\n",
      "    >>> ts_out\n",
      "    2000-10-01 23:33:00     0\n",
      "    2000-10-01 23:50:00     9\n",
      "    2000-10-02 00:07:00    21\n",
      "    2000-10-02 00:24:00    54\n",
      "    2000-10-02 00:41:00    24\n",
      "    Freq: 17T, dtype: int64\n",
      "\n"
     ]
    }
   ],
   "source": [
    "help(pd.DataFrame.resample)"
   ]
  },
  {
   "cell_type": "code",
   "execution_count": 140,
   "metadata": {},
   "outputs": [],
   "source": [
    "spoiled_df.to_csv('clean_df.csv', index=False)"
   ]
  },
  {
   "cell_type": "markdown",
   "metadata": {},
   "source": [
    "Save the new csv:\n",
    "\n",
    "> Note : The  csv file cannot be viewed in the jupyterlite based SN labs environment.However you can Click <a href=\"https://cf-courses-data.s3.us.cloud-object-storage.appdomain.cloud/IBMDeveloperSkillsNetwork-DA0101EN-SkillsNetwork/labs/Module%202/DA0101EN-2-Review-Data-Wrangling.ipynb?utm_medium=Exinfluencer&utm_source=Exinfluencer&utm_content=000026UJ&utm_term=10006555&utm_id=NA-SkillsNetwork-Channel-SkillsNetworkCoursesIBMDeveloperSkillsNetworkDA0101ENSkillsNetwork20235326-2022-01-01\">HERE ???</a> to download the lab notebook (.ipynb) to your local machine and view the csv file once the notebook is executed.\n"
   ]
  },
  {
   "cell_type": "markdown",
   "metadata": {},
   "source": [
    "### Thank you for completing this lab!\n",
    "\n",
    "## Author\n",
    "\n",
    "<a href=\"https://www.linkedin.com/in/joseph-s-50398b136/?utm_medium=Exinfluencer&utm_source=Exinfluencer&utm_content=000026UJ&utm_term=10006555&utm_id=NA-SkillsNetwork-Channel-SkillsNetworkCoursesIBMDeveloperSkillsNetworkDA0101ENSkillsNetwork20235326-2021-01-01\" target=\"_blank\">Joseph Santarcangelo</a>\n",
    "\n",
    "### Other Contributors\n",
    "\n",
    "<a href=\"https://www.linkedin.com/in/mahdi-noorian-58219234/?utm_medium=Exinfluencer&utm_source=Exinfluencer&utm_content=000026UJ&utm_term=10006555&utm_id=NA-SkillsNetwork-Channel-SkillsNetworkCoursesIBMDeveloperSkillsNetworkDA0101ENSkillsNetwork20235326-2021-01-01\" target=\"_blank\">Mahdi Noorian PhD</a>\n",
    "\n",
    "Bahare Talayian\n",
    "\n",
    "Eric Xiao\n",
    "\n",
    "Steven Dong\n",
    "\n",
    "Parizad\n",
    "\n",
    "Hima Vasudevan\n",
    "\n",
    "<a href=\"https://www.linkedin.com/in/fiorellawever/?utm_medium=Exinfluencer&utm_source=Exinfluencer&utm_content=000026UJ&utm_term=10006555&utm_id=NA-SkillsNetwork-Channel-SkillsNetworkCoursesIBMDeveloperSkillsNetworkDA0101ENSkillsNetwork20235326-2021-01-01\" target=\"_blank\">Fiorella Wenver</a>\n",
    "\n",
    "<a href=\"https:// https://www.linkedin.com/in/yi-leng-yao-84451275/ \" target=\"_blank\" >Yi Yao</a>.\n",
    "\n",
    "## Change Log\n",
    "\n",
    "| Date (YYYY-MM-DD) | Version | Changed By | Change Description                  |\n",
    "| ----------------- | ------- | ---------- | ----------------------------------- |\n",
    "| 2022-04-22        | 2.3     | Lakshmi    | Made changes in markdown file       |\n",
    "| 2020-10-30        | 2.2     | Lakshmi    | Changed URL of csv                  |\n",
    "| 2020-09-09        | 2.1     | Lakshmi    | Updated Indicator Variables section |\n",
    "| 2020-08-27        | 2.0     | Lavanya    | Moved lab to course repo in GitLab  |\n",
    "\n",
    "<hr>\n",
    "\n",
    "## <h3 align=\"center\"> © IBM Corporation 2020. All rights reserved. <h3/>\n"
   ]
  }
 ],
 "metadata": {
  "anaconda-cloud": {},
  "kernelspec": {
   "display_name": "Python 3 (ipykernel)",
   "language": "python",
   "name": "python3"
  },
  "language_info": {
   "codemirror_mode": {
    "name": "ipython",
    "version": 3
   },
   "file_extension": ".py",
   "mimetype": "text/x-python",
   "name": "python",
   "nbconvert_exporter": "python",
   "pygments_lexer": "ipython3",
   "version": "3.9.7"
  }
 },
 "nbformat": 4,
 "nbformat_minor": 4
}
