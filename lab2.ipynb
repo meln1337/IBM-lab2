{
 "cells": [
  {
   "cell_type": "markdown",
   "metadata": {},
   "source": [
    "<center>\n",
    "    <img src=\"https://cf-courses-data.s3.us.cloud-object-storage.appdomain.cloud/IBMDeveloperSkillsNetwork-DA0101EN-SkillsNetwork/labs/Module%202/images/IDSNlogo.png\" width=\"300\" alt=\"cognitiveclass.ai logo\"  />\n",
    "</center>\n",
    "\n",
    "# Data Wrangling\n",
    "\n",
    "Estimated time needed: **30** minutes\n",
    "\n",
    "## Objectives\n",
    "\n",
    "After completing this lab you will be able to:\n",
    "\n",
    "*   Handle missing values\n",
    "*   Correct data format\n",
    "*   Standardize and normalize data\n"
   ]
  },
  {
   "cell_type": "markdown",
   "metadata": {},
   "source": [
    "<h2>Table of Contents</h2>\n",
    "\n",
    "<div class=\"alert alert-block alert-info\" style=\"margin-top: 20px\">\n",
    "<ul>\n",
    "    <li><a href=\"https://#identify_handle_missing_values\">Identify and handle missing values</a>\n",
    "        <ul>\n",
    "            <li><a href=\"https://#identify_missing_values\">Identify missing values</a></li>\n",
    "            <li><a href=\"https://#deal_missing_values\">Deal with missing values</a></li>\n",
    "            <li><a href=\"https://#correct_data_format\">Correct data format</a></li>\n",
    "        </ul>\n",
    "    </li>\n",
    "    <li><a href=\"https://#data_standardization\">Data standardization</a></li>\n",
    "    <li><a href=\"https://#data_normalization\">Data normalization (centering/scaling)</a></li>\n",
    "    <li><a href=\"https://#binning\">Binning</a></li>\n",
    "    <li><a href=\"https://#indicator\">Indicator variable</a></li>\n",
    "</ul>\n",
    "\n",
    "</div>\n",
    "\n",
    "<hr>\n"
   ]
  },
  {
   "cell_type": "markdown",
   "metadata": {},
   "source": [
    "<h2>What is the purpose of data wrangling?</h2>\n"
   ]
  },
  {
   "cell_type": "markdown",
   "metadata": {},
   "source": [
    "Data wrangling is the process of converting data from the initial format to a format that may be better for analysis.\n"
   ]
  },
  {
   "cell_type": "markdown",
   "metadata": {
    "jp-MarkdownHeadingCollapsed": true,
    "tags": []
   },
   "source": [
    "<h3>How to convert BUSD to USDT?</h3>\n"
   ]
  },
  {
   "cell_type": "markdown",
   "metadata": {},
   "source": [
    "<h3>Import data</h3>\n",
    "<p>\n",
    "You can find the \"APEBUSD Dataset\" from the following link: <a href=\"https://1824251045.rsc.cdn77.org/web/algohouse/data/APEBUSD_trades_1m.csv\">https://1824251045.rsc.cdn77.org/web/algohouse/data/APEBUSD_trades_1m.csv</a>. \n",
    "We will be using this dataset throughout this course.\n",
    "</p>\n"
   ]
  },
  {
   "cell_type": "markdown",
   "metadata": {},
   "source": [
    "<h4>Import pandas</h4> \n"
   ]
  },
  {
   "cell_type": "markdown",
   "metadata": {},
   "source": [
    "you are running the lab in your  browser, so we will install the libraries using `piplite`\n"
   ]
  },
  {
   "cell_type": "code",
   "execution_count": 2,
   "metadata": {},
   "outputs": [],
   "source": [
    "import piplite\n",
    "await piplite.install(['pandas'])\n",
    "await piplite.install(['matplotlib'])"
   ]
  },
  {
   "cell_type": "markdown",
   "metadata": {},
   "source": [
    "If you run the lab locally using Anaconda, you can load the correct library and versions by uncommenting the following:\n"
   ]
  },
  {
   "cell_type": "code",
   "execution_count": null,
   "metadata": {},
   "outputs": [],
   "source": [
    "#If you run the lab locally using Anaconda, you can load the correct library and versions by uncommenting the following:\n",
    "#install specific version of libraries used in lab\n",
    "#! mamba install pandas==1.3.3\n",
    "#! mamba install numpy=1.21.2\n"
   ]
  },
  {
   "cell_type": "code",
   "execution_count": 166,
   "metadata": {},
   "outputs": [],
   "source": [
    "import pandas as pd\n",
    "import numpy as np"
   ]
  },
  {
   "cell_type": "markdown",
   "metadata": {},
   "source": [
    "This function will download the dataset into your browser\n"
   ]
  },
  {
   "cell_type": "code",
   "execution_count": null,
   "metadata": {},
   "outputs": [],
   "source": [
    "#This function will download the dataset into your browser \n",
    "from pyodide.http import pyfetch\n",
    "\n",
    "async def download(url, filename):\n",
    "    response = await pyfetch(url)\n",
    "    if response.status == 200:\n",
    "        with open(filename, \"wb\") as f:\n",
    "            f.write(await response.bytes())\n",
    "\n"
   ]
  },
  {
   "cell_type": "markdown",
   "metadata": {},
   "source": [
    "<h2>Reading the dataset from the URL</h2>\n"
   ]
  },
  {
   "cell_type": "markdown",
   "metadata": {},
   "source": [
    "First, we assign the URL of the dataset to \"filename\".\n"
   ]
  },
  {
   "cell_type": "markdown",
   "metadata": {},
   "source": [
    "This dataset was hosted on IBM Cloud object. Click <a href=\"https://1824251045.rsc.cdn77.org/web/algohouse/data/APEBUSD_trades_1m.csv\">HERE</a> for free storage.\n"
   ]
  },
  {
   "cell_type": "code",
   "execution_count": 2,
   "metadata": {},
   "outputs": [],
   "source": [
    "filename = \"https://1824251045.rsc.cdn77.org/web/algohouse/data/APEBUSD_trades_1m.csv\""
   ]
  },
  {
   "cell_type": "markdown",
   "metadata": {},
   "source": [
    "you will need to download the dataset; if you are running locally, please comment out the following\n"
   ]
  },
  {
   "cell_type": "code",
   "execution_count": 3,
   "metadata": {},
   "outputs": [],
   "source": [
    "await download(filename, \"APEBUSD_trades_1m.csv\")\n",
    "filename = \"APEBUSD_trades_1m.csv\""
   ]
  },
  {
   "cell_type": "markdown",
   "metadata": {},
   "source": [
    "Use the Pandas method <b>read_csv()</b> to load the data from the web address. Set the parameter  \"names\" equal to the Python list \"headers\".\n"
   ]
  },
  {
   "cell_type": "code",
   "execution_count": 167,
   "metadata": {},
   "outputs": [],
   "source": [
    "df = pd.read_csv(filename, index_col=0)"
   ]
  },
  {
   "cell_type": "markdown",
   "metadata": {},
   "source": [
    "Use the method <b>head()</b> to display the first five rows of the dataframe.\n"
   ]
  },
  {
   "cell_type": "code",
   "execution_count": 168,
   "metadata": {},
   "outputs": [
    {
     "data": {
      "text/html": [
       "<div>\n",
       "<style scoped>\n",
       "    .dataframe tbody tr th:only-of-type {\n",
       "        vertical-align: middle;\n",
       "    }\n",
       "\n",
       "    .dataframe tbody tr th {\n",
       "        vertical-align: top;\n",
       "    }\n",
       "\n",
       "    .dataframe thead th {\n",
       "        text-align: right;\n",
       "    }\n",
       "</style>\n",
       "<table border=\"1\" class=\"dataframe\">\n",
       "  <thead>\n",
       "    <tr style=\"text-align: right;\">\n",
       "      <th></th>\n",
       "      <th>ts</th>\n",
       "      <th>open</th>\n",
       "      <th>high</th>\n",
       "      <th>low</th>\n",
       "      <th>close</th>\n",
       "      <th>volume</th>\n",
       "      <th>rec_count</th>\n",
       "      <th>avg_price</th>\n",
       "    </tr>\n",
       "  </thead>\n",
       "  <tbody>\n",
       "    <tr>\n",
       "      <th>0</th>\n",
       "      <td>2022-11-11 14:38:00</td>\n",
       "      <td>3.096</td>\n",
       "      <td>3.096</td>\n",
       "      <td>3.076</td>\n",
       "      <td>3.077</td>\n",
       "      <td>2733.3</td>\n",
       "      <td>34</td>\n",
       "      <td>3.0847324845</td>\n",
       "    </tr>\n",
       "    <tr>\n",
       "      <th>1</th>\n",
       "      <td>2022-11-11 14:39:00</td>\n",
       "      <td>3.073</td>\n",
       "      <td>3.077</td>\n",
       "      <td>3.064</td>\n",
       "      <td>3.065</td>\n",
       "      <td>5353.1</td>\n",
       "      <td>40</td>\n",
       "      <td>3.0696442622</td>\n",
       "    </tr>\n",
       "    <tr>\n",
       "      <th>2</th>\n",
       "      <td>2022-11-11 14:40:00</td>\n",
       "      <td>3.068</td>\n",
       "      <td>3.075</td>\n",
       "      <td>3.062</td>\n",
       "      <td>3.075</td>\n",
       "      <td>5582.2</td>\n",
       "      <td>34</td>\n",
       "      <td>3.0710290746</td>\n",
       "    </tr>\n",
       "    <tr>\n",
       "      <th>3</th>\n",
       "      <td>2022-11-11 14:41:00</td>\n",
       "      <td>3.075</td>\n",
       "      <td>3.091</td>\n",
       "      <td>3.069</td>\n",
       "      <td>3.085</td>\n",
       "      <td>10358.0</td>\n",
       "      <td>43</td>\n",
       "      <td>3.0843931647</td>\n",
       "    </tr>\n",
       "    <tr>\n",
       "      <th>4</th>\n",
       "      <td>2022-11-11 14:42:00</td>\n",
       "      <td>3.085</td>\n",
       "      <td>3.093</td>\n",
       "      <td>3.074</td>\n",
       "      <td>3.074</td>\n",
       "      <td>9567.6</td>\n",
       "      <td>38</td>\n",
       "      <td>3.0880945796</td>\n",
       "    </tr>\n",
       "  </tbody>\n",
       "</table>\n",
       "</div>"
      ],
      "text/plain": [
       "                    ts   open   high    low  close   volume  rec_count  \\\n",
       "0  2022-11-11 14:38:00  3.096  3.096  3.076  3.077   2733.3         34   \n",
       "1  2022-11-11 14:39:00  3.073  3.077  3.064  3.065   5353.1         40   \n",
       "2  2022-11-11 14:40:00  3.068  3.075  3.062  3.075   5582.2         34   \n",
       "3  2022-11-11 14:41:00  3.075  3.091  3.069  3.085  10358.0         43   \n",
       "4  2022-11-11 14:42:00  3.085  3.093  3.074  3.074   9567.6         38   \n",
       "\n",
       "      avg_price  \n",
       "0  3.0847324845  \n",
       "1  3.0696442622  \n",
       "2  3.0710290746  \n",
       "3  3.0843931647  \n",
       "4  3.0880945796  "
      ]
     },
     "execution_count": 168,
     "metadata": {},
     "output_type": "execute_result"
    }
   ],
   "source": [
    "# To see what the data set looks like, we'll use the head() method.\n",
    "df.head()"
   ]
  },
  {
   "cell_type": "markdown",
   "metadata": {},
   "source": [
    "Our data now is clean but let's spoil them to show how we can deal with missing values and incorrect data\n",
    "\n",
    "<div>Let's define <b>spoil_df</b> function which produces incorrect data of 3 types:</div>\n",
    "\n",
    "<ol>\n",
    "    <li>Text data (we work with numbers)</li>\n",
    "    <li>Negative values (we work only with positive values)</li>\n",
    "    <li>Missing values (NaN)</li>\n",
    "</ol>"
   ]
  },
  {
   "cell_type": "code",
   "execution_count": 169,
   "metadata": {},
   "outputs": [],
   "source": [
    "def spoil_df(df: pd.DataFrame, cols: list = [\"open\", \"high\", \"low\", \"close\", \"volume\", \"rec_count\", \"avg_price\"]):\n",
    "    rng = np.random.default_rng(seed=42)\n",
    "    new_df = df.copy()\n",
    "    for col in cols:\n",
    "        m = rng.random(len(df))\n",
    "        l1 = 0.03 # NaN\n",
    "        l2 = 0.04 # Text\n",
    "        l3 = 0.03 # Negative\n",
    "\n",
    "        mask1 = m < l1 # NaN\n",
    "        mask2 = (m >= l1) & (m < l1+l2) # Text\n",
    "        mask3 = (m >= l1+l2) & (m < l1+l2+l3) # Negative\n",
    "\n",
    "        new_df.loc[mask1, col] = np.NaN\n",
    "        new_df.loc[mask2, col] = \"?\"\n",
    "        new_df.loc[mask3, col] = -new_df.loc[mask3, col]\n",
    "    return new_df"
   ]
  },
  {
   "cell_type": "code",
   "execution_count": 170,
   "metadata": {},
   "outputs": [],
   "source": [
    "spoiled_df = spoil_df(df)"
   ]
  },
  {
   "cell_type": "code",
   "execution_count": 171,
   "metadata": {},
   "outputs": [
    {
     "data": {
      "text/html": [
       "<div>\n",
       "<style scoped>\n",
       "    .dataframe tbody tr th:only-of-type {\n",
       "        vertical-align: middle;\n",
       "    }\n",
       "\n",
       "    .dataframe tbody tr th {\n",
       "        vertical-align: top;\n",
       "    }\n",
       "\n",
       "    .dataframe thead th {\n",
       "        text-align: right;\n",
       "    }\n",
       "</style>\n",
       "<table border=\"1\" class=\"dataframe\">\n",
       "  <thead>\n",
       "    <tr style=\"text-align: right;\">\n",
       "      <th></th>\n",
       "      <th>ts</th>\n",
       "      <th>open</th>\n",
       "      <th>high</th>\n",
       "      <th>low</th>\n",
       "      <th>close</th>\n",
       "      <th>volume</th>\n",
       "      <th>rec_count</th>\n",
       "      <th>avg_price</th>\n",
       "    </tr>\n",
       "  </thead>\n",
       "  <tbody>\n",
       "    <tr>\n",
       "      <th>0</th>\n",
       "      <td>2022-11-11 14:38:00</td>\n",
       "      <td>3.096</td>\n",
       "      <td>3.096</td>\n",
       "      <td>3.076</td>\n",
       "      <td>3.077</td>\n",
       "      <td>2733.3</td>\n",
       "      <td>34.0</td>\n",
       "      <td>3.0847324845</td>\n",
       "    </tr>\n",
       "    <tr>\n",
       "      <th>1</th>\n",
       "      <td>2022-11-11 14:39:00</td>\n",
       "      <td>3.073</td>\n",
       "      <td>3.077</td>\n",
       "      <td>3.064</td>\n",
       "      <td>3.065</td>\n",
       "      <td>5353.1</td>\n",
       "      <td>40.0</td>\n",
       "      <td>NaN</td>\n",
       "    </tr>\n",
       "    <tr>\n",
       "      <th>2</th>\n",
       "      <td>2022-11-11 14:40:00</td>\n",
       "      <td>3.068</td>\n",
       "      <td>3.075</td>\n",
       "      <td>-3.062</td>\n",
       "      <td>3.075</td>\n",
       "      <td>5582.2</td>\n",
       "      <td>34.0</td>\n",
       "      <td>3.0710290746</td>\n",
       "    </tr>\n",
       "    <tr>\n",
       "      <th>3</th>\n",
       "      <td>2022-11-11 14:41:00</td>\n",
       "      <td>3.075</td>\n",
       "      <td>3.091</td>\n",
       "      <td>3.069</td>\n",
       "      <td>3.085</td>\n",
       "      <td>10358.0</td>\n",
       "      <td>43.0</td>\n",
       "      <td>3.0843931647</td>\n",
       "    </tr>\n",
       "    <tr>\n",
       "      <th>4</th>\n",
       "      <td>2022-11-11 14:42:00</td>\n",
       "      <td>-3.085</td>\n",
       "      <td>3.093</td>\n",
       "      <td>3.074</td>\n",
       "      <td>3.074</td>\n",
       "      <td>9567.6</td>\n",
       "      <td>38.0</td>\n",
       "      <td>3.0880945796</td>\n",
       "    </tr>\n",
       "    <tr>\n",
       "      <th>5</th>\n",
       "      <td>2022-11-11 14:43:00</td>\n",
       "      <td>3.076</td>\n",
       "      <td>?</td>\n",
       "      <td>3.073</td>\n",
       "      <td>3.079</td>\n",
       "      <td>NaN</td>\n",
       "      <td>27.0</td>\n",
       "      <td>3.0790112542</td>\n",
       "    </tr>\n",
       "    <tr>\n",
       "      <th>6</th>\n",
       "      <td>2022-11-11 14:44:00</td>\n",
       "      <td>3.082</td>\n",
       "      <td>3.094</td>\n",
       "      <td>3.082</td>\n",
       "      <td>3.092</td>\n",
       "      <td>8106.4</td>\n",
       "      <td>28.0</td>\n",
       "      <td>3.0891052872</td>\n",
       "    </tr>\n",
       "    <tr>\n",
       "      <th>7</th>\n",
       "      <td>2022-11-11 14:45:00</td>\n",
       "      <td>3.095</td>\n",
       "      <td>3.138</td>\n",
       "      <td>3.095</td>\n",
       "      <td>NaN</td>\n",
       "      <td>35545.1</td>\n",
       "      <td>67.0</td>\n",
       "      <td>3.1187005607</td>\n",
       "    </tr>\n",
       "    <tr>\n",
       "      <th>8</th>\n",
       "      <td>2022-11-11 14:46:00</td>\n",
       "      <td>3.137</td>\n",
       "      <td>3.154</td>\n",
       "      <td>3.12</td>\n",
       "      <td>3.153</td>\n",
       "      <td>17379.1</td>\n",
       "      <td>57.0</td>\n",
       "      <td>3.1384827925</td>\n",
       "    </tr>\n",
       "    <tr>\n",
       "      <th>9</th>\n",
       "      <td>2022-11-11 14:47:00</td>\n",
       "      <td>3.158</td>\n",
       "      <td>3.236</td>\n",
       "      <td>3.158</td>\n",
       "      <td>3.214</td>\n",
       "      <td>66603.7</td>\n",
       "      <td>75.0</td>\n",
       "      <td>3.1949342889</td>\n",
       "    </tr>\n",
       "  </tbody>\n",
       "</table>\n",
       "</div>"
      ],
      "text/plain": [
       "                    ts   open   high    low  close   volume rec_count  \\\n",
       "0  2022-11-11 14:38:00  3.096  3.096  3.076  3.077   2733.3      34.0   \n",
       "1  2022-11-11 14:39:00  3.073  3.077  3.064  3.065   5353.1      40.0   \n",
       "2  2022-11-11 14:40:00  3.068  3.075 -3.062  3.075   5582.2      34.0   \n",
       "3  2022-11-11 14:41:00  3.075  3.091  3.069  3.085  10358.0      43.0   \n",
       "4  2022-11-11 14:42:00 -3.085  3.093  3.074  3.074   9567.6      38.0   \n",
       "5  2022-11-11 14:43:00  3.076      ?  3.073  3.079      NaN      27.0   \n",
       "6  2022-11-11 14:44:00  3.082  3.094  3.082  3.092   8106.4      28.0   \n",
       "7  2022-11-11 14:45:00  3.095  3.138  3.095    NaN  35545.1      67.0   \n",
       "8  2022-11-11 14:46:00  3.137  3.154   3.12  3.153  17379.1      57.0   \n",
       "9  2022-11-11 14:47:00  3.158  3.236  3.158  3.214  66603.7      75.0   \n",
       "\n",
       "      avg_price  \n",
       "0  3.0847324845  \n",
       "1           NaN  \n",
       "2  3.0710290746  \n",
       "3  3.0843931647  \n",
       "4  3.0880945796  \n",
       "5  3.0790112542  \n",
       "6  3.0891052872  \n",
       "7  3.1187005607  \n",
       "8  3.1384827925  \n",
       "9  3.1949342889  "
      ]
     },
     "execution_count": 171,
     "metadata": {},
     "output_type": "execute_result"
    }
   ],
   "source": [
    "spoiled_df.head(10)"
   ]
  },
  {
   "cell_type": "markdown",
   "metadata": {},
   "source": [
    "As we can see, several question marks, negative values and NaN appeared in the dataframe; those are incorrect data which may hinders our further analysis.\n",
    "\n",
    "<div>So, how do we identify all that incorrect data and deal with it?</div> \n",
    "\n",
    "<b>How to work with incorrect data?</b>\n",
    "\n",
    "Steps for working with incorrect data:\n",
    "\n",
    "<ol>\n",
    "    <li>Identify incorrect data</li>\n",
    "    <li>Deal with incorrect data</li>\n",
    "    <li>Correct data format</li>\n",
    "</ol>\n"
   ]
  },
  {
   "cell_type": "markdown",
   "metadata": {},
   "source": [
    "<h2 id=\"identify_handle_missing_values\">Identify and handle incorrect values</h2>\n",
    "\n",
    "<h3 id=\"identify_missing_values\">Identify incorrect values</h3>\n",
    "<h4>Convert \"?\" to NaN</h4>\n",
    "In the APEBUSD dataset, missing data comes with the question mark \"?\".\n",
    "We replace \"?\" with NaN (Not a Number), Python's default missing value marker for reasons of computational speed and convenience. Here we use the function: \n",
    " <pre>.replace(A, B, inplace = True) </pre>\n",
    "to replace A by B.\n"
   ]
  },
  {
   "cell_type": "code",
   "execution_count": 172,
   "metadata": {},
   "outputs": [
    {
     "data": {
      "text/html": [
       "<div>\n",
       "<style scoped>\n",
       "    .dataframe tbody tr th:only-of-type {\n",
       "        vertical-align: middle;\n",
       "    }\n",
       "\n",
       "    .dataframe tbody tr th {\n",
       "        vertical-align: top;\n",
       "    }\n",
       "\n",
       "    .dataframe thead th {\n",
       "        text-align: right;\n",
       "    }\n",
       "</style>\n",
       "<table border=\"1\" class=\"dataframe\">\n",
       "  <thead>\n",
       "    <tr style=\"text-align: right;\">\n",
       "      <th></th>\n",
       "      <th>ts</th>\n",
       "      <th>open</th>\n",
       "      <th>high</th>\n",
       "      <th>low</th>\n",
       "      <th>close</th>\n",
       "      <th>volume</th>\n",
       "      <th>rec_count</th>\n",
       "      <th>avg_price</th>\n",
       "    </tr>\n",
       "  </thead>\n",
       "  <tbody>\n",
       "    <tr>\n",
       "      <th>0</th>\n",
       "      <td>2022-11-11 14:38:00</td>\n",
       "      <td>3.096</td>\n",
       "      <td>3.096</td>\n",
       "      <td>3.076</td>\n",
       "      <td>3.077</td>\n",
       "      <td>2733.3</td>\n",
       "      <td>34.0</td>\n",
       "      <td>3.0847324845</td>\n",
       "    </tr>\n",
       "    <tr>\n",
       "      <th>1</th>\n",
       "      <td>2022-11-11 14:39:00</td>\n",
       "      <td>3.073</td>\n",
       "      <td>3.077</td>\n",
       "      <td>3.064</td>\n",
       "      <td>3.065</td>\n",
       "      <td>5353.1</td>\n",
       "      <td>40.0</td>\n",
       "      <td>NaN</td>\n",
       "    </tr>\n",
       "    <tr>\n",
       "      <th>2</th>\n",
       "      <td>2022-11-11 14:40:00</td>\n",
       "      <td>3.068</td>\n",
       "      <td>3.075</td>\n",
       "      <td>-3.062</td>\n",
       "      <td>3.075</td>\n",
       "      <td>5582.2</td>\n",
       "      <td>34.0</td>\n",
       "      <td>3.0710290746</td>\n",
       "    </tr>\n",
       "    <tr>\n",
       "      <th>3</th>\n",
       "      <td>2022-11-11 14:41:00</td>\n",
       "      <td>3.075</td>\n",
       "      <td>3.091</td>\n",
       "      <td>3.069</td>\n",
       "      <td>3.085</td>\n",
       "      <td>10358.0</td>\n",
       "      <td>43.0</td>\n",
       "      <td>3.0843931647</td>\n",
       "    </tr>\n",
       "    <tr>\n",
       "      <th>4</th>\n",
       "      <td>2022-11-11 14:42:00</td>\n",
       "      <td>-3.085</td>\n",
       "      <td>3.093</td>\n",
       "      <td>3.074</td>\n",
       "      <td>3.074</td>\n",
       "      <td>9567.6</td>\n",
       "      <td>38.0</td>\n",
       "      <td>3.0880945796</td>\n",
       "    </tr>\n",
       "    <tr>\n",
       "      <th>5</th>\n",
       "      <td>2022-11-11 14:43:00</td>\n",
       "      <td>3.076</td>\n",
       "      <td>NaN</td>\n",
       "      <td>3.073</td>\n",
       "      <td>3.079</td>\n",
       "      <td>NaN</td>\n",
       "      <td>27.0</td>\n",
       "      <td>3.0790112542</td>\n",
       "    </tr>\n",
       "    <tr>\n",
       "      <th>6</th>\n",
       "      <td>2022-11-11 14:44:00</td>\n",
       "      <td>3.082</td>\n",
       "      <td>3.094</td>\n",
       "      <td>3.082</td>\n",
       "      <td>3.092</td>\n",
       "      <td>8106.4</td>\n",
       "      <td>28.0</td>\n",
       "      <td>3.0891052872</td>\n",
       "    </tr>\n",
       "    <tr>\n",
       "      <th>7</th>\n",
       "      <td>2022-11-11 14:45:00</td>\n",
       "      <td>3.095</td>\n",
       "      <td>3.138</td>\n",
       "      <td>3.095</td>\n",
       "      <td>NaN</td>\n",
       "      <td>35545.1</td>\n",
       "      <td>67.0</td>\n",
       "      <td>3.1187005607</td>\n",
       "    </tr>\n",
       "    <tr>\n",
       "      <th>8</th>\n",
       "      <td>2022-11-11 14:46:00</td>\n",
       "      <td>3.137</td>\n",
       "      <td>3.154</td>\n",
       "      <td>3.120</td>\n",
       "      <td>3.153</td>\n",
       "      <td>17379.1</td>\n",
       "      <td>57.0</td>\n",
       "      <td>3.1384827925</td>\n",
       "    </tr>\n",
       "    <tr>\n",
       "      <th>9</th>\n",
       "      <td>2022-11-11 14:47:00</td>\n",
       "      <td>3.158</td>\n",
       "      <td>3.236</td>\n",
       "      <td>3.158</td>\n",
       "      <td>3.214</td>\n",
       "      <td>66603.7</td>\n",
       "      <td>75.0</td>\n",
       "      <td>3.1949342889</td>\n",
       "    </tr>\n",
       "  </tbody>\n",
       "</table>\n",
       "</div>"
      ],
      "text/plain": [
       "                    ts   open   high    low  close   volume  rec_count  \\\n",
       "0  2022-11-11 14:38:00  3.096  3.096  3.076  3.077   2733.3       34.0   \n",
       "1  2022-11-11 14:39:00  3.073  3.077  3.064  3.065   5353.1       40.0   \n",
       "2  2022-11-11 14:40:00  3.068  3.075 -3.062  3.075   5582.2       34.0   \n",
       "3  2022-11-11 14:41:00  3.075  3.091  3.069  3.085  10358.0       43.0   \n",
       "4  2022-11-11 14:42:00 -3.085  3.093  3.074  3.074   9567.6       38.0   \n",
       "5  2022-11-11 14:43:00  3.076    NaN  3.073  3.079      NaN       27.0   \n",
       "6  2022-11-11 14:44:00  3.082  3.094  3.082  3.092   8106.4       28.0   \n",
       "7  2022-11-11 14:45:00  3.095  3.138  3.095    NaN  35545.1       67.0   \n",
       "8  2022-11-11 14:46:00  3.137  3.154  3.120  3.153  17379.1       57.0   \n",
       "9  2022-11-11 14:47:00  3.158  3.236  3.158  3.214  66603.7       75.0   \n",
       "\n",
       "      avg_price  \n",
       "0  3.0847324845  \n",
       "1           NaN  \n",
       "2  3.0710290746  \n",
       "3  3.0843931647  \n",
       "4  3.0880945796  \n",
       "5  3.0790112542  \n",
       "6  3.0891052872  \n",
       "7  3.1187005607  \n",
       "8  3.1384827925  \n",
       "9  3.1949342889  "
      ]
     },
     "execution_count": 172,
     "metadata": {},
     "output_type": "execute_result"
    }
   ],
   "source": [
    "# replace \"?\" to NaN\n",
    "spoiled_df.replace(\"?\", np.nan, inplace = True)\n",
    "spoiled_df.head(10)"
   ]
  },
  {
   "cell_type": "markdown",
   "metadata": {},
   "source": [
    "<h4>Convert negative values to NaN</h4>"
   ]
  },
  {
   "cell_type": "code",
   "execution_count": 173,
   "metadata": {},
   "outputs": [],
   "source": [
    "# replace negative values to NaN\n",
    "num_cols = [\"open\", \"high\", \"low\", \"close\", \"volume\", \"rec_count\", \"avg_price\"]\n",
    "ts = spoiled_df[\"ts\"]\n",
    "spoiled_df = pd.concat([ts, spoiled_df[num_cols].mask(spoiled_df[num_cols] < 0)], axis=1)"
   ]
  },
  {
   "cell_type": "code",
   "execution_count": 174,
   "metadata": {},
   "outputs": [
    {
     "data": {
      "text/html": [
       "<div>\n",
       "<style scoped>\n",
       "    .dataframe tbody tr th:only-of-type {\n",
       "        vertical-align: middle;\n",
       "    }\n",
       "\n",
       "    .dataframe tbody tr th {\n",
       "        vertical-align: top;\n",
       "    }\n",
       "\n",
       "    .dataframe thead th {\n",
       "        text-align: right;\n",
       "    }\n",
       "</style>\n",
       "<table border=\"1\" class=\"dataframe\">\n",
       "  <thead>\n",
       "    <tr style=\"text-align: right;\">\n",
       "      <th></th>\n",
       "      <th>ts</th>\n",
       "      <th>open</th>\n",
       "      <th>high</th>\n",
       "      <th>low</th>\n",
       "      <th>close</th>\n",
       "      <th>volume</th>\n",
       "      <th>rec_count</th>\n",
       "      <th>avg_price</th>\n",
       "    </tr>\n",
       "  </thead>\n",
       "  <tbody>\n",
       "    <tr>\n",
       "      <th>0</th>\n",
       "      <td>2022-11-11 14:38:00</td>\n",
       "      <td>3.096</td>\n",
       "      <td>3.096</td>\n",
       "      <td>3.076</td>\n",
       "      <td>3.077</td>\n",
       "      <td>2733.3</td>\n",
       "      <td>34.0</td>\n",
       "      <td>3.0847324845</td>\n",
       "    </tr>\n",
       "    <tr>\n",
       "      <th>1</th>\n",
       "      <td>2022-11-11 14:39:00</td>\n",
       "      <td>3.073</td>\n",
       "      <td>3.077</td>\n",
       "      <td>3.064</td>\n",
       "      <td>3.065</td>\n",
       "      <td>5353.1</td>\n",
       "      <td>40.0</td>\n",
       "      <td>NaN</td>\n",
       "    </tr>\n",
       "    <tr>\n",
       "      <th>2</th>\n",
       "      <td>2022-11-11 14:40:00</td>\n",
       "      <td>3.068</td>\n",
       "      <td>3.075</td>\n",
       "      <td>NaN</td>\n",
       "      <td>3.075</td>\n",
       "      <td>5582.2</td>\n",
       "      <td>34.0</td>\n",
       "      <td>3.0710290746</td>\n",
       "    </tr>\n",
       "    <tr>\n",
       "      <th>3</th>\n",
       "      <td>2022-11-11 14:41:00</td>\n",
       "      <td>3.075</td>\n",
       "      <td>3.091</td>\n",
       "      <td>3.069</td>\n",
       "      <td>3.085</td>\n",
       "      <td>10358.0</td>\n",
       "      <td>43.0</td>\n",
       "      <td>3.0843931647</td>\n",
       "    </tr>\n",
       "    <tr>\n",
       "      <th>4</th>\n",
       "      <td>2022-11-11 14:42:00</td>\n",
       "      <td>NaN</td>\n",
       "      <td>3.093</td>\n",
       "      <td>3.074</td>\n",
       "      <td>3.074</td>\n",
       "      <td>9567.6</td>\n",
       "      <td>38.0</td>\n",
       "      <td>3.0880945796</td>\n",
       "    </tr>\n",
       "    <tr>\n",
       "      <th>5</th>\n",
       "      <td>2022-11-11 14:43:00</td>\n",
       "      <td>3.076</td>\n",
       "      <td>NaN</td>\n",
       "      <td>3.073</td>\n",
       "      <td>3.079</td>\n",
       "      <td>NaN</td>\n",
       "      <td>27.0</td>\n",
       "      <td>3.0790112542</td>\n",
       "    </tr>\n",
       "    <tr>\n",
       "      <th>6</th>\n",
       "      <td>2022-11-11 14:44:00</td>\n",
       "      <td>3.082</td>\n",
       "      <td>3.094</td>\n",
       "      <td>3.082</td>\n",
       "      <td>3.092</td>\n",
       "      <td>8106.4</td>\n",
       "      <td>28.0</td>\n",
       "      <td>3.0891052872</td>\n",
       "    </tr>\n",
       "    <tr>\n",
       "      <th>7</th>\n",
       "      <td>2022-11-11 14:45:00</td>\n",
       "      <td>3.095</td>\n",
       "      <td>3.138</td>\n",
       "      <td>3.095</td>\n",
       "      <td>NaN</td>\n",
       "      <td>35545.1</td>\n",
       "      <td>67.0</td>\n",
       "      <td>3.1187005607</td>\n",
       "    </tr>\n",
       "    <tr>\n",
       "      <th>8</th>\n",
       "      <td>2022-11-11 14:46:00</td>\n",
       "      <td>3.137</td>\n",
       "      <td>3.154</td>\n",
       "      <td>3.120</td>\n",
       "      <td>3.153</td>\n",
       "      <td>17379.1</td>\n",
       "      <td>57.0</td>\n",
       "      <td>3.1384827925</td>\n",
       "    </tr>\n",
       "    <tr>\n",
       "      <th>9</th>\n",
       "      <td>2022-11-11 14:47:00</td>\n",
       "      <td>3.158</td>\n",
       "      <td>3.236</td>\n",
       "      <td>3.158</td>\n",
       "      <td>3.214</td>\n",
       "      <td>66603.7</td>\n",
       "      <td>75.0</td>\n",
       "      <td>3.1949342889</td>\n",
       "    </tr>\n",
       "  </tbody>\n",
       "</table>\n",
       "</div>"
      ],
      "text/plain": [
       "                    ts   open   high    low  close   volume  rec_count  \\\n",
       "0  2022-11-11 14:38:00  3.096  3.096  3.076  3.077   2733.3       34.0   \n",
       "1  2022-11-11 14:39:00  3.073  3.077  3.064  3.065   5353.1       40.0   \n",
       "2  2022-11-11 14:40:00  3.068  3.075    NaN  3.075   5582.2       34.0   \n",
       "3  2022-11-11 14:41:00  3.075  3.091  3.069  3.085  10358.0       43.0   \n",
       "4  2022-11-11 14:42:00    NaN  3.093  3.074  3.074   9567.6       38.0   \n",
       "5  2022-11-11 14:43:00  3.076    NaN  3.073  3.079      NaN       27.0   \n",
       "6  2022-11-11 14:44:00  3.082  3.094  3.082  3.092   8106.4       28.0   \n",
       "7  2022-11-11 14:45:00  3.095  3.138  3.095    NaN  35545.1       67.0   \n",
       "8  2022-11-11 14:46:00  3.137  3.154  3.120  3.153  17379.1       57.0   \n",
       "9  2022-11-11 14:47:00  3.158  3.236  3.158  3.214  66603.7       75.0   \n",
       "\n",
       "      avg_price  \n",
       "0  3.0847324845  \n",
       "1           NaN  \n",
       "2  3.0710290746  \n",
       "3  3.0843931647  \n",
       "4  3.0880945796  \n",
       "5  3.0790112542  \n",
       "6  3.0891052872  \n",
       "7  3.1187005607  \n",
       "8  3.1384827925  \n",
       "9  3.1949342889  "
      ]
     },
     "execution_count": 174,
     "metadata": {},
     "output_type": "execute_result"
    }
   ],
   "source": [
    "spoiled_df.head(10)"
   ]
  },
  {
   "cell_type": "markdown",
   "metadata": {},
   "source": [
    "<h4>Evaluating for Missing Data</h4>\n",
    "\n",
    "The missing values are converted by default. We use the following functions to identify these missing values. There are two methods to detect missing data:\n",
    "\n",
    "<ol>\n",
    "    <li><b>.isnull()</b></li>\n",
    "    <li><b>.notnull()</b></li>\n",
    "</ol>\n",
    "The output is a boolean value indicating whether the value that is passed into the argument is in fact missing data.\n"
   ]
  },
  {
   "cell_type": "code",
   "execution_count": 175,
   "metadata": {},
   "outputs": [
    {
     "data": {
      "text/html": [
       "<div>\n",
       "<style scoped>\n",
       "    .dataframe tbody tr th:only-of-type {\n",
       "        vertical-align: middle;\n",
       "    }\n",
       "\n",
       "    .dataframe tbody tr th {\n",
       "        vertical-align: top;\n",
       "    }\n",
       "\n",
       "    .dataframe thead th {\n",
       "        text-align: right;\n",
       "    }\n",
       "</style>\n",
       "<table border=\"1\" class=\"dataframe\">\n",
       "  <thead>\n",
       "    <tr style=\"text-align: right;\">\n",
       "      <th></th>\n",
       "      <th>ts</th>\n",
       "      <th>open</th>\n",
       "      <th>high</th>\n",
       "      <th>low</th>\n",
       "      <th>close</th>\n",
       "      <th>volume</th>\n",
       "      <th>rec_count</th>\n",
       "      <th>avg_price</th>\n",
       "    </tr>\n",
       "  </thead>\n",
       "  <tbody>\n",
       "    <tr>\n",
       "      <th>0</th>\n",
       "      <td>False</td>\n",
       "      <td>False</td>\n",
       "      <td>False</td>\n",
       "      <td>False</td>\n",
       "      <td>False</td>\n",
       "      <td>False</td>\n",
       "      <td>False</td>\n",
       "      <td>False</td>\n",
       "    </tr>\n",
       "    <tr>\n",
       "      <th>1</th>\n",
       "      <td>False</td>\n",
       "      <td>False</td>\n",
       "      <td>False</td>\n",
       "      <td>False</td>\n",
       "      <td>False</td>\n",
       "      <td>False</td>\n",
       "      <td>False</td>\n",
       "      <td>True</td>\n",
       "    </tr>\n",
       "    <tr>\n",
       "      <th>2</th>\n",
       "      <td>False</td>\n",
       "      <td>False</td>\n",
       "      <td>False</td>\n",
       "      <td>True</td>\n",
       "      <td>False</td>\n",
       "      <td>False</td>\n",
       "      <td>False</td>\n",
       "      <td>False</td>\n",
       "    </tr>\n",
       "    <tr>\n",
       "      <th>3</th>\n",
       "      <td>False</td>\n",
       "      <td>False</td>\n",
       "      <td>False</td>\n",
       "      <td>False</td>\n",
       "      <td>False</td>\n",
       "      <td>False</td>\n",
       "      <td>False</td>\n",
       "      <td>False</td>\n",
       "    </tr>\n",
       "    <tr>\n",
       "      <th>4</th>\n",
       "      <td>False</td>\n",
       "      <td>True</td>\n",
       "      <td>False</td>\n",
       "      <td>False</td>\n",
       "      <td>False</td>\n",
       "      <td>False</td>\n",
       "      <td>False</td>\n",
       "      <td>False</td>\n",
       "    </tr>\n",
       "    <tr>\n",
       "      <th>5</th>\n",
       "      <td>False</td>\n",
       "      <td>False</td>\n",
       "      <td>True</td>\n",
       "      <td>False</td>\n",
       "      <td>False</td>\n",
       "      <td>True</td>\n",
       "      <td>False</td>\n",
       "      <td>False</td>\n",
       "    </tr>\n",
       "    <tr>\n",
       "      <th>6</th>\n",
       "      <td>False</td>\n",
       "      <td>False</td>\n",
       "      <td>False</td>\n",
       "      <td>False</td>\n",
       "      <td>False</td>\n",
       "      <td>False</td>\n",
       "      <td>False</td>\n",
       "      <td>False</td>\n",
       "    </tr>\n",
       "    <tr>\n",
       "      <th>7</th>\n",
       "      <td>False</td>\n",
       "      <td>False</td>\n",
       "      <td>False</td>\n",
       "      <td>False</td>\n",
       "      <td>True</td>\n",
       "      <td>False</td>\n",
       "      <td>False</td>\n",
       "      <td>False</td>\n",
       "    </tr>\n",
       "    <tr>\n",
       "      <th>8</th>\n",
       "      <td>False</td>\n",
       "      <td>False</td>\n",
       "      <td>False</td>\n",
       "      <td>False</td>\n",
       "      <td>False</td>\n",
       "      <td>False</td>\n",
       "      <td>False</td>\n",
       "      <td>False</td>\n",
       "    </tr>\n",
       "    <tr>\n",
       "      <th>9</th>\n",
       "      <td>False</td>\n",
       "      <td>False</td>\n",
       "      <td>False</td>\n",
       "      <td>False</td>\n",
       "      <td>False</td>\n",
       "      <td>False</td>\n",
       "      <td>False</td>\n",
       "      <td>False</td>\n",
       "    </tr>\n",
       "  </tbody>\n",
       "</table>\n",
       "</div>"
      ],
      "text/plain": [
       "      ts   open   high    low  close  volume  rec_count  avg_price\n",
       "0  False  False  False  False  False   False      False      False\n",
       "1  False  False  False  False  False   False      False       True\n",
       "2  False  False  False   True  False   False      False      False\n",
       "3  False  False  False  False  False   False      False      False\n",
       "4  False   True  False  False  False   False      False      False\n",
       "5  False  False   True  False  False    True      False      False\n",
       "6  False  False  False  False  False   False      False      False\n",
       "7  False  False  False  False   True   False      False      False\n",
       "8  False  False  False  False  False   False      False      False\n",
       "9  False  False  False  False  False   False      False      False"
      ]
     },
     "execution_count": 175,
     "metadata": {},
     "output_type": "execute_result"
    }
   ],
   "source": [
    "missing_data = spoiled_df.isnull()\n",
    "missing_data.head(10)"
   ]
  },
  {
   "cell_type": "markdown",
   "metadata": {},
   "source": [
    "\"True\" means the value is a missing value while \"False\" means the value is not a missing value.\n"
   ]
  },
  {
   "cell_type": "markdown",
   "metadata": {},
   "source": [
    "<h4>Count missing values in each column</h4>\n",
    "<p>\n",
    "Using a for loop in Python, we can quickly figure out the number of missing values in each column. As mentioned above, \"True\" represents a missing value and \"False\" means the value is present in the dataset.  In the body of the for loop the method \".value_counts()\" counts the number of \"True\" values. \n",
    "</p>\n"
   ]
  },
  {
   "cell_type": "code",
   "execution_count": 176,
   "metadata": {},
   "outputs": [
    {
     "name": "stdout",
     "output_type": "stream",
     "text": [
      "ts\n",
      "False    66528\n",
      "Name: ts, dtype: int64\n",
      "\n",
      "open\n",
      "False    59975\n",
      "True      6553\n",
      "Name: open, dtype: int64\n",
      "\n",
      "high\n",
      "False    59903\n",
      "True      6625\n",
      "Name: high, dtype: int64\n",
      "\n",
      "low\n",
      "False    59904\n",
      "True      6624\n",
      "Name: low, dtype: int64\n",
      "\n",
      "close\n",
      "False    59907\n",
      "True      6621\n",
      "Name: close, dtype: int64\n",
      "\n",
      "volume\n",
      "False    59892\n",
      "True      6636\n",
      "Name: volume, dtype: int64\n",
      "\n",
      "rec_count\n",
      "False    59857\n",
      "True      6671\n",
      "Name: rec_count, dtype: int64\n",
      "\n",
      "avg_price\n",
      "False    59759\n",
      "True      6769\n",
      "Name: avg_price, dtype: int64\n",
      "\n"
     ]
    }
   ],
   "source": [
    "for column in missing_data.columns.values.tolist():\n",
    "    print(column)\n",
    "    print (missing_data[column].value_counts())\n",
    "    print(\"\")"
   ]
  },
  {
   "cell_type": "markdown",
   "metadata": {},
   "source": [
    "Based on the summary above, each column has 66528 rows of data and seven of the columns containing missing data:\n",
    "\n",
    "<ol>\n",
    "    <li>\"open\": 6553 missing data</li>\n",
    "    <li>\"high\": 6625 missing data</li>\n",
    "    <li>\"low\" : 6624 missing data</li>\n",
    "    <li>\"close\": 6621 missing data</li>\n",
    "    <li>\"volume\": 6636 missing data</li>\n",
    "    <li>\"rec_count\": 6671 missing data</li>\n",
    "    <li>\"avg_price\": 6769 missing data</li>\n",
    "</ol>\n"
   ]
  },
  {
   "cell_type": "markdown",
   "metadata": {},
   "source": [
    "<h3 id=\"deal_missing_values\">Deal with missing data</h3>\n",
    "<b>How to deal with missing data?</b>\n",
    "\n",
    "<ol>\n",
    "    <li>Drop data<br>\n",
    "        a. Drop the whole row<br>\n",
    "        b. Drop the whole column\n",
    "    </li>\n",
    "    <li>Replace data<br>\n",
    "        a. Replace it by mean<br>\n",
    "        b. Replace it by frequency<br>\n",
    "        c. Replace it based on other functions\n",
    "    </li>\n",
    "</ol>\n"
   ]
  },
  {
   "cell_type": "markdown",
   "metadata": {},
   "source": [
    "Whole columns should be dropped only if most entries in the column are empty. In our dataset, none of the columns are empty enough to drop entirely.\n",
    "We have some freedom in choosing which method to replace data; however, some methods may seem more reasonable than others. We will apply each method to many different columns:\n",
    "\n",
    "<b>Replace by mean:</b>\n",
    "\n",
    "<ul>\n",
    "    <li>\"open\": 6553 missing data, replace them with mean</li>\n",
    "    <li>\"high\": 6625 missing data, replace them with mean</li>\n",
    "    <li>\"low\": 6624 missing data, replace them with mean</li>\n",
    "    <li>\"volume\": 6636 missing data, replace them with mean</li>\n",
    "    <li>\"avg_price\": 6769 missing data, replace them with mean</li>\n",
    "</ul>\n",
    "\n",
    "<b>Replace by frequency:</b>\n",
    "\n",
    "<ul>\n",
    "    <li>\"rec_count\": 6671 missing data, replace them with frequency\n",
    "    </li>\n",
    "</ul>\n",
    "\n",
    "<b>Replace by pandas interpolation:</b>\n",
    "\n",
    "<ul>\n",
    "    <li>\"close\": 6621 missing data, replace them with model output\n",
    "    </li>\n",
    "</ul>"
   ]
  },
  {
   "cell_type": "markdown",
   "metadata": {},
   "source": [
    "<h4>Calculate the mean value for the \"open\" column </h4>\n"
   ]
  },
  {
   "cell_type": "code",
   "execution_count": 177,
   "metadata": {},
   "outputs": [
    {
     "name": "stdout",
     "output_type": "stream",
     "text": [
      "Average of open: 3.602103343059567\n"
     ]
    }
   ],
   "source": [
    "avg_open = spoiled_df[\"open\"].astype(\"float\").mean(axis=0)\n",
    "print(\"Average of open:\", avg_open)"
   ]
  },
  {
   "cell_type": "markdown",
   "metadata": {},
   "source": [
    "<h4>Replace \"NaN\" with mean value in \"open\" column</h4>\n"
   ]
  },
  {
   "cell_type": "code",
   "execution_count": 178,
   "metadata": {},
   "outputs": [],
   "source": [
    "spoiled_df[\"open\"].replace(np.nan, avg_open, inplace=True)"
   ]
  },
  {
   "cell_type": "markdown",
   "metadata": {},
   "source": [
    "<h4>Calculate the mean value for the \"high\" column</h4>\n"
   ]
  },
  {
   "cell_type": "code",
   "execution_count": 179,
   "metadata": {},
   "outputs": [
    {
     "name": "stdout",
     "output_type": "stream",
     "text": [
      "Average of high: 3.6052876650584564\n"
     ]
    }
   ],
   "source": [
    "avg_high = spoiled_df[\"high\"].astype(\"float\").mean(axis=0)\n",
    "print(\"Average of high:\", avg_high)"
   ]
  },
  {
   "cell_type": "markdown",
   "metadata": {},
   "source": [
    "<h4>Replace \"NaN\" with the mean value in the \"high\" column</h4>\n"
   ]
  },
  {
   "cell_type": "code",
   "execution_count": 180,
   "metadata": {},
   "outputs": [],
   "source": [
    "spoiled_df[\"high\"].replace(np.nan, avg_high, inplace=True)"
   ]
  },
  {
   "cell_type": "markdown",
   "metadata": {},
   "source": [
    "<div class=\"alert alert-danger alertdanger\" style=\"margin-top: 20px\">\n",
    "<h1> Question  #1: </h1>\n",
    "\n",
    "<b>Based on the example above, replace NaN in \"low\" column with the mean value.</b>\n",
    "\n",
    "</div>\n"
   ]
  },
  {
   "cell_type": "code",
   "execution_count": 121,
   "metadata": {},
   "outputs": [],
   "source": [
    "# Write your code below and press Shift+Enter to execute \n"
   ]
  },
  {
   "cell_type": "markdown",
   "metadata": {},
   "source": [
    "<details><summary>Click here for the solution</summary>\n",
    "\n",
    "```python\n",
    "#Calculate the mean vaule for \"low\" column\n",
    "avg_low = spoiled_df[\"low\"].astype(\"float\").mean(axis=0)\n",
    "print(\"Average of low:\", avg_low)\n",
    "\n",
    "# replace NaN by mean value in \"low\" column\n",
    "spoiled_df[\"low\"].replace(np.nan, avg_low, inplace = True)\n",
    "```\n",
    "\n",
    "</details>\n"
   ]
  },
  {
   "cell_type": "markdown",
   "metadata": {},
   "source": [
    "<h4>Calculate the mean value for \"volume\" column</h4>\n"
   ]
  },
  {
   "cell_type": "code",
   "execution_count": 181,
   "metadata": {},
   "outputs": [
    {
     "name": "stdout",
     "output_type": "stream",
     "text": [
      "Average volume: 5131.14364355836\n"
     ]
    }
   ],
   "source": [
    "avg_volume = spoiled_df[\"volume\"].astype(\"float\").mean(axis=0)\n",
    "print(\"Average volume:\", avg_volume)"
   ]
  },
  {
   "cell_type": "markdown",
   "metadata": {},
   "source": [
    "<h4>Replace \"NaN\" with the mean value in the \"volume\" column</h4>\n"
   ]
  },
  {
   "cell_type": "code",
   "execution_count": 182,
   "metadata": {},
   "outputs": [],
   "source": [
    "spoiled_df[\"volume\"].replace(np.nan, avg_volume, inplace=True)"
   ]
  },
  {
   "cell_type": "markdown",
   "metadata": {},
   "source": [
    "<h4>Calculate the mean value for \"avg_price\" column</h4>"
   ]
  },
  {
   "cell_type": "code",
   "execution_count": 183,
   "metadata": {},
   "outputs": [
    {
     "name": "stdout",
     "output_type": "stream",
     "text": [
      "Average avg_price: 3.602428874235652\n"
     ]
    }
   ],
   "source": [
    "avg_avg_price = spoiled_df[\"avg_price\"].astype(\"float\").mean(axis=0)\n",
    "print(\"Average avg_price:\", avg_avg_price)"
   ]
  },
  {
   "cell_type": "markdown",
   "metadata": {},
   "source": [
    "<h4>Replace \"NaN\" with the mean value in the \"avg_price\" column</h4>"
   ]
  },
  {
   "cell_type": "code",
   "execution_count": 184,
   "metadata": {},
   "outputs": [],
   "source": [
    "spoiled_df[\"avg_price\"].replace(np.nan, avg_avg_price, inplace=True)"
   ]
  },
  {
   "cell_type": "markdown",
   "metadata": {},
   "source": [
    "To see which values are present in a particular column, we can use the \".value_counts()\" method:\n"
   ]
  },
  {
   "cell_type": "code",
   "execution_count": 185,
   "metadata": {},
   "outputs": [
    {
     "data": {
      "text/plain": [
       "5.0      3671\n",
       "6.0      3668\n",
       "4.0      3444\n",
       "7.0      3421\n",
       "8.0      3403\n",
       "         ... \n",
       "115.0       1\n",
       "110.0       1\n",
       "114.0       1\n",
       "116.0       1\n",
       "94.0        1\n",
       "Name: rec_count, Length: 104, dtype: int64"
      ]
     },
     "execution_count": 185,
     "metadata": {},
     "output_type": "execute_result"
    }
   ],
   "source": [
    "spoiled_df[\"rec_count\"].value_counts()"
   ]
  },
  {
   "cell_type": "markdown",
   "metadata": {},
   "source": [
    "We can see the most common type. We can also use the \".idxmax()\" method to calculate the most common type automatically:\n"
   ]
  },
  {
   "cell_type": "code",
   "execution_count": 186,
   "metadata": {},
   "outputs": [],
   "source": [
    "freq_rec = spoiled_df[\"rec_count\"].value_counts().idxmax()"
   ]
  },
  {
   "cell_type": "markdown",
   "metadata": {},
   "source": [
    "The replacement procedure is very similar to what we have seen previously:\n"
   ]
  },
  {
   "cell_type": "code",
   "execution_count": 187,
   "metadata": {},
   "outputs": [],
   "source": [
    "#replace the missing 'num-of-doors' values by the most frequent \n",
    "spoiled_df[\"rec_count\"].replace(np.nan, freq_rec, inplace=True)"
   ]
  },
  {
   "cell_type": "markdown",
   "metadata": {},
   "source": [
    "<h4>Replacing with pandas interpolation</h4>\n"
   ]
  },
  {
   "cell_type": "markdown",
   "metadata": {},
   "source": [
    "Let's try different models for interpolation and take the best one"
   ]
  },
  {
   "cell_type": "code",
   "execution_count": 188,
   "metadata": {},
   "outputs": [
    {
     "data": {
      "text/html": [
       "<div>\n",
       "<style scoped>\n",
       "    .dataframe tbody tr th:only-of-type {\n",
       "        vertical-align: middle;\n",
       "    }\n",
       "\n",
       "    .dataframe tbody tr th {\n",
       "        vertical-align: top;\n",
       "    }\n",
       "\n",
       "    .dataframe thead th {\n",
       "        text-align: right;\n",
       "    }\n",
       "</style>\n",
       "<table border=\"1\" class=\"dataframe\">\n",
       "  <thead>\n",
       "    <tr style=\"text-align: right;\">\n",
       "      <th></th>\n",
       "      <th>name</th>\n",
       "      <th>MSE</th>\n",
       "      <th>MAPE</th>\n",
       "    </tr>\n",
       "  </thead>\n",
       "  <tbody>\n",
       "    <tr>\n",
       "      <th>0</th>\n",
       "      <td>linear</td>\n",
       "      <td>0.0000018651</td>\n",
       "      <td>0.007242%</td>\n",
       "    </tr>\n",
       "    <tr>\n",
       "      <th>2</th>\n",
       "      <td>slinear</td>\n",
       "      <td>0.0000018651</td>\n",
       "      <td>0.007242%</td>\n",
       "    </tr>\n",
       "    <tr>\n",
       "      <th>5</th>\n",
       "      <td>piecewise_polynomial</td>\n",
       "      <td>0.0000018651</td>\n",
       "      <td>0.007242%</td>\n",
       "    </tr>\n",
       "    <tr>\n",
       "      <th>6</th>\n",
       "      <td>pchip</td>\n",
       "      <td>0.0000018673</td>\n",
       "      <td>0.007323%</td>\n",
       "    </tr>\n",
       "    <tr>\n",
       "      <th>7</th>\n",
       "      <td>akima</td>\n",
       "      <td>0.0000018771</td>\n",
       "      <td>0.007382%</td>\n",
       "    </tr>\n",
       "    <tr>\n",
       "      <th>3</th>\n",
       "      <td>quadratic</td>\n",
       "      <td>0.0000021603</td>\n",
       "      <td>0.007963%</td>\n",
       "    </tr>\n",
       "    <tr>\n",
       "      <th>4</th>\n",
       "      <td>cubic</td>\n",
       "      <td>0.0000022623</td>\n",
       "      <td>0.008176%</td>\n",
       "    </tr>\n",
       "    <tr>\n",
       "      <th>11</th>\n",
       "      <td>polynomial_3</td>\n",
       "      <td>0.0000022623</td>\n",
       "      <td>0.008176%</td>\n",
       "    </tr>\n",
       "    <tr>\n",
       "      <th>8</th>\n",
       "      <td>cubicspline</td>\n",
       "      <td>0.0000022623</td>\n",
       "      <td>0.008176%</td>\n",
       "    </tr>\n",
       "    <tr>\n",
       "      <th>1</th>\n",
       "      <td>nearest</td>\n",
       "      <td>0.0000032171</td>\n",
       "      <td>0.009568%</td>\n",
       "    </tr>\n",
       "    <tr>\n",
       "      <th>12</th>\n",
       "      <td>polynomial_5</td>\n",
       "      <td>0.0000031910</td>\n",
       "      <td>0.009597%</td>\n",
       "    </tr>\n",
       "    <tr>\n",
       "      <th>10</th>\n",
       "      <td>spline_5</td>\n",
       "      <td>0.0023484768</td>\n",
       "      <td>0.329778%</td>\n",
       "    </tr>\n",
       "    <tr>\n",
       "      <th>9</th>\n",
       "      <td>spline_3</td>\n",
       "      <td>0.0045551851</td>\n",
       "      <td>0.484693%</td>\n",
       "    </tr>\n",
       "  </tbody>\n",
       "</table>\n",
       "</div>"
      ],
      "text/plain": [
       "                    name           MSE       MAPE\n",
       "0                 linear  0.0000018651  0.007242%\n",
       "2                slinear  0.0000018651  0.007242%\n",
       "5   piecewise_polynomial  0.0000018651  0.007242%\n",
       "6                  pchip  0.0000018673  0.007323%\n",
       "7                  akima  0.0000018771  0.007382%\n",
       "3              quadratic  0.0000021603  0.007963%\n",
       "4                  cubic  0.0000022623  0.008176%\n",
       "11          polynomial_3  0.0000022623  0.008176%\n",
       "8            cubicspline  0.0000022623  0.008176%\n",
       "1                nearest  0.0000032171  0.009568%\n",
       "12          polynomial_5  0.0000031910  0.009597%\n",
       "10              spline_5  0.0023484768  0.329778%\n",
       "9               spline_3  0.0045551851  0.484693%"
      ]
     },
     "execution_count": 188,
     "metadata": {},
     "output_type": "execute_result"
    }
   ],
   "source": [
    "from sklearn.metrics import mean_squared_error, mean_absolute_percentage_error\n",
    "\n",
    "pd.set_option(\"display.precision\", 10)\n",
    "methods = [\"linear\", \"nearest\", \"slinear\", \"quadratic\", \"cubic\", \"piecewise_polynomial\", \"pchip\", \"akima\", \"cubicspline\"]\n",
    "order_methods = [\"spline\", \"polynomial\"]\n",
    "performance = pd.DataFrame({\"name\": [], \"MSE\": [], \"MAPE\": []})\n",
    "for method in methods:\n",
    "    # print(method)\n",
    "    interpolated_close = spoiled_df[\"close\"].interpolate(method=method)\n",
    "    mse = mean_squared_error(df[\"close\"], interpolated_close)\n",
    "    mape = mean_absolute_percentage_error(df[\"close\"], interpolated_close)\n",
    "    performance.loc[len(performance.index)] = [method, mse, mape]\n",
    "for method in order_methods:\n",
    "    for order in [3, 5]:\n",
    "        # print(f\"method: {method}, order: {order}\")\n",
    "        interpolated_close = spoiled_df[\"close\"].interpolate(method=method, order=order)\n",
    "        mse = mean_squared_error(df[\"close\"], interpolated_close)\n",
    "        mape = mean_absolute_percentage_error(df[\"close\"], interpolated_close)\n",
    "        performance.loc[len(performance.index)] = [f\"{method}_{order}\", mse, mape]\n",
    "        \n",
    "performance = performance.sort_values(by=[\"MAPE\", \"MSE\"], ascending=True)\n",
    "performance[\"MAPE\"] = performance[\"MAPE\"] * 100\n",
    "performance[\"MAPE\"] = performance[\"MAPE\"].astype(\"str\") \n",
    "performance[\"MAPE\"] = performance[\"MAPE\"].str.slice(stop=8) + \"%\"\n",
    "performance.head(25)"
   ]
  },
  {
   "cell_type": "markdown",
   "metadata": {},
   "source": [
    "How we can see the best model for interpolation is linear so we'll use it to replace NaN values"
   ]
  },
  {
   "cell_type": "code",
   "execution_count": 189,
   "metadata": {},
   "outputs": [],
   "source": [
    "spoiled_df[\"close\"] = spoiled_df[\"close\"].interpolate(method=\"linear\")"
   ]
  },
  {
   "cell_type": "code",
   "execution_count": 190,
   "metadata": {},
   "outputs": [
    {
     "data": {
      "text/plain": [
       "ts              0\n",
       "open            0\n",
       "high            0\n",
       "low          6624\n",
       "close           0\n",
       "volume          0\n",
       "rec_count       0\n",
       "avg_price       0\n",
       "dtype: int64"
      ]
     },
     "execution_count": 190,
     "metadata": {},
     "output_type": "execute_result"
    }
   ],
   "source": [
    "spoiled_df.isna().sum()"
   ]
  },
  {
   "cell_type": "markdown",
   "metadata": {},
   "source": [
    "<b>Good!</b> Now, we have a dataset with no missing values.\n"
   ]
  },
  {
   "cell_type": "markdown",
   "metadata": {},
   "source": [
    "<h3 id=\"correct_data_format\">Correct data format</h3>\n",
    "<b>We are almost there!</b>\n",
    "<p>The last step in data cleaning is checking and making sure that all data is in the correct format (int, float, text or other).</p>\n",
    "\n",
    "In Pandas, we use:\n",
    "\n",
    "<p><b>.dtype()</b> to check the data type</p>\n",
    "<p><b>.astype()</b> to change the data type</p>\n"
   ]
  },
  {
   "cell_type": "markdown",
   "metadata": {},
   "source": [
    "<h4>Let's list the data types for each column</h4>\n"
   ]
  },
  {
   "cell_type": "code",
   "execution_count": 191,
   "metadata": {},
   "outputs": [
    {
     "data": {
      "text/plain": [
       "ts            object\n",
       "open         float64\n",
       "high         float64\n",
       "low          float64\n",
       "close        float64\n",
       "volume       float64\n",
       "rec_count    float64\n",
       "avg_price    float64\n",
       "dtype: object"
      ]
     },
     "execution_count": 191,
     "metadata": {},
     "output_type": "execute_result"
    }
   ],
   "source": [
    "spoiled_df.dtypes"
   ]
  },
  {
   "cell_type": "markdown",
   "metadata": {},
   "source": [
    "<p>As we can see above, some columns are not of the correct data type. Numerical variables should have type \"float\" or \"int\", and variables with timestamps have type \"datetime\". For example, \"open\", \"high\", \"low\", \"close\", \"avg_price\" variables are numerical values that describe the price, so we should expect them to be of the type \"float\". \"rec_count\" should have type \"int\" because it describes quantity. 'ts' column should have type \"datetime\"; however, that column is shown as type \"object\". We have to convert data types into a proper format for each column using the \"astype()\" method.</p> \n"
   ]
  },
  {
   "cell_type": "markdown",
   "metadata": {},
   "source": [
    "<h4>Convert data types to proper format</h4>\n"
   ]
  },
  {
   "cell_type": "code",
   "execution_count": 192,
   "metadata": {},
   "outputs": [],
   "source": [
    "spoiled_df[\"ts\"] = spoiled_df[\"ts\"].astype(\"datetime64[ns]\")\n",
    "spoiled_df[\"rec_count\"] = spoiled_df[\"rec_count\"].astype(\"int\")"
   ]
  },
  {
   "cell_type": "markdown",
   "metadata": {},
   "source": [
    "<h4>Let us list the columns after the conversion</h4>\n"
   ]
  },
  {
   "cell_type": "code",
   "execution_count": 193,
   "metadata": {},
   "outputs": [
    {
     "data": {
      "text/plain": [
       "ts           datetime64[ns]\n",
       "open                float64\n",
       "high                float64\n",
       "low                 float64\n",
       "close               float64\n",
       "volume              float64\n",
       "rec_count             int32\n",
       "avg_price           float64\n",
       "dtype: object"
      ]
     },
     "execution_count": 193,
     "metadata": {},
     "output_type": "execute_result"
    }
   ],
   "source": [
    "spoiled_df.dtypes"
   ]
  },
  {
   "cell_type": "markdown",
   "metadata": {},
   "source": [
    "<b>Wonderful!</b>\n",
    "\n",
    "Now we have finally obtained the cleaned dataset with no missing values with all data in its proper format.\n"
   ]
  },
  {
   "cell_type": "markdown",
   "metadata": {},
   "source": [
    "<h2 id=\"data_standardization\">Data Standardization</h2>\n",
    "<p>\n",
    "Data is usually collected from different agencies in different formats.\n",
    "(Data standardization is also a term for a particular type of data normalization where we subtract the mean and divide by the standard deviation.)\n",
    "</p>\n",
    "\n",
    "<b>What is standardization?</b>\n",
    "\n",
    "<p>Standardization is the process of transforming data into a common format, allowing the researcher to make the meaningful comparison.\n",
    "</p>\n",
    "\n",
    "<b>Example</b>\n",
    "\n",
    "<p>Transform BUSD TO USDT:</p>\n",
    "<p>In our dataset, \"open\", \"high\", \"low\", \"close\", \"volume\", \"avg_price\" are represented by BUSD (Binance USD) unit. However in most cases it is customary to use USDT.</p>\n",
    "<p>We will need to apply <b>data transformation</b> to transform BUSD into USDT.</p>\n"
   ]
  },
  {
   "cell_type": "markdown",
   "metadata": {},
   "source": [
    "<p>We can do many mathematical operations directly in Pandas.</p>\n"
   ]
  },
  {
   "cell_type": "code",
   "execution_count": 194,
   "metadata": {},
   "outputs": [
    {
     "data": {
      "text/html": [
       "<div>\n",
       "<style scoped>\n",
       "    .dataframe tbody tr th:only-of-type {\n",
       "        vertical-align: middle;\n",
       "    }\n",
       "\n",
       "    .dataframe tbody tr th {\n",
       "        vertical-align: top;\n",
       "    }\n",
       "\n",
       "    .dataframe thead th {\n",
       "        text-align: right;\n",
       "    }\n",
       "</style>\n",
       "<table border=\"1\" class=\"dataframe\">\n",
       "  <thead>\n",
       "    <tr style=\"text-align: right;\">\n",
       "      <th></th>\n",
       "      <th>ts</th>\n",
       "      <th>open</th>\n",
       "      <th>high</th>\n",
       "      <th>low</th>\n",
       "      <th>close</th>\n",
       "      <th>volume</th>\n",
       "      <th>rec_count</th>\n",
       "      <th>avg_price</th>\n",
       "    </tr>\n",
       "  </thead>\n",
       "  <tbody>\n",
       "    <tr>\n",
       "      <th>0</th>\n",
       "      <td>2022-11-11 14:38:00</td>\n",
       "      <td>3.0960000000</td>\n",
       "      <td>3.096</td>\n",
       "      <td>3.076</td>\n",
       "      <td>3.077</td>\n",
       "      <td>2733.3</td>\n",
       "      <td>34</td>\n",
       "      <td>3.0847324845</td>\n",
       "    </tr>\n",
       "    <tr>\n",
       "      <th>1</th>\n",
       "      <td>2022-11-11 14:39:00</td>\n",
       "      <td>3.0730000000</td>\n",
       "      <td>3.077</td>\n",
       "      <td>3.064</td>\n",
       "      <td>3.065</td>\n",
       "      <td>5353.1</td>\n",
       "      <td>40</td>\n",
       "      <td>3.6024288742</td>\n",
       "    </tr>\n",
       "    <tr>\n",
       "      <th>2</th>\n",
       "      <td>2022-11-11 14:40:00</td>\n",
       "      <td>3.0680000000</td>\n",
       "      <td>3.075</td>\n",
       "      <td>NaN</td>\n",
       "      <td>3.075</td>\n",
       "      <td>5582.2</td>\n",
       "      <td>34</td>\n",
       "      <td>3.0710290746</td>\n",
       "    </tr>\n",
       "    <tr>\n",
       "      <th>3</th>\n",
       "      <td>2022-11-11 14:41:00</td>\n",
       "      <td>3.0750000000</td>\n",
       "      <td>3.091</td>\n",
       "      <td>3.069</td>\n",
       "      <td>3.085</td>\n",
       "      <td>10358.0</td>\n",
       "      <td>43</td>\n",
       "      <td>3.0843931647</td>\n",
       "    </tr>\n",
       "    <tr>\n",
       "      <th>4</th>\n",
       "      <td>2022-11-11 14:42:00</td>\n",
       "      <td>3.6021033431</td>\n",
       "      <td>3.093</td>\n",
       "      <td>3.074</td>\n",
       "      <td>3.074</td>\n",
       "      <td>9567.6</td>\n",
       "      <td>38</td>\n",
       "      <td>3.0880945796</td>\n",
       "    </tr>\n",
       "  </tbody>\n",
       "</table>\n",
       "</div>"
      ],
      "text/plain": [
       "                   ts          open   high    low  close   volume  rec_count  \\\n",
       "0 2022-11-11 14:38:00  3.0960000000  3.096  3.076  3.077   2733.3         34   \n",
       "1 2022-11-11 14:39:00  3.0730000000  3.077  3.064  3.065   5353.1         40   \n",
       "2 2022-11-11 14:40:00  3.0680000000  3.075    NaN  3.075   5582.2         34   \n",
       "3 2022-11-11 14:41:00  3.0750000000  3.091  3.069  3.085  10358.0         43   \n",
       "4 2022-11-11 14:42:00  3.6021033431  3.093  3.074  3.074   9567.6         38   \n",
       "\n",
       "      avg_price  \n",
       "0  3.0847324845  \n",
       "1  3.6024288742  \n",
       "2  3.0710290746  \n",
       "3  3.0843931647  \n",
       "4  3.0880945796  "
      ]
     },
     "execution_count": 194,
     "metadata": {},
     "output_type": "execute_result"
    }
   ],
   "source": [
    "spoiled_df.head()"
   ]
  },
  {
   "cell_type": "markdown",
   "metadata": {},
   "source": [
    "Let's get the exchange rate and convert BUSD TO USDT"
   ]
  },
  {
   "cell_type": "code",
   "execution_count": 195,
   "metadata": {},
   "outputs": [
    {
     "name": "stdout",
     "output_type": "stream",
     "text": [
      "The exchange rate is 1 BUSD = 1.0 USDT\n"
     ]
    },
    {
     "data": {
      "text/html": [
       "<div>\n",
       "<style scoped>\n",
       "    .dataframe tbody tr th:only-of-type {\n",
       "        vertical-align: middle;\n",
       "    }\n",
       "\n",
       "    .dataframe tbody tr th {\n",
       "        vertical-align: top;\n",
       "    }\n",
       "\n",
       "    .dataframe thead th {\n",
       "        text-align: right;\n",
       "    }\n",
       "</style>\n",
       "<table border=\"1\" class=\"dataframe\">\n",
       "  <thead>\n",
       "    <tr style=\"text-align: right;\">\n",
       "      <th></th>\n",
       "      <th>open_USDT</th>\n",
       "      <th>high_USDT</th>\n",
       "      <th>low_USDT</th>\n",
       "      <th>close_USDT</th>\n",
       "      <th>volume_USDT</th>\n",
       "      <th>avg_price_USDT</th>\n",
       "    </tr>\n",
       "  </thead>\n",
       "  <tbody>\n",
       "    <tr>\n",
       "      <th>0</th>\n",
       "      <td>3.0960000000</td>\n",
       "      <td>3.096</td>\n",
       "      <td>3.076</td>\n",
       "      <td>3.077</td>\n",
       "      <td>2733.3</td>\n",
       "      <td>3.0847324845</td>\n",
       "    </tr>\n",
       "    <tr>\n",
       "      <th>1</th>\n",
       "      <td>3.0730000000</td>\n",
       "      <td>3.077</td>\n",
       "      <td>3.064</td>\n",
       "      <td>3.065</td>\n",
       "      <td>5353.1</td>\n",
       "      <td>3.6024288742</td>\n",
       "    </tr>\n",
       "    <tr>\n",
       "      <th>2</th>\n",
       "      <td>3.0680000000</td>\n",
       "      <td>3.075</td>\n",
       "      <td>NaN</td>\n",
       "      <td>3.075</td>\n",
       "      <td>5582.2</td>\n",
       "      <td>3.0710290746</td>\n",
       "    </tr>\n",
       "    <tr>\n",
       "      <th>3</th>\n",
       "      <td>3.0750000000</td>\n",
       "      <td>3.091</td>\n",
       "      <td>3.069</td>\n",
       "      <td>3.085</td>\n",
       "      <td>10358.0</td>\n",
       "      <td>3.0843931647</td>\n",
       "    </tr>\n",
       "    <tr>\n",
       "      <th>4</th>\n",
       "      <td>3.6021033431</td>\n",
       "      <td>3.093</td>\n",
       "      <td>3.074</td>\n",
       "      <td>3.074</td>\n",
       "      <td>9567.6</td>\n",
       "      <td>3.0880945796</td>\n",
       "    </tr>\n",
       "  </tbody>\n",
       "</table>\n",
       "</div>"
      ],
      "text/plain": [
       "      open_USDT  high_USDT  low_USDT  close_USDT  volume_USDT  avg_price_USDT\n",
       "0  3.0960000000      3.096     3.076       3.077       2733.3    3.0847324845\n",
       "1  3.0730000000      3.077     3.064       3.065       5353.1    3.6024288742\n",
       "2  3.0680000000      3.075       NaN       3.075       5582.2    3.0710290746\n",
       "3  3.0750000000      3.091     3.069       3.085      10358.0    3.0843931647\n",
       "4  3.6021033431      3.093     3.074       3.074       9567.6    3.0880945796"
      ]
     },
     "execution_count": 195,
     "metadata": {},
     "output_type": "execute_result"
    }
   ],
   "source": [
    "import requests\n",
    "# Convert mpg to USDT by mathematical operation\n",
    "res = requests.get(\"https://api.binance.com/sapi/v1/convert/exchangeInfo?fromAsset=BUSD&toAsset=USDT\")\n",
    "if res.status_code != 200:\n",
    "    rate = 0.999707\n",
    "else:\n",
    "    res = res.json()\n",
    "    rate = float(res[0][\"toAssetMinAmount\"])\n",
    "    \n",
    "print(f\"The exchange rate is 1 BUSD = {rate} USDT\")\n",
    "\n",
    "cols_to_convert = [\"open\", \"high\", \"low\", \"close\", \"volume\", \"avg_price\"]\n",
    "for col in cols_to_convert:\n",
    "    spoiled_df[f\"{col}_USDT\"] = spoiled_df[col] * rate\n",
    "\n",
    "# check your transformed data \n",
    "spoiled_df[[\"open_USDT\", \"high_USDT\", \"low_USDT\", \"close_USDT\", \"volume_USDT\", \"avg_price_USDT\"]].head()"
   ]
  },
  {
   "cell_type": "markdown",
   "metadata": {},
   "source": [
    "<div class=\"alert alert-danger alertdanger\" style=\"margin-top: 20px\">\n",
    "<h1> Question  #2: </h1>\n",
    "\n",
    "<b>According to the example above, transform \"open\" (price in BUSD) to EURO (1 BUSD = 0.92 EURO) and name the column \"open_EURO\" (use URL mentioned above but change USDT TO EUR).</b>\n",
    "\n",
    "</div>\n"
   ]
  },
  {
   "cell_type": "code",
   "execution_count": 130,
   "metadata": {},
   "outputs": [],
   "source": [
    "# Write your code below and press Shift+Enter to execute \n"
   ]
  },
  {
   "cell_type": "markdown",
   "metadata": {},
   "source": [
    "<details><summary>Click here for the solution</summary>\n",
    "\n",
    "```python\n",
    "# transform BUSD to EURO by mathematical operation\n",
    "res = requests.get(\"https://api.binance.com/sapi/v1/convert/exchangeInfo?fromAsset=BUSD&toAsset=EUR\")\n",
    "res = res.json()\n",
    "rate = float(res[0][\"toAssetMinAmount\"])\n",
    "spoiled_df[\"open_EUR\"] = spoiled_df[\"open\"] * rate\n",
    "\n",
    "spoiled_df.head()\n",
    "```\n",
    "\n",
    "</details>\n"
   ]
  },
  {
   "cell_type": "markdown",
   "metadata": {},
   "source": [
    "<h2 id=\"data_normalization\">Data Normalization</h2>\n",
    "\n",
    "<b>Why normalization?</b>\n",
    "\n",
    "<p>Normalization is the process of transforming values of several variables into a similar range. Typical normalizations include scaling the variable so the variable average is 0, scaling the variable so the variance is 1, or scaling the variable so the variable values range from 0 to 1.\n",
    "</p>\n",
    "\n",
    "<b>Example</b>\n",
    "\n",
    "<p>To demonstrate normalization, let's say we want to scale the columns \"open\", \"close\" and \"avg_price\".</p>\n",
    "<p><b>Target:</b> would like to normalize those variables so their value ranges from 0 to 1</p>\n",
    "<p><b>Approach:</b> replace original value by (original value)/(maximum value), sklearn <b>MinMaxScaler</b></p>\n"
   ]
  },
  {
   "cell_type": "code",
   "execution_count": 196,
   "metadata": {},
   "outputs": [],
   "source": [
    "from sklearn.preprocessing import MinMaxScaler\n",
    "# replace (original value) by (original value)/(maximum value)\n",
    "spoiled_df[\"open_norm\"] = spoiled_df[\"open\"] / spoiled_df[\"open\"].max()\n",
    "scaler = MinMaxScaler()\n",
    "spoiled_df[\"close_norm\"] = scaler.fit_transform(spoiled_df[\"close\"].to_numpy().reshape(-1, 1))"
   ]
  },
  {
   "cell_type": "code",
   "execution_count": 197,
   "metadata": {},
   "outputs": [
    {
     "data": {
      "text/html": [
       "<div>\n",
       "<style scoped>\n",
       "    .dataframe tbody tr th:only-of-type {\n",
       "        vertical-align: middle;\n",
       "    }\n",
       "\n",
       "    .dataframe tbody tr th {\n",
       "        vertical-align: top;\n",
       "    }\n",
       "\n",
       "    .dataframe thead th {\n",
       "        text-align: right;\n",
       "    }\n",
       "</style>\n",
       "<table border=\"1\" class=\"dataframe\">\n",
       "  <thead>\n",
       "    <tr style=\"text-align: right;\">\n",
       "      <th></th>\n",
       "      <th>open_norm</th>\n",
       "      <th>close_norm</th>\n",
       "    </tr>\n",
       "  </thead>\n",
       "  <tbody>\n",
       "    <tr>\n",
       "      <th>0</th>\n",
       "      <td>0.6899933140</td>\n",
       "      <td>0.2513661202</td>\n",
       "    </tr>\n",
       "    <tr>\n",
       "      <th>1</th>\n",
       "      <td>0.6848673947</td>\n",
       "      <td>0.2448087432</td>\n",
       "    </tr>\n",
       "    <tr>\n",
       "      <th>2</th>\n",
       "      <td>0.6837530644</td>\n",
       "      <td>0.2502732240</td>\n",
       "    </tr>\n",
       "    <tr>\n",
       "      <th>3</th>\n",
       "      <td>0.6853131268</td>\n",
       "      <td>0.2557377049</td>\n",
       "    </tr>\n",
       "    <tr>\n",
       "      <th>4</th>\n",
       "      <td>0.8027865708</td>\n",
       "      <td>0.2497267760</td>\n",
       "    </tr>\n",
       "  </tbody>\n",
       "</table>\n",
       "</div>"
      ],
      "text/plain": [
       "      open_norm    close_norm\n",
       "0  0.6899933140  0.2513661202\n",
       "1  0.6848673947  0.2448087432\n",
       "2  0.6837530644  0.2502732240\n",
       "3  0.6853131268  0.2557377049\n",
       "4  0.8027865708  0.2497267760"
      ]
     },
     "execution_count": 197,
     "metadata": {},
     "output_type": "execute_result"
    }
   ],
   "source": [
    "spoiled_df[[\"open_norm\", \"close_norm\"]].head()"
   ]
  },
  {
   "cell_type": "markdown",
   "metadata": {},
   "source": [
    "<div class=\"alert alert-danger alertdanger\" style=\"margin-top: 20px\">\n",
    "<h1> Question #3: </h1>\n",
    "\n",
    "<b>According to the example above, normalize the column \"avg_price\" using sklearn <b>MinMaxScaler</b>.</b>\n",
    "\n",
    "</div>\n"
   ]
  },
  {
   "cell_type": "code",
   "execution_count": 142,
   "metadata": {},
   "outputs": [],
   "source": [
    "# Write your code below and press Shift+Enter to execute \n"
   ]
  },
  {
   "cell_type": "markdown",
   "metadata": {},
   "source": [
    "<details><summary>Click here for the solution</summary>\n",
    "\n",
    "```python\n",
    "scaler = MinMaxScaler()\n",
    "spoiled_df[\"avg_price_norm\"] = scaler.fit_transform(spoiled_df[\"avg_price\"].to_numpy().reshape(-1, 1))\n",
    "\n",
    "\n",
    "# show the scaled column\n",
    "spoiled_df[[\"avg_price_norm\"]].head()\n",
    "\n",
    "\n",
    "```\n",
    "\n",
    "</details>\n"
   ]
  },
  {
   "cell_type": "markdown",
   "metadata": {},
   "source": [
    "Here we can see we've normalized \"open\", \"close\" and \"avg_price\" in the range of \\[0,1].\n"
   ]
  },
  {
   "cell_type": "markdown",
   "metadata": {},
   "source": [
    "<h2 id=\"binning\">Binning and indicator variable</h2>\n",
    "<b>Why binning?</b>\n",
    "<p>\n",
    "    Binning is a process of transforming continuous numerical variables into discrete categorical 'bins' for grouped analysis.\n",
    "</p>\n",
    "\n",
    "<b>Example: </b>\n",
    "\n",
    "<p>In our dataset, \"volume\" is a real valued variable. What if we want to break it down into 3 bins and see which bin sold the most? Can we rearrange them into three ‘bins' to simplify analysis? </p>\n",
    "\n",
    "<p>We will use the pandas method 'cut' to segment the 'volume' column into 3 bins.</p>\n"
   ]
  },
  {
   "cell_type": "markdown",
   "metadata": {},
   "source": [
    "<h3>Example of Binning Data In Pandas</h3>\n"
   ]
  },
  {
   "cell_type": "markdown",
   "metadata": {},
   "source": [
    "Let's plot the histogram of \"rec_count\" to see what the distribution of \"rec_count\" looks like.\n"
   ]
  },
  {
   "cell_type": "code",
   "execution_count": 198,
   "metadata": {},
   "outputs": [
    {
     "data": {
      "text/plain": [
       "Text(0.5, 1.0, 'volume bins')"
      ]
     },
     "execution_count": 198,
     "metadata": {},
     "output_type": "execute_result"
    },
    {
     "data": {
      "image/png": "[encoded data removed]",
      "text/plain": [
       "<Figure size 640x480 with 1 Axes>"
      ]
     },
     "metadata": {},
     "output_type": "display_data"
    }
   ],
   "source": [
    "%matplotlib inline\n",
    "import matplotlib.pyplot as plt\n",
    "plt.hist(spoiled_df[\"volume\"])\n",
    "\n",
    "# set x/y labels and plot title\n",
    "plt.xlabel(\"volume\")\n",
    "plt.ylabel(\"count\")\n",
    "plt.title(\"volume bins\")"
   ]
  },
  {
   "cell_type": "code",
   "execution_count": 199,
   "metadata": {},
   "outputs": [
    {
     "data": {
      "text/plain": [
       "[0.1, 1000, 5000, 407682.7]"
      ]
     },
     "execution_count": 199,
     "metadata": {},
     "output_type": "execute_result"
    }
   ],
   "source": [
    "bins = [min(spoiled_df[\"volume\"]), 1000, 5000, max(spoiled_df[\"volume\"])]\n",
    "bins"
   ]
  },
  {
   "cell_type": "code",
   "execution_count": 200,
   "metadata": {},
   "outputs": [
    {
     "data": {
      "text/plain": [
       "count     66528.0000000000\n",
       "mean       5131.1436435583\n",
       "std        9169.7813767833\n",
       "min           0.1000000000\n",
       "25%        1107.4000000000\n",
       "50%        2841.4000000000\n",
       "75%        5131.1436435584\n",
       "max      407682.7000000000\n",
       "Name: volume, dtype: float64"
      ]
     },
     "execution_count": 200,
     "metadata": {},
     "output_type": "execute_result"
    }
   ],
   "source": [
    "spoiled_df[\"volume\"].describe()"
   ]
  },
  {
   "cell_type": "markdown",
   "metadata": {},
   "source": [
    "We set group  names:\n"
   ]
  },
  {
   "cell_type": "code",
   "execution_count": 201,
   "metadata": {},
   "outputs": [],
   "source": [
    "group_names = [\"Low\", \"Medium\", \"High\"]"
   ]
  },
  {
   "cell_type": "markdown",
   "metadata": {},
   "source": [
    "We apply the function <b>cut</b> to determine what each value of `spoiled_df[\"volume\"]` belongs to.\n"
   ]
  },
  {
   "cell_type": "code",
   "execution_count": 202,
   "metadata": {},
   "outputs": [
    {
     "data": {
      "text/html": [
       "<div>\n",
       "<style scoped>\n",
       "    .dataframe tbody tr th:only-of-type {\n",
       "        vertical-align: middle;\n",
       "    }\n",
       "\n",
       "    .dataframe tbody tr th {\n",
       "        vertical-align: top;\n",
       "    }\n",
       "\n",
       "    .dataframe thead th {\n",
       "        text-align: right;\n",
       "    }\n",
       "</style>\n",
       "<table border=\"1\" class=\"dataframe\">\n",
       "  <thead>\n",
       "    <tr style=\"text-align: right;\">\n",
       "      <th></th>\n",
       "      <th>volume</th>\n",
       "      <th>volume-binned</th>\n",
       "    </tr>\n",
       "  </thead>\n",
       "  <tbody>\n",
       "    <tr>\n",
       "      <th>0</th>\n",
       "      <td>2733.3000000000</td>\n",
       "      <td>Medium</td>\n",
       "    </tr>\n",
       "    <tr>\n",
       "      <th>1</th>\n",
       "      <td>5353.1000000000</td>\n",
       "      <td>High</td>\n",
       "    </tr>\n",
       "    <tr>\n",
       "      <th>2</th>\n",
       "      <td>5582.2000000000</td>\n",
       "      <td>High</td>\n",
       "    </tr>\n",
       "    <tr>\n",
       "      <th>3</th>\n",
       "      <td>10358.0000000000</td>\n",
       "      <td>High</td>\n",
       "    </tr>\n",
       "    <tr>\n",
       "      <th>4</th>\n",
       "      <td>9567.6000000000</td>\n",
       "      <td>High</td>\n",
       "    </tr>\n",
       "    <tr>\n",
       "      <th>5</th>\n",
       "      <td>5131.1436435584</td>\n",
       "      <td>High</td>\n",
       "    </tr>\n",
       "    <tr>\n",
       "      <th>6</th>\n",
       "      <td>8106.4000000000</td>\n",
       "      <td>High</td>\n",
       "    </tr>\n",
       "    <tr>\n",
       "      <th>7</th>\n",
       "      <td>35545.1000000000</td>\n",
       "      <td>High</td>\n",
       "    </tr>\n",
       "    <tr>\n",
       "      <th>8</th>\n",
       "      <td>17379.1000000000</td>\n",
       "      <td>High</td>\n",
       "    </tr>\n",
       "    <tr>\n",
       "      <th>9</th>\n",
       "      <td>66603.7000000000</td>\n",
       "      <td>High</td>\n",
       "    </tr>\n",
       "    <tr>\n",
       "      <th>10</th>\n",
       "      <td>37730.2000000000</td>\n",
       "      <td>High</td>\n",
       "    </tr>\n",
       "    <tr>\n",
       "      <th>11</th>\n",
       "      <td>5131.1436435584</td>\n",
       "      <td>High</td>\n",
       "    </tr>\n",
       "    <tr>\n",
       "      <th>12</th>\n",
       "      <td>14847.3000000000</td>\n",
       "      <td>High</td>\n",
       "    </tr>\n",
       "    <tr>\n",
       "      <th>13</th>\n",
       "      <td>5131.1436435584</td>\n",
       "      <td>High</td>\n",
       "    </tr>\n",
       "    <tr>\n",
       "      <th>14</th>\n",
       "      <td>25573.8000000000</td>\n",
       "      <td>High</td>\n",
       "    </tr>\n",
       "    <tr>\n",
       "      <th>15</th>\n",
       "      <td>14185.5000000000</td>\n",
       "      <td>High</td>\n",
       "    </tr>\n",
       "    <tr>\n",
       "      <th>16</th>\n",
       "      <td>6757.3000000000</td>\n",
       "      <td>High</td>\n",
       "    </tr>\n",
       "    <tr>\n",
       "      <th>17</th>\n",
       "      <td>6880.2000000000</td>\n",
       "      <td>High</td>\n",
       "    </tr>\n",
       "    <tr>\n",
       "      <th>18</th>\n",
       "      <td>2790.5000000000</td>\n",
       "      <td>Medium</td>\n",
       "    </tr>\n",
       "    <tr>\n",
       "      <th>19</th>\n",
       "      <td>3502.5000000000</td>\n",
       "      <td>Medium</td>\n",
       "    </tr>\n",
       "  </tbody>\n",
       "</table>\n",
       "</div>"
      ],
      "text/plain": [
       "              volume volume-binned\n",
       "0    2733.3000000000        Medium\n",
       "1    5353.1000000000          High\n",
       "2    5582.2000000000          High\n",
       "3   10358.0000000000          High\n",
       "4    9567.6000000000          High\n",
       "5    5131.1436435584          High\n",
       "6    8106.4000000000          High\n",
       "7   35545.1000000000          High\n",
       "8   17379.1000000000          High\n",
       "9   66603.7000000000          High\n",
       "10  37730.2000000000          High\n",
       "11   5131.1436435584          High\n",
       "12  14847.3000000000          High\n",
       "13   5131.1436435584          High\n",
       "14  25573.8000000000          High\n",
       "15  14185.5000000000          High\n",
       "16   6757.3000000000          High\n",
       "17   6880.2000000000          High\n",
       "18   2790.5000000000        Medium\n",
       "19   3502.5000000000        Medium"
      ]
     },
     "execution_count": 202,
     "metadata": {},
     "output_type": "execute_result"
    }
   ],
   "source": [
    "spoiled_df[\"volume-binned\"] = pd.cut(spoiled_df[\"volume\"], bins, labels=group_names, include_lowest=True)\n",
    "spoiled_df[[\"volume\", \"volume-binned\"]].head(20)"
   ]
  },
  {
   "cell_type": "markdown",
   "metadata": {},
   "source": [
    "Let's see the \"volume\" in each bin:\n"
   ]
  },
  {
   "cell_type": "code",
   "execution_count": 203,
   "metadata": {},
   "outputs": [
    {
     "data": {
      "text/plain": [
       "Medium    27984\n",
       "High      23311\n",
       "Low       15233\n",
       "Name: volume-binned, dtype: int64"
      ]
     },
     "execution_count": 203,
     "metadata": {},
     "output_type": "execute_result"
    }
   ],
   "source": [
    "spoiled_df[\"volume-binned\"].value_counts()"
   ]
  },
  {
   "cell_type": "markdown",
   "metadata": {},
   "source": [
    "Let's plot the distribution of each bin:\n"
   ]
  },
  {
   "cell_type": "code",
   "execution_count": 204,
   "metadata": {},
   "outputs": [
    {
     "data": {
      "text/plain": [
       "Text(0.5, 1.0, 'volume bins')"
      ]
     },
     "execution_count": 204,
     "metadata": {},
     "output_type": "execute_result"
    },
    {
     "data": {
      "image/png": "[encoded data removed]",
      "text/plain": [
       "<Figure size 640x480 with 1 Axes>"
      ]
     },
     "metadata": {},
     "output_type": "display_data"
    }
   ],
   "source": [
    "plt.bar(group_names, spoiled_df[\"volume-binned\"].value_counts())\n",
    "\n",
    "# set x/y labels and plot title\n",
    "plt.xlabel(\"volume\")\n",
    "plt.ylabel(\"count\")\n",
    "plt.title(\"volume bins\")"
   ]
  },
  {
   "cell_type": "markdown",
   "metadata": {},
   "source": [
    "<p>\n",
    "    As we can see we managed to create 3 classes based on \"volume\"\n",
    "</p>"
   ]
  },
  {
   "cell_type": "markdown",
   "metadata": {},
   "source": [
    "<h3>Bins Visualization</h3>\n",
    "Normally, a histogram is used to visualize the distribution of bins we created above. \n"
   ]
  },
  {
   "cell_type": "code",
   "execution_count": 205,
   "metadata": {},
   "outputs": [
    {
     "data": {
      "text/plain": [
       "Text(0.5, 1.0, 'volume bins')"
      ]
     },
     "execution_count": 205,
     "metadata": {},
     "output_type": "execute_result"
    },
    {
     "data": {
      "image/png": "[encoded data removed]",
      "text/plain": [
       "<Figure size 640x480 with 1 Axes>"
      ]
     },
     "metadata": {},
     "output_type": "display_data"
    }
   ],
   "source": [
    "# draw historgram of attribute \"rec_count\" with bins = 3\n",
    "plt.hist(spoiled_df[\"volume\"], bins = 3)\n",
    "\n",
    "# set x/y labels and plot title\n",
    "plt.xlabel(\"volume\")\n",
    "plt.ylabel(\"count\")\n",
    "plt.title(\"volume bins\")"
   ]
  },
  {
   "cell_type": "markdown",
   "metadata": {},
   "source": [
    "The plot above shows the binning result for the attribute \"volume\".\n"
   ]
  },
  {
   "cell_type": "markdown",
   "metadata": {},
   "source": [
    "<h4 id=\"indicator\">Indicator Variable (or Dummy Variable)</h4>\n",
    "<b>What is an indicator variable?</b>\n",
    "<p>\n",
    "    An indicator variable (or dummy variable) is a numerical variable used to label categories. They are called \"dummies\" because the numbers themselves don't have inherent meaning. \n",
    "</p>\n",
    "\n",
    "<b>Why we use indicator variables?</b>\n",
    "\n",
    "<p>\n",
    "    We use indicator variables so we can use categorical variables for regression analysis in the later modules.\n",
    "</p>\n",
    "<b>Example</b>\n",
    "<p>\n",
    "    We see the column \"volume-binned\" has three unique values: \"Low\", \"Medium\" or \"High\". Regression doesn't understand words, only numbers. To use this attribute in regression analysis, we convert \"rec_count-binned\" to indicator variables.\n",
    "</p>\n",
    "\n",
    "<p>\n",
    "    We will use pandas' method <b>get_dummies</b> to assign numerical values to different categories of \"volume\". \n",
    "</p>\n"
   ]
  },
  {
   "cell_type": "markdown",
   "metadata": {},
   "source": [
    "Get the indicator variables and assign it to data frame \"dummy_variable\\_1\":\n"
   ]
  },
  {
   "cell_type": "code",
   "execution_count": 206,
   "metadata": {},
   "outputs": [
    {
     "data": {
      "text/html": [
       "<div>\n",
       "<style scoped>\n",
       "    .dataframe tbody tr th:only-of-type {\n",
       "        vertical-align: middle;\n",
       "    }\n",
       "\n",
       "    .dataframe tbody tr th {\n",
       "        vertical-align: top;\n",
       "    }\n",
       "\n",
       "    .dataframe thead th {\n",
       "        text-align: right;\n",
       "    }\n",
       "</style>\n",
       "<table border=\"1\" class=\"dataframe\">\n",
       "  <thead>\n",
       "    <tr style=\"text-align: right;\">\n",
       "      <th></th>\n",
       "      <th>volume_Low</th>\n",
       "      <th>volume_Medium</th>\n",
       "      <th>volume_High</th>\n",
       "    </tr>\n",
       "  </thead>\n",
       "  <tbody>\n",
       "    <tr>\n",
       "      <th>0</th>\n",
       "      <td>0</td>\n",
       "      <td>1</td>\n",
       "      <td>0</td>\n",
       "    </tr>\n",
       "    <tr>\n",
       "      <th>1</th>\n",
       "      <td>0</td>\n",
       "      <td>0</td>\n",
       "      <td>1</td>\n",
       "    </tr>\n",
       "    <tr>\n",
       "      <th>2</th>\n",
       "      <td>0</td>\n",
       "      <td>0</td>\n",
       "      <td>1</td>\n",
       "    </tr>\n",
       "    <tr>\n",
       "      <th>3</th>\n",
       "      <td>0</td>\n",
       "      <td>0</td>\n",
       "      <td>1</td>\n",
       "    </tr>\n",
       "    <tr>\n",
       "      <th>4</th>\n",
       "      <td>0</td>\n",
       "      <td>0</td>\n",
       "      <td>1</td>\n",
       "    </tr>\n",
       "  </tbody>\n",
       "</table>\n",
       "</div>"
      ],
      "text/plain": [
       "   volume_Low  volume_Medium  volume_High\n",
       "0           0              1            0\n",
       "1           0              0            1\n",
       "2           0              0            1\n",
       "3           0              0            1\n",
       "4           0              0            1"
      ]
     },
     "execution_count": 206,
     "metadata": {},
     "output_type": "execute_result"
    }
   ],
   "source": [
    "dummy_variable_1 = pd.get_dummies(spoiled_df[\"volume-binned\"], prefix=\"volume\")\n",
    "dummy_variable_1.head()"
   ]
  },
  {
   "cell_type": "code",
   "execution_count": 207,
   "metadata": {},
   "outputs": [],
   "source": [
    "# merge data frame \"spoiled_df\" and \"dummy_variable_1\" \n",
    "spoiled_df = pd.concat([spoiled_df, dummy_variable_1], axis=1)\n",
    "\n",
    "# drop original column \"rec_count-binned\" from \"spoiled_df\"\n",
    "spoiled_df.drop(\"volume-binned\", axis = 1, inplace=True)"
   ]
  },
  {
   "cell_type": "code",
   "execution_count": 208,
   "metadata": {},
   "outputs": [
    {
     "data": {
      "text/html": [
       "<div>\n",
       "<style scoped>\n",
       "    .dataframe tbody tr th:only-of-type {\n",
       "        vertical-align: middle;\n",
       "    }\n",
       "\n",
       "    .dataframe tbody tr th {\n",
       "        vertical-align: top;\n",
       "    }\n",
       "\n",
       "    .dataframe thead th {\n",
       "        text-align: right;\n",
       "    }\n",
       "</style>\n",
       "<table border=\"1\" class=\"dataframe\">\n",
       "  <thead>\n",
       "    <tr style=\"text-align: right;\">\n",
       "      <th></th>\n",
       "      <th>ts</th>\n",
       "      <th>open</th>\n",
       "      <th>high</th>\n",
       "      <th>low</th>\n",
       "      <th>close</th>\n",
       "      <th>volume</th>\n",
       "      <th>rec_count</th>\n",
       "      <th>avg_price</th>\n",
       "      <th>open_USDT</th>\n",
       "      <th>high_USDT</th>\n",
       "      <th>low_USDT</th>\n",
       "      <th>close_USDT</th>\n",
       "      <th>volume_USDT</th>\n",
       "      <th>avg_price_USDT</th>\n",
       "      <th>open_norm</th>\n",
       "      <th>close_norm</th>\n",
       "      <th>volume_Low</th>\n",
       "      <th>volume_Medium</th>\n",
       "      <th>volume_High</th>\n",
       "    </tr>\n",
       "  </thead>\n",
       "  <tbody>\n",
       "    <tr>\n",
       "      <th>0</th>\n",
       "      <td>2022-11-11 14:38:00</td>\n",
       "      <td>3.0960000000</td>\n",
       "      <td>3.096</td>\n",
       "      <td>3.076</td>\n",
       "      <td>3.077</td>\n",
       "      <td>2733.3</td>\n",
       "      <td>34</td>\n",
       "      <td>3.0847324845</td>\n",
       "      <td>3.0960000000</td>\n",
       "      <td>3.096</td>\n",
       "      <td>3.076</td>\n",
       "      <td>3.077</td>\n",
       "      <td>2733.3</td>\n",
       "      <td>3.0847324845</td>\n",
       "      <td>0.6899933140</td>\n",
       "      <td>0.2513661202</td>\n",
       "      <td>0</td>\n",
       "      <td>1</td>\n",
       "      <td>0</td>\n",
       "    </tr>\n",
       "    <tr>\n",
       "      <th>1</th>\n",
       "      <td>2022-11-11 14:39:00</td>\n",
       "      <td>3.0730000000</td>\n",
       "      <td>3.077</td>\n",
       "      <td>3.064</td>\n",
       "      <td>3.065</td>\n",
       "      <td>5353.1</td>\n",
       "      <td>40</td>\n",
       "      <td>3.6024288742</td>\n",
       "      <td>3.0730000000</td>\n",
       "      <td>3.077</td>\n",
       "      <td>3.064</td>\n",
       "      <td>3.065</td>\n",
       "      <td>5353.1</td>\n",
       "      <td>3.6024288742</td>\n",
       "      <td>0.6848673947</td>\n",
       "      <td>0.2448087432</td>\n",
       "      <td>0</td>\n",
       "      <td>0</td>\n",
       "      <td>1</td>\n",
       "    </tr>\n",
       "    <tr>\n",
       "      <th>2</th>\n",
       "      <td>2022-11-11 14:40:00</td>\n",
       "      <td>3.0680000000</td>\n",
       "      <td>3.075</td>\n",
       "      <td>NaN</td>\n",
       "      <td>3.075</td>\n",
       "      <td>5582.2</td>\n",
       "      <td>34</td>\n",
       "      <td>3.0710290746</td>\n",
       "      <td>3.0680000000</td>\n",
       "      <td>3.075</td>\n",
       "      <td>NaN</td>\n",
       "      <td>3.075</td>\n",
       "      <td>5582.2</td>\n",
       "      <td>3.0710290746</td>\n",
       "      <td>0.6837530644</td>\n",
       "      <td>0.2502732240</td>\n",
       "      <td>0</td>\n",
       "      <td>0</td>\n",
       "      <td>1</td>\n",
       "    </tr>\n",
       "    <tr>\n",
       "      <th>3</th>\n",
       "      <td>2022-11-11 14:41:00</td>\n",
       "      <td>3.0750000000</td>\n",
       "      <td>3.091</td>\n",
       "      <td>3.069</td>\n",
       "      <td>3.085</td>\n",
       "      <td>10358.0</td>\n",
       "      <td>43</td>\n",
       "      <td>3.0843931647</td>\n",
       "      <td>3.0750000000</td>\n",
       "      <td>3.091</td>\n",
       "      <td>3.069</td>\n",
       "      <td>3.085</td>\n",
       "      <td>10358.0</td>\n",
       "      <td>3.0843931647</td>\n",
       "      <td>0.6853131268</td>\n",
       "      <td>0.2557377049</td>\n",
       "      <td>0</td>\n",
       "      <td>0</td>\n",
       "      <td>1</td>\n",
       "    </tr>\n",
       "    <tr>\n",
       "      <th>4</th>\n",
       "      <td>2022-11-11 14:42:00</td>\n",
       "      <td>3.6021033431</td>\n",
       "      <td>3.093</td>\n",
       "      <td>3.074</td>\n",
       "      <td>3.074</td>\n",
       "      <td>9567.6</td>\n",
       "      <td>38</td>\n",
       "      <td>3.0880945796</td>\n",
       "      <td>3.6021033431</td>\n",
       "      <td>3.093</td>\n",
       "      <td>3.074</td>\n",
       "      <td>3.074</td>\n",
       "      <td>9567.6</td>\n",
       "      <td>3.0880945796</td>\n",
       "      <td>0.8027865708</td>\n",
       "      <td>0.2497267760</td>\n",
       "      <td>0</td>\n",
       "      <td>0</td>\n",
       "      <td>1</td>\n",
       "    </tr>\n",
       "  </tbody>\n",
       "</table>\n",
       "</div>"
      ],
      "text/plain": [
       "                   ts          open   high    low  close   volume  rec_count  \\\n",
       "0 2022-11-11 14:38:00  3.0960000000  3.096  3.076  3.077   2733.3         34   \n",
       "1 2022-11-11 14:39:00  3.0730000000  3.077  3.064  3.065   5353.1         40   \n",
       "2 2022-11-11 14:40:00  3.0680000000  3.075    NaN  3.075   5582.2         34   \n",
       "3 2022-11-11 14:41:00  3.0750000000  3.091  3.069  3.085  10358.0         43   \n",
       "4 2022-11-11 14:42:00  3.6021033431  3.093  3.074  3.074   9567.6         38   \n",
       "\n",
       "      avg_price     open_USDT  high_USDT  low_USDT  close_USDT  volume_USDT  \\\n",
       "0  3.0847324845  3.0960000000      3.096     3.076       3.077       2733.3   \n",
       "1  3.6024288742  3.0730000000      3.077     3.064       3.065       5353.1   \n",
       "2  3.0710290746  3.0680000000      3.075       NaN       3.075       5582.2   \n",
       "3  3.0843931647  3.0750000000      3.091     3.069       3.085      10358.0   \n",
       "4  3.0880945796  3.6021033431      3.093     3.074       3.074       9567.6   \n",
       "\n",
       "   avg_price_USDT     open_norm    close_norm  volume_Low  volume_Medium  \\\n",
       "0    3.0847324845  0.6899933140  0.2513661202           0              1   \n",
       "1    3.6024288742  0.6848673947  0.2448087432           0              0   \n",
       "2    3.0710290746  0.6837530644  0.2502732240           0              0   \n",
       "3    3.0843931647  0.6853131268  0.2557377049           0              0   \n",
       "4    3.0880945796  0.8027865708  0.2497267760           0              0   \n",
       "\n",
       "   volume_High  \n",
       "0            0  \n",
       "1            1  \n",
       "2            1  \n",
       "3            1  \n",
       "4            1  "
      ]
     },
     "execution_count": 208,
     "metadata": {},
     "output_type": "execute_result"
    }
   ],
   "source": [
    "spoiled_df.head()"
   ]
  },
  {
   "cell_type": "markdown",
   "metadata": {},
   "source": [
    "The last three columns are now the indicator variable representation of the volume variable. They're all 0s and 1s now.\n"
   ]
  },
  {
   "cell_type": "markdown",
   "metadata": {},
   "source": [
    "<div class=\"alert alert-danger alertdanger\" style=\"margin-top: 20px\">\n",
    "<h1> Question  #4: </h1>\n",
    "\n",
    "<b>Similar to before, create an indicator variable for the column \"ts\" (create spoiled_df[\"ts_day_name\"] = spoiled_df[\"ts\"].dt.day_name() as category and then get_dummies from that column and then concatenate the spoiled_df) and merge the dataframes</b>\n",
    "\n",
    "</div>\n"
   ]
  },
  {
   "cell_type": "code",
   "execution_count": 210,
   "metadata": {},
   "outputs": [],
   "source": [
    "# Write your code below and press Shift+Enter to execute \n"
   ]
  },
  {
   "cell_type": "markdown",
   "metadata": {},
   "source": [
    "<details><summary>Click here for the solution</summary>\n",
    "\n",
    "```python\n",
    "# Create a new column\n",
    "spoiled_df[\"ts_day_name\"] = spoiled_df[\"ts\"].dt.day_name()\n",
    "# get indicator variables of aspiration and assign it to data frame \"dummy_variable_2\"\n",
    "dummy_variable_2 = pd.get_dummies(spoiled_df[\"ts_day_name\"], prefix=\"ts\")\n",
    "# Concatenate df's\n",
    "spoiled_df = pd.concat([spoiled_df, dummy_variable_2], axis=1)\n",
    "spoiled_df.head()\n",
    "\n",
    "```\n",
    "\n",
    "</details>\n"
   ]
  },
  {
   "cell_type": "markdown",
   "metadata": {},
   "source": [
    "<h2>Resampling</h2>"
   ]
  },
  {
   "cell_type": "markdown",
   "metadata": {},
   "source": [
    "<b>What is resampling?</b>\n",
    "<p>\n",
    "    Data resampling is any process whereby data is gathered and expressed in a summary form\n",
    "</p>"
   ]
  },
  {
   "cell_type": "markdown",
   "metadata": {},
   "source": [
    "Let's set \"ts\" as index to be able to resample our dataframe"
   ]
  },
  {
   "cell_type": "code",
   "execution_count": 211,
   "metadata": {},
   "outputs": [],
   "source": [
    "spoiled_df.index = spoiled_df[\"ts\"]"
   ]
  },
  {
   "cell_type": "markdown",
   "metadata": {},
   "source": [
    "After resampling we can use different aggregation functions such as:\n",
    "\n",
    "<ul>\n",
    "    <li><b>mean()</b></li>\n",
    "    <li><b>sum()</b></li>\n",
    "    <li><b>prod()</b></li>\n",
    "    <li><b>first()</b></li>\n",
    "    <li><b>last()</b></li>\n",
    "    <li><b>min()</b></li>\n",
    "    <li><b>max()</b></li>\n",
    "</ul>"
   ]
  },
  {
   "cell_type": "code",
   "execution_count": 212,
   "metadata": {},
   "outputs": [
    {
     "data": {
      "text/html": [
       "<div>\n",
       "<style scoped>\n",
       "    .dataframe tbody tr th:only-of-type {\n",
       "        vertical-align: middle;\n",
       "    }\n",
       "\n",
       "    .dataframe tbody tr th {\n",
       "        vertical-align: top;\n",
       "    }\n",
       "\n",
       "    .dataframe thead th {\n",
       "        text-align: right;\n",
       "    }\n",
       "</style>\n",
       "<table border=\"1\" class=\"dataframe\">\n",
       "  <thead>\n",
       "    <tr style=\"text-align: right;\">\n",
       "      <th></th>\n",
       "      <th>open</th>\n",
       "      <th>high</th>\n",
       "      <th>low</th>\n",
       "      <th>close</th>\n",
       "      <th>volume</th>\n",
       "      <th>rec_count</th>\n",
       "      <th>avg_price</th>\n",
       "    </tr>\n",
       "    <tr>\n",
       "      <th>ts</th>\n",
       "      <th></th>\n",
       "      <th></th>\n",
       "      <th></th>\n",
       "      <th></th>\n",
       "      <th></th>\n",
       "      <th></th>\n",
       "      <th></th>\n",
       "    </tr>\n",
       "  </thead>\n",
       "  <tbody>\n",
       "    <tr>\n",
       "      <th>2022-11-11 14:30:00</th>\n",
       "      <td>3.1531576204</td>\n",
       "      <td>3.1616125236</td>\n",
       "      <td>3.0730000000</td>\n",
       "      <td>3.0781428571</td>\n",
       "      <td>6690.2490919369</td>\n",
       "      <td>34.8571428571</td>\n",
       "      <td>3.1569706742</td>\n",
       "    </tr>\n",
       "    <tr>\n",
       "      <th>2022-11-11 14:45:00</th>\n",
       "      <td>3.1979402229</td>\n",
       "      <td>3.2126191777</td>\n",
       "      <td>3.1567142857</td>\n",
       "      <td>3.1708000000</td>\n",
       "      <td>16821.3183049489</td>\n",
       "      <td>40.6666666667</td>\n",
       "      <td>3.2281479255</td>\n",
       "    </tr>\n",
       "    <tr>\n",
       "      <th>2022-11-11 15:00:00</th>\n",
       "      <td>3.2010068895</td>\n",
       "      <td>3.2128858443</td>\n",
       "      <td>3.1617142857</td>\n",
       "      <td>3.1728000000</td>\n",
       "      <td>7547.0866666667</td>\n",
       "      <td>37.2000000000</td>\n",
       "      <td>3.2022082485</td>\n",
       "    </tr>\n",
       "    <tr>\n",
       "      <th>2022-11-11 15:15:00</th>\n",
       "      <td>3.2074735562</td>\n",
       "      <td>3.2682575330</td>\n",
       "      <td>3.1730769231</td>\n",
       "      <td>3.1777000000</td>\n",
       "      <td>3431.6229095706</td>\n",
       "      <td>23.5333333333</td>\n",
       "      <td>3.1795090261</td>\n",
       "    </tr>\n",
       "    <tr>\n",
       "      <th>2022-11-11 15:30:00</th>\n",
       "      <td>3.1436000000</td>\n",
       "      <td>3.2707433773</td>\n",
       "      <td>3.1350000000</td>\n",
       "      <td>3.1408666667</td>\n",
       "      <td>3962.7383049489</td>\n",
       "      <td>26.0666666667</td>\n",
       "      <td>3.2047636567</td>\n",
       "    </tr>\n",
       "  </tbody>\n",
       "</table>\n",
       "</div>"
      ],
      "text/plain": [
       "                             open          high           low         close  \\\n",
       "ts                                                                            \n",
       "2022-11-11 14:30:00  3.1531576204  3.1616125236  3.0730000000  3.0781428571   \n",
       "2022-11-11 14:45:00  3.1979402229  3.2126191777  3.1567142857  3.1708000000   \n",
       "2022-11-11 15:00:00  3.2010068895  3.2128858443  3.1617142857  3.1728000000   \n",
       "2022-11-11 15:15:00  3.2074735562  3.2682575330  3.1730769231  3.1777000000   \n",
       "2022-11-11 15:30:00  3.1436000000  3.2707433773  3.1350000000  3.1408666667   \n",
       "\n",
       "                               volume      rec_count     avg_price  \n",
       "ts                                                                  \n",
       "2022-11-11 14:30:00   6690.2490919369  34.8571428571  3.1569706742  \n",
       "2022-11-11 14:45:00  16821.3183049489  40.6666666667  3.2281479255  \n",
       "2022-11-11 15:00:00   7547.0866666667  37.2000000000  3.2022082485  \n",
       "2022-11-11 15:15:00   3431.6229095706  23.5333333333  3.1795090261  \n",
       "2022-11-11 15:30:00   3962.7383049489  26.0666666667  3.2047636567  "
      ]
     },
     "execution_count": 212,
     "metadata": {},
     "output_type": "execute_result"
    }
   ],
   "source": [
    "spoiled_df[[\"open\", \"high\", \"low\", \"close\", \"volume\", \"rec_count\", \"avg_price\"]].resample(\"15min\").mean().head()"
   ]
  },
  {
   "cell_type": "markdown",
   "metadata": {},
   "source": [
    "How we can see we resampled data with aggregation time 15 min so we reduced amount of the data and generalized it. And we can make assumptions on much wider time window (15 min instead of 1 min)"
   ]
  },
  {
   "cell_type": "markdown",
   "metadata": {
    "tags": []
   },
   "source": [
    " <div class=\"alert alert-danger alertdanger\" style=\"margin-top: 20px\">\n",
    "<h1> Question  #5: </h1>\n",
    "\n",
    "<b>Apply resampling to \"spoiled_df\" with aggregation time 1 hour to columns \"high\", \"low\", \"close\". Then apply <b>max()</b> function</b>\n",
    "\n",
    "</div>\n"
   ]
  },
  {
   "cell_type": "code",
   "execution_count": 68,
   "metadata": {},
   "outputs": [],
   "source": [
    "# Write your code below and press Shift+Enter to execute \n"
   ]
  },
  {
   "cell_type": "markdown",
   "metadata": {},
   "source": [
    "<details><summary>Click here for the solution</summary>\n",
    "\n",
    "```python\n",
    "spoiled_df[[\"high\", \"low\", \"close\"]].resample('1h').max().head()\n",
    "```\n",
    "\n",
    "</details>\n"
   ]
  },
  {
   "cell_type": "code",
   "execution_count": 213,
   "metadata": {},
   "outputs": [],
   "source": [
    "spoiled_df.to_csv(\"clean_df.csv\", index=False)"
   ]
  },
  {
   "cell_type": "markdown",
   "metadata": {},
   "source": [
    "Save the new csv:\n",
    "\n",
    "> Note : The  csv file cannot be viewed in the jupyterlite based SN labs environment.However you can Click <a href=\"https://cf-courses-data.s3.us.cloud-object-storage.appdomain.cloud/IBMDeveloperSkillsNetwork-DA0101EN-SkillsNetwork/labs/Module%202/DA0101EN-2-Review-Data-Wrangling.ipynb?utm_medium=Exinfluencer&utm_source=Exinfluencer&utm_content=000026UJ&utm_term=10006555&utm_id=NA-SkillsNetwork-Channel-SkillsNetworkCoursesIBMDeveloperSkillsNetworkDA0101ENSkillsNetwork20235326-2022-01-01\">HERE ???</a> to download the lab notebook (.ipynb) to your local machine and view the csv file once the notebook is executed.\n"
   ]
  },
  {
   "cell_type": "markdown",
   "metadata": {},
   "source": [
    "### Thank you for completing this lab!\n",
    "\n",
    "## Author\n",
    "\n",
    "<a href=\"https://www.linkedin.com/in/joseph-s-50398b136/?utm_medium=Exinfluencer&utm_source=Exinfluencer&utm_content=000026UJ&utm_term=10006555&utm_id=NA-SkillsNetwork-Channel-SkillsNetworkCoursesIBMDeveloperSkillsNetworkDA0101ENSkillsNetwork20235326-2021-01-01\" target=\"_blank\">Joseph Santarcangelo</a>\n",
    "\n",
    "### Other Contributors\n",
    "\n",
    "<a href=\"https://www.linkedin.com/in/mahdi-noorian-58219234/?utm_medium=Exinfluencer&utm_source=Exinfluencer&utm_content=000026UJ&utm_term=10006555&utm_id=NA-SkillsNetwork-Channel-SkillsNetworkCoursesIBMDeveloperSkillsNetworkDA0101ENSkillsNetwork20235326-2021-01-01\" target=\"_blank\">Mahdi Noorian PhD</a>\n",
    "\n",
    "Bahare Talayian\n",
    "\n",
    "Eric Xiao\n",
    "\n",
    "Steven Dong\n",
    "\n",
    "Parizad\n",
    "\n",
    "Hima Vasudevan\n",
    "\n",
    "<a href=\"https://www.linkedin.com/in/fiorellawever/?utm_medium=Exinfluencer&utm_source=Exinfluencer&utm_content=000026UJ&utm_term=10006555&utm_id=NA-SkillsNetwork-Channel-SkillsNetworkCoursesIBMDeveloperSkillsNetworkDA0101ENSkillsNetwork20235326-2021-01-01\" target=\"_blank\">Fiorella Wenver</a>\n",
    "\n",
    "<a href=\"https:// https://www.linkedin.com/in/yi-leng-yao-84451275/ \" target=\"_blank\" >Yi Yao</a>.\n",
    "\n",
    "## Change Log\n",
    "\n",
    "| Date (YYYY-MM-DD) | Version | Changed By | Change Description                  |\n",
    "| ----------------- | ------- | ---------- | ----------------------------------- |\n",
    "| 2022-04-22        | 2.3     | Lakshmi    | Made changes in markdown file       |\n",
    "| 2020-10-30        | 2.2     | Lakshmi    | Changed URL of csv                  |\n",
    "| 2020-09-09        | 2.1     | Lakshmi    | Updated Indicator Variables section |\n",
    "| 2020-08-27        | 2.0     | Lavanya    | Moved lab to course repo in GitLab  |\n",
    "\n",
    "<hr>\n",
    "\n",
    "## <h3 align=\"center\"> © IBM Corporation 2020. All rights reserved. <h3/>\n"
   ]
  }
 ],
 "metadata": {
  "anaconda-cloud": {},
  "kernelspec": {
   "display_name": "Python 3 (ipykernel)",
   "language": "python",
   "name": "python3"
  },
  "language_info": {
   "codemirror_mode": {
    "name": "ipython",
    "version": 3
   },
   "file_extension": ".py",
   "mimetype": "text/x-python",
   "name": "python",
   "nbconvert_exporter": "python",
   "pygments_lexer": "ipython3",
   "version": "3.9.7"
  }
 },
 "nbformat": 4,
 "nbformat_minor": 4
}
