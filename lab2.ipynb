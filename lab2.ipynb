{
  "metadata": {
    "anaconda-cloud": {},
    "kernelspec": {
      "name": "python",
      "display_name": "Python (Pyodide)",
      "language": "python"
    },
    "language_info": {
      "codemirror_mode": {
        "name": "python",
        "version": 3
      },
      "file_extension": ".py",
      "mimetype": "text/x-python",
      "name": "python",
      "nbconvert_exporter": "python",
      "pygments_lexer": "ipython3",
      "version": "3.8"
    }
  },
  "nbformat_minor": 4,
  "nbformat": 4,
  "cells": [
    {
      "cell_type": "markdown",
      "source": "<center>\n    <img src=\"https://cf-courses-data.s3.us.cloud-object-storage.appdomain.cloud/IBMDeveloperSkillsNetwork-DA0101EN-SkillsNetwork/labs/Module%202/images/IDSNlogo.png\" width=\"300\" alt=\"cognitiveclass.ai logo\"  />\n</center>\n\n# Data Wrangling\n\nEstimated time needed: **30** minutes\n\n## Objectives\n\nAfter completing this lab you will be able to:\n\n*   Handle missing values\n*   Correct data format\n*   Standardize and normalize data\n",
      "metadata": {}
    },
    {
      "cell_type": "markdown",
      "source": "<h2>Table of Contents</h2>\n\n<div class=\"alert alert-block alert-info\" style=\"margin-top: 20px\">\n<ul>\n    <li><a href=\"https://#identify_handle_missing_values\">Identify and handle missing values</a>\n        <ul>\n            <li><a href=\"https://#identify_missing_values\">Identify missing values</a></li>\n            <li><a href=\"https://#deal_missing_values\">Deal with missing values</a></li>\n            <li><a href=\"https://#correct_data_format\">Correct data format</a></li>\n        </ul>\n    </li>\n    <li><a href=\"https://#data_standardization\">Data standardization</a></li>\n    <li><a href=\"https://#data_normalization\">Data normalization (centering/scaling)</a></li>\n    <li><a href=\"https://#binning_and_indicator\">Binning and indicator variable</a></li>\n    <li><a href=\"https://#resampling\">Resampling</a></li>\n</ul>\n\n</div>\n\n<hr>\n",
      "metadata": {}
    },
    {
      "cell_type": "markdown",
      "source": "<h2>What is the purpose of data wrangling?</h2>\n",
      "metadata": {}
    },
    {
      "cell_type": "markdown",
      "source": "Data wrangling is the process of converting data from the initial format to a format that may be better for analysis.\n",
      "metadata": {}
    },
    {
      "cell_type": "markdown",
      "source": "<h3>How to convert BUSD to USDT?</h3>\n",
      "metadata": {
        "jp-MarkdownHeadingCollapsed": true,
        "tags": []
      }
    },
    {
      "cell_type": "markdown",
      "source": "<h3>Import data</h3>\n<p>\nYou can find the \"APEBUSD Dataset\" from the following link: <a href=\"https://1824251045.rsc.cdn77.org/web/algohouse/data/APEBUSD_trades_1m.csv\">https://1824251045.rsc.cdn77.org/web/algohouse/data/APEBUSD_trades_1m.csv</a>. \nWe will be using this dataset throughout this course.\n</p>\n",
      "metadata": {}
    },
    {
      "cell_type": "markdown",
      "source": "<h4>Import pandas</h4> \n",
      "metadata": {}
    },
    {
      "cell_type": "markdown",
      "source": "you are running the lab in your  browser, so we will install the libraries using `piplite`\n",
      "metadata": {}
    },
    {
      "cell_type": "code",
      "source": "import piplite\nawait piplite.install(['pandas'])\nawait piplite.install(['matplotlib'])\nawait piplite.install(['scikit-learn'])\nawait piplite.install(['numpy'])",
      "metadata": {
        "trusted": true
      },
      "execution_count": 2,
      "outputs": []
    },
    {
      "cell_type": "markdown",
      "source": "If you run the lab locally using Anaconda, you can load the correct library and versions by uncommenting the following:\n",
      "metadata": {}
    },
    {
      "cell_type": "code",
      "source": "#If you run the lab locally using Anaconda, you can load the correct library and versions by uncommenting the following:\n#install specific version of libraries used in lab\n#! mamba install pandas==1.3.3\n#! mamba install numpy=1.21.2\n",
      "metadata": {
        "trusted": true
      },
      "execution_count": 3,
      "outputs": []
    },
    {
      "cell_type": "code",
      "source": "import pandas as pd\nimport numpy as np",
      "metadata": {
        "trusted": true
      },
      "execution_count": 4,
      "outputs": []
    },
    {
      "cell_type": "markdown",
      "source": "This function will download the dataset into your browser\n",
      "metadata": {}
    },
    {
      "cell_type": "code",
      "source": "#This function will download the dataset into your browser \nfrom pyodide.http import pyfetch\n\nasync def download(url, filename):\n    response = await pyfetch(url)\n    if response.status == 200:\n        with open(filename, \"wb\") as f:\n            f.write(await response.bytes())\n\n",
      "metadata": {
        "trusted": true
      },
      "execution_count": 5,
      "outputs": []
    },
    {
      "cell_type": "markdown",
      "source": "<h2>Reading the dataset from the URL</h2>\n",
      "metadata": {}
    },
    {
      "cell_type": "markdown",
      "source": "First, we assign the URL of the dataset to \"filename\".\n",
      "metadata": {}
    },
    {
      "cell_type": "markdown",
      "source": "This dataset was hosted on IBM Cloud object. Click <a href=\"https://1824251045.rsc.cdn77.org/web/algohouse/data/APEBUSD_trades_1m.csv\">HERE</a> for free storage.\n",
      "metadata": {}
    },
    {
      "cell_type": "code",
      "source": "filename = \"https://1824251045.rsc.cdn77.org/web/algohouse/data/APEBUSD_trades_1m.csv\"",
      "metadata": {
        "trusted": true
      },
      "execution_count": 6,
      "outputs": []
    },
    {
      "cell_type": "markdown",
      "source": "you will need to download the dataset; if you are running locally, please comment out the following\n",
      "metadata": {}
    },
    {
      "cell_type": "code",
      "source": "await download(filename, \"APEBUSD_trades_1m.csv\")\nfilename = \"APEBUSD_trades_1m.csv\"",
      "metadata": {
        "trusted": true
      },
      "execution_count": 7,
      "outputs": []
    },
    {
      "cell_type": "markdown",
      "source": "Use the Pandas method <b>read_csv()</b> to load the data from the web address. Set the parameter  \"names\" equal to the Python list \"headers\".\n",
      "metadata": {}
    },
    {
      "cell_type": "code",
      "source": "df = pd.read_csv(filename, index_col=0)",
      "metadata": {
        "trusted": true
      },
      "execution_count": 8,
      "outputs": []
    },
    {
      "cell_type": "markdown",
      "source": "Use the method <b>head()</b> to display the first five rows of the dataframe.\n",
      "metadata": {}
    },
    {
      "cell_type": "code",
      "source": "# To see what the data set looks like, we'll use the head() method.\ndf.head()",
      "metadata": {
        "trusted": true
      },
      "execution_count": 9,
      "outputs": [
        {
          "execution_count": 9,
          "output_type": "execute_result",
          "data": {
            "text/plain": "                    ts   open   high    low  close   volume  rec_count  \\\n0  2022-11-11 14:38:00  3.096  3.096  3.076  3.077   2733.3         34   \n1  2022-11-11 14:39:00  3.073  3.077  3.064  3.065   5353.1         40   \n2  2022-11-11 14:40:00  3.068  3.075  3.062  3.075   5582.2         34   \n3  2022-11-11 14:41:00  3.075  3.091  3.069  3.085  10358.0         43   \n4  2022-11-11 14:42:00  3.085  3.093  3.074  3.074   9567.6         38   \n\n   avg_price  \n0   3.084732  \n1   3.069644  \n2   3.071029  \n3   3.084393  \n4   3.088095  ",
            "text/html": "<div>\n<style scoped>\n    .dataframe tbody tr th:only-of-type {\n        vertical-align: middle;\n    }\n\n    .dataframe tbody tr th {\n        vertical-align: top;\n    }\n\n    .dataframe thead th {\n        text-align: right;\n    }\n</style>\n<table border=\"1\" class=\"dataframe\">\n  <thead>\n    <tr style=\"text-align: right;\">\n      <th></th>\n      <th>ts</th>\n      <th>open</th>\n      <th>high</th>\n      <th>low</th>\n      <th>close</th>\n      <th>volume</th>\n      <th>rec_count</th>\n      <th>avg_price</th>\n    </tr>\n  </thead>\n  <tbody>\n    <tr>\n      <th>0</th>\n      <td>2022-11-11 14:38:00</td>\n      <td>3.096</td>\n      <td>3.096</td>\n      <td>3.076</td>\n      <td>3.077</td>\n      <td>2733.3</td>\n      <td>34</td>\n      <td>3.084732</td>\n    </tr>\n    <tr>\n      <th>1</th>\n      <td>2022-11-11 14:39:00</td>\n      <td>3.073</td>\n      <td>3.077</td>\n      <td>3.064</td>\n      <td>3.065</td>\n      <td>5353.1</td>\n      <td>40</td>\n      <td>3.069644</td>\n    </tr>\n    <tr>\n      <th>2</th>\n      <td>2022-11-11 14:40:00</td>\n      <td>3.068</td>\n      <td>3.075</td>\n      <td>3.062</td>\n      <td>3.075</td>\n      <td>5582.2</td>\n      <td>34</td>\n      <td>3.071029</td>\n    </tr>\n    <tr>\n      <th>3</th>\n      <td>2022-11-11 14:41:00</td>\n      <td>3.075</td>\n      <td>3.091</td>\n      <td>3.069</td>\n      <td>3.085</td>\n      <td>10358.0</td>\n      <td>43</td>\n      <td>3.084393</td>\n    </tr>\n    <tr>\n      <th>4</th>\n      <td>2022-11-11 14:42:00</td>\n      <td>3.085</td>\n      <td>3.093</td>\n      <td>3.074</td>\n      <td>3.074</td>\n      <td>9567.6</td>\n      <td>38</td>\n      <td>3.088095</td>\n    </tr>\n  </tbody>\n</table>\n</div>"
          },
          "metadata": {}
        }
      ]
    },
    {
      "cell_type": "markdown",
      "source": "Our data now is clean but let's spoil them to show how we can deal with missing values and incorrect data\n\n<div>Let's define <b>spoil_df</b> function which produces incorrect data of 3 types:</div>\n\n<ol>\n    <li>Text data (we work with numbers)</li>\n    <li>Negative values (we work only with positive values)</li>\n    <li>Missing values (NaN)</li>\n</ol>",
      "metadata": {}
    },
    {
      "cell_type": "code",
      "source": "def spoil_df(df: pd.DataFrame, cols: list = [\"open\", \"high\", \"low\", \"close\", \"volume\", \"rec_count\", \"avg_price\"]):\n    rng = np.random.default_rng(seed=42)\n    new_df = df.copy()\n    for col in cols:\n        m = rng.random(len(df))\n        l1 = 0.03 # NaN\n        l2 = 0.04 # Text\n        l3 = 0.03 # Negative\n\n        mask1 = m < l1 # NaN\n        mask2 = (m >= l1) & (m < l1+l2) # Text\n        mask3 = (m >= l1+l2) & (m < l1+l2+l3) # Negative\n\n        new_df.loc[mask1, col] = np.NaN\n        new_df.loc[mask2, col] = \"?\"\n        new_df.loc[mask3, col] = -new_df.loc[mask3, col]\n    return new_df",
      "metadata": {
        "trusted": true
      },
      "execution_count": 10,
      "outputs": []
    },
    {
      "cell_type": "code",
      "source": "spoiled_df = spoil_df(df)",
      "metadata": {
        "trusted": true
      },
      "execution_count": 11,
      "outputs": []
    },
    {
      "cell_type": "code",
      "source": "spoiled_df.head(10)",
      "metadata": {
        "trusted": true
      },
      "execution_count": 12,
      "outputs": [
        {
          "execution_count": 12,
          "output_type": "execute_result",
          "data": {
            "text/plain": "                    ts   open   high    low  close   volume rec_count  \\\n0  2022-11-11 14:38:00  3.096  3.096  3.076  3.077   2733.3      34.0   \n1  2022-11-11 14:39:00  3.073  3.077  3.064  3.065   5353.1      40.0   \n2  2022-11-11 14:40:00  3.068  3.075 -3.062  3.075   5582.2      34.0   \n3  2022-11-11 14:41:00  3.075  3.091  3.069  3.085  10358.0      43.0   \n4  2022-11-11 14:42:00 -3.085  3.093  3.074  3.074   9567.6      38.0   \n5  2022-11-11 14:43:00  3.076      ?  3.073  3.079      NaN      27.0   \n6  2022-11-11 14:44:00  3.082  3.094  3.082  3.092   8106.4      28.0   \n7  2022-11-11 14:45:00  3.095  3.138  3.095    NaN  35545.1      67.0   \n8  2022-11-11 14:46:00  3.137  3.154   3.12  3.153  17379.1      57.0   \n9  2022-11-11 14:47:00  3.158  3.236  3.158  3.214  66603.7      75.0   \n\n  avg_price  \n0  3.084732  \n1       NaN  \n2  3.071029  \n3  3.084393  \n4  3.088095  \n5  3.079011  \n6  3.089105  \n7  3.118701  \n8  3.138483  \n9  3.194934  ",
            "text/html": "<div>\n<style scoped>\n    .dataframe tbody tr th:only-of-type {\n        vertical-align: middle;\n    }\n\n    .dataframe tbody tr th {\n        vertical-align: top;\n    }\n\n    .dataframe thead th {\n        text-align: right;\n    }\n</style>\n<table border=\"1\" class=\"dataframe\">\n  <thead>\n    <tr style=\"text-align: right;\">\n      <th></th>\n      <th>ts</th>\n      <th>open</th>\n      <th>high</th>\n      <th>low</th>\n      <th>close</th>\n      <th>volume</th>\n      <th>rec_count</th>\n      <th>avg_price</th>\n    </tr>\n  </thead>\n  <tbody>\n    <tr>\n      <th>0</th>\n      <td>2022-11-11 14:38:00</td>\n      <td>3.096</td>\n      <td>3.096</td>\n      <td>3.076</td>\n      <td>3.077</td>\n      <td>2733.3</td>\n      <td>34.0</td>\n      <td>3.084732</td>\n    </tr>\n    <tr>\n      <th>1</th>\n      <td>2022-11-11 14:39:00</td>\n      <td>3.073</td>\n      <td>3.077</td>\n      <td>3.064</td>\n      <td>3.065</td>\n      <td>5353.1</td>\n      <td>40.0</td>\n      <td>NaN</td>\n    </tr>\n    <tr>\n      <th>2</th>\n      <td>2022-11-11 14:40:00</td>\n      <td>3.068</td>\n      <td>3.075</td>\n      <td>-3.062</td>\n      <td>3.075</td>\n      <td>5582.2</td>\n      <td>34.0</td>\n      <td>3.071029</td>\n    </tr>\n    <tr>\n      <th>3</th>\n      <td>2022-11-11 14:41:00</td>\n      <td>3.075</td>\n      <td>3.091</td>\n      <td>3.069</td>\n      <td>3.085</td>\n      <td>10358.0</td>\n      <td>43.0</td>\n      <td>3.084393</td>\n    </tr>\n    <tr>\n      <th>4</th>\n      <td>2022-11-11 14:42:00</td>\n      <td>-3.085</td>\n      <td>3.093</td>\n      <td>3.074</td>\n      <td>3.074</td>\n      <td>9567.6</td>\n      <td>38.0</td>\n      <td>3.088095</td>\n    </tr>\n    <tr>\n      <th>5</th>\n      <td>2022-11-11 14:43:00</td>\n      <td>3.076</td>\n      <td>?</td>\n      <td>3.073</td>\n      <td>3.079</td>\n      <td>NaN</td>\n      <td>27.0</td>\n      <td>3.079011</td>\n    </tr>\n    <tr>\n      <th>6</th>\n      <td>2022-11-11 14:44:00</td>\n      <td>3.082</td>\n      <td>3.094</td>\n      <td>3.082</td>\n      <td>3.092</td>\n      <td>8106.4</td>\n      <td>28.0</td>\n      <td>3.089105</td>\n    </tr>\n    <tr>\n      <th>7</th>\n      <td>2022-11-11 14:45:00</td>\n      <td>3.095</td>\n      <td>3.138</td>\n      <td>3.095</td>\n      <td>NaN</td>\n      <td>35545.1</td>\n      <td>67.0</td>\n      <td>3.118701</td>\n    </tr>\n    <tr>\n      <th>8</th>\n      <td>2022-11-11 14:46:00</td>\n      <td>3.137</td>\n      <td>3.154</td>\n      <td>3.12</td>\n      <td>3.153</td>\n      <td>17379.1</td>\n      <td>57.0</td>\n      <td>3.138483</td>\n    </tr>\n    <tr>\n      <th>9</th>\n      <td>2022-11-11 14:47:00</td>\n      <td>3.158</td>\n      <td>3.236</td>\n      <td>3.158</td>\n      <td>3.214</td>\n      <td>66603.7</td>\n      <td>75.0</td>\n      <td>3.194934</td>\n    </tr>\n  </tbody>\n</table>\n</div>"
          },
          "metadata": {}
        }
      ]
    },
    {
      "cell_type": "markdown",
      "source": "As we can see, several question marks, negative values and NaN appeared in the dataframe; those are incorrect data which may hinders our further analysis.\n\n<div>So, how do we identify all that incorrect data and deal with it?</div> \n\n<b>How to work with incorrect data?</b>\n\nSteps for working with incorrect data:\n\n<ol>\n    <li>Identify incorrect data</li>\n    <li>Deal with incorrect data</li>\n    <li>Correct data format</li>\n</ol>\n",
      "metadata": {}
    },
    {
      "cell_type": "markdown",
      "source": "<h2 id=\"identify_handle_missing_values\">Identify and handle incorrect values</h2>\n\n<h3 id=\"identify_missing_values\">Identify incorrect values</h3>\n<h4>Convert \"?\" to NaN</h4>\nIn the APEBUSD dataset, missing data comes with the question mark \"?\".\nWe replace \"?\" with NaN (Not a Number), Python's default missing value marker for reasons of computational speed and convenience. Here we use the function: \n <pre>.replace(A, B, inplace = True) </pre>\nto replace A by B.\n",
      "metadata": {}
    },
    {
      "cell_type": "code",
      "source": "# replace \"?\" to NaN\nspoiled_df.replace(\"?\", np.nan, inplace = True)\nspoiled_df.head(10)",
      "metadata": {
        "trusted": true
      },
      "execution_count": 13,
      "outputs": [
        {
          "execution_count": 13,
          "output_type": "execute_result",
          "data": {
            "text/plain": "                    ts   open   high    low  close   volume  rec_count  \\\n0  2022-11-11 14:38:00  3.096  3.096  3.076  3.077   2733.3       34.0   \n1  2022-11-11 14:39:00  3.073  3.077  3.064  3.065   5353.1       40.0   \n2  2022-11-11 14:40:00  3.068  3.075 -3.062  3.075   5582.2       34.0   \n3  2022-11-11 14:41:00  3.075  3.091  3.069  3.085  10358.0       43.0   \n4  2022-11-11 14:42:00 -3.085  3.093  3.074  3.074   9567.6       38.0   \n5  2022-11-11 14:43:00  3.076    NaN  3.073  3.079      NaN       27.0   \n6  2022-11-11 14:44:00  3.082  3.094  3.082  3.092   8106.4       28.0   \n7  2022-11-11 14:45:00  3.095  3.138  3.095    NaN  35545.1       67.0   \n8  2022-11-11 14:46:00  3.137  3.154  3.120  3.153  17379.1       57.0   \n9  2022-11-11 14:47:00  3.158  3.236  3.158  3.214  66603.7       75.0   \n\n   avg_price  \n0   3.084732  \n1        NaN  \n2   3.071029  \n3   3.084393  \n4   3.088095  \n5   3.079011  \n6   3.089105  \n7   3.118701  \n8   3.138483  \n9   3.194934  ",
            "text/html": "<div>\n<style scoped>\n    .dataframe tbody tr th:only-of-type {\n        vertical-align: middle;\n    }\n\n    .dataframe tbody tr th {\n        vertical-align: top;\n    }\n\n    .dataframe thead th {\n        text-align: right;\n    }\n</style>\n<table border=\"1\" class=\"dataframe\">\n  <thead>\n    <tr style=\"text-align: right;\">\n      <th></th>\n      <th>ts</th>\n      <th>open</th>\n      <th>high</th>\n      <th>low</th>\n      <th>close</th>\n      <th>volume</th>\n      <th>rec_count</th>\n      <th>avg_price</th>\n    </tr>\n  </thead>\n  <tbody>\n    <tr>\n      <th>0</th>\n      <td>2022-11-11 14:38:00</td>\n      <td>3.096</td>\n      <td>3.096</td>\n      <td>3.076</td>\n      <td>3.077</td>\n      <td>2733.3</td>\n      <td>34.0</td>\n      <td>3.084732</td>\n    </tr>\n    <tr>\n      <th>1</th>\n      <td>2022-11-11 14:39:00</td>\n      <td>3.073</td>\n      <td>3.077</td>\n      <td>3.064</td>\n      <td>3.065</td>\n      <td>5353.1</td>\n      <td>40.0</td>\n      <td>NaN</td>\n    </tr>\n    <tr>\n      <th>2</th>\n      <td>2022-11-11 14:40:00</td>\n      <td>3.068</td>\n      <td>3.075</td>\n      <td>-3.062</td>\n      <td>3.075</td>\n      <td>5582.2</td>\n      <td>34.0</td>\n      <td>3.071029</td>\n    </tr>\n    <tr>\n      <th>3</th>\n      <td>2022-11-11 14:41:00</td>\n      <td>3.075</td>\n      <td>3.091</td>\n      <td>3.069</td>\n      <td>3.085</td>\n      <td>10358.0</td>\n      <td>43.0</td>\n      <td>3.084393</td>\n    </tr>\n    <tr>\n      <th>4</th>\n      <td>2022-11-11 14:42:00</td>\n      <td>-3.085</td>\n      <td>3.093</td>\n      <td>3.074</td>\n      <td>3.074</td>\n      <td>9567.6</td>\n      <td>38.0</td>\n      <td>3.088095</td>\n    </tr>\n    <tr>\n      <th>5</th>\n      <td>2022-11-11 14:43:00</td>\n      <td>3.076</td>\n      <td>NaN</td>\n      <td>3.073</td>\n      <td>3.079</td>\n      <td>NaN</td>\n      <td>27.0</td>\n      <td>3.079011</td>\n    </tr>\n    <tr>\n      <th>6</th>\n      <td>2022-11-11 14:44:00</td>\n      <td>3.082</td>\n      <td>3.094</td>\n      <td>3.082</td>\n      <td>3.092</td>\n      <td>8106.4</td>\n      <td>28.0</td>\n      <td>3.089105</td>\n    </tr>\n    <tr>\n      <th>7</th>\n      <td>2022-11-11 14:45:00</td>\n      <td>3.095</td>\n      <td>3.138</td>\n      <td>3.095</td>\n      <td>NaN</td>\n      <td>35545.1</td>\n      <td>67.0</td>\n      <td>3.118701</td>\n    </tr>\n    <tr>\n      <th>8</th>\n      <td>2022-11-11 14:46:00</td>\n      <td>3.137</td>\n      <td>3.154</td>\n      <td>3.120</td>\n      <td>3.153</td>\n      <td>17379.1</td>\n      <td>57.0</td>\n      <td>3.138483</td>\n    </tr>\n    <tr>\n      <th>9</th>\n      <td>2022-11-11 14:47:00</td>\n      <td>3.158</td>\n      <td>3.236</td>\n      <td>3.158</td>\n      <td>3.214</td>\n      <td>66603.7</td>\n      <td>75.0</td>\n      <td>3.194934</td>\n    </tr>\n  </tbody>\n</table>\n</div>"
          },
          "metadata": {}
        }
      ]
    },
    {
      "cell_type": "markdown",
      "source": "<h4>Convert negative values to NaN</h4>",
      "metadata": {}
    },
    {
      "cell_type": "code",
      "source": "# replace negative values to NaN\nnum_cols = [\"open\", \"high\", \"low\", \"close\", \"volume\", \"rec_count\", \"avg_price\"]\nts = spoiled_df[\"ts\"]\nspoiled_df = pd.concat([ts, spoiled_df[num_cols].mask(spoiled_df[num_cols] < 0)], axis=1)",
      "metadata": {
        "trusted": true
      },
      "execution_count": 14,
      "outputs": []
    },
    {
      "cell_type": "code",
      "source": "spoiled_df.head(10)",
      "metadata": {
        "trusted": true
      },
      "execution_count": 15,
      "outputs": [
        {
          "execution_count": 15,
          "output_type": "execute_result",
          "data": {
            "text/plain": "                    ts   open   high    low  close   volume  rec_count  \\\n0  2022-11-11 14:38:00  3.096  3.096  3.076  3.077   2733.3       34.0   \n1  2022-11-11 14:39:00  3.073  3.077  3.064  3.065   5353.1       40.0   \n2  2022-11-11 14:40:00  3.068  3.075    NaN  3.075   5582.2       34.0   \n3  2022-11-11 14:41:00  3.075  3.091  3.069  3.085  10358.0       43.0   \n4  2022-11-11 14:42:00    NaN  3.093  3.074  3.074   9567.6       38.0   \n5  2022-11-11 14:43:00  3.076    NaN  3.073  3.079      NaN       27.0   \n6  2022-11-11 14:44:00  3.082  3.094  3.082  3.092   8106.4       28.0   \n7  2022-11-11 14:45:00  3.095  3.138  3.095    NaN  35545.1       67.0   \n8  2022-11-11 14:46:00  3.137  3.154  3.120  3.153  17379.1       57.0   \n9  2022-11-11 14:47:00  3.158  3.236  3.158  3.214  66603.7       75.0   \n\n   avg_price  \n0   3.084732  \n1        NaN  \n2   3.071029  \n3   3.084393  \n4   3.088095  \n5   3.079011  \n6   3.089105  \n7   3.118701  \n8   3.138483  \n9   3.194934  ",
            "text/html": "<div>\n<style scoped>\n    .dataframe tbody tr th:only-of-type {\n        vertical-align: middle;\n    }\n\n    .dataframe tbody tr th {\n        vertical-align: top;\n    }\n\n    .dataframe thead th {\n        text-align: right;\n    }\n</style>\n<table border=\"1\" class=\"dataframe\">\n  <thead>\n    <tr style=\"text-align: right;\">\n      <th></th>\n      <th>ts</th>\n      <th>open</th>\n      <th>high</th>\n      <th>low</th>\n      <th>close</th>\n      <th>volume</th>\n      <th>rec_count</th>\n      <th>avg_price</th>\n    </tr>\n  </thead>\n  <tbody>\n    <tr>\n      <th>0</th>\n      <td>2022-11-11 14:38:00</td>\n      <td>3.096</td>\n      <td>3.096</td>\n      <td>3.076</td>\n      <td>3.077</td>\n      <td>2733.3</td>\n      <td>34.0</td>\n      <td>3.084732</td>\n    </tr>\n    <tr>\n      <th>1</th>\n      <td>2022-11-11 14:39:00</td>\n      <td>3.073</td>\n      <td>3.077</td>\n      <td>3.064</td>\n      <td>3.065</td>\n      <td>5353.1</td>\n      <td>40.0</td>\n      <td>NaN</td>\n    </tr>\n    <tr>\n      <th>2</th>\n      <td>2022-11-11 14:40:00</td>\n      <td>3.068</td>\n      <td>3.075</td>\n      <td>NaN</td>\n      <td>3.075</td>\n      <td>5582.2</td>\n      <td>34.0</td>\n      <td>3.071029</td>\n    </tr>\n    <tr>\n      <th>3</th>\n      <td>2022-11-11 14:41:00</td>\n      <td>3.075</td>\n      <td>3.091</td>\n      <td>3.069</td>\n      <td>3.085</td>\n      <td>10358.0</td>\n      <td>43.0</td>\n      <td>3.084393</td>\n    </tr>\n    <tr>\n      <th>4</th>\n      <td>2022-11-11 14:42:00</td>\n      <td>NaN</td>\n      <td>3.093</td>\n      <td>3.074</td>\n      <td>3.074</td>\n      <td>9567.6</td>\n      <td>38.0</td>\n      <td>3.088095</td>\n    </tr>\n    <tr>\n      <th>5</th>\n      <td>2022-11-11 14:43:00</td>\n      <td>3.076</td>\n      <td>NaN</td>\n      <td>3.073</td>\n      <td>3.079</td>\n      <td>NaN</td>\n      <td>27.0</td>\n      <td>3.079011</td>\n    </tr>\n    <tr>\n      <th>6</th>\n      <td>2022-11-11 14:44:00</td>\n      <td>3.082</td>\n      <td>3.094</td>\n      <td>3.082</td>\n      <td>3.092</td>\n      <td>8106.4</td>\n      <td>28.0</td>\n      <td>3.089105</td>\n    </tr>\n    <tr>\n      <th>7</th>\n      <td>2022-11-11 14:45:00</td>\n      <td>3.095</td>\n      <td>3.138</td>\n      <td>3.095</td>\n      <td>NaN</td>\n      <td>35545.1</td>\n      <td>67.0</td>\n      <td>3.118701</td>\n    </tr>\n    <tr>\n      <th>8</th>\n      <td>2022-11-11 14:46:00</td>\n      <td>3.137</td>\n      <td>3.154</td>\n      <td>3.120</td>\n      <td>3.153</td>\n      <td>17379.1</td>\n      <td>57.0</td>\n      <td>3.138483</td>\n    </tr>\n    <tr>\n      <th>9</th>\n      <td>2022-11-11 14:47:00</td>\n      <td>3.158</td>\n      <td>3.236</td>\n      <td>3.158</td>\n      <td>3.214</td>\n      <td>66603.7</td>\n      <td>75.0</td>\n      <td>3.194934</td>\n    </tr>\n  </tbody>\n</table>\n</div>"
          },
          "metadata": {}
        }
      ]
    },
    {
      "cell_type": "markdown",
      "source": "<h4>Evaluating for Missing Data</h4>\n\nThe missing values are converted by default. We use the following functions to identify these missing values. There are two methods to detect missing data:\n\n<ol>\n    <li><b>.isnull()</b></li>\n    <li><b>.notnull()</b></li>\n</ol>\nThe output is a boolean value indicating whether the value that is passed into the argument is in fact missing data.\n",
      "metadata": {}
    },
    {
      "cell_type": "code",
      "source": "missing_data = spoiled_df.isnull()\nmissing_data.head(10)",
      "metadata": {
        "trusted": true
      },
      "execution_count": 16,
      "outputs": [
        {
          "execution_count": 16,
          "output_type": "execute_result",
          "data": {
            "text/plain": "      ts   open   high    low  close  volume  rec_count  avg_price\n0  False  False  False  False  False   False      False      False\n1  False  False  False  False  False   False      False       True\n2  False  False  False   True  False   False      False      False\n3  False  False  False  False  False   False      False      False\n4  False   True  False  False  False   False      False      False\n5  False  False   True  False  False    True      False      False\n6  False  False  False  False  False   False      False      False\n7  False  False  False  False   True   False      False      False\n8  False  False  False  False  False   False      False      False\n9  False  False  False  False  False   False      False      False",
            "text/html": "<div>\n<style scoped>\n    .dataframe tbody tr th:only-of-type {\n        vertical-align: middle;\n    }\n\n    .dataframe tbody tr th {\n        vertical-align: top;\n    }\n\n    .dataframe thead th {\n        text-align: right;\n    }\n</style>\n<table border=\"1\" class=\"dataframe\">\n  <thead>\n    <tr style=\"text-align: right;\">\n      <th></th>\n      <th>ts</th>\n      <th>open</th>\n      <th>high</th>\n      <th>low</th>\n      <th>close</th>\n      <th>volume</th>\n      <th>rec_count</th>\n      <th>avg_price</th>\n    </tr>\n  </thead>\n  <tbody>\n    <tr>\n      <th>0</th>\n      <td>False</td>\n      <td>False</td>\n      <td>False</td>\n      <td>False</td>\n      <td>False</td>\n      <td>False</td>\n      <td>False</td>\n      <td>False</td>\n    </tr>\n    <tr>\n      <th>1</th>\n      <td>False</td>\n      <td>False</td>\n      <td>False</td>\n      <td>False</td>\n      <td>False</td>\n      <td>False</td>\n      <td>False</td>\n      <td>True</td>\n    </tr>\n    <tr>\n      <th>2</th>\n      <td>False</td>\n      <td>False</td>\n      <td>False</td>\n      <td>True</td>\n      <td>False</td>\n      <td>False</td>\n      <td>False</td>\n      <td>False</td>\n    </tr>\n    <tr>\n      <th>3</th>\n      <td>False</td>\n      <td>False</td>\n      <td>False</td>\n      <td>False</td>\n      <td>False</td>\n      <td>False</td>\n      <td>False</td>\n      <td>False</td>\n    </tr>\n    <tr>\n      <th>4</th>\n      <td>False</td>\n      <td>True</td>\n      <td>False</td>\n      <td>False</td>\n      <td>False</td>\n      <td>False</td>\n      <td>False</td>\n      <td>False</td>\n    </tr>\n    <tr>\n      <th>5</th>\n      <td>False</td>\n      <td>False</td>\n      <td>True</td>\n      <td>False</td>\n      <td>False</td>\n      <td>True</td>\n      <td>False</td>\n      <td>False</td>\n    </tr>\n    <tr>\n      <th>6</th>\n      <td>False</td>\n      <td>False</td>\n      <td>False</td>\n      <td>False</td>\n      <td>False</td>\n      <td>False</td>\n      <td>False</td>\n      <td>False</td>\n    </tr>\n    <tr>\n      <th>7</th>\n      <td>False</td>\n      <td>False</td>\n      <td>False</td>\n      <td>False</td>\n      <td>True</td>\n      <td>False</td>\n      <td>False</td>\n      <td>False</td>\n    </tr>\n    <tr>\n      <th>8</th>\n      <td>False</td>\n      <td>False</td>\n      <td>False</td>\n      <td>False</td>\n      <td>False</td>\n      <td>False</td>\n      <td>False</td>\n      <td>False</td>\n    </tr>\n    <tr>\n      <th>9</th>\n      <td>False</td>\n      <td>False</td>\n      <td>False</td>\n      <td>False</td>\n      <td>False</td>\n      <td>False</td>\n      <td>False</td>\n      <td>False</td>\n    </tr>\n  </tbody>\n</table>\n</div>"
          },
          "metadata": {}
        }
      ]
    },
    {
      "cell_type": "markdown",
      "source": "\"True\" means the value is a missing value while \"False\" means the value is not a missing value.\n",
      "metadata": {}
    },
    {
      "cell_type": "markdown",
      "source": "<h4>Count missing values in each column</h4>\n<p>\nUsing a for loop in Python, we can quickly figure out the number of missing values in each column. As mentioned above, \"True\" represents a missing value and \"False\" means the value is present in the dataset.  In the body of the for loop the method \".value_counts()\" counts the number of \"True\" values. \n</p>\n",
      "metadata": {}
    },
    {
      "cell_type": "code",
      "source": "for column in missing_data.columns.values.tolist():\n    print(column)\n    print (missing_data[column].value_counts())\n    print(\"\")",
      "metadata": {
        "trusted": true
      },
      "execution_count": 17,
      "outputs": [
        {
          "name": "stdout",
          "text": "ts\nFalse    66528\nName: ts, dtype: int64\n\nopen\nFalse    59975\nTrue      6553\nName: open, dtype: int64\n\nhigh\nFalse    59903\nTrue      6625\nName: high, dtype: int64\n\nlow\nFalse    59904\nTrue      6624\nName: low, dtype: int64\n\nclose\nFalse    59907\nTrue      6621\nName: close, dtype: int64\n\nvolume\nFalse    59892\nTrue      6636\nName: volume, dtype: int64\n\nrec_count\nFalse    59857\nTrue      6671\nName: rec_count, dtype: int64\n\navg_price\nFalse    59759\nTrue      6769\nName: avg_price, dtype: int64\n\n",
          "output_type": "stream"
        }
      ]
    },
    {
      "cell_type": "markdown",
      "source": "Based on the summary above, each column has 66528 rows of data and seven of the columns containing missing data:\n\n<ol>\n    <li>\"open\": 6553 missing data</li>\n    <li>\"high\": 6625 missing data</li>\n    <li>\"low\" : 6624 missing data</li>\n    <li>\"close\": 6621 missing data</li>\n    <li>\"volume\": 6636 missing data</li>\n    <li>\"rec_count\": 6671 missing data</li>\n    <li>\"avg_price\": 6769 missing data</li>\n</ol>\n",
      "metadata": {}
    },
    {
      "cell_type": "markdown",
      "source": "<h3 id=\"deal_missing_values\">Deal with missing data</h3>",
      "metadata": {}
    },
    {
      "cell_type": "markdown",
      "source": "<p>There are many approaches how to deal with missing data but because we have time series we should use interpolation</p>\n<p><b>What is interpolation?</b></p>\n<p>Interpolation is a type of estimation, a method of constructing (finding) new data points based on the range of a discrete set of known data points</p>",
      "metadata": {}
    },
    {
      "cell_type": "markdown",
      "source": "<b>Replace by pandas interpolation:</b>\n\n<ul>\n    <li>\"open\": 6553 missing data, replace with interpolation</li>\n    <li>\"high\": 6625 missing data, replace with interpolation</li>\n    <li>\"low\": 6624 missing data, replace with interpolation</li>\n    <li>\"volume\": 6636 missing data, replace with interpolation</li>\n    <li>\"avg_price\": 6769 missing data, replace with interpolation</li>\n    <li>\"close\": 6621 missing data, replace with interpolation </li>\n    <li>\"rec_count\": 6671 missing data, replace with interpolation</li>\n</ul>",
      "metadata": {}
    },
    {
      "cell_type": "markdown",
      "source": "<h4>Replacing with pandas interpolation</h4>\n",
      "metadata": {}
    },
    {
      "cell_type": "markdown",
      "source": "Let's try different models for interpolation on \"close\" column and take the best one. We use MSE (Mean squared error) and MAPE (Mean absolute percentage error) to measure performance",
      "metadata": {}
    },
    {
      "cell_type": "code",
      "source": "from sklearn.metrics import mean_squared_error, mean_absolute_percentage_error\n\n# Setting precision\npd.set_option(\"display.precision\", 10)\n# Methods without order\nmethods = [\"linear\", \"nearest\", \"slinear\", \"quadratic\", \"cubic\", \"piecewise_polynomial\", \"pchip\", \"akima\", \"cubicspline\"]\n# Methods with order\norder_methods = [\"spline\", \"polynomial\"]\nperformance = pd.DataFrame({\"name\": [], \"MSE\": [], \"MAPE\": []})\nfor method in methods:\n    # print(method)\n    nan_rows = spoiled_df[\"close\"].isna()\n    interpolated_close = spoiled_df[\"close\"].interpolate(method=method)\n    mse = mean_squared_error(df.loc[nan_rows, \"close\"], interpolated_close[nan_rows])\n    mape = mean_absolute_percentage_error(df.loc[nan_rows, \"close\"], interpolated_close[nan_rows])\n    performance.loc[len(performance.index)] = [method, mse, mape]\nfor method in order_methods:\n    for order in [3, 5]:\n        # print(f\"method: {method}, order: {order}\")\n        nan_rows = spoiled_df[\"close\"].isna()\n        interpolated_close = spoiled_df[\"close\"].interpolate(method=method, order=order)\n        mse = mean_squared_error(df.loc[nan_rows, \"close\"], interpolated_close[nan_rows])\n        mape = mean_absolute_percentage_error(df.loc[nan_rows, \"close\"], interpolated_close[nan_rows])\n        performance.loc[len(performance.index)] = [f\"{method}_{order}\", mse, mape]\n        \nperformance = performance.sort_values(by=[\"MAPE\", \"MSE\"], ascending=True)\nperformance[\"MAPE\"] = performance[\"MAPE\"] * 100\nperformance[\"MAPE\"] = performance[\"MAPE\"].astype(\"str\") \nperformance[\"MAPE\"] = performance[\"MAPE\"].str.slice(stop=8) + \"%\"\nperformance.head(15)",
      "metadata": {
        "trusted": true
      },
      "execution_count": 18,
      "outputs": [
        {
          "execution_count": 18,
          "output_type": "execute_result",
          "data": {
            "text/plain": "                    name           MSE       MAPE\n0                 linear  0.0000187407  0.072774%\n2                slinear  0.0000187407  0.072774%\n5   piecewise_polynomial  0.0000187407  0.072774%\n6                  pchip  0.0000187627  0.073588%\n7                  akima  0.0000188611  0.074177%\n3              quadratic  0.0000217068  0.080021%\n4                  cubic  0.0000227314  0.082153%\n11          polynomial_3  0.0000227314  0.082153%\n8            cubicspline  0.0000227314  0.082153%\n1                nearest  0.0000323259  0.096143%\n12          polynomial_5  0.0000320631  0.096439%\n10              spline_5  0.0235975630  3.313621%\n9               spline_3  0.0457706323  4.870210%",
            "text/html": "<div>\n<style scoped>\n    .dataframe tbody tr th:only-of-type {\n        vertical-align: middle;\n    }\n\n    .dataframe tbody tr th {\n        vertical-align: top;\n    }\n\n    .dataframe thead th {\n        text-align: right;\n    }\n</style>\n<table border=\"1\" class=\"dataframe\">\n  <thead>\n    <tr style=\"text-align: right;\">\n      <th></th>\n      <th>name</th>\n      <th>MSE</th>\n      <th>MAPE</th>\n    </tr>\n  </thead>\n  <tbody>\n    <tr>\n      <th>0</th>\n      <td>linear</td>\n      <td>0.0000187407</td>\n      <td>0.072774%</td>\n    </tr>\n    <tr>\n      <th>2</th>\n      <td>slinear</td>\n      <td>0.0000187407</td>\n      <td>0.072774%</td>\n    </tr>\n    <tr>\n      <th>5</th>\n      <td>piecewise_polynomial</td>\n      <td>0.0000187407</td>\n      <td>0.072774%</td>\n    </tr>\n    <tr>\n      <th>6</th>\n      <td>pchip</td>\n      <td>0.0000187627</td>\n      <td>0.073588%</td>\n    </tr>\n    <tr>\n      <th>7</th>\n      <td>akima</td>\n      <td>0.0000188611</td>\n      <td>0.074177%</td>\n    </tr>\n    <tr>\n      <th>3</th>\n      <td>quadratic</td>\n      <td>0.0000217068</td>\n      <td>0.080021%</td>\n    </tr>\n    <tr>\n      <th>4</th>\n      <td>cubic</td>\n      <td>0.0000227314</td>\n      <td>0.082153%</td>\n    </tr>\n    <tr>\n      <th>11</th>\n      <td>polynomial_3</td>\n      <td>0.0000227314</td>\n      <td>0.082153%</td>\n    </tr>\n    <tr>\n      <th>8</th>\n      <td>cubicspline</td>\n      <td>0.0000227314</td>\n      <td>0.082153%</td>\n    </tr>\n    <tr>\n      <th>1</th>\n      <td>nearest</td>\n      <td>0.0000323259</td>\n      <td>0.096143%</td>\n    </tr>\n    <tr>\n      <th>12</th>\n      <td>polynomial_5</td>\n      <td>0.0000320631</td>\n      <td>0.096439%</td>\n    </tr>\n    <tr>\n      <th>10</th>\n      <td>spline_5</td>\n      <td>0.0235975630</td>\n      <td>3.313621%</td>\n    </tr>\n    <tr>\n      <th>9</th>\n      <td>spline_3</td>\n      <td>0.0457706323</td>\n      <td>4.870210%</td>\n    </tr>\n  </tbody>\n</table>\n</div>"
          },
          "metadata": {}
        }
      ]
    },
    {
      "cell_type": "markdown",
      "source": "How we can see the best model for interpolation is linear so we'll use it to replace NaN values",
      "metadata": {}
    },
    {
      "cell_type": "code",
      "source": "cols_to_replace = [\"high\", \"low\", \"close\", \"volume\", \"rec_count\", \"avg_price\"]\nfor col in cols_to_replace:\n    spoiled_df[col] = spoiled_df[col].interpolate(method=\"linear\")",
      "metadata": {
        "trusted": true
      },
      "execution_count": 19,
      "outputs": []
    },
    {
      "cell_type": "markdown",
      "source": "<div class=\"alert alert-danger alertdanger\" style=\"margin-top: 20px\">\n<h1> Question  #1: </h1>\n\n<b>Based on the example above, replace NaN in \"open\" column with interpolated values.</b>\n\n</div>\n",
      "metadata": {}
    },
    {
      "cell_type": "code",
      "source": "# Write your code below and press Shift+Enter to execute \n",
      "metadata": {
        "trusted": true
      },
      "execution_count": 20,
      "outputs": []
    },
    {
      "cell_type": "markdown",
      "source": "<details><summary>Click here for the solution</summary>\n\n```python\nspoiled_df[\"open\"] = spoiled_df[\"open\"].interpolate(method=\"linear\")\n```\n\n</details>\n",
      "metadata": {}
    },
    {
      "cell_type": "code",
      "source": "spoiled_df.isna().sum()",
      "metadata": {
        "trusted": true
      },
      "execution_count": 21,
      "outputs": [
        {
          "execution_count": 21,
          "output_type": "execute_result",
          "data": {
            "text/plain": "ts              0\nopen         6553\nhigh            0\nlow             0\nclose           0\nvolume          0\nrec_count       0\navg_price       0\ndtype: int64"
          },
          "metadata": {}
        }
      ]
    },
    {
      "cell_type": "markdown",
      "source": "<b>Good!</b> Now, we have a dataset with no missing values.\n",
      "metadata": {}
    },
    {
      "cell_type": "markdown",
      "source": "<h3 id=\"correct_data_format\">Correct data format</h3>\n<b>We are almost there!</b>\n<p>The last step in data cleaning is checking and making sure that all data is in the correct format (int, float, text or other).</p>\n\nIn Pandas, we use:\n\n<p><b>.dtype()</b> to check the data type</p>\n<p><b>.astype()</b> to change the data type</p>\n",
      "metadata": {}
    },
    {
      "cell_type": "markdown",
      "source": "<h4>Let's list the data types for each column</h4>\n",
      "metadata": {}
    },
    {
      "cell_type": "code",
      "source": "spoiled_df.dtypes",
      "metadata": {
        "trusted": true
      },
      "execution_count": 22,
      "outputs": [
        {
          "execution_count": 22,
          "output_type": "execute_result",
          "data": {
            "text/plain": "ts            object\nopen         float64\nhigh         float64\nlow          float64\nclose        float64\nvolume       float64\nrec_count    float64\navg_price    float64\ndtype: object"
          },
          "metadata": {}
        }
      ]
    },
    {
      "cell_type": "markdown",
      "source": "<p>As we can see above, some columns are not of the correct data type. Numerical variables should have type \"float\" or \"int\", and variables with timestamps have type \"datetime\". For example, \"open\", \"high\", \"low\", \"close\", \"avg_price\" variables are numerical values that describe the price, so we should expect them to be of the type \"float\". \"rec_count\" should have type \"int\" because it describes quantity. \"ts\" column should have type \"datetime\"; however, that column is shown as type \"object\". We have to convert data types into a proper format for each column using the \"astype()\" method.</p> \n",
      "metadata": {}
    },
    {
      "cell_type": "markdown",
      "source": "<h4>Convert data types to proper format</h4>\n",
      "metadata": {}
    },
    {
      "cell_type": "code",
      "source": "spoiled_df[\"ts\"] = spoiled_df[\"ts\"].astype(\"datetime64[ns]\")\nspoiled_df[\"rec_count\"] = spoiled_df[\"rec_count\"].astype(\"int\")",
      "metadata": {
        "trusted": true
      },
      "execution_count": 23,
      "outputs": []
    },
    {
      "cell_type": "markdown",
      "source": "<h4>Let us list the columns after the conversion</h4>\n",
      "metadata": {}
    },
    {
      "cell_type": "code",
      "source": "spoiled_df.dtypes",
      "metadata": {
        "trusted": true
      },
      "execution_count": 24,
      "outputs": [
        {
          "execution_count": 24,
          "output_type": "execute_result",
          "data": {
            "text/plain": "ts           datetime64[ns]\nopen                float64\nhigh                float64\nlow                 float64\nclose               float64\nvolume              float64\nrec_count             int32\navg_price           float64\ndtype: object"
          },
          "metadata": {}
        }
      ]
    },
    {
      "cell_type": "markdown",
      "source": "<b>Wonderful!</b>\n\nNow we have finally obtained the cleaned dataset with no missing values with all data in its proper format.\n",
      "metadata": {}
    },
    {
      "cell_type": "markdown",
      "source": "<h2 id=\"data_standardization\">Data Standardization</h2>\n<p>\nData is usually collected from different agencies in different formats.\n(Data standardization is also a term for a particular type of data normalization where we subtract the mean and divide by the standard deviation.)\n</p>\n\n<b>What is standardization?</b>\n\n<p>Standardization is the process of transforming data into a common format, allowing the researcher to make the meaningful comparison.\n</p>\n\n<b>Example</b>\n\n<p>Transform BUSD TO USDT:</p>\n<p>In our dataset, \"open\", \"high\", \"low\", \"close\", \"volume\", \"avg_price\" are represented by BUSD (Binance USD) unit. However in most cases it is customary to use USDT.</p>\n<p>We will need to apply <b>data transformation</b> to transform BUSD into USDT.</p>\n",
      "metadata": {}
    },
    {
      "cell_type": "markdown",
      "source": "<p>We can do many mathematical operations directly in Pandas.</p>\n",
      "metadata": {}
    },
    {
      "cell_type": "code",
      "source": "spoiled_df.head()",
      "metadata": {
        "trusted": true
      },
      "execution_count": 25,
      "outputs": [
        {
          "execution_count": 25,
          "output_type": "execute_result",
          "data": {
            "text/plain": "                   ts   open   high     low  close   volume  rec_count  \\\n0 2022-11-11 14:38:00  3.096  3.096  3.0760  3.077   2733.3         34   \n1 2022-11-11 14:39:00  3.073  3.077  3.0640  3.065   5353.1         40   \n2 2022-11-11 14:40:00  3.068  3.075  3.0665  3.075   5582.2         34   \n3 2022-11-11 14:41:00  3.075  3.091  3.0690  3.085  10358.0         43   \n4 2022-11-11 14:42:00    NaN  3.093  3.0740  3.074   9567.6         38   \n\n      avg_price  \n0  3.0847324845  \n1  3.0778807796  \n2  3.0710290746  \n3  3.0843931647  \n4  3.0880945796  ",
            "text/html": "<div>\n<style scoped>\n    .dataframe tbody tr th:only-of-type {\n        vertical-align: middle;\n    }\n\n    .dataframe tbody tr th {\n        vertical-align: top;\n    }\n\n    .dataframe thead th {\n        text-align: right;\n    }\n</style>\n<table border=\"1\" class=\"dataframe\">\n  <thead>\n    <tr style=\"text-align: right;\">\n      <th></th>\n      <th>ts</th>\n      <th>open</th>\n      <th>high</th>\n      <th>low</th>\n      <th>close</th>\n      <th>volume</th>\n      <th>rec_count</th>\n      <th>avg_price</th>\n    </tr>\n  </thead>\n  <tbody>\n    <tr>\n      <th>0</th>\n      <td>2022-11-11 14:38:00</td>\n      <td>3.096</td>\n      <td>3.096</td>\n      <td>3.0760</td>\n      <td>3.077</td>\n      <td>2733.3</td>\n      <td>34</td>\n      <td>3.0847324845</td>\n    </tr>\n    <tr>\n      <th>1</th>\n      <td>2022-11-11 14:39:00</td>\n      <td>3.073</td>\n      <td>3.077</td>\n      <td>3.0640</td>\n      <td>3.065</td>\n      <td>5353.1</td>\n      <td>40</td>\n      <td>3.0778807796</td>\n    </tr>\n    <tr>\n      <th>2</th>\n      <td>2022-11-11 14:40:00</td>\n      <td>3.068</td>\n      <td>3.075</td>\n      <td>3.0665</td>\n      <td>3.075</td>\n      <td>5582.2</td>\n      <td>34</td>\n      <td>3.0710290746</td>\n    </tr>\n    <tr>\n      <th>3</th>\n      <td>2022-11-11 14:41:00</td>\n      <td>3.075</td>\n      <td>3.091</td>\n      <td>3.0690</td>\n      <td>3.085</td>\n      <td>10358.0</td>\n      <td>43</td>\n      <td>3.0843931647</td>\n    </tr>\n    <tr>\n      <th>4</th>\n      <td>2022-11-11 14:42:00</td>\n      <td>NaN</td>\n      <td>3.093</td>\n      <td>3.0740</td>\n      <td>3.074</td>\n      <td>9567.6</td>\n      <td>38</td>\n      <td>3.0880945796</td>\n    </tr>\n  </tbody>\n</table>\n</div>"
          },
          "metadata": {}
        }
      ]
    },
    {
      "cell_type": "markdown",
      "source": "Let's get the exchange rate and convert BUSD TO USDT",
      "metadata": {}
    },
    {
      "cell_type": "code",
      "source": "# Convert BUSD to USDT by mathematical operation\nres = await pyfetch(\"https://api.binance.com/sapi/v1/convert/exchangeInfo?fromAsset=BUSD&toAsset=USDT\")\n# If the api is unavailable we set fixed rate\nif res.status != 200:\n    rate = 0.999707\nelse:\n    # Converting json to dict\n    res = await res.json()\n    rate = float(res[0][\"toAssetMinAmount\"])\n    \nprint(f\"The exchange rate is 1 BUSD = {rate} USDT\")\n\ncols_to_convert = [\"open\", \"high\", \"low\", \"close\", \"volume\", \"avg_price\"]\nfor col in cols_to_convert:\n    spoiled_df[f\"{col}_USDT\"] = spoiled_df[col] * rate\n\n# check your transformed data \nspoiled_df[[\"open_USDT\", \"high_USDT\", \"low_USDT\", \"close_USDT\", \"volume_USDT\", \"avg_price_USDT\"]].head()",
      "metadata": {
        "trusted": true
      },
      "execution_count": 26,
      "outputs": [
        {
          "name": "stdout",
          "text": "The exchange rate is 1 BUSD = 1.0 USDT\n",
          "output_type": "stream"
        },
        {
          "execution_count": 26,
          "output_type": "execute_result",
          "data": {
            "text/plain": "   open_USDT  high_USDT  low_USDT  close_USDT  volume_USDT  avg_price_USDT\n0      3.096      3.096    3.0760       3.077       2733.3    3.0847324845\n1      3.073      3.077    3.0640       3.065       5353.1    3.0778807796\n2      3.068      3.075    3.0665       3.075       5582.2    3.0710290746\n3      3.075      3.091    3.0690       3.085      10358.0    3.0843931647\n4        NaN      3.093    3.0740       3.074       9567.6    3.0880945796",
            "text/html": "<div>\n<style scoped>\n    .dataframe tbody tr th:only-of-type {\n        vertical-align: middle;\n    }\n\n    .dataframe tbody tr th {\n        vertical-align: top;\n    }\n\n    .dataframe thead th {\n        text-align: right;\n    }\n</style>\n<table border=\"1\" class=\"dataframe\">\n  <thead>\n    <tr style=\"text-align: right;\">\n      <th></th>\n      <th>open_USDT</th>\n      <th>high_USDT</th>\n      <th>low_USDT</th>\n      <th>close_USDT</th>\n      <th>volume_USDT</th>\n      <th>avg_price_USDT</th>\n    </tr>\n  </thead>\n  <tbody>\n    <tr>\n      <th>0</th>\n      <td>3.096</td>\n      <td>3.096</td>\n      <td>3.0760</td>\n      <td>3.077</td>\n      <td>2733.3</td>\n      <td>3.0847324845</td>\n    </tr>\n    <tr>\n      <th>1</th>\n      <td>3.073</td>\n      <td>3.077</td>\n      <td>3.0640</td>\n      <td>3.065</td>\n      <td>5353.1</td>\n      <td>3.0778807796</td>\n    </tr>\n    <tr>\n      <th>2</th>\n      <td>3.068</td>\n      <td>3.075</td>\n      <td>3.0665</td>\n      <td>3.075</td>\n      <td>5582.2</td>\n      <td>3.0710290746</td>\n    </tr>\n    <tr>\n      <th>3</th>\n      <td>3.075</td>\n      <td>3.091</td>\n      <td>3.0690</td>\n      <td>3.085</td>\n      <td>10358.0</td>\n      <td>3.0843931647</td>\n    </tr>\n    <tr>\n      <th>4</th>\n      <td>NaN</td>\n      <td>3.093</td>\n      <td>3.0740</td>\n      <td>3.074</td>\n      <td>9567.6</td>\n      <td>3.0880945796</td>\n    </tr>\n  </tbody>\n</table>\n</div>"
          },
          "metadata": {}
        }
      ]
    },
    {
      "cell_type": "markdown",
      "source": "<div class=\"alert alert-danger alertdanger\" style=\"margin-top: 20px\">\n<h1> Question  #2: </h1>\n\n<b>According to the example above, transform \"open\" (price in BUSD) to EUR and name the column \"open_EUR\" (use URL mentioned above but change USDT TO EUR).</b>\n\n</div>\n",
      "metadata": {}
    },
    {
      "cell_type": "code",
      "source": "# Write your code below and press Shift+Enter to execute \n",
      "metadata": {
        "trusted": true
      },
      "execution_count": 27,
      "outputs": []
    },
    {
      "cell_type": "markdown",
      "source": "<details><summary>Click here for the solution</summary>\n\n```python\n# transform BUSD to EUR by mathematical operation\nres = await pyfetch(\"https://api.binance.com/sapi/v1/convert/exchangeInfo?fromAsset=BUSD&toAsset=EUR\")\nres = await res.json()\nrate = float(res[0][\"toAssetMinAmount\"])\n\nprint(f\"The exchange rate is 1 BUSD = {rate} EUR\")\n\nspoiled_df[\"open_EUR\"] = spoiled_df[\"open\"] * rate\n\nspoiled_df[[\"open_EUR\"]].head()\n\n</details>\n",
      "metadata": {}
    },
    {
      "cell_type": "markdown",
      "source": "<h2 id=\"data_normalization\">Data Normalization</h2>\n\n<b>Why normalization?</b>\n\n<p>Normalization is the process of transforming values of several variables into a similar range. Typical normalizations include scaling the variable so the variable average is 0, scaling the variable so the variance is 1, or scaling the variable so the variable values range from 0 to 1.\n</p>\n\n<b>Example</b>\n\n<p>To demonstrate normalization, let's say we want to scale the columns \"open\", \"close\" and \"avg_price\".</p>\n<p><b>Target:</b> would like to normalize those variables so their value ranges from 0 to 1</p>\n<p><b>Approach:</b> replace original value by (original value)/(maximum value), sklearn <b>MinMaxScaler</b></p>\n",
      "metadata": {}
    },
    {
      "cell_type": "code",
      "source": "from sklearn.preprocessing import MinMaxScaler\n# replace (original value) by (original value)/(maximum value)\nspoiled_df[\"open_norm\"] = spoiled_df[\"open\"] / spoiled_df[\"open\"].max()\n# replace (original value) by MinMaxScaler\nscaler = MinMaxScaler()\nspoiled_df[\"close_norm\"] = scaler.fit_transform(spoiled_df[\"close\"].to_numpy().reshape(-1, 1))",
      "metadata": {
        "trusted": true
      },
      "execution_count": 28,
      "outputs": []
    },
    {
      "cell_type": "code",
      "source": "spoiled_df[[\"open_norm\", \"close_norm\"]].head()",
      "metadata": {
        "trusted": true
      },
      "execution_count": 29,
      "outputs": [
        {
          "execution_count": 29,
          "output_type": "execute_result",
          "data": {
            "text/plain": "      open_norm    close_norm\n0  0.6899933140  0.2513661202\n1  0.6848673947  0.2448087432\n2  0.6837530644  0.2502732240\n3  0.6853131268  0.2557377049\n4           NaN  0.2497267760",
            "text/html": "<div>\n<style scoped>\n    .dataframe tbody tr th:only-of-type {\n        vertical-align: middle;\n    }\n\n    .dataframe tbody tr th {\n        vertical-align: top;\n    }\n\n    .dataframe thead th {\n        text-align: right;\n    }\n</style>\n<table border=\"1\" class=\"dataframe\">\n  <thead>\n    <tr style=\"text-align: right;\">\n      <th></th>\n      <th>open_norm</th>\n      <th>close_norm</th>\n    </tr>\n  </thead>\n  <tbody>\n    <tr>\n      <th>0</th>\n      <td>0.6899933140</td>\n      <td>0.2513661202</td>\n    </tr>\n    <tr>\n      <th>1</th>\n      <td>0.6848673947</td>\n      <td>0.2448087432</td>\n    </tr>\n    <tr>\n      <th>2</th>\n      <td>0.6837530644</td>\n      <td>0.2502732240</td>\n    </tr>\n    <tr>\n      <th>3</th>\n      <td>0.6853131268</td>\n      <td>0.2557377049</td>\n    </tr>\n    <tr>\n      <th>4</th>\n      <td>NaN</td>\n      <td>0.2497267760</td>\n    </tr>\n  </tbody>\n</table>\n</div>"
          },
          "metadata": {}
        }
      ]
    },
    {
      "cell_type": "markdown",
      "source": "<div class=\"alert alert-danger alertdanger\" style=\"margin-top: 20px\">\n<h1> Question #3: </h1>\n\n<b>According to the example above, normalize the column \"avg_price\" using sklearn <b>MinMaxScaler</b>.</b>\n\n</div>\n",
      "metadata": {}
    },
    {
      "cell_type": "code",
      "source": "# Write your code below and press Shift+Enter to execute \n",
      "metadata": {
        "trusted": true
      },
      "execution_count": 30,
      "outputs": []
    },
    {
      "cell_type": "markdown",
      "source": "<details><summary>Click here for the solution</summary>\n\n```python\nscaler = MinMaxScaler()\nspoiled_df[\"avg_price_norm\"] = scaler.fit_transform(spoiled_df[\"avg_price\"].to_numpy().reshape(-1, 1))\n\n\n# show the scaled column\nspoiled_df[[\"avg_price_norm\"]].head()\n\n\n```\n\n</details>\n",
      "metadata": {}
    },
    {
      "cell_type": "markdown",
      "source": "Here we can see we've normalized \"open\", \"close\" and \"avg_price\" in the range of \\[0,1].\n",
      "metadata": {}
    },
    {
      "cell_type": "markdown",
      "source": "<h2 id=\"binning\">Binning and indicator variable</h2>\n<b>Why binning?</b>\n<p>\n    Binning is a process of transforming continuous numerical variables into discrete categorical \"bins\" for grouped analysis.\n</p>\n\n<b>Example: </b>\n\n<p>In our dataset, \"volume\" is a real valued variable. What if we want to break it down into 3 bins and see which bin sold the most? Can we rearrange them into three \"bins\" to simplify analysis? </p>\n\n<p>We will use the pandas method <b>cut</b> to segment the \"volume\" column into 3 bins.</p>\n",
      "metadata": {}
    },
    {
      "cell_type": "markdown",
      "source": "<h3>Example of Binning Data In Pandas</h3>\n",
      "metadata": {}
    },
    {
      "cell_type": "markdown",
      "source": "Let's plot the histogram of \"volume\" to see what the distribution of \"volume\" looks like.\n",
      "metadata": {}
    },
    {
      "cell_type": "code",
      "source": "%matplotlib inline\nimport matplotlib.pyplot as plt\nplt.hist(spoiled_df[\"volume\"])\n\n# set x/y labels and plot title\nplt.xlabel(\"volume\")\nplt.ylabel(\"count\")\nplt.title(\"volume bins\")",
      "metadata": {
        "trusted": true
      },
      "execution_count": 31,
      "outputs": [
        {
          "execution_count": 31,
          "output_type": "execute_result",
          "data": {
            "text/plain": "Text(0.5, 1.0, 'volume bins')"
          },
          "metadata": {}
        },
        {
          "output_type": "display_data",
          "data": {
            "text/plain": "<Figure size 640x480 with 1 Axes>",
            "image/png": "[encoded data removed]"
          },
          "metadata": {}
        }
      ]
    },
    {
      "cell_type": "code",
      "source": "bins = [min(spoiled_df[\"volume\"]), 1000, 5000, max(spoiled_df[\"volume\"])]\nbins",
      "metadata": {
        "trusted": true
      },
      "execution_count": 32,
      "outputs": [
        {
          "execution_count": 32,
          "output_type": "execute_result",
          "data": {
            "text/plain": "[0.1, 1000, 5000, 407682.7]"
          },
          "metadata": {}
        }
      ]
    },
    {
      "cell_type": "code",
      "source": "spoiled_df[\"volume\"].describe()",
      "metadata": {
        "trusted": true
      },
      "execution_count": 33,
      "outputs": [
        {
          "execution_count": 33,
          "output_type": "execute_result",
          "data": {
            "text/plain": "count     66528.0000000000\nmean       5125.9512257997\nstd        9519.0373364692\nmin           0.1000000000\n25%        1008.1500000000\n50%        2411.7000000000\n75%        5595.3500000000\nmax      407682.7000000000\nName: volume, dtype: float64"
          },
          "metadata": {}
        }
      ]
    },
    {
      "cell_type": "markdown",
      "source": "We set group  names:\n",
      "metadata": {}
    },
    {
      "cell_type": "code",
      "source": "group_names = [\"Low\", \"Medium\", \"High\"]",
      "metadata": {
        "trusted": true
      },
      "execution_count": 34,
      "outputs": []
    },
    {
      "cell_type": "markdown",
      "source": "We apply the function <b>cut</b> to determine what each value of `spoiled_df[\"volume\"]` belongs to.\n",
      "metadata": {}
    },
    {
      "cell_type": "code",
      "source": "spoiled_df[\"volume-binned\"] = pd.cut(spoiled_df[\"volume\"], bins, labels=group_names, include_lowest=True)\nspoiled_df[[\"volume\", \"volume-binned\"]].head(20)",
      "metadata": {
        "trusted": true
      },
      "execution_count": 35,
      "outputs": [
        {
          "execution_count": 35,
          "output_type": "execute_result",
          "data": {
            "text/plain": "      volume volume-binned\n0    2733.30        Medium\n1    5353.10          High\n2    5582.20          High\n3   10358.00          High\n4    9567.60          High\n5    8837.00          High\n6    8106.40          High\n7   35545.10          High\n8   17379.10          High\n9   66603.70          High\n10  37730.20          High\n11  26288.75          High\n12  14847.30          High\n13  20210.55          High\n14  25573.80          High\n15  14185.50          High\n16   6757.30          High\n17   6880.20          High\n18   2790.50        Medium\n19   3502.50        Medium",
            "text/html": "<div>\n<style scoped>\n    .dataframe tbody tr th:only-of-type {\n        vertical-align: middle;\n    }\n\n    .dataframe tbody tr th {\n        vertical-align: top;\n    }\n\n    .dataframe thead th {\n        text-align: right;\n    }\n</style>\n<table border=\"1\" class=\"dataframe\">\n  <thead>\n    <tr style=\"text-align: right;\">\n      <th></th>\n      <th>volume</th>\n      <th>volume-binned</th>\n    </tr>\n  </thead>\n  <tbody>\n    <tr>\n      <th>0</th>\n      <td>2733.30</td>\n      <td>Medium</td>\n    </tr>\n    <tr>\n      <th>1</th>\n      <td>5353.10</td>\n      <td>High</td>\n    </tr>\n    <tr>\n      <th>2</th>\n      <td>5582.20</td>\n      <td>High</td>\n    </tr>\n    <tr>\n      <th>3</th>\n      <td>10358.00</td>\n      <td>High</td>\n    </tr>\n    <tr>\n      <th>4</th>\n      <td>9567.60</td>\n      <td>High</td>\n    </tr>\n    <tr>\n      <th>5</th>\n      <td>8837.00</td>\n      <td>High</td>\n    </tr>\n    <tr>\n      <th>6</th>\n      <td>8106.40</td>\n      <td>High</td>\n    </tr>\n    <tr>\n      <th>7</th>\n      <td>35545.10</td>\n      <td>High</td>\n    </tr>\n    <tr>\n      <th>8</th>\n      <td>17379.10</td>\n      <td>High</td>\n    </tr>\n    <tr>\n      <th>9</th>\n      <td>66603.70</td>\n      <td>High</td>\n    </tr>\n    <tr>\n      <th>10</th>\n      <td>37730.20</td>\n      <td>High</td>\n    </tr>\n    <tr>\n      <th>11</th>\n      <td>26288.75</td>\n      <td>High</td>\n    </tr>\n    <tr>\n      <th>12</th>\n      <td>14847.30</td>\n      <td>High</td>\n    </tr>\n    <tr>\n      <th>13</th>\n      <td>20210.55</td>\n      <td>High</td>\n    </tr>\n    <tr>\n      <th>14</th>\n      <td>25573.80</td>\n      <td>High</td>\n    </tr>\n    <tr>\n      <th>15</th>\n      <td>14185.50</td>\n      <td>High</td>\n    </tr>\n    <tr>\n      <th>16</th>\n      <td>6757.30</td>\n      <td>High</td>\n    </tr>\n    <tr>\n      <th>17</th>\n      <td>6880.20</td>\n      <td>High</td>\n    </tr>\n    <tr>\n      <th>18</th>\n      <td>2790.50</td>\n      <td>Medium</td>\n    </tr>\n    <tr>\n      <th>19</th>\n      <td>3502.50</td>\n      <td>Medium</td>\n    </tr>\n  </tbody>\n</table>\n</div>"
          },
          "metadata": {}
        }
      ]
    },
    {
      "cell_type": "markdown",
      "source": "Let's see the \"volume\" in each bin:\n",
      "metadata": {}
    },
    {
      "cell_type": "code",
      "source": "spoiled_df[\"volume-binned\"].value_counts()",
      "metadata": {
        "trusted": true
      },
      "execution_count": 36,
      "outputs": [
        {
          "execution_count": 36,
          "output_type": "execute_result",
          "data": {
            "text/plain": "Medium    31444\nHigh      18584\nLow       16500\nName: volume-binned, dtype: int64"
          },
          "metadata": {}
        }
      ]
    },
    {
      "cell_type": "markdown",
      "source": "Let's plot the distribution of each bin:\n",
      "metadata": {}
    },
    {
      "cell_type": "code",
      "source": "plt.bar(list(spoiled_df[\"volume-binned\"].value_counts().index), spoiled_df[\"volume-binned\"].value_counts())\n\n# set x/y labels and plot title\nplt.xlabel(\"volume\")\nplt.ylabel(\"count\")\nplt.title(\"volume bins\")",
      "metadata": {
        "trusted": true
      },
      "execution_count": 37,
      "outputs": [
        {
          "execution_count": 37,
          "output_type": "execute_result",
          "data": {
            "text/plain": "Text(0.5, 1.0, 'volume bins')"
          },
          "metadata": {}
        },
        {
          "output_type": "display_data",
          "data": {
            "text/plain": "<Figure size 640x480 with 1 Axes>",
            "image/png": "[encoded data removed]"
          },
          "metadata": {}
        }
      ]
    },
    {
      "cell_type": "markdown",
      "source": "<p>\n    As we can see we managed to create 3 classes based on \"volume\"\n</p>",
      "metadata": {}
    },
    {
      "cell_type": "markdown",
      "source": "<h3>Bins Visualization</h3>\nNormally, a histogram is used to visualize the distribution of bins we created above. \n",
      "metadata": {}
    },
    {
      "cell_type": "code",
      "source": "# draw historgram of attribute \"volume-binned\" with bins = 3\nplt.hist(spoiled_df[\"volume-binned\"], bins = 3)\n\n# set x/y labels and plot title\nplt.xlabel(\"volume\")\nplt.ylabel(\"count\")\nplt.title(\"volume-binned bins\")",
      "metadata": {
        "trusted": true
      },
      "execution_count": 38,
      "outputs": [
        {
          "execution_count": 38,
          "output_type": "execute_result",
          "data": {
            "text/plain": "Text(0.5, 1.0, 'volume-binned bins')"
          },
          "metadata": {}
        },
        {
          "output_type": "display_data",
          "data": {
            "text/plain": "<Figure size 640x480 with 1 Axes>",
            "image/png": "[encoded data removed]"
          },
          "metadata": {}
        }
      ]
    },
    {
      "cell_type": "markdown",
      "source": "The plot above shows the binning result for the attribute \"volume\".\n",
      "metadata": {}
    },
    {
      "cell_type": "markdown",
      "source": "<h4 id=\"indicator\">Indicator Variable (or Dummy Variable)</h4>\n<b>What is an indicator variable?</b>\n<p>\n    An indicator variable (or dummy variable) is a numerical variable used to label categories. They are called \"dummies\" because the numbers themselves don't have inherent meaning. \n</p>\n\n<b>Why we use indicator variables?</b>\n\n<p>\n    We use indicator variables so we can use categorical variables for regression analysis in the later modules.\n</p>\n<b>Example</b>\n<p>\n    We see the column \"volume-binned\" has three unique values: \"Low\", \"Medium\" or \"High\". Regression doesn't understand words, only numbers. To use this attribute in regression analysis, we convert \"volume-binned\" to indicator variables.\n</p>\n\n<p>\n    We will use pandas' method <b>get_dummies</b> to assign numerical values to different categories of \"volume\". \n</p>\n",
      "metadata": {}
    },
    {
      "cell_type": "markdown",
      "source": "Get the indicator variables and assign it to data frame \"dummy_variable\\_1\":\n",
      "metadata": {}
    },
    {
      "cell_type": "code",
      "source": "dummy_variable_1 = pd.get_dummies(spoiled_df[\"volume-binned\"], prefix=\"volume\")\ndummy_variable_1.head()",
      "metadata": {
        "trusted": true
      },
      "execution_count": 39,
      "outputs": [
        {
          "execution_count": 39,
          "output_type": "execute_result",
          "data": {
            "text/plain": "   volume_Low  volume_Medium  volume_High\n0           0              1            0\n1           0              0            1\n2           0              0            1\n3           0              0            1\n4           0              0            1",
            "text/html": "<div>\n<style scoped>\n    .dataframe tbody tr th:only-of-type {\n        vertical-align: middle;\n    }\n\n    .dataframe tbody tr th {\n        vertical-align: top;\n    }\n\n    .dataframe thead th {\n        text-align: right;\n    }\n</style>\n<table border=\"1\" class=\"dataframe\">\n  <thead>\n    <tr style=\"text-align: right;\">\n      <th></th>\n      <th>volume_Low</th>\n      <th>volume_Medium</th>\n      <th>volume_High</th>\n    </tr>\n  </thead>\n  <tbody>\n    <tr>\n      <th>0</th>\n      <td>0</td>\n      <td>1</td>\n      <td>0</td>\n    </tr>\n    <tr>\n      <th>1</th>\n      <td>0</td>\n      <td>0</td>\n      <td>1</td>\n    </tr>\n    <tr>\n      <th>2</th>\n      <td>0</td>\n      <td>0</td>\n      <td>1</td>\n    </tr>\n    <tr>\n      <th>3</th>\n      <td>0</td>\n      <td>0</td>\n      <td>1</td>\n    </tr>\n    <tr>\n      <th>4</th>\n      <td>0</td>\n      <td>0</td>\n      <td>1</td>\n    </tr>\n  </tbody>\n</table>\n</div>"
          },
          "metadata": {}
        }
      ]
    },
    {
      "cell_type": "code",
      "source": "# merge data frame \"spoiled_df\" and \"dummy_variable_1\" \nspoiled_df = pd.concat([spoiled_df, dummy_variable_1], axis=1)\n\n# drop original column \"volume-binned\" from \"spoiled_df\"\nspoiled_df.drop(\"volume-binned\", axis = 1, inplace=True)",
      "metadata": {
        "trusted": true
      },
      "execution_count": 40,
      "outputs": []
    },
    {
      "cell_type": "code",
      "source": "spoiled_df.head()",
      "metadata": {
        "trusted": true
      },
      "execution_count": 41,
      "outputs": [
        {
          "execution_count": 41,
          "output_type": "execute_result",
          "data": {
            "text/plain": "                   ts   open   high     low  close   volume  rec_count  \\\n0 2022-11-11 14:38:00  3.096  3.096  3.0760  3.077   2733.3         34   \n1 2022-11-11 14:39:00  3.073  3.077  3.0640  3.065   5353.1         40   \n2 2022-11-11 14:40:00  3.068  3.075  3.0665  3.075   5582.2         34   \n3 2022-11-11 14:41:00  3.075  3.091  3.0690  3.085  10358.0         43   \n4 2022-11-11 14:42:00    NaN  3.093  3.0740  3.074   9567.6         38   \n\n      avg_price  open_USDT  high_USDT  low_USDT  close_USDT  volume_USDT  \\\n0  3.0847324845      3.096      3.096    3.0760       3.077       2733.3   \n1  3.0778807796      3.073      3.077    3.0640       3.065       5353.1   \n2  3.0710290746      3.068      3.075    3.0665       3.075       5582.2   \n3  3.0843931647      3.075      3.091    3.0690       3.085      10358.0   \n4  3.0880945796        NaN      3.093    3.0740       3.074       9567.6   \n\n   avg_price_USDT     open_norm    close_norm  volume_Low  volume_Medium  \\\n0    3.0847324845  0.6899933140  0.2513661202           0              1   \n1    3.0778807796  0.6848673947  0.2448087432           0              0   \n2    3.0710290746  0.6837530644  0.2502732240           0              0   \n3    3.0843931647  0.6853131268  0.2557377049           0              0   \n4    3.0880945796           NaN  0.2497267760           0              0   \n\n   volume_High  \n0            0  \n1            1  \n2            1  \n3            1  \n4            1  ",
            "text/html": "<div>\n<style scoped>\n    .dataframe tbody tr th:only-of-type {\n        vertical-align: middle;\n    }\n\n    .dataframe tbody tr th {\n        vertical-align: top;\n    }\n\n    .dataframe thead th {\n        text-align: right;\n    }\n</style>\n<table border=\"1\" class=\"dataframe\">\n  <thead>\n    <tr style=\"text-align: right;\">\n      <th></th>\n      <th>ts</th>\n      <th>open</th>\n      <th>high</th>\n      <th>low</th>\n      <th>close</th>\n      <th>volume</th>\n      <th>rec_count</th>\n      <th>avg_price</th>\n      <th>open_USDT</th>\n      <th>high_USDT</th>\n      <th>low_USDT</th>\n      <th>close_USDT</th>\n      <th>volume_USDT</th>\n      <th>avg_price_USDT</th>\n      <th>open_norm</th>\n      <th>close_norm</th>\n      <th>volume_Low</th>\n      <th>volume_Medium</th>\n      <th>volume_High</th>\n    </tr>\n  </thead>\n  <tbody>\n    <tr>\n      <th>0</th>\n      <td>2022-11-11 14:38:00</td>\n      <td>3.096</td>\n      <td>3.096</td>\n      <td>3.0760</td>\n      <td>3.077</td>\n      <td>2733.3</td>\n      <td>34</td>\n      <td>3.0847324845</td>\n      <td>3.096</td>\n      <td>3.096</td>\n      <td>3.0760</td>\n      <td>3.077</td>\n      <td>2733.3</td>\n      <td>3.0847324845</td>\n      <td>0.6899933140</td>\n      <td>0.2513661202</td>\n      <td>0</td>\n      <td>1</td>\n      <td>0</td>\n    </tr>\n    <tr>\n      <th>1</th>\n      <td>2022-11-11 14:39:00</td>\n      <td>3.073</td>\n      <td>3.077</td>\n      <td>3.0640</td>\n      <td>3.065</td>\n      <td>5353.1</td>\n      <td>40</td>\n      <td>3.0778807796</td>\n      <td>3.073</td>\n      <td>3.077</td>\n      <td>3.0640</td>\n      <td>3.065</td>\n      <td>5353.1</td>\n      <td>3.0778807796</td>\n      <td>0.6848673947</td>\n      <td>0.2448087432</td>\n      <td>0</td>\n      <td>0</td>\n      <td>1</td>\n    </tr>\n    <tr>\n      <th>2</th>\n      <td>2022-11-11 14:40:00</td>\n      <td>3.068</td>\n      <td>3.075</td>\n      <td>3.0665</td>\n      <td>3.075</td>\n      <td>5582.2</td>\n      <td>34</td>\n      <td>3.0710290746</td>\n      <td>3.068</td>\n      <td>3.075</td>\n      <td>3.0665</td>\n      <td>3.075</td>\n      <td>5582.2</td>\n      <td>3.0710290746</td>\n      <td>0.6837530644</td>\n      <td>0.2502732240</td>\n      <td>0</td>\n      <td>0</td>\n      <td>1</td>\n    </tr>\n    <tr>\n      <th>3</th>\n      <td>2022-11-11 14:41:00</td>\n      <td>3.075</td>\n      <td>3.091</td>\n      <td>3.0690</td>\n      <td>3.085</td>\n      <td>10358.0</td>\n      <td>43</td>\n      <td>3.0843931647</td>\n      <td>3.075</td>\n      <td>3.091</td>\n      <td>3.0690</td>\n      <td>3.085</td>\n      <td>10358.0</td>\n      <td>3.0843931647</td>\n      <td>0.6853131268</td>\n      <td>0.2557377049</td>\n      <td>0</td>\n      <td>0</td>\n      <td>1</td>\n    </tr>\n    <tr>\n      <th>4</th>\n      <td>2022-11-11 14:42:00</td>\n      <td>NaN</td>\n      <td>3.093</td>\n      <td>3.0740</td>\n      <td>3.074</td>\n      <td>9567.6</td>\n      <td>38</td>\n      <td>3.0880945796</td>\n      <td>NaN</td>\n      <td>3.093</td>\n      <td>3.0740</td>\n      <td>3.074</td>\n      <td>9567.6</td>\n      <td>3.0880945796</td>\n      <td>NaN</td>\n      <td>0.2497267760</td>\n      <td>0</td>\n      <td>0</td>\n      <td>1</td>\n    </tr>\n  </tbody>\n</table>\n</div>"
          },
          "metadata": {}
        }
      ]
    },
    {
      "cell_type": "markdown",
      "source": "The last three columns are now the indicator variable representation of the volume variable. They're all 0s and 1s now.\n",
      "metadata": {}
    },
    {
      "cell_type": "markdown",
      "source": "<div class=\"alert alert-danger alertdanger\" style=\"margin-top: 20px\">\n<h1> Question  #4: </h1>\n\n<b>Similar to before, create an indicator variable for the column \"ts\" (create spoiled_df[\"ts_day_name\"] = spoiled_df[\"ts\"].dt.day_name() as category and then get_dummies from that column and then concatenate the spoiled_df) and merge the dataframes</b>\n\n</div>\n",
      "metadata": {}
    },
    {
      "cell_type": "code",
      "source": "# Write your code below and press Shift+Enter to execute \n",
      "metadata": {
        "trusted": true
      },
      "execution_count": 42,
      "outputs": []
    },
    {
      "cell_type": "markdown",
      "source": "<details><summary>Click here for the solution</summary>\n\n```python\n# Create a new column\nspoiled_df[\"ts_day_name\"] = spoiled_df[\"ts\"].dt.day_name()\n# get indicator variables of day_name and assign it to data frame \"dummy_variable_2\"\ndummy_variable_2 = pd.get_dummies(spoiled_df[\"ts_day_name\"], prefix=\"ts\")\n# Concatenate df's\nspoiled_df = pd.concat([spoiled_df, dummy_variable_2], axis=1)\nspoiled_df.head()\n\n```\n\n</details>\n",
      "metadata": {}
    },
    {
      "cell_type": "markdown",
      "source": "<h2>Resampling</h2>",
      "metadata": {}
    },
    {
      "cell_type": "markdown",
      "source": "<b>What is resampling?</b>\n<p>\n    Data resampling is any process whereby data is gathered and expressed in a summary form\n</p>",
      "metadata": {}
    },
    {
      "cell_type": "markdown",
      "source": "Let's set \"ts\" as index to be able to resample our dataframe",
      "metadata": {}
    },
    {
      "cell_type": "code",
      "source": "spoiled_df.index = spoiled_df[\"ts\"]",
      "metadata": {
        "trusted": true
      },
      "execution_count": 43,
      "outputs": []
    },
    {
      "cell_type": "markdown",
      "source": "After resampling we can use different aggregation functions such as:\n\n<ul>\n    <li><b>mean()</b></li>\n    <li><b>sum()</b></li>\n    <li><b>prod()</b></li>\n    <li><b>first()</b></li>\n    <li><b>last()</b></li>\n    <li><b>min()</b></li>\n    <li><b>max()</b></li>\n</ul>",
      "metadata": {}
    },
    {
      "cell_type": "code",
      "source": "resampled_df1 = spoiled_df[[\"open\", \"high\", \"low\", \"close\", \"volume\"]].resample(\"15min\").agg({\n    \"open\": \"first\",\n    \"high\": \"max\",\n    \"low\": \"min\",\n    \"close\": \"last\",\n    \"volume\": \"sum\",\n})\nresampled_df1.head()",
      "metadata": {
        "trusted": true
      },
      "execution_count": 51,
      "outputs": [
        {
          "execution_count": 51,
          "output_type": "execute_result",
          "data": {
            "text/plain": "                      open   high    low   close     volume\nts                                                         \n2022-11-11 14:30:00  3.096  3.096  3.064  3.0920   50537.60\n2022-11-11 14:45:00  3.095  3.236  3.095  3.1720  300611.10\n2022-11-11 15:00:00  3.167  3.204  3.122  3.1820  113206.30\n2022-11-11 15:15:00  3.182  3.194  3.165  3.1655   48630.65\n2022-11-11 15:30:00  3.177  3.177  3.126  3.1410   52670.40",
            "text/html": "<div>\n<style scoped>\n    .dataframe tbody tr th:only-of-type {\n        vertical-align: middle;\n    }\n\n    .dataframe tbody tr th {\n        vertical-align: top;\n    }\n\n    .dataframe thead th {\n        text-align: right;\n    }\n</style>\n<table border=\"1\" class=\"dataframe\">\n  <thead>\n    <tr style=\"text-align: right;\">\n      <th></th>\n      <th>open</th>\n      <th>high</th>\n      <th>low</th>\n      <th>close</th>\n      <th>volume</th>\n    </tr>\n    <tr>\n      <th>ts</th>\n      <th></th>\n      <th></th>\n      <th></th>\n      <th></th>\n      <th></th>\n    </tr>\n  </thead>\n  <tbody>\n    <tr>\n      <th>2022-11-11 14:30:00</th>\n      <td>3.096</td>\n      <td>3.096</td>\n      <td>3.064</td>\n      <td>3.0920</td>\n      <td>50537.60</td>\n    </tr>\n    <tr>\n      <th>2022-11-11 14:45:00</th>\n      <td>3.095</td>\n      <td>3.236</td>\n      <td>3.095</td>\n      <td>3.1720</td>\n      <td>300611.10</td>\n    </tr>\n    <tr>\n      <th>2022-11-11 15:00:00</th>\n      <td>3.167</td>\n      <td>3.204</td>\n      <td>3.122</td>\n      <td>3.1820</td>\n      <td>113206.30</td>\n    </tr>\n    <tr>\n      <th>2022-11-11 15:15:00</th>\n      <td>3.182</td>\n      <td>3.194</td>\n      <td>3.165</td>\n      <td>3.1655</td>\n      <td>48630.65</td>\n    </tr>\n    <tr>\n      <th>2022-11-11 15:30:00</th>\n      <td>3.177</td>\n      <td>3.177</td>\n      <td>3.126</td>\n      <td>3.1410</td>\n      <td>52670.40</td>\n    </tr>\n  </tbody>\n</table>\n</div>"
          },
          "metadata": {}
        }
      ]
    },
    {
      "cell_type": "markdown",
      "source": "How we can see we resampled data with aggregation time 15 min so we reduced amount of the data and generalized it. And we can make assumptions on much wider time window (15 min instead of 1 min)",
      "metadata": {}
    },
    {
      "cell_type": "markdown",
      "source": " <div class=\"alert alert-danger alertdanger\" style=\"margin-top: 20px\">\n<h1> Question  #5: </h1>\n\n<b>Apply resampling to \"spoiled_df\" with aggregation time 1 hour to columns \"high\", \"low\", \"close\". Then apply <b>max()</b>, <b>min()</b>, <b>last()</b> functions. Assign that to \"resampled_df2\" variable and show</b>\n\n</div>\n",
      "metadata": {
        "tags": []
      }
    },
    {
      "cell_type": "code",
      "source": "# Write your code below and press Shift+Enter to execute \n",
      "metadata": {},
      "execution_count": 104,
      "outputs": []
    },
    {
      "cell_type": "markdown",
      "source": "<details><summary>Click here for the solution</summary>\n\n```python\nresampled_df2 = spoiled_df[[\"high\", \"low\", \"close\"]].resample(\"1h\").agg({\n    \"high\": \"max\",\n    \"low\": \"min\",\n    \"close\": \"last\"\n})\nresampled_df2.head()\n```\n\n</details>\n",
      "metadata": {}
    },
    {
      "cell_type": "code",
      "source": "spoiled_df.to_csv(\"clean_df.csv\", index=False)",
      "metadata": {
        "trusted": true
      },
      "execution_count": 41,
      "outputs": []
    },
    {
      "cell_type": "markdown",
      "source": "Save the new csv:\n\n> Note : The  csv file cannot be viewed in the jupyterlite based SN labs environment.However you can Click <a href=\"https://cf-courses-data.s3.us.cloud-object-storage.appdomain.cloud/IBMDeveloperSkillsNetwork-DA0101EN-SkillsNetwork/labs/Module%202/DA0101EN-2-Review-Data-Wrangling.ipynb?utm_medium=Exinfluencer&utm_source=Exinfluencer&utm_content=000026UJ&utm_term=10006555&utm_id=NA-SkillsNetwork-Channel-SkillsNetworkCoursesIBMDeveloperSkillsNetworkDA0101ENSkillsNetwork20235326-2022-01-01\">HERE ???</a> to download the lab notebook (.ipynb) to your local machine and view the csv file once the notebook is executed.\n",
      "metadata": {}
    },
    {
      "cell_type": "markdown",
      "source": "### Thank you for completing this lab!\n\n## Author\n\n<a href=\"https://www.linkedin.com/in/joseph-s-50398b136/?utm_medium=Exinfluencer&utm_source=Exinfluencer&utm_content=000026UJ&utm_term=10006555&utm_id=NA-SkillsNetwork-Channel-SkillsNetworkCoursesIBMDeveloperSkillsNetworkDA0101ENSkillsNetwork20235326-2021-01-01\" target=\"_blank\">Joseph Santarcangelo</a>\n\n### Other Contributors\n\n<a href=\"https://www.linkedin.com/in/mahdi-noorian-58219234/?utm_medium=Exinfluencer&utm_source=Exinfluencer&utm_content=000026UJ&utm_term=10006555&utm_id=NA-SkillsNetwork-Channel-SkillsNetworkCoursesIBMDeveloperSkillsNetworkDA0101ENSkillsNetwork20235326-2021-01-01\" target=\"_blank\">Mahdi Noorian PhD</a>\n\nBahare Talayian\n\nEric Xiao\n\nSteven Dong\n\nParizad\n\nHima Vasudevan\n\n<a href=\"https://www.linkedin.com/in/fiorellawever/?utm_medium=Exinfluencer&utm_source=Exinfluencer&utm_content=000026UJ&utm_term=10006555&utm_id=NA-SkillsNetwork-Channel-SkillsNetworkCoursesIBMDeveloperSkillsNetworkDA0101ENSkillsNetwork20235326-2021-01-01\" target=\"_blank\">Fiorella Wenver</a>\n\n<a href=\"https:// https://www.linkedin.com/in/yi-leng-yao-84451275/ \" target=\"_blank\" >Yi Yao</a>.\n\n## Change Log\n\n| Date (YYYY-MM-DD) | Version | Changed By | Change Description                  |\n| ----------------- | ------- | ---------- | ----------------------------------- |\n| 2022-04-22        | 2.3     | Lakshmi    | Made changes in markdown file       |\n| 2020-10-30        | 2.2     | Lakshmi    | Changed URL of csv                  |\n| 2020-09-09        | 2.1     | Lakshmi    | Updated Indicator Variables section |\n| 2020-08-27        | 2.0     | Lavanya    | Moved lab to course repo in GitLab  |\n\n<hr>\n\n## <h3 align=\"center\"> © IBM Corporation 2020. All rights reserved. <h3/>\n",
      "metadata": {}
    }
  ]
}